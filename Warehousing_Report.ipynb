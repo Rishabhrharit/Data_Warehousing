{
 "cells": [
  {
   "cell_type": "code",
   "execution_count": 0,
   "metadata": {
    "application/vnd.databricks.v1+cell": {
     "cellMetadata": {
      "byteLimit": 2048000,
      "rowLimit": 10000
     },
     "inputWidgets": {},
     "nuid": "bd3ce5c8-fb1b-46e6-8f92-069b2201e5cc",
     "showTitle": false,
     "tableResultSettingsMap": {},
     "title": ""
    }
   },
   "outputs": [
    {
     "output_type": "stream",
     "name": "stdout",
     "output_type": "stream",
     "text": [
      "+-----------+---------------+----------------+-------------+-------+------------+\n|customer_id|           name|            city|        state|country|prime_member|\n+-----------+---------------+----------------+-------------+-------+------------+\n|          1|   Allison Hill|East Theresatown|   New Mexico|    USA|          No|\n|          2|    Noah Rhodes|   East Coryside|  Mississippi|    USA|          No|\n|          3|Angie Henderson| North Loganfort|  Mississippi|    USA|          No|\n|          4|  Daniel Wagner|     Timothyfurt|Massachusetts|    USA|          No|\n|          5|Cristian Santos|  South Chadstad|        Idaho|    USA|         Yes|\n+-----------+---------------+----------------+-------------+-------+------------+\nonly showing top 5 rows\n\n+-------+--------------+------+----------+---------------+\n|  brand|      category| price|product_id|   product_name|\n+-------+--------------+------+----------+---------------+\n|Brand C|        Beauty|458.44|         1|      Well Item|\n|Brand B|Home & Kitchen|472.41|         2|     Yes Gadget|\n|Brand C|        Sports|194.25|         3|   Where Gadget|\n|Brand E|         Books|279.46|         4|Possible Gadget|\n|Brand E|        Beauty|353.13|         5|       Key Tool|\n+-------+--------------+------+----------+---------------+\nonly showing top 5 rows\n\n+--------------+-----------+----------+--------+------------------+----------------+--------------+----------------+\n|transaction_id|customer_id|product_id|quantity|       total_price|transaction_date|payment_method|discount_applied|\n+--------------+-----------+----------+--------+------------------+----------------+--------------+----------------+\n|             1|      48002|     17803|       2|            665.64|      2023-05-17|    Amazon Pay|               5|\n|             2|      31392|      7742|       1|            473.54|      2023-10-21|    Amazon Pay|              10|\n|             3|      73590|     10909|       1|            353.08|      2025-01-23|     Gift Card|               0|\n|             4|      58339|     26628|       2|            633.38|      2024-10-06|   Credit Card|               0|\n|             5|      26248|     37362|       3|217.54000000000002|      2024-11-17|   Credit Card|               5|\n+--------------+-----------+----------+--------+------------------+----------------+--------------+----------------+\nonly showing top 5 rows\n\n"
     ]
    }
   ],
   "source": [
    "# Load Customers CSV\n",
    "df_customers = spark.read.csv(\"/FileStore/tables/amazon_customers.csv\", header=True, inferSchema=True)\n",
    "\n",
    "# Load Products JSON\n",
    "df_products = spark.read.json(\"/FileStore/tables/amazon_products.json\")\n",
    "\n",
    "# Load Transactions CSV\n",
    "df_transactions = spark.read.csv(\"/FileStore/tables/amazon_transactions.csv\", header=True, inferSchema=True)\n",
    "\n",
    "# Show first few rows\n",
    "df_customers.show(5)\n",
    "df_products.show(5)\n",
    "df_transactions.show(5)\n"
   ]
  },
  {
   "cell_type": "code",
   "execution_count": 0,
   "metadata": {
    "application/vnd.databricks.v1+cell": {
     "cellMetadata": {
      "byteLimit": 2048000,
      "rowLimit": 10000
     },
     "inputWidgets": {},
     "nuid": "d1702758-5e1f-4671-b011-11cce0de0ce7",
     "showTitle": false,
     "tableResultSettingsMap": {},
     "title": ""
    }
   },
   "outputs": [],
   "source": [
    "# Save as Staging Tables\n",
    "df_customers.write.mode(\"overwrite\").saveAsTable(\"staging_customers\")\n",
    "df_products.write.mode(\"overwrite\").saveAsTable(\"staging_products\")\n",
    "df_transactions.write.mode(\"overwrite\").saveAsTable(\"staging_transactions\")\n"
   ]
  },
  {
   "cell_type": "code",
   "execution_count": 0,
   "metadata": {
    "application/vnd.databricks.v1+cell": {
     "cellMetadata": {
      "byteLimit": 2048000,
      "rowLimit": 10000
     },
     "inputWidgets": {},
     "nuid": "6960a572-35ac-4455-b233-9a706e5baeb0",
     "showTitle": false,
     "tableResultSettingsMap": {},
     "title": ""
    }
   },
   "outputs": [],
   "source": [
    "# Create Dim_Customer Table\n",
    "df_customers.selectExpr(\n",
    "    \"customer_id\",\n",
    "    \"name\",\n",
    "    \"city\",\n",
    "    \"state\",\n",
    "    \"country\",\n",
    "    \"prime_member AS membership_status\"\n",
    ").write.mode(\"overwrite\").saveAsTable(\"dim_customer\")\n",
    "\n",
    "# Create Dim_Product Table\n",
    "df_products.selectExpr(\n",
    "    \"product_id\",\n",
    "    \"product_name\",\n",
    "    \"category\",\n",
    "    \"brand\",\n",
    "    \"price\"\n",
    ").write.mode(\"overwrite\").saveAsTable(\"dim_product\")\n",
    "\n",
    "# Create Fact_Transactions Table\n",
    "df_transactions.write.mode(\"overwrite\").saveAsTable(\"fact_transactions\")\n"
   ]
  },
  {
   "cell_type": "code",
   "execution_count": 0,
   "metadata": {
    "application/vnd.databricks.v1+cell": {
     "cellMetadata": {
      "byteLimit": 2048000,
      "implicitDf": true,
      "rowLimit": 10000
     },
     "inputWidgets": {},
     "nuid": "72b32b1e-c237-4952-ab9a-b8e62e16628f",
     "showTitle": false,
     "tableResultSettingsMap": {},
     "title": ""
    }
   },
   "outputs": [
    {
     "output_type": "display_data",
     "data": {
      "text/html": [
       "<style scoped>\n",
       "  .table-result-container {\n",
       "    max-height: 300px;\n",
       "    overflow: auto;\n",
       "  }\n",
       "  table, th, td {\n",
       "    border: 1px solid black;\n",
       "    border-collapse: collapse;\n",
       "  }\n",
       "  th, td {\n",
       "    padding: 5px;\n",
       "  }\n",
       "  th {\n",
       "    text-align: left;\n",
       "  }\n",
       "</style><div class='table-result-container'><table class='table-result'><thead style='background-color: white'><tr><th>product_name</th><th>total_revenue</th></tr></thead><tbody><tr><td>Choice Tool</td><td>78989.54999999999</td></tr><tr><td>Message Gadget</td><td>73341.93</td></tr><tr><td>Matter Device</td><td>72665.24999999999</td></tr><tr><td>Sure Gadget</td><td>71733.8</td></tr><tr><td>Stuff Item</td><td>69597.07</td></tr><tr><td>Example Device</td><td>67543.13</td></tr><tr><td>Front Device</td><td>67131.17</td></tr><tr><td>Successful Accessory</td><td>65861.62</td></tr><tr><td>Half Item</td><td>65235.18</td></tr><tr><td>Last Tool</td><td>62638.16999999999</td></tr><tr><td>Main Accessory</td><td>61522.3</td></tr><tr><td>Answer Item</td><td>61255.70000000002</td></tr><tr><td>Eye Device</td><td>61101.35</td></tr><tr><td>Employee Accessory</td><td>60654.04000000001</td></tr><tr><td>Position Gadget</td><td>60466.69</td></tr><tr><td>Receive Item</td><td>60148.92000000001</td></tr><tr><td>Film Gadget</td><td>60100.45000000002</td></tr><tr><td>Measure Accessory</td><td>60050.270000000004</td></tr><tr><td>Impact Accessory</td><td>60011.009999999995</td></tr><tr><td>Into Accessory</td><td>59534.95</td></tr><tr><td>Animal Item</td><td>59528.15</td></tr><tr><td>Indeed Accessory</td><td>59172.359999999986</td></tr><tr><td>Partner Item</td><td>58714.53</td></tr><tr><td>Science Tool</td><td>58619.0</td></tr><tr><td>Source Accessory</td><td>58346.21</td></tr><tr><td>Remember Device</td><td>58337.31999999999</td></tr><tr><td>Democrat Accessory</td><td>58274.79</td></tr><tr><td>Through Gadget</td><td>58259.979999999996</td></tr><tr><td>Mouth Gadget</td><td>58040.09000000001</td></tr><tr><td>Use Device</td><td>57996.26</td></tr><tr><td>Executive Item</td><td>57969.63999999999</td></tr><tr><td>Also Tool</td><td>57843.54000000001</td></tr><tr><td>Student Tool</td><td>57725.20999999999</td></tr><tr><td>Congress Tool</td><td>57449.62</td></tr><tr><td>People Gadget</td><td>57378.34000000001</td></tr><tr><td>Theory Gadget</td><td>57362.48</td></tr><tr><td>Many Tool</td><td>56746.479999999996</td></tr><tr><td>Man Item</td><td>56597.28999999999</td></tr><tr><td>Really Item</td><td>56591.619999999995</td></tr><tr><td>Over Accessory</td><td>56459.77</td></tr><tr><td>Much Accessory</td><td>56265.229999999996</td></tr><tr><td>Expert Gadget</td><td>56149.99</td></tr><tr><td>Reach Accessory</td><td>56120.979999999996</td></tr><tr><td>Song Tool</td><td>55445.04</td></tr><tr><td>Wonder Tool</td><td>55425.8</td></tr><tr><td>Woman Gadget</td><td>55350.94</td></tr><tr><td>Happy Tool</td><td>55301.87000000001</td></tr><tr><td>Season Device</td><td>55209.08</td></tr><tr><td>All Tool</td><td>55124.1</td></tr><tr><td>Food Gadget</td><td>54934.50999999999</td></tr><tr><td>Place Tool</td><td>54837.16</td></tr><tr><td>In Accessory</td><td>54831.499999999985</td></tr><tr><td>Former Item</td><td>54679.08</td></tr><tr><td>Popular Accessory</td><td>54640.58</td></tr><tr><td>Avoid Item</td><td>54598.7</td></tr><tr><td>Ready Item</td><td>54592.7</td></tr><tr><td>Likely Item</td><td>54463.950000000004</td></tr><tr><td>Within Item</td><td>54355.520000000004</td></tr><tr><td>Sister Tool</td><td>53507.49</td></tr><tr><td>Defense Device</td><td>53452.45999999999</td></tr><tr><td>Government Item</td><td>53348.979999999996</td></tr><tr><td>While Tool</td><td>53251.86</td></tr><tr><td>Threat Accessory</td><td>53082.65000000001</td></tr><tr><td>Site Tool</td><td>52788.17</td></tr><tr><td>Heart Item</td><td>52639.45</td></tr><tr><td>Interest Accessory</td><td>52497.2</td></tr><tr><td>Short Device</td><td>52482.39000000001</td></tr><tr><td>Continue Device</td><td>52346.34</td></tr><tr><td>Career Accessory</td><td>52215.05</td></tr><tr><td>Mr Gadget</td><td>52179.58000000001</td></tr><tr><td>You Device</td><td>52163.74</td></tr><tr><td>Us Gadget</td><td>52085.420000000006</td></tr><tr><td>Break Tool</td><td>51865.03</td></tr><tr><td>State Tool</td><td>51817.64000000001</td></tr><tr><td>Trouble Device</td><td>51701.89</td></tr><tr><td>Week Accessory</td><td>51656.2</td></tr><tr><td>Oil Item</td><td>51651.009999999995</td></tr><tr><td>Above Device</td><td>51529.22000000001</td></tr><tr><td>Determine Device</td><td>51494.16999999999</td></tr><tr><td>Establish Tool</td><td>51464.2</td></tr><tr><td>Modern Gadget</td><td>51425.509999999995</td></tr><tr><td>Task Tool</td><td>51348.78</td></tr><tr><td>Air Accessory</td><td>51293.73</td></tr><tr><td>Up Item</td><td>51239.17</td></tr><tr><td>Story Tool</td><td>51220.890000000014</td></tr><tr><td>Term Item</td><td>51195.810000000005</td></tr><tr><td>Product Accessory</td><td>51152.98</td></tr><tr><td>Son Device</td><td>51011.130000000005</td></tr><tr><td>At Device</td><td>50977.100000000006</td></tr><tr><td>Brother Gadget</td><td>50902.17999999999</td></tr><tr><td>Simply Device</td><td>50853.280000000006</td></tr><tr><td>Collection Gadget</td><td>50842.53</td></tr><tr><td>Political Item</td><td>50778.90000000001</td></tr><tr><td>Major Tool</td><td>50767.78</td></tr><tr><td>Candidate Device</td><td>50597.520000000004</td></tr><tr><td>Indicate Gadget</td><td>50346.20000000001</td></tr><tr><td>Left Accessory</td><td>50324.740000000005</td></tr><tr><td>Nearly Gadget</td><td>50303.29000000001</td></tr><tr><td>Under Tool</td><td>50293.899999999994</td></tr><tr><td>Movement Tool</td><td>50277.999999999985</td></tr><tr><td>Record Item</td><td>50253.020000000004</td></tr><tr><td>Compare Item</td><td>50148.689999999995</td></tr><tr><td>Lawyer Device</td><td>50080.14000000001</td></tr><tr><td>Weight Accessory</td><td>50040.03</td></tr><tr><td>Media Tool</td><td>50033.490000000005</td></tr><tr><td>Over Tool</td><td>50018.47000000001</td></tr><tr><td>Black Accessory</td><td>50009.82000000001</td></tr><tr><td>Son Item</td><td>49931.659999999996</td></tr><tr><td>Employee Item</td><td>49901.03</td></tr><tr><td>Democratic Device</td><td>49753.07</td></tr><tr><td>Fine Accessory</td><td>49740.2</td></tr><tr><td>State Accessory</td><td>49651.009999999995</td></tr><tr><td>Industry Accessory</td><td>49517.84999999999</td></tr><tr><td>Ten Item</td><td>49474.170000000006</td></tr><tr><td>Foot Item</td><td>49398.30999999999</td></tr><tr><td>Citizen Item</td><td>49370.080000000016</td></tr><tr><td>Board Gadget</td><td>49311.869999999995</td></tr><tr><td>Officer Accessory</td><td>49299.969999999994</td></tr><tr><td>Hope Item</td><td>49248.409999999996</td></tr><tr><td>Recently Device</td><td>49188.850000000006</td></tr><tr><td>Eight Item</td><td>49159.76</td></tr><tr><td>Mother Item</td><td>49157.43</td></tr><tr><td>Market Gadget</td><td>49149.81</td></tr><tr><td>Money Tool</td><td>49034.53</td></tr><tr><td>Room Device</td><td>48854.33</td></tr><tr><td>Learn Item</td><td>48786.490000000005</td></tr><tr><td>Follow Item</td><td>48753.54</td></tr><tr><td>Apply Device</td><td>48680.83</td></tr><tr><td>Will Tool</td><td>48673.06</td></tr><tr><td>Rule Accessory</td><td>48641.97</td></tr><tr><td>Eight Tool</td><td>48631.3</td></tr><tr><td>Southern Item</td><td>48571.99</td></tr><tr><td>Do Tool</td><td>48512.91000000001</td></tr><tr><td>Mrs Accessory</td><td>48489.29</td></tr><tr><td>Create Gadget</td><td>48458.2</td></tr><tr><td>Nature Device</td><td>48425.75</td></tr><tr><td>Actually Accessory</td><td>48388.920000000006</td></tr><tr><td>Enjoy Device</td><td>48331.36</td></tr><tr><td>Beyond Gadget</td><td>48319.90000000001</td></tr><tr><td>Their Accessory</td><td>48318.61</td></tr><tr><td>Threat Gadget</td><td>48272.509999999995</td></tr><tr><td>Well Tool</td><td>48271.73</td></tr><tr><td>Wide Gadget</td><td>48264.460000000014</td></tr><tr><td>Wind Gadget</td><td>48245.10999999999</td></tr><tr><td>Into Device</td><td>48235.02</td></tr><tr><td>Five Gadget</td><td>48234.31</td></tr><tr><td>Research Gadget</td><td>48216.88</td></tr><tr><td>Speech Tool</td><td>48193.26999999999</td></tr><tr><td>Identify Accessory</td><td>48174.58999999999</td></tr><tr><td>During Tool</td><td>48129.189999999995</td></tr><tr><td>New Accessory</td><td>48107.030000000006</td></tr><tr><td>Benefit Gadget</td><td>47998.53</td></tr><tr><td>Group Tool</td><td>47976.08</td></tr><tr><td>Line Item</td><td>47875.15</td></tr><tr><td>Industry Tool</td><td>47840.73999999999</td></tr><tr><td>Plant Item</td><td>47806.15</td></tr><tr><td>Hotel Device</td><td>47791.62000000001</td></tr><tr><td>Politics Device</td><td>47776.88</td></tr><tr><td>Town Item</td><td>47760.89</td></tr><tr><td>Movement Item</td><td>47710.81999999999</td></tr><tr><td>Husband Tool</td><td>47635.049999999996</td></tr><tr><td>Budget Tool</td><td>47610.719999999994</td></tr><tr><td>There Accessory</td><td>47571.119999999995</td></tr><tr><td>Glass Tool</td><td>47436.310000000005</td></tr><tr><td>Small Accessory</td><td>47400.149999999994</td></tr><tr><td>Several Item</td><td>47364.149999999994</td></tr><tr><td>Data Gadget</td><td>47360.57000000001</td></tr><tr><td>Contain Gadget</td><td>47347.72</td></tr><tr><td>Everyone Tool</td><td>47318.37999999999</td></tr><tr><td>Whether Item</td><td>47278.92999999999</td></tr><tr><td>Ten Tool</td><td>47273.520000000004</td></tr><tr><td>Finally Tool</td><td>47181.09</td></tr><tr><td>Responsibility Device</td><td>47144.61</td></tr><tr><td>Effort Accessory</td><td>47074.8</td></tr><tr><td>Affect Gadget</td><td>47056.88</td></tr><tr><td>War Item</td><td>47032.12</td></tr><tr><td>Return Accessory</td><td>46858.75</td></tr><tr><td>Place Item</td><td>46841.81</td></tr><tr><td>History Tool</td><td>46821.62999999999</td></tr><tr><td>Lead Item</td><td>46811.34000000001</td></tr><tr><td>Minute Tool</td><td>46808.72999999999</td></tr><tr><td>Art Accessory</td><td>46795.340000000004</td></tr><tr><td>Remember Accessory</td><td>46789.719999999994</td></tr><tr><td>Ball Item</td><td>46717.45</td></tr><tr><td>Mrs Tool</td><td>46708.39000000001</td></tr><tr><td>Own Gadget</td><td>46694.759999999995</td></tr><tr><td>Likely Gadget</td><td>46644.44</td></tr><tr><td>Though Item</td><td>46634.53</td></tr><tr><td>Character Gadget</td><td>46620.13</td></tr><tr><td>Even Gadget</td><td>46597.130000000005</td></tr><tr><td>Stop Tool</td><td>46584.27000000001</td></tr><tr><td>Or Tool</td><td>46571.60999999999</td></tr><tr><td>Result Tool</td><td>46563.049999999996</td></tr><tr><td>Social Item</td><td>46541.53</td></tr><tr><td>Activity Gadget</td><td>46471.4</td></tr><tr><td>Factor Device</td><td>46423.950000000004</td></tr><tr><td>Indeed Device</td><td>46244.65</td></tr><tr><td>Everything Device</td><td>46199.0</td></tr><tr><td>About Gadget</td><td>46180.95999999999</td></tr><tr><td>Have Item</td><td>46178.58</td></tr><tr><td>Today Gadget</td><td>46160.79000000001</td></tr><tr><td>Event Device</td><td>46097.47</td></tr><tr><td>Me Gadget</td><td>46092.74</td></tr><tr><td>Name Gadget</td><td>46049.22</td></tr><tr><td>Only Gadget</td><td>45964.20999999999</td></tr><tr><td>Arm Accessory</td><td>45947.57000000001</td></tr><tr><td>So Item</td><td>45946.10999999999</td></tr><tr><td>Soldier Accessory</td><td>45914.170000000006</td></tr><tr><td>Morning Item</td><td>45907.56999999999</td></tr><tr><td>West Device</td><td>45882.450000000004</td></tr><tr><td>Meeting Item</td><td>45841.95999999999</td></tr><tr><td>Simply Gadget</td><td>45829.66</td></tr><tr><td>Room Accessory</td><td>45820.91</td></tr><tr><td>Contain Accessory</td><td>45802.95</td></tr><tr><td>In Tool</td><td>45765.87</td></tr><tr><td>Happen Item</td><td>45748.51</td></tr><tr><td>Process Item</td><td>45719.91</td></tr><tr><td>Finally Device</td><td>45667.73</td></tr><tr><td>Better Gadget</td><td>45656.04000000001</td></tr><tr><td>Question Gadget</td><td>45654.92</td></tr><tr><td>Growth Tool</td><td>45627.420000000006</td></tr><tr><td>Effect Tool</td><td>45604.81</td></tr><tr><td>Wind Device</td><td>45552.439999999995</td></tr><tr><td>Picture Accessory</td><td>45540.240000000005</td></tr><tr><td>Sound Device</td><td>45499.310000000005</td></tr><tr><td>American Item</td><td>45433.7</td></tr><tr><td>Expect Gadget</td><td>45433.05</td></tr><tr><td>Each Tool</td><td>45415.56</td></tr><tr><td>Against Gadget</td><td>45335.96000000001</td></tr><tr><td>Some Tool</td><td>45334.91</td></tr><tr><td>Decade Item</td><td>45328.31</td></tr><tr><td>Clear Gadget</td><td>45318.32000000001</td></tr><tr><td>Thousand Item</td><td>45196.49</td></tr><tr><td>Travel Item</td><td>45079.35999999999</td></tr><tr><td>Discover Accessory</td><td>45051.03</td></tr><tr><td>Writer Tool</td><td>45046.200000000004</td></tr><tr><td>Community Gadget</td><td>45043.28</td></tr><tr><td>Water Accessory</td><td>45014.11</td></tr><tr><td>Pattern Tool</td><td>45013.920000000006</td></tr><tr><td>Pretty Tool</td><td>45008.41</td></tr><tr><td>Happen Tool</td><td>44999.740000000005</td></tr><tr><td>After Accessory</td><td>44996.920000000006</td></tr><tr><td>Have Gadget</td><td>44982.8</td></tr><tr><td>Unit Tool</td><td>44951.759999999995</td></tr><tr><td>Test Accessory</td><td>44944.8</td></tr><tr><td>School Device</td><td>44910.92</td></tr><tr><td>Course Device</td><td>44891.81999999999</td></tr><tr><td>Watch Device</td><td>44859.009999999995</td></tr><tr><td>More Accessory</td><td>44832.80000000001</td></tr><tr><td>Worker Gadget</td><td>44766.369999999995</td></tr><tr><td>She Accessory</td><td>44758.03999999999</td></tr><tr><td>Hot Item</td><td>44687.72</td></tr><tr><td>Start Tool</td><td>44654.600000000006</td></tr><tr><td>Probably Accessory</td><td>44638.810000000005</td></tr><tr><td>Major Item</td><td>44572.71</td></tr><tr><td>Successful Tool</td><td>44542.520000000004</td></tr><tr><td>Maintain Item</td><td>44536.09999999999</td></tr><tr><td>During Item</td><td>44518.5</td></tr><tr><td>Fast Gadget</td><td>44513.270000000004</td></tr><tr><td>Or Accessory</td><td>44500.33</td></tr><tr><td>Country Item</td><td>44498.2</td></tr><tr><td>Social Device</td><td>44433.829999999994</td></tr><tr><td>Week Item</td><td>44418.62</td></tr><tr><td>Weight Tool</td><td>44408.01</td></tr><tr><td>Hand Device</td><td>44395.090000000004</td></tr><tr><td>Doctor Accessory</td><td>44393.01</td></tr><tr><td>New Device</td><td>44363.09</td></tr><tr><td>Challenge Gadget</td><td>44360.520000000004</td></tr><tr><td>Alone Tool</td><td>44329.75000000001</td></tr><tr><td>Already Accessory</td><td>44280.84</td></tr><tr><td>Call Device</td><td>44247.22</td></tr><tr><td>Least Gadget</td><td>44216.95</td></tr><tr><td>Here Accessory</td><td>44203.649999999994</td></tr><tr><td>Culture Accessory</td><td>44200.31</td></tr><tr><td>College Accessory</td><td>44191.5</td></tr><tr><td>Care Accessory</td><td>44140.21</td></tr><tr><td>Garden Device</td><td>44124.58</td></tr><tr><td>Enjoy Item</td><td>44086.9</td></tr><tr><td>Late Device</td><td>44065.21000000001</td></tr><tr><td>Administration Device</td><td>44001.069999999985</td></tr><tr><td>Federal Item</td><td>43975.979999999996</td></tr><tr><td>Pass Tool</td><td>43975.12</td></tr><tr><td>Enter Device</td><td>43915.33</td></tr><tr><td>Ability Tool</td><td>43911.62</td></tr><tr><td>Must Device</td><td>43872.48000000002</td></tr><tr><td>Could Gadget</td><td>43854.87999999999</td></tr><tr><td>Stage Item</td><td>43851.47</td></tr><tr><td>Series Item</td><td>43840.34999999999</td></tr><tr><td>Year Accessory</td><td>43821.07</td></tr><tr><td>Fund Tool</td><td>43777.560000000005</td></tr><tr><td>Just Accessory</td><td>43772.770000000004</td></tr><tr><td>Congress Item</td><td>43757.880000000005</td></tr><tr><td>Could Device</td><td>43743.67000000001</td></tr><tr><td>Include Gadget</td><td>43689.16</td></tr><tr><td>Apply Tool</td><td>43674.14000000001</td></tr><tr><td>Walk Item</td><td>43670.96</td></tr><tr><td>Order Device</td><td>43642.61000000001</td></tr><tr><td>Station Gadget</td><td>43611.12</td></tr><tr><td>Admit Tool</td><td>43569.100000000006</td></tr><tr><td>Traditional Accessory</td><td>43564.939999999995</td></tr><tr><td>Cut Tool</td><td>43552.0</td></tr><tr><td>Together Item</td><td>43538.46000000001</td></tr><tr><td>Word Accessory</td><td>43487.3</td></tr><tr><td>Idea Device</td><td>43456.89</td></tr><tr><td>Sister Item</td><td>43428.229999999996</td></tr><tr><td>Story Item</td><td>43403.81</td></tr><tr><td>Attorney Tool</td><td>43370.47</td></tr><tr><td>Training Device</td><td>43349.14000000001</td></tr><tr><td>Civil Item</td><td>43347.9</td></tr><tr><td>Series Gadget</td><td>43288.729999999996</td></tr><tr><td>Worry Gadget</td><td>43271.869999999995</td></tr><tr><td>History Device</td><td>43261.35999999999</td></tr><tr><td>Guy Tool</td><td>43257.67999999999</td></tr><tr><td>West Gadget</td><td>43255.920000000006</td></tr><tr><td>Teacher Tool</td><td>43247.91</td></tr><tr><td>Pull Device</td><td>43199.97</td></tr><tr><td>Mind Tool</td><td>43147.45</td></tr><tr><td>Language Item</td><td>43108.270000000004</td></tr><tr><td>Check Device</td><td>43096.3</td></tr><tr><td>Phone Gadget</td><td>43086.34999999999</td></tr><tr><td>Necessary Device</td><td>43080.92999999999</td></tr><tr><td>Every Gadget</td><td>43052.33999999999</td></tr><tr><td>You Accessory</td><td>43048.51</td></tr><tr><td>Any Item</td><td>43005.979999999996</td></tr><tr><td>I Item</td><td>42964.74</td></tr><tr><td>Table Item</td><td>42930.53</td></tr><tr><td>Talk Gadget</td><td>42910.380000000005</td></tr><tr><td>Wide Item</td><td>42904.659999999996</td></tr><tr><td>Practice Tool</td><td>42844.11</td></tr><tr><td>Benefit Item</td><td>42816.840000000004</td></tr><tr><td>Deal Item</td><td>42803.030000000006</td></tr><tr><td>Suggest Accessory</td><td>42766.61</td></tr><tr><td>Close Item</td><td>42755.149999999994</td></tr><tr><td>Still Accessory</td><td>42721.48</td></tr><tr><td>Though Tool</td><td>42693.530000000006</td></tr><tr><td>Young Accessory</td><td>42689.76000000001</td></tr><tr><td>It Gadget</td><td>42678.86000000001</td></tr><tr><td>Keep Gadget</td><td>42597.25</td></tr><tr><td>Could Accessory</td><td>42595.88</td></tr><tr><td>Light Tool</td><td>42584.35</td></tr><tr><td>Fine Tool</td><td>42581.41</td></tr><tr><td>Think Tool</td><td>42518.07</td></tr><tr><td>Significant Gadget</td><td>42508.15000000001</td></tr><tr><td>Defense Item</td><td>42501.240000000005</td></tr><tr><td>May Gadget</td><td>42489.450000000004</td></tr><tr><td>Sort Tool</td><td>42478.94999999999</td></tr><tr><td>Technology Tool</td><td>42439.93</td></tr><tr><td>Security Tool</td><td>42434.31999999999</td></tr><tr><td>Movie Tool</td><td>42427.53999999999</td></tr><tr><td>Maybe Gadget</td><td>42406.65</td></tr><tr><td>Money Accessory</td><td>42405.47</td></tr><tr><td>Court Gadget</td><td>42398.49</td></tr><tr><td>Option Device</td><td>42346.86</td></tr><tr><td>Able Gadget</td><td>42339.02</td></tr><tr><td>Whom Gadget</td><td>42324.63</td></tr><tr><td>Dog Gadget</td><td>42296.57</td></tr><tr><td>Act Gadget</td><td>42294.630000000005</td></tr><tr><td>Common Gadget</td><td>42284.310000000005</td></tr><tr><td>Challenge Device</td><td>42266.92</td></tr><tr><td>Nation Accessory</td><td>42200.73</td></tr><tr><td>Number Device</td><td>42198.53999999999</td></tr><tr><td>Local Tool</td><td>42162.17</td></tr><tr><td>Condition Gadget</td><td>42151.92999999999</td></tr><tr><td>Onto Accessory</td><td>42132.75</td></tr><tr><td>Firm Gadget</td><td>42115.149999999994</td></tr><tr><td>Skin Tool</td><td>42039.18000000001</td></tr><tr><td>Drop Tool</td><td>42037.65</td></tr><tr><td>Near Tool</td><td>42009.47</td></tr><tr><td>Deal Tool</td><td>42009.100000000006</td></tr><tr><td>Child Item</td><td>42004.100000000006</td></tr><tr><td>Thank Device</td><td>41997.17</td></tr><tr><td>Among Tool</td><td>41989.28</td></tr><tr><td>Once Device</td><td>41986.81</td></tr><tr><td>Song Item</td><td>41981.56</td></tr><tr><td>Tough Gadget</td><td>41978.12</td></tr><tr><td>Perform Device</td><td>41948.96</td></tr><tr><td>Theory Device</td><td>41930.520000000004</td></tr><tr><td>Difference Item</td><td>41920.770000000004</td></tr><tr><td>Outside Tool</td><td>41911.44</td></tr><tr><td>Color Item</td><td>41900.799999999996</td></tr><tr><td>Discussion Gadget</td><td>41898.07000000001</td></tr><tr><td>Economic Tool</td><td>41896.700000000004</td></tr><tr><td>Me Device</td><td>41842.96000000001</td></tr><tr><td>Recent Tool</td><td>41831.52</td></tr><tr><td>I Tool</td><td>41829.41</td></tr><tr><td>Behavior Item</td><td>41821.86</td></tr><tr><td>Door Accessory</td><td>41784.87</td></tr><tr><td>Positive Tool</td><td>41744.340000000004</td></tr><tr><td>Three Gadget</td><td>41721.439999999995</td></tr><tr><td>Choose Tool</td><td>41689.93999999999</td></tr><tr><td>Build Gadget</td><td>41651.07</td></tr><tr><td>Road Device</td><td>41641.4</td></tr><tr><td>Shoulder Accessory</td><td>41631.05</td></tr><tr><td>And Gadget</td><td>41622.62</td></tr><tr><td>Serious Device</td><td>41617.04</td></tr><tr><td>Item Gadget</td><td>41610.34</td></tr><tr><td>Clearly Accessory</td><td>41595.89</td></tr><tr><td>Real Item</td><td>41588.37999999999</td></tr><tr><td>Message Item</td><td>41573.42</td></tr><tr><td>Official Accessory</td><td>41571.76</td></tr><tr><td>Fly Item</td><td>41570.19</td></tr><tr><td>Gas Item</td><td>41540.96</td></tr><tr><td>Draw Item</td><td>41530.869999999995</td></tr><tr><td>Inside Item</td><td>41514.52</td></tr><tr><td>Laugh Device</td><td>41464.2</td></tr><tr><td>Radio Accessory</td><td>41435.62</td></tr><tr><td>Involve Device</td><td>41433.06</td></tr><tr><td>Able Item</td><td>41412.9</td></tr><tr><td>Card Item</td><td>41368.25</td></tr><tr><td>Today Item</td><td>41367.49</td></tr><tr><td>Record Gadget</td><td>41363.86000000001</td></tr><tr><td>Along Tool</td><td>41360.979999999996</td></tr><tr><td>Wall Device</td><td>41345.77</td></tr><tr><td>Major Gadget</td><td>41328.56</td></tr><tr><td>Wish Tool</td><td>41326.14</td></tr><tr><td>Customer Item</td><td>41318.64</td></tr><tr><td>Point Device</td><td>41314.76999999999</td></tr><tr><td>Yeah Tool</td><td>41313.41999999999</td></tr><tr><td>Whose Gadget</td><td>41294.97000000001</td></tr><tr><td>Them Device</td><td>41292.92</td></tr><tr><td>Them Item</td><td>41289.93000000001</td></tr><tr><td>Study Device</td><td>41277.920000000006</td></tr><tr><td>Off Item</td><td>41234.329999999994</td></tr><tr><td>Personal Tool</td><td>41231.84000000001</td></tr><tr><td>Professional Item</td><td>41230.909999999996</td></tr><tr><td>Drop Accessory</td><td>41183.85999999999</td></tr><tr><td>Make Accessory</td><td>41172.04</td></tr><tr><td>Feeling Accessory</td><td>41162.03999999999</td></tr><tr><td>Best Item</td><td>41127.18</td></tr><tr><td>Evening Device</td><td>41065.03</td></tr><tr><td>Government Accessory</td><td>41052.6</td></tr><tr><td>How Item</td><td>41038.78</td></tr><tr><td>Ten Gadget</td><td>41005.36</td></tr><tr><td>Quickly Gadget</td><td>40995.869999999995</td></tr><tr><td>Blood Accessory</td><td>40876.11</td></tr><tr><td>Indicate Tool</td><td>40872.87</td></tr><tr><td>Gun Gadget</td><td>40854.40000000001</td></tr><tr><td>Someone Item</td><td>40788.99</td></tr><tr><td>Describe Gadget</td><td>40786.65</td></tr><tr><td>Occur Item</td><td>40773.46</td></tr><tr><td>See Tool</td><td>40753.97</td></tr><tr><td>Never Accessory</td><td>40743.31</td></tr><tr><td>Either Accessory</td><td>40736.96</td></tr><tr><td>Administration Tool</td><td>40735.53999999999</td></tr><tr><td>Republican Accessory</td><td>40727.51</td></tr><tr><td>Take Item</td><td>40723.55</td></tr><tr><td>Traditional Gadget</td><td>40708.100000000006</td></tr><tr><td>Heart Tool</td><td>40706.289999999986</td></tr><tr><td>Mission Device</td><td>40676.51</td></tr><tr><td>Anyone Gadget</td><td>40635.340000000004</td></tr><tr><td>Resource Device</td><td>40619.61</td></tr><tr><td>Despite Accessory</td><td>40614.869999999995</td></tr><tr><td>Focus Item</td><td>40610.94</td></tr><tr><td>A Item</td><td>40610.18000000001</td></tr><tr><td>First Tool</td><td>40599.44</td></tr><tr><td>Cup Item</td><td>40592.13999999999</td></tr><tr><td>With Item</td><td>40571.62</td></tr><tr><td>Draw Device</td><td>40560.049999999996</td></tr><tr><td>Building Accessory</td><td>40534.16</td></tr><tr><td>Because Tool</td><td>40496.92</td></tr><tr><td>Certain Tool</td><td>40462.33</td></tr><tr><td>Another Device</td><td>40433.969999999994</td></tr><tr><td>Group Device</td><td>40416.979999999996</td></tr><tr><td>Him Device</td><td>40410.53</td></tr><tr><td>Life Tool</td><td>40385.7</td></tr><tr><td>Maintain Accessory</td><td>40372.42999999999</td></tr><tr><td>Few Tool</td><td>40365.009999999995</td></tr><tr><td>Fine Gadget</td><td>40361.020000000004</td></tr><tr><td>Morning Accessory</td><td>40332.920000000006</td></tr><tr><td>Single Gadget</td><td>40314.31999999999</td></tr><tr><td>Election Device</td><td>40305.0</td></tr><tr><td>Generation Tool</td><td>40300.9</td></tr><tr><td>Exactly Item</td><td>40290.57</td></tr><tr><td>Yet Device</td><td>40269.17</td></tr><tr><td>Sometimes Accessory</td><td>40259.42000000001</td></tr><tr><td>Arrive Accessory</td><td>40240.02</td></tr><tr><td>Box Gadget</td><td>40215.67999999999</td></tr><tr><td>Trip Tool</td><td>40211.07</td></tr><tr><td>Almost Device</td><td>40193.97</td></tr><tr><td>Possible Tool</td><td>40180.87000000001</td></tr><tr><td>Performance Accessory</td><td>40166.340000000004</td></tr><tr><td>Case Item</td><td>40141.93</td></tr><tr><td>Door Tool</td><td>40119.31000000001</td></tr><tr><td>Kind Item</td><td>40100.19999999999</td></tr><tr><td>Total Accessory</td><td>40098.67</td></tr><tr><td>Far Tool</td><td>40097.76</td></tr><tr><td>System Item</td><td>40088.97</td></tr><tr><td>Early Device</td><td>40062.399999999994</td></tr><tr><td>Who Device</td><td>40061.93</td></tr><tr><td>Term Gadget</td><td>40060.92</td></tr><tr><td>Set Item</td><td>40031.42</td></tr><tr><td>Lose Device</td><td>40010.94</td></tr><tr><td>Ok Accessory</td><td>39995.759999999995</td></tr><tr><td>Exist Gadget</td><td>39979.8</td></tr><tr><td>Common Accessory</td><td>39976.03999999999</td></tr><tr><td>Fear Gadget</td><td>39950.66</td></tr><tr><td>Difficult Accessory</td><td>39949.99</td></tr><tr><td>Fact Accessory</td><td>39936.44</td></tr><tr><td>Player Item</td><td>39896.299999999996</td></tr><tr><td>Change Tool</td><td>39888.259999999995</td></tr><tr><td>Call Tool</td><td>39864.170000000006</td></tr><tr><td>Task Accessory</td><td>39862.89</td></tr><tr><td>Surface Item</td><td>39853.030000000006</td></tr><tr><td>Believe Tool</td><td>39837.76</td></tr><tr><td>Late Gadget</td><td>39834.9</td></tr><tr><td>Effect Item</td><td>39825.79</td></tr><tr><td>Important Item</td><td>39818.03</td></tr><tr><td>Main Tool</td><td>39798.83</td></tr><tr><td>She Gadget</td><td>39775.72</td></tr><tr><td>North Item</td><td>39773.04</td></tr><tr><td>To Accessory</td><td>39772.72</td></tr><tr><td>Admit Item</td><td>39727.32</td></tr><tr><td>Continue Item</td><td>39715.79</td></tr><tr><td>Per Accessory</td><td>39700.36</td></tr><tr><td>Prove Tool</td><td>39679.62</td></tr><tr><td>Argue Accessory</td><td>39670.34</td></tr><tr><td>Bad Tool</td><td>39668.119999999995</td></tr><tr><td>Edge Device</td><td>39652.84</td></tr><tr><td>Art Gadget</td><td>39644.47</td></tr><tr><td>Star Tool</td><td>39642.369999999995</td></tr><tr><td>Much Gadget</td><td>39638.36</td></tr><tr><td>Condition Tool</td><td>39592.14000000001</td></tr><tr><td>Final Tool</td><td>39571.329999999994</td></tr><tr><td>Up Tool</td><td>39554.880000000005</td></tr><tr><td>About Device</td><td>39540.43</td></tr><tr><td>Seem Gadget</td><td>39514.39</td></tr><tr><td>Build Device</td><td>39511.12</td></tr><tr><td>Baby Gadget</td><td>39510.14</td></tr><tr><td>Church Accessory</td><td>39498.35999999999</td></tr><tr><td>Simple Item</td><td>39483.41999999999</td></tr><tr><td>Field Tool</td><td>39451.12</td></tr><tr><td>Course Tool</td><td>39412.87</td></tr><tr><td>Six Accessory</td><td>39402.05000000001</td></tr><tr><td>Short Tool</td><td>39381.47000000001</td></tr><tr><td>Word Device</td><td>39372.04</td></tr><tr><td>Security Item</td><td>39371.58</td></tr><tr><td>Fall Accessory</td><td>39369.340000000004</td></tr><tr><td>Picture Item</td><td>39360.2</td></tr><tr><td>Agent Accessory</td><td>39357.600000000006</td></tr><tr><td>Down Tool</td><td>39335.45999999999</td></tr><tr><td>Least Device</td><td>39326.29</td></tr><tr><td>Share Tool</td><td>39325.61</td></tr><tr><td>Adult Item</td><td>39312.83</td></tr><tr><td>Fly Tool</td><td>39286.59</td></tr><tr><td>Deal Gadget</td><td>39255.68</td></tr><tr><td>Democratic Tool</td><td>39255.020000000004</td></tr><tr><td>Administration Gadget</td><td>39245.689999999995</td></tr><tr><td>Stock Gadget</td><td>39242.07</td></tr><tr><td>Team Device</td><td>39228.869999999995</td></tr><tr><td>Operation Tool</td><td>39218.74999999999</td></tr><tr><td>Girl Device</td><td>39215.54</td></tr><tr><td>Court Device</td><td>39165.369999999995</td></tr><tr><td>Represent Item</td><td>39159.46</td></tr><tr><td>Usually Gadget</td><td>39155.5</td></tr><tr><td>Especially Gadget</td><td>39124.729999999996</td></tr><tr><td>Base Gadget</td><td>39099.05</td></tr><tr><td>Stay Item</td><td>39080.92</td></tr><tr><td>His Accessory</td><td>39073.48</td></tr><tr><td>Program Tool</td><td>38951.530000000006</td></tr><tr><td>Those Device</td><td>38918.520000000004</td></tr><tr><td>Soldier Tool</td><td>38896.57</td></tr><tr><td>Single Device</td><td>38869.58</td></tr><tr><td>Class Device</td><td>38854.07000000001</td></tr><tr><td>Well Device</td><td>38849.75000000001</td></tr><tr><td>Particularly Gadget</td><td>38831.299999999996</td></tr><tr><td>Improve Tool</td><td>38828.549999999996</td></tr><tr><td>Season Tool</td><td>38809.509999999995</td></tr><tr><td>Section Tool</td><td>38790.55</td></tr><tr><td>Suddenly Accessory</td><td>38753.74</td></tr><tr><td>Man Tool</td><td>38740.14</td></tr><tr><td>Bed Accessory</td><td>38738.03</td></tr><tr><td>And Device</td><td>38726.21</td></tr><tr><td>Her Accessory</td><td>38722.92</td></tr><tr><td>Seek Accessory</td><td>38700.52</td></tr><tr><td>Cold Accessory</td><td>38686.88999999999</td></tr><tr><td>Research Accessory</td><td>38684.770000000004</td></tr><tr><td>Month Accessory</td><td>38676.48</td></tr><tr><td>Send Gadget</td><td>38670.990000000005</td></tr><tr><td>Subject Accessory</td><td>38663.67</td></tr><tr><td>Voice Item</td><td>38650.28999999999</td></tr><tr><td>Such Device</td><td>38629.43</td></tr><tr><td>Force Gadget</td><td>38620.9</td></tr><tr><td>Day Accessory</td><td>38595.56</td></tr><tr><td>Quite Tool</td><td>38575.72</td></tr><tr><td>Whole Tool</td><td>38573.969999999994</td></tr><tr><td>Send Tool</td><td>38561.17</td></tr><tr><td>Wind Item</td><td>38542.31</td></tr><tr><td>Analysis Tool</td><td>38538.009999999995</td></tr><tr><td>Across Gadget</td><td>38518.36</td></tr><tr><td>Hit Gadget</td><td>38513.13</td></tr><tr><td>Peace Item</td><td>38508.11</td></tr><tr><td>That Accessory</td><td>38490.86</td></tr><tr><td>Step Accessory</td><td>38474.53</td></tr><tr><td>Stock Device</td><td>38441.0</td></tr><tr><td>Seven Item</td><td>38427.66</td></tr><tr><td>Respond Gadget</td><td>38417.5</td></tr><tr><td>Politics Item</td><td>38415.12</td></tr><tr><td>White Item</td><td>38395.979999999996</td></tr><tr><td>Because Item</td><td>38371.72</td></tr><tr><td>Magazine Device</td><td>38324.4</td></tr><tr><td>Prove Gadget</td><td>38315.36</td></tr><tr><td>Difference Gadget</td><td>38311.799999999996</td></tr><tr><td>Director Accessory</td><td>38308.92999999999</td></tr><tr><td>Upon Device</td><td>38301.76</td></tr><tr><td>Once Gadget</td><td>38297.36</td></tr><tr><td>Single Tool</td><td>38296.090000000004</td></tr><tr><td>Participant Item</td><td>38294.94</td></tr><tr><td>War Tool</td><td>38294.119999999995</td></tr><tr><td>On Item</td><td>38274.31</td></tr><tr><td>Weight Device</td><td>38258.08</td></tr><tr><td>Suddenly Device</td><td>38245.3</td></tr><tr><td>Individual Accessory</td><td>38242.47</td></tr><tr><td>Important Accessory</td><td>38240.80999999998</td></tr><tr><td>Education Gadget</td><td>38238.119999999995</td></tr><tr><td>Author Device</td><td>38236.549999999996</td></tr><tr><td>We Accessory</td><td>38226.98</td></tr><tr><td>Bad Gadget</td><td>38226.58</td></tr><tr><td>Than Accessory</td><td>38203.57</td></tr><tr><td>Site Item</td><td>38190.43</td></tr><tr><td>Laugh Accessory</td><td>38187.600000000006</td></tr><tr><td>Activity Item</td><td>38178.29</td></tr><tr><td>Art Tool</td><td>38158.850000000006</td></tr><tr><td>Election Tool</td><td>38134.43000000001</td></tr><tr><td>Available Device</td><td>38104.74</td></tr><tr><td>Up Device</td><td>38083.100000000006</td></tr><tr><td>College Device</td><td>38080.82</td></tr><tr><td>Would Item</td><td>38068.020000000004</td></tr><tr><td>Bag Tool</td><td>38067.329999999994</td></tr><tr><td>Alone Gadget</td><td>38062.55</td></tr><tr><td>Feeling Device</td><td>38058.7</td></tr><tr><td>Lose Gadget</td><td>38057.76999999999</td></tr><tr><td>Once Item</td><td>38056.13</td></tr><tr><td>Skill Item</td><td>38052.990000000005</td></tr><tr><td>Discussion Accessory</td><td>38052.3</td></tr><tr><td>Too Gadget</td><td>38027.25000000001</td></tr><tr><td>American Accessory</td><td>38014.3</td></tr><tr><td>Offer Gadget</td><td>38002.36</td></tr><tr><td>Movie Device</td><td>37987.31</td></tr><tr><td>Son Gadget</td><td>37961.85</td></tr><tr><td>Education Item</td><td>37943.3</td></tr><tr><td>Manage Tool</td><td>37912.12</td></tr><tr><td>Bar Tool</td><td>37907.93</td></tr><tr><td>Southern Tool</td><td>37902.009999999995</td></tr><tr><td>Trial Item</td><td>37901.54000000001</td></tr><tr><td>Enough Device</td><td>37885.91999999999</td></tr><tr><td>Hold Tool</td><td>37833.74</td></tr><tr><td>Decide Tool</td><td>37832.36</td></tr><tr><td>Agent Item</td><td>37823.729999999996</td></tr><tr><td>Write Accessory</td><td>37822.9</td></tr><tr><td>Say Accessory</td><td>37811.67</td></tr><tr><td>Gun Item</td><td>37794.38</td></tr><tr><td>Unit Device</td><td>37787.509999999995</td></tr><tr><td>Thought Device</td><td>37781.659999999996</td></tr><tr><td>Future Accessory</td><td>37760.31</td></tr><tr><td>Participant Device</td><td>37752.47</td></tr><tr><td>Sea Accessory</td><td>37733.119999999995</td></tr><tr><td>Last Device</td><td>37728.25</td></tr><tr><td>Situation Device</td><td>37714.76</td></tr><tr><td>Word Tool</td><td>37699.21000000001</td></tr><tr><td>Down Device</td><td>37698.079999999994</td></tr><tr><td>Section Item</td><td>37672.91</td></tr><tr><td>Interesting Device</td><td>37666.04</td></tr><tr><td>Long Accessory</td><td>37652.689999999995</td></tr><tr><td>Tree Device</td><td>37631.26</td></tr><tr><td>Although Device</td><td>37612.27</td></tr><tr><td>Notice Item</td><td>37596.579999999994</td></tr><tr><td>Program Accessory</td><td>37589.3</td></tr><tr><td>Other Device</td><td>37575.649999999994</td></tr><tr><td>Customer Gadget</td><td>37567.08</td></tr><tr><td>Operation Gadget</td><td>37566.590000000004</td></tr><tr><td>Entire Device</td><td>37540.82000000001</td></tr><tr><td>Again Item</td><td>37520.97</td></tr><tr><td>Talk Tool</td><td>37519.86000000001</td></tr><tr><td>Nor Accessory</td><td>37512.18</td></tr><tr><td>Behind Gadget</td><td>37510.340000000004</td></tr><tr><td>Experience Device</td><td>37499.47</td></tr><tr><td>Big Device</td><td>37488.76999999999</td></tr><tr><td>Low Device</td><td>37463.12</td></tr><tr><td>Dream Device</td><td>37461.03999999999</td></tr><tr><td>Policy Gadget</td><td>37452.060000000005</td></tr><tr><td>Decade Tool</td><td>37432.409999999996</td></tr><tr><td>Politics Tool</td><td>37411.01</td></tr><tr><td>Democrat Device</td><td>37372.27</td></tr><tr><td>Partner Accessory</td><td>37371.78</td></tr><tr><td>Lot Item</td><td>37367.95</td></tr><tr><td>Pattern Item</td><td>37331.450000000004</td></tr><tr><td>Somebody Tool</td><td>37316.06999999999</td></tr><tr><td>Protect Device</td><td>37315.33</td></tr><tr><td>Strategy Accessory</td><td>37280.38</td></tr><tr><td>Traditional Item</td><td>37275.950000000004</td></tr><tr><td>Hundred Accessory</td><td>37261.490000000005</td></tr><tr><td>Trip Accessory</td><td>37258.1</td></tr><tr><td>Leave Tool</td><td>37240.189999999995</td></tr><tr><td>Raise Accessory</td><td>37230.21</td></tr><tr><td>Better Device</td><td>37229.07</td></tr><tr><td>Seat Device</td><td>37206.56</td></tr><tr><td>Get Item</td><td>37197.740000000005</td></tr><tr><td>Within Accessory</td><td>37195.479999999996</td></tr><tr><td>Kitchen Accessory</td><td>37193.72</td></tr><tr><td>Million Item</td><td>37192.56</td></tr><tr><td>Cup Tool</td><td>37182.14</td></tr><tr><td>Or Gadget</td><td>37168.62</td></tr><tr><td>Leave Item</td><td>37152.159999999996</td></tr><tr><td>Raise Device</td><td>37148.759999999995</td></tr><tr><td>Newspaper Tool</td><td>37117.44999999999</td></tr><tr><td>Seven Tool</td><td>37110.14</td></tr><tr><td>Window Accessory</td><td>37086.14</td></tr><tr><td>Some Item</td><td>37082.12</td></tr><tr><td>Each Device</td><td>37077.97</td></tr><tr><td>Until Accessory</td><td>37076.28</td></tr><tr><td>By Tool</td><td>37059.61</td></tr><tr><td>Husband Item</td><td>37058.799999999996</td></tr><tr><td>Woman Accessory</td><td>37027.19</td></tr><tr><td>Miss Tool</td><td>37013.96</td></tr><tr><td>International Accessory</td><td>37009.25</td></tr><tr><td>Throughout Tool</td><td>37009.16</td></tr><tr><td>Language Gadget</td><td>36979.299999999996</td></tr><tr><td>She Item</td><td>36978.71000000001</td></tr><tr><td>Production Device</td><td>36948.56</td></tr><tr><td>Enjoy Tool</td><td>36944.27</td></tr><tr><td>Wear Gadget</td><td>36936.42</td></tr><tr><td>Continue Accessory</td><td>36927.799999999996</td></tr><tr><td>Ability Device</td><td>36919.189999999995</td></tr><tr><td>Want Item</td><td>36915.52</td></tr><tr><td>Test Item</td><td>36903.71000000001</td></tr><tr><td>Evidence Device</td><td>36881.799999999996</td></tr><tr><td>College Item</td><td>36866.26</td></tr><tr><td>Person Gadget</td><td>36853.130000000005</td></tr><tr><td>Group Gadget</td><td>36852.369999999995</td></tr><tr><td>Nor Tool</td><td>36850.32000000001</td></tr><tr><td>Great Gadget</td><td>36844.44</td></tr><tr><td>Reason Gadget</td><td>36834.770000000004</td></tr><tr><td>Body Device</td><td>36829.96</td></tr><tr><td>Across Accessory</td><td>36828.69</td></tr><tr><td>Not Device</td><td>36826.36</td></tr><tr><td>Buy Item</td><td>36823.15999999999</td></tr><tr><td>He Accessory</td><td>36823.01</td></tr><tr><td>Lawyer Item</td><td>36820.15000000001</td></tr><tr><td>Again Accessory</td><td>36800.130000000005</td></tr><tr><td>Product Gadget</td><td>36793.83</td></tr><tr><td>Involve Accessory</td><td>36793.270000000004</td></tr><tr><td>Feel Item</td><td>36788.41</td></tr><tr><td>Order Tool</td><td>36781.76000000001</td></tr><tr><td>Last Gadget</td><td>36778.05</td></tr><tr><td>Outside Gadget</td><td>36775.5</td></tr><tr><td>Go Item</td><td>36770.99</td></tr><tr><td>Step Item</td><td>36762.24</td></tr><tr><td>Produce Device</td><td>36762.05</td></tr><tr><td>Benefit Device</td><td>36738.229999999996</td></tr><tr><td>The Gadget</td><td>36733.34999999999</td></tr><tr><td>Good Tool</td><td>36720.37</td></tr><tr><td>Executive Gadget</td><td>36711.95</td></tr><tr><td>Form Device</td><td>36703.380000000005</td></tr><tr><td>Once Tool</td><td>36694.399999999994</td></tr><tr><td>Star Device</td><td>36690.38</td></tr><tr><td>Position Device</td><td>36659.479999999996</td></tr><tr><td>Perform Item</td><td>36643.439999999995</td></tr><tr><td>Stop Item</td><td>36606.22</td></tr><tr><td>Minute Device</td><td>36596.87</td></tr><tr><td>Special Accessory</td><td>36593.22</td></tr><tr><td>Popular Item</td><td>36592.72</td></tr><tr><td>Tv Accessory</td><td>36588.99</td></tr><tr><td>What Gadget</td><td>36588.56</td></tr><tr><td>Rise Gadget</td><td>36568.4</td></tr><tr><td>Market Tool</td><td>36565.47</td></tr><tr><td>Represent Accessory</td><td>36521.66</td></tr><tr><td>Blue Device</td><td>36521.54</td></tr><tr><td>Provide Item</td><td>36504.94</td></tr><tr><td>So Device</td><td>36499.44</td></tr><tr><td>Treatment Device</td><td>36491.98</td></tr><tr><td>Soon Tool</td><td>36479.15</td></tr><tr><td>Who Accessory</td><td>36473.63</td></tr><tr><td>Low Item</td><td>36469.340000000004</td></tr><tr><td>If Device</td><td>36466.07</td></tr><tr><td>Economic Accessory</td><td>36441.350000000006</td></tr><tr><td>Million Accessory</td><td>36435.83</td></tr><tr><td>Notice Tool</td><td>36433.670000000006</td></tr><tr><td>Medical Device</td><td>36428.11</td></tr><tr><td>Structure Device</td><td>36417.67</td></tr><tr><td>Relate Device</td><td>36417.31</td></tr><tr><td>Physical Accessory</td><td>36415.83</td></tr><tr><td>Leader Item</td><td>36411.01</td></tr><tr><td>Share Device</td><td>36401.82000000001</td></tr><tr><td>Music Device</td><td>36383.93999999999</td></tr><tr><td>Billion Accessory</td><td>36363.4</td></tr><tr><td>Drop Device</td><td>36349.119999999995</td></tr><tr><td>Fire Gadget</td><td>36348.94</td></tr><tr><td>Exist Device</td><td>36339.909999999996</td></tr><tr><td>Choose Gadget</td><td>36325.54</td></tr><tr><td>Sister Gadget</td><td>36312.5</td></tr><tr><td>Research Tool</td><td>36307.740000000005</td></tr><tr><td>Camera Gadget</td><td>36289.009999999995</td></tr><tr><td>Edge Item</td><td>36288.26</td></tr><tr><td>Perhaps Device</td><td>36284.56</td></tr><tr><td>Bank Accessory</td><td>36272.18</td></tr><tr><td>Do Gadget</td><td>36267.9</td></tr><tr><td>Perhaps Gadget</td><td>36267.009999999995</td></tr><tr><td>Kid Tool</td><td>36250.84</td></tr><tr><td>On Tool</td><td>36248.88</td></tr><tr><td>Believe Accessory</td><td>36232.03</td></tr><tr><td>Look Item</td><td>36224.130000000005</td></tr><tr><td>Natural Item</td><td>36219.64000000001</td></tr><tr><td>Policy Accessory</td><td>36207.94</td></tr><tr><td>Phone Accessory</td><td>36195.81</td></tr><tr><td>Out Tool</td><td>36191.85</td></tr><tr><td>Everybody Gadget</td><td>36190.21</td></tr><tr><td>Yet Item</td><td>36186.97</td></tr><tr><td>Line Tool</td><td>36167.25000000001</td></tr><tr><td>Maybe Item</td><td>36160.91</td></tr><tr><td>Police Device</td><td>36148.84</td></tr><tr><td>Subject Gadget</td><td>36142.74</td></tr><tr><td>Product Item</td><td>36124.549999999996</td></tr><tr><td>Themselves Tool</td><td>36119.479999999996</td></tr><tr><td>Degree Accessory</td><td>36114.22</td></tr><tr><td>Commercial Gadget</td><td>36109.31</td></tr><tr><td>Floor Gadget</td><td>36107.82</td></tr><tr><td>Serve Accessory</td><td>36090.740000000005</td></tr><tr><td>Star Accessory</td><td>36081.95</td></tr><tr><td>Threat Item</td><td>36081.39</td></tr><tr><td>Everyone Device</td><td>36080.79</td></tr><tr><td>Pretty Accessory</td><td>36042.93</td></tr><tr><td>Mention Gadget</td><td>36042.36</td></tr><tr><td>Avoid Accessory</td><td>36039.27</td></tr><tr><td>Can Tool</td><td>36036.89</td></tr><tr><td>Commercial Item</td><td>36033.6</td></tr><tr><td>His Device</td><td>36026.83</td></tr><tr><td>Each Accessory</td><td>36023.71000000001</td></tr><tr><td>Number Item</td><td>36017.83</td></tr><tr><td>Color Accessory</td><td>36004.19</td></tr><tr><td>Out Device</td><td>35994.7</td></tr><tr><td>Child Tool</td><td>35967.13</td></tr><tr><td>Break Gadget</td><td>35945.83</td></tr><tr><td>Growth Accessory</td><td>35925.159999999996</td></tr><tr><td>Building Tool</td><td>35922.18</td></tr><tr><td>Wait Tool</td><td>35921.21</td></tr><tr><td>Participant Accessory</td><td>35918.77</td></tr><tr><td>Employee Tool</td><td>35918.17</td></tr><tr><td>Long Tool</td><td>35906.95</td></tr><tr><td>Analysis Device</td><td>35897.37</td></tr><tr><td>Design Item</td><td>35892.27</td></tr><tr><td>Keep Device</td><td>35883.25</td></tr><tr><td>With Device</td><td>35875.64</td></tr><tr><td>Any Device</td><td>35871.93</td></tr><tr><td>Also Item</td><td>35869.85999999999</td></tr><tr><td>Almost Accessory</td><td>35868.08</td></tr><tr><td>His Gadget</td><td>35862.530000000006</td></tr><tr><td>Effort Gadget</td><td>35861.66</td></tr><tr><td>Free Gadget</td><td>35853.81</td></tr><tr><td>Very Device</td><td>35849.96000000001</td></tr><tr><td>Wife Item</td><td>35841.5</td></tr><tr><td>Culture Device</td><td>35814.049999999996</td></tr><tr><td>Mrs Item</td><td>35807.45</td></tr><tr><td>Camera Accessory</td><td>35797.44</td></tr><tr><td>Doctor Gadget</td><td>35793.21</td></tr><tr><td>Lay Device</td><td>35767.25</td></tr><tr><td>Country Device</td><td>35747.87</td></tr><tr><td>Push Accessory</td><td>35724.770000000004</td></tr><tr><td>School Tool</td><td>35722.89</td></tr><tr><td>Animal Gadget</td><td>35710.94</td></tr><tr><td>Above Item</td><td>35683.3</td></tr><tr><td>Fact Gadget</td><td>35683.219999999994</td></tr><tr><td>Foot Gadget</td><td>35669.51</td></tr><tr><td>Pull Accessory</td><td>35667.9</td></tr><tr><td>Fish Item</td><td>35654.78999999999</td></tr><tr><td>Identify Device</td><td>35639.32</td></tr><tr><td>Three Item</td><td>35622.11</td></tr><tr><td>Mind Accessory</td><td>35611.13</td></tr><tr><td>One Device</td><td>35603.6</td></tr><tr><td>Report Device</td><td>35598.46</td></tr><tr><td>Couple Gadget</td><td>35584.90000000001</td></tr><tr><td>Nice Tool</td><td>35583.29</td></tr><tr><td>Without Accessory</td><td>35573.740000000005</td></tr><tr><td>Blue Item</td><td>35558.12999999999</td></tr><tr><td>Cup Accessory</td><td>35550.28</td></tr><tr><td>Mention Device</td><td>35537.53999999999</td></tr><tr><td>Show Gadget</td><td>35529.58</td></tr><tr><td>According Item</td><td>35514.04</td></tr><tr><td>Option Accessory</td><td>35509.75</td></tr><tr><td>Network Gadget</td><td>35485.56999999999</td></tr><tr><td>May Device</td><td>35481.61</td></tr><tr><td>Pay Device</td><td>35478.98</td></tr><tr><td>Officer Tool</td><td>35473.759999999995</td></tr><tr><td>Account Tool</td><td>35473.33</td></tr><tr><td>Among Gadget</td><td>35463.469999999994</td></tr><tr><td>Old Gadget</td><td>35441.69</td></tr><tr><td>Hair Gadget</td><td>35426.57</td></tr><tr><td>House Gadget</td><td>35408.5</td></tr><tr><td>Move Tool</td><td>35379.42</td></tr><tr><td>Speak Item</td><td>35366.55</td></tr><tr><td>Difference Accessory</td><td>35366.409999999996</td></tr><tr><td>Quality Accessory</td><td>35363.340000000004</td></tr><tr><td>Address Item</td><td>35360.729999999996</td></tr><tr><td>Light Gadget</td><td>35347.16</td></tr><tr><td>Consumer Item</td><td>35336.57</td></tr><tr><td>Throughout Gadget</td><td>35336.130000000005</td></tr><tr><td>Poor Item</td><td>35324.78</td></tr><tr><td>Until Item</td><td>35317.92999999999</td></tr><tr><td>Adult Accessory</td><td>35317.280000000006</td></tr><tr><td>Many Item</td><td>35310.829999999994</td></tr><tr><td>Capital Item</td><td>35309.78999999999</td></tr><tr><td>Beautiful Accessory</td><td>35284.990000000005</td></tr><tr><td>Enough Gadget</td><td>35276.85</td></tr><tr><td>Ability Gadget</td><td>35273.87</td></tr><tr><td>Send Accessory</td><td>35260.34</td></tr><tr><td>Experience Item</td><td>35250.87</td></tr><tr><td>Drug Tool</td><td>35245.42</td></tr><tr><td>Of Item</td><td>35217.93</td></tr><tr><td>Dog Item</td><td>35212.13</td></tr><tr><td>Television Item</td><td>35205.39000000001</td></tr><tr><td>Happen Accessory</td><td>35204.91</td></tr><tr><td>These Accessory</td><td>35204.76</td></tr><tr><td>Thing Item</td><td>35190.74999999999</td></tr><tr><td>Behavior Accessory</td><td>35190.05</td></tr><tr><td>Free Device</td><td>35185.810000000005</td></tr><tr><td>Politics Gadget</td><td>35183.43</td></tr><tr><td>Face Tool</td><td>35180.84</td></tr><tr><td>Democratic Gadget</td><td>35167.8</td></tr><tr><td>Simply Item</td><td>35161.29</td></tr><tr><td>Water Device</td><td>35152.64</td></tr><tr><td>Wide Accessory</td><td>35137.78</td></tr><tr><td>Respond Accessory</td><td>35113.880000000005</td></tr><tr><td>Benefit Tool</td><td>35112.17999999999</td></tr><tr><td>Want Accessory</td><td>35102.59</td></tr><tr><td>Green Accessory</td><td>35101.59</td></tr><tr><td>Card Tool</td><td>35053.65</td></tr><tr><td>Stock Accessory</td><td>35032.689999999995</td></tr><tr><td>Control Gadget</td><td>35032.59</td></tr><tr><td>Store Gadget</td><td>35021.07</td></tr><tr><td>Different Gadget</td><td>35020.17</td></tr><tr><td>House Device</td><td>35013.86</td></tr><tr><td>Federal Device</td><td>35012.95</td></tr><tr><td>Yard Accessory</td><td>34992.67</td></tr><tr><td>Job Accessory</td><td>34981.75</td></tr><tr><td>Moment Accessory</td><td>34980.47</td></tr><tr><td>Issue Item</td><td>34980.35</td></tr><tr><td>Other Accessory</td><td>34945.270000000004</td></tr><tr><td>Father Gadget</td><td>34942.759999999995</td></tr><tr><td>Five Item</td><td>34936.78</td></tr><tr><td>Town Device</td><td>34931.350000000006</td></tr><tr><td>Social Accessory</td><td>34923.81</td></tr><tr><td>May Tool</td><td>34903.56</td></tr><tr><td>Hand Gadget</td><td>34899.240000000005</td></tr><tr><td>Couple Device</td><td>34897.99</td></tr><tr><td>Major Device</td><td>34896.020000000004</td></tr><tr><td>Government Tool</td><td>34877.380000000005</td></tr><tr><td>Role Device</td><td>34870.45</td></tr><tr><td>Economy Device</td><td>34867.280000000006</td></tr><tr><td>Drive Device</td><td>34864.13000000001</td></tr><tr><td>East Accessory</td><td>34855.5</td></tr><tr><td>Bank Item</td><td>34855.03999999999</td></tr><tr><td>Bring Accessory</td><td>34836.990000000005</td></tr><tr><td>Physical Device</td><td>34831.09</td></tr><tr><td>Reflect Accessory</td><td>34828.12</td></tr><tr><td>Generation Accessory</td><td>34824.08</td></tr><tr><td>Factor Tool</td><td>34821.850000000006</td></tr><tr><td>Involve Gadget</td><td>34817.84</td></tr><tr><td>Technology Item</td><td>34810.16</td></tr><tr><td>Leg Device</td><td>34807.469999999994</td></tr><tr><td>Good Accessory</td><td>34793.31</td></tr><tr><td>Your Tool</td><td>34792.8</td></tr><tr><td>Black Gadget</td><td>34757.61</td></tr><tr><td>View Item</td><td>34747.46</td></tr><tr><td>Character Item</td><td>34729.94</td></tr><tr><td>Wall Item</td><td>34705.63</td></tr><tr><td>Away Gadget</td><td>34700.409999999996</td></tr><tr><td>Structure Item</td><td>34689.299999999996</td></tr><tr><td>Seem Tool</td><td>34684.990000000005</td></tr><tr><td>Film Item</td><td>34682.75</td></tr><tr><td>Can Item</td><td>34677.659999999996</td></tr><tr><td>Heavy Gadget</td><td>34677.509999999995</td></tr><tr><td>Skin Accessory</td><td>34667.74999999999</td></tr><tr><td>Region Gadget</td><td>34658.97000000001</td></tr><tr><td>Act Device</td><td>34657.57000000001</td></tr><tr><td>Bag Accessory</td><td>34651.329999999994</td></tr><tr><td>Site Gadget</td><td>34648.85</td></tr><tr><td>Edge Accessory</td><td>34644.0</td></tr><tr><td>Message Accessory</td><td>34642.09</td></tr><tr><td>Admit Gadget</td><td>34638.81</td></tr><tr><td>Everything Item</td><td>34634.31</td></tr><tr><td>Material Item</td><td>34623.57</td></tr><tr><td>Least Item</td><td>34622.770000000004</td></tr><tr><td>Wife Accessory</td><td>34605.81</td></tr><tr><td>Amount Device</td><td>34605.479999999996</td></tr><tr><td>Ever Item</td><td>34589.350000000006</td></tr><tr><td>Cover Gadget</td><td>34576.03</td></tr><tr><td>Thought Item</td><td>34575.240000000005</td></tr><tr><td>Goal Device</td><td>34572.61000000001</td></tr><tr><td>Author Accessory</td><td>34541.84</td></tr><tr><td>Century Item</td><td>34533.17999999999</td></tr><tr><td>Break Device</td><td>34532.4</td></tr><tr><td>Local Device</td><td>34515.159999999996</td></tr><tr><td>Discussion Item</td><td>34506.85</td></tr><tr><td>Effort Device</td><td>34489.88</td></tr><tr><td>Plan Item</td><td>34487.71</td></tr><tr><td>Specific Tool</td><td>34477.6</td></tr><tr><td>Daughter Device</td><td>34467.799999999996</td></tr><tr><td>Result Device</td><td>34453.46</td></tr><tr><td>Growth Item</td><td>34451.69</td></tr><tr><td>Sort Accessory</td><td>34440.8</td></tr><tr><td>Industry Device</td><td>34425.76999999999</td></tr><tr><td>Improve Gadget</td><td>34387.43000000001</td></tr><tr><td>Care Device</td><td>34365.32</td></tr><tr><td>Cup Device</td><td>34356.69</td></tr><tr><td>Recognize Item</td><td>34355.96</td></tr><tr><td>Budget Device</td><td>34347.94</td></tr><tr><td>Young Item</td><td>34332.58</td></tr><tr><td>By Item</td><td>34313.32</td></tr><tr><td>Bad Accessory</td><td>34266.880000000005</td></tr><tr><td>Hour Device</td><td>34236.83</td></tr><tr><td>Sometimes Device</td><td>34231.67</td></tr><tr><td>Push Gadget</td><td>34223.74</td></tr><tr><td>Option Gadget</td><td>34221.670000000006</td></tr><tr><td>No Gadget</td><td>34219.24</td></tr><tr><td>Remain Gadget</td><td>34205.7</td></tr><tr><td>Listen Gadget</td><td>34198.76</td></tr><tr><td>Career Device</td><td>34198.72</td></tr><tr><td>College Tool</td><td>34176.59</td></tr><tr><td>Crime Tool</td><td>34166.45</td></tr><tr><td>Each Item</td><td>34165.89</td></tr><tr><td>Turn Gadget</td><td>34161.130000000005</td></tr><tr><td>Subject Tool</td><td>34148.88</td></tr><tr><td>Final Device</td><td>34145.119999999995</td></tr><tr><td>Summer Item</td><td>34133.689999999995</td></tr><tr><td>Use Gadget</td><td>34132.89</td></tr><tr><td>Situation Tool</td><td>34131.68</td></tr><tr><td>Ready Gadget</td><td>34115.18</td></tr><tr><td>Cover Tool</td><td>34090.54</td></tr><tr><td>Trade Item</td><td>34067.25</td></tr><tr><td>Notice Accessory</td><td>34066.2</td></tr><tr><td>Cell Tool</td><td>34059.049999999996</td></tr><tr><td>Develop Accessory</td><td>34058.57000000001</td></tr><tr><td>Team Item</td><td>34051.31</td></tr><tr><td>Necessary Item</td><td>34029.4</td></tr><tr><td>Candidate Item</td><td>34025.85</td></tr><tr><td>About Accessory</td><td>34025.71</td></tr><tr><td>Specific Item</td><td>34005.8</td></tr><tr><td>Window Device</td><td>34002.73</td></tr><tr><td>Need Device</td><td>33995.91</td></tr><tr><td>Kid Gadget</td><td>33987.86</td></tr><tr><td>Establish Accessory</td><td>33987.68</td></tr><tr><td>Kid Device</td><td>33976.52</td></tr><tr><td>Learn Tool</td><td>33954.35</td></tr><tr><td>Plan Accessory</td><td>33951.29</td></tr><tr><td>Hundred Gadget</td><td>33946.23</td></tr><tr><td>Choose Item</td><td>33944.11</td></tr><tr><td>Six Tool</td><td>33940.19</td></tr><tr><td>Life Gadget</td><td>33924.21</td></tr><tr><td>Your Accessory</td><td>33914.54</td></tr><tr><td>Prove Item</td><td>33897.86</td></tr><tr><td>Measure Device</td><td>33891.979999999996</td></tr><tr><td>As Item</td><td>33885.119999999995</td></tr><tr><td>Suffer Accessory</td><td>33878.8</td></tr><tr><td>We Item</td><td>33873.05</td></tr><tr><td>Strong Accessory</td><td>33872.240000000005</td></tr><tr><td>That Tool</td><td>33867.57</td></tr><tr><td>Financial Accessory</td><td>33848.05</td></tr><tr><td>Scientist Gadget</td><td>33844.149999999994</td></tr><tr><td>City Item</td><td>33839.92</td></tr><tr><td>Often Gadget</td><td>33834.850000000006</td></tr><tr><td>Image Tool</td><td>33833.850000000006</td></tr><tr><td>Future Gadget</td><td>33824.35</td></tr><tr><td>Kitchen Device</td><td>33811.18000000001</td></tr><tr><td>Democrat Tool</td><td>33808.06</td></tr><tr><td>Relationship Item</td><td>33805.73</td></tr><tr><td>Religious Item</td><td>33802.22999999999</td></tr><tr><td>Herself Accessory</td><td>33796.45999999999</td></tr><tr><td>Car Accessory</td><td>33788.97000000001</td></tr><tr><td>Say Gadget</td><td>33781.55</td></tr><tr><td>Less Gadget</td><td>33756.189999999995</td></tr><tr><td>Away Tool</td><td>33753.88</td></tr><tr><td>Whose Item</td><td>33753.3</td></tr><tr><td>Remain Device</td><td>33744.700000000004</td></tr><tr><td>Sound Item</td><td>33735.1</td></tr><tr><td>Hour Accessory</td><td>33717.59</td></tr><tr><td>Claim Item</td><td>33715.14</td></tr><tr><td>Loss Gadget</td><td>33695.59</td></tr><tr><td>Big Accessory</td><td>33678.719999999994</td></tr><tr><td>Million Tool</td><td>33675.09</td></tr><tr><td>Hard Tool</td><td>33673.88</td></tr><tr><td>Remain Accessory</td><td>33660.03</td></tr><tr><td>Language Tool</td><td>33657.47</td></tr><tr><td>Fill Item</td><td>33655.34</td></tr><tr><td>Yeah Device</td><td>33647.05</td></tr><tr><td>Population Accessory</td><td>33643.79000000001</td></tr><tr><td>Risk Tool</td><td>33640.89</td></tr><tr><td>Head Gadget</td><td>33639.76000000001</td></tr><tr><td>Stuff Accessory</td><td>33635.14</td></tr><tr><td>Ground Device</td><td>33632.91</td></tr><tr><td>Leader Gadget</td><td>33632.5</td></tr><tr><td>Service Tool</td><td>33628.95999999999</td></tr><tr><td>Capital Tool</td><td>33628.84</td></tr><tr><td>Peace Accessory</td><td>33628.38</td></tr><tr><td>Help Item</td><td>33602.63</td></tr><tr><td>Walk Accessory</td><td>33596.69</td></tr><tr><td>Trouble Item</td><td>33595.229999999996</td></tr><tr><td>Free Tool</td><td>33577.94</td></tr><tr><td>Individual Tool</td><td>33565.86</td></tr><tr><td>Thing Tool</td><td>33558.1</td></tr><tr><td>Run Accessory</td><td>33552.950000000004</td></tr><tr><td>Culture Gadget</td><td>33552.85</td></tr><tr><td>Car Tool</td><td>33550.34</td></tr><tr><td>Somebody Accessory</td><td>33536.130000000005</td></tr><tr><td>Person Device</td><td>33526.54000000001</td></tr><tr><td>Sit Tool</td><td>33505.62000000001</td></tr><tr><td>Million Device</td><td>33495.670000000006</td></tr><tr><td>Too Item</td><td>33451.82</td></tr><tr><td>Market Device</td><td>33440.32000000001</td></tr><tr><td>Even Tool</td><td>33436.130000000005</td></tr><tr><td>Cut Gadget</td><td>33426.090000000004</td></tr><tr><td>Event Tool</td><td>33410.57</td></tr><tr><td>Idea Accessory</td><td>33394.57000000001</td></tr><tr><td>Painting Device</td><td>33379.51</td></tr><tr><td>Worker Tool</td><td>33359.75</td></tr><tr><td>Everyone Gadget</td><td>33355.67</td></tr><tr><td>Do Accessory</td><td>33330.92</td></tr><tr><td>Court Item</td><td>33315.659999999996</td></tr><tr><td>Teach Accessory</td><td>33303.729999999996</td></tr><tr><td>Movement Gadget</td><td>33297.020000000004</td></tr><tr><td>Per Gadget</td><td>33292.92</td></tr><tr><td>Author Gadget</td><td>33286.7</td></tr><tr><td>Forget Tool</td><td>33278.58</td></tr><tr><td>Own Tool</td><td>33276.170000000006</td></tr><tr><td>Expect Item</td><td>33271.579999999994</td></tr><tr><td>Receive Accessory</td><td>33268.619999999995</td></tr><tr><td>Pick Tool</td><td>33261.16</td></tr><tr><td>Four Tool</td><td>33231.49</td></tr><tr><td>Man Device</td><td>33223.52</td></tr><tr><td>Join Tool</td><td>33219.04</td></tr><tr><td>Test Device</td><td>33212.200000000004</td></tr><tr><td>Teach Gadget</td><td>33209.44</td></tr><tr><td>Him Tool</td><td>33195.799999999996</td></tr><tr><td>Action Accessory</td><td>33193.35</td></tr><tr><td>Act Item</td><td>33189.83</td></tr><tr><td>Usually Accessory</td><td>33186.42999999999</td></tr><tr><td>Maintain Gadget</td><td>33185.54</td></tr><tr><td>Rule Device</td><td>33183.74</td></tr><tr><td>Soldier Gadget</td><td>33168.29</td></tr><tr><td>Power Device</td><td>33146.27</td></tr><tr><td>Look Device</td><td>33144.7</td></tr><tr><td>Fear Accessory</td><td>33140.78</td></tr><tr><td>Floor Device</td><td>33133.26</td></tr><tr><td>Detail Accessory</td><td>33117.560000000005</td></tr><tr><td>Cause Gadget</td><td>33108.06999999999</td></tr><tr><td>Red Device</td><td>33106.86</td></tr><tr><td>Mean Gadget</td><td>33099.979999999996</td></tr><tr><td>Late Tool</td><td>33073.58</td></tr><tr><td>The Item</td><td>33069.409999999996</td></tr><tr><td>Fill Tool</td><td>33064.270000000004</td></tr><tr><td>Public Gadget</td><td>33062.06</td></tr><tr><td>Thus Device</td><td>33052.24</td></tr><tr><td>Member Device</td><td>33047.95</td></tr><tr><td>Reveal Gadget</td><td>33043.01</td></tr><tr><td>Up Accessory</td><td>33039.35</td></tr><tr><td>Rest Item</td><td>33033.07000000001</td></tr><tr><td>You Gadget</td><td>32996.38</td></tr><tr><td>Smile Item</td><td>32987.18</td></tr><tr><td>Production Tool</td><td>32985.619999999995</td></tr><tr><td>Nearly Accessory</td><td>32977.55</td></tr><tr><td>Listen Device</td><td>32972.39000000001</td></tr><tr><td>Help Device</td><td>32962.8</td></tr><tr><td>Training Accessory</td><td>32960.97</td></tr><tr><td>Fund Item</td><td>32958.579999999994</td></tr><tr><td>Professor Tool</td><td>32958.32</td></tr><tr><td>Hotel Accessory</td><td>32949.21000000001</td></tr><tr><td>Rest Device</td><td>32940.50000000001</td></tr><tr><td>Service Item</td><td>32936.1</td></tr><tr><td>Can Gadget</td><td>32934.55</td></tr><tr><td>Security Device</td><td>32932.97000000001</td></tr><tr><td>Become Device</td><td>32927.18</td></tr><tr><td>Score Gadget</td><td>32926.7</td></tr><tr><td>Business Tool</td><td>32918.37</td></tr><tr><td>Gun Device</td><td>32914.95</td></tr><tr><td>Certainly Accessory</td><td>32913.07</td></tr><tr><td>Challenge Accessory</td><td>32906.95</td></tr><tr><td>Southern Device</td><td>32905.77</td></tr><tr><td>Ask Accessory</td><td>32898.34</td></tr><tr><td>Factor Gadget</td><td>32893.88</td></tr><tr><td>Team Accessory</td><td>32890.4</td></tr><tr><td>According Accessory</td><td>32872.96</td></tr><tr><td>Speak Gadget</td><td>32872.55</td></tr><tr><td>Great Accessory</td><td>32835.78</td></tr><tr><td>Share Accessory</td><td>32828.85</td></tr><tr><td>Professional Tool</td><td>32812.2</td></tr><tr><td>Cultural Item</td><td>32790.26</td></tr><tr><td>Pick Gadget</td><td>32790.200000000004</td></tr><tr><td>Rich Gadget</td><td>32789.6</td></tr><tr><td>Past Item</td><td>32788.76</td></tr><tr><td>Occur Accessory</td><td>32774.700000000004</td></tr><tr><td>Young Device</td><td>32766.63</td></tr><tr><td>Whatever Tool</td><td>32761.83</td></tr><tr><td>Everyone Item</td><td>32756.050000000003</td></tr><tr><td>Music Tool</td><td>32747.610000000004</td></tr><tr><td>Work Accessory</td><td>32739.03</td></tr><tr><td>Peace Device</td><td>32725.33</td></tr><tr><td>His Item</td><td>32724.07</td></tr><tr><td>Goal Gadget</td><td>32713.940000000002</td></tr><tr><td>Increase Accessory</td><td>32712.369999999995</td></tr><tr><td>Figure Accessory</td><td>32704.59</td></tr><tr><td>Ever Tool</td><td>32704.55</td></tr><tr><td>Think Accessory</td><td>32694.73</td></tr><tr><td>Campaign Tool</td><td>32691.06</td></tr><tr><td>Gun Tool</td><td>32685.379999999997</td></tr><tr><td>Evidence Gadget</td><td>32678.800000000003</td></tr><tr><td>Speech Item</td><td>32666.66</td></tr><tr><td>Family Gadget</td><td>32654.780000000002</td></tr><tr><td>Institution Item</td><td>32643.76</td></tr><tr><td>Upon Item</td><td>32638.71</td></tr><tr><td>Team Gadget</td><td>32638.009999999995</td></tr><tr><td>Girl Item</td><td>32627.34999999999</td></tr><tr><td>Institution Device</td><td>32619.490000000005</td></tr><tr><td>Know Item</td><td>32619.109999999993</td></tr><tr><td>Clear Accessory</td><td>32617.719999999998</td></tr><tr><td>However Gadget</td><td>32614.769999999997</td></tr><tr><td>Kitchen Gadget</td><td>32606.780000000002</td></tr><tr><td>Eat Accessory</td><td>32605.18</td></tr><tr><td>Foot Device</td><td>32601.009999999995</td></tr><tr><td>Couple Item</td><td>32596.560000000005</td></tr><tr><td>Blood Device</td><td>32593.950000000004</td></tr><tr><td>Responsibility Accessory</td><td>32592.149999999994</td></tr><tr><td>Real Tool</td><td>32577.44</td></tr><tr><td>Attack Device</td><td>32567.980000000003</td></tr><tr><td>Present Accessory</td><td>32559.53</td></tr><tr><td>Many Accessory</td><td>32532.28</td></tr><tr><td>Since Device</td><td>32530.19</td></tr><tr><td>Those Accessory</td><td>32520.19</td></tr><tr><td>Treatment Tool</td><td>32520.0</td></tr><tr><td>Forget Device</td><td>32510.26000000001</td></tr><tr><td>Past Accessory</td><td>32508.820000000003</td></tr><tr><td>Game Item</td><td>32508.449999999997</td></tr><tr><td>Many Device</td><td>32508.130000000005</td></tr><tr><td>Easy Gadget</td><td>32507.26</td></tr><tr><td>Only Item</td><td>32505.300000000003</td></tr><tr><td>Machine Accessory</td><td>32487.940000000006</td></tr><tr><td>Free Accessory</td><td>32487.3</td></tr><tr><td>Chance Device</td><td>32480.3</td></tr><tr><td>Themselves Accessory</td><td>32462.449999999997</td></tr><tr><td>Total Tool</td><td>32461.62</td></tr><tr><td>Check Accessory</td><td>32458.079999999998</td></tr><tr><td>Happy Accessory</td><td>32445.019999999997</td></tr><tr><td>Center Device</td><td>32443.78</td></tr><tr><td>Hear Accessory</td><td>32443.35</td></tr><tr><td>Upon Accessory</td><td>32429.14</td></tr><tr><td>Rich Device</td><td>32414.190000000002</td></tr><tr><td>Cell Gadget</td><td>32385.730000000003</td></tr><tr><td>Region Device</td><td>32376.719999999994</td></tr><tr><td>No Tool</td><td>32371.67</td></tr><tr><td>Economy Accessory</td><td>32360.919999999995</td></tr><tr><td>Poor Device</td><td>32331.209999999995</td></tr><tr><td>Leg Tool</td><td>32320.169999999995</td></tr><tr><td>Grow Device</td><td>32315.03</td></tr><tr><td>Method Accessory</td><td>32302.69</td></tr><tr><td>Campaign Gadget</td><td>32302.39</td></tr><tr><td>Land Device</td><td>32294.289999999997</td></tr><tr><td>Key Device</td><td>32292.12</td></tr><tr><td>Business Gadget</td><td>32280.910000000003</td></tr><tr><td>Present Gadget</td><td>32278.220000000005</td></tr><tr><td>Method Tool</td><td>32274.9</td></tr><tr><td>Environmental Accessory</td><td>32262.539999999997</td></tr><tr><td>Election Accessory</td><td>32257.1</td></tr><tr><td>Relate Item</td><td>32248.659999999996</td></tr><tr><td>Price Device</td><td>32247.16</td></tr><tr><td>May Accessory</td><td>32244.030000000002</td></tr><tr><td>Very Accessory</td><td>32243.070000000007</td></tr><tr><td>Adult Gadget</td><td>32236.130000000005</td></tr><tr><td>Under Device</td><td>32215.41</td></tr><tr><td>Reduce Device</td><td>32202.409999999996</td></tr><tr><td>Born Item</td><td>32201.37</td></tr><tr><td>Before Accessory</td><td>32186.519999999997</td></tr><tr><td>From Tool</td><td>32175.38</td></tr><tr><td>Something Accessory</td><td>32174.44</td></tr><tr><td>Size Device</td><td>32173.739999999998</td></tr><tr><td>Fast Tool</td><td>32163.93</td></tr><tr><td>Party Item</td><td>32162.17</td></tr><tr><td>Action Item</td><td>32155.77</td></tr><tr><td>Off Device</td><td>32155.500000000004</td></tr><tr><td>Scientist Item</td><td>32149.41</td></tr><tr><td>True Tool</td><td>32141.769999999997</td></tr><tr><td>Would Device</td><td>32132.509999999995</td></tr><tr><td>Effect Gadget</td><td>32128.88</td></tr><tr><td>Concern Tool</td><td>32128.469999999998</td></tr><tr><td>Again Device</td><td>32121.16</td></tr><tr><td>South Tool</td><td>32118.480000000003</td></tr><tr><td>Race Device</td><td>32114.920000000006</td></tr><tr><td>New Gadget</td><td>32101.559999999994</td></tr><tr><td>Soldier Device</td><td>32093.400000000005</td></tr><tr><td>Field Accessory</td><td>32080.73</td></tr><tr><td>Country Accessory</td><td>32072.109999999997</td></tr><tr><td>Current Device</td><td>32066.94</td></tr><tr><td>Sometimes Tool</td><td>32059.65</td></tr><tr><td>Arrive Gadget</td><td>32057.06</td></tr><tr><td>Assume Device</td><td>32056.56</td></tr><tr><td>Quality Gadget</td><td>32055.440000000006</td></tr><tr><td>Good Gadget</td><td>32043.800000000003</td></tr><tr><td>Standard Device</td><td>32043.06</td></tr><tr><td>Crime Item</td><td>32040.170000000006</td></tr><tr><td>Friend Accessory</td><td>32037.97</td></tr><tr><td>Around Device</td><td>32035.71</td></tr><tr><td>Back Gadget</td><td>32033.480000000003</td></tr><tr><td>Question Device</td><td>32031.6</td></tr><tr><td>Fight Tool</td><td>32026.84</td></tr><tr><td>Party Device</td><td>32026.110000000004</td></tr><tr><td>Five Tool</td><td>32025.420000000002</td></tr><tr><td>Address Gadget</td><td>32006.57</td></tr><tr><td>Yourself Gadget</td><td>31953.189999999995</td></tr><tr><td>Beyond Accessory</td><td>31935.06</td></tr><tr><td>Pass Device</td><td>31932.189999999995</td></tr><tr><td>Among Item</td><td>31926.420000000002</td></tr><tr><td>Worry Device</td><td>31918.440000000002</td></tr><tr><td>Put Device</td><td>31910.869999999995</td></tr><tr><td>Mind Item</td><td>31896.6</td></tr><tr><td>Station Device</td><td>31886.54</td></tr><tr><td>Study Item</td><td>31882.439999999995</td></tr><tr><td>Why Item</td><td>31881.739999999998</td></tr><tr><td>Area Gadget</td><td>31865.589999999997</td></tr><tr><td>Environmental Item</td><td>31864.13</td></tr><tr><td>Role Gadget</td><td>31860.930000000004</td></tr><tr><td>Fish Gadget</td><td>31850.03</td></tr><tr><td>Forget Gadget</td><td>31845.98</td></tr><tr><td>Among Device</td><td>31845.97</td></tr><tr><td>Field Item</td><td>31843.229999999996</td></tr><tr><td>That Item</td><td>31840.350000000002</td></tr><tr><td>Society Accessory</td><td>31834.45</td></tr><tr><td>President Tool</td><td>31832.319999999996</td></tr><tr><td>Court Accessory</td><td>31805.24</td></tr><tr><td>Your Item</td><td>31792.449999999997</td></tr><tr><td>Trial Accessory</td><td>31790.110000000004</td></tr><tr><td>Plan Device</td><td>31788.060000000005</td></tr><tr><td>Dinner Tool</td><td>31766.999999999996</td></tr><tr><td>Fact Item</td><td>31766.84</td></tr><tr><td>System Accessory</td><td>31763.55</td></tr><tr><td>Level Item</td><td>31760.090000000004</td></tr><tr><td>Coach Device</td><td>31746.430000000004</td></tr><tr><td>Not Accessory</td><td>31745.620000000003</td></tr><tr><td>Ground Item</td><td>31736.69</td></tr><tr><td>Join Item</td><td>31736.15</td></tr><tr><td>Low Tool</td><td>31736.030000000002</td></tr><tr><td>Early Tool</td><td>31730.73</td></tr><tr><td>Street Item</td><td>31722.549999999996</td></tr><tr><td>General Accessory</td><td>31708.71</td></tr><tr><td>Once Accessory</td><td>31702.03</td></tr><tr><td>Bag Device</td><td>31700.55</td></tr><tr><td>Attention Device</td><td>31699.120000000003</td></tr><tr><td>Number Tool</td><td>31697.6</td></tr><tr><td>Another Tool</td><td>31696.599999999995</td></tr><tr><td>Theory Tool</td><td>31696.540000000005</td></tr><tr><td>Fund Gadget</td><td>31686.7</td></tr><tr><td>Light Item</td><td>31671.04</td></tr><tr><td>Reason Item</td><td>31669.32</td></tr><tr><td>Road Gadget</td><td>31655.829999999994</td></tr><tr><td>Pass Accessory</td><td>31651.14</td></tr><tr><td>Moment Device</td><td>31650.899999999994</td></tr><tr><td>Memory Gadget</td><td>31624.910000000003</td></tr><tr><td>Imagine Device</td><td>31606.69</td></tr><tr><td>Two Accessory</td><td>31598.25</td></tr><tr><td>After Item</td><td>31580.589999999997</td></tr><tr><td>Own Device</td><td>31571.46</td></tr><tr><td>Ok Tool</td><td>31567.290000000005</td></tr><tr><td>Shake Gadget</td><td>31557.000000000004</td></tr><tr><td>Require Accessory</td><td>31532.14</td></tr><tr><td>Debate Accessory</td><td>31532.03</td></tr><tr><td>Between Device</td><td>31531.68</td></tr><tr><td>Natural Device</td><td>31526.450000000004</td></tr><tr><td>Forward Device</td><td>31519.039999999997</td></tr><tr><td>Common Item</td><td>31518.25</td></tr><tr><td>Daughter Gadget</td><td>31516.04</td></tr><tr><td>Kid Accessory</td><td>31514.390000000003</td></tr><tr><td>Board Item</td><td>31500.89</td></tr><tr><td>Range Device</td><td>31499.0</td></tr><tr><td>Large Tool</td><td>31477.029999999995</td></tr><tr><td>Eye Accessory</td><td>31468.539999999997</td></tr><tr><td>Home Item</td><td>31467.32</td></tr><tr><td>Seven Device</td><td>31458.059999999998</td></tr><tr><td>Half Tool</td><td>31457.62</td></tr><tr><td>Finish Tool</td><td>31444.9</td></tr><tr><td>Foreign Tool</td><td>31444.289999999997</td></tr><tr><td>Light Device</td><td>31440.890000000003</td></tr><tr><td>Usually Device</td><td>31438.48</td></tr><tr><td>Might Gadget</td><td>31436.4</td></tr><tr><td>Between Item</td><td>31429.100000000002</td></tr><tr><td>Into Tool</td><td>31425.029999999995</td></tr><tr><td>Today Device</td><td>31423.839999999997</td></tr><tr><td>Take Gadget</td><td>31416.07</td></tr><tr><td>Center Item</td><td>31407.85</td></tr><tr><td>Type Device</td><td>31398.08</td></tr><tr><td>Executive Accessory</td><td>31396.25</td></tr><tr><td>End Device</td><td>31392.29</td></tr><tr><td>Race Tool</td><td>31389.25</td></tr><tr><td>Finish Gadget</td><td>31382.749999999993</td></tr><tr><td>Computer Item</td><td>31382.739999999998</td></tr><tr><td>Fish Accessory</td><td>31375.320000000003</td></tr><tr><td>Because Device</td><td>31373.29</td></tr><tr><td>Goal Accessory</td><td>31367.83</td></tr><tr><td>Activity Device</td><td>31363.500000000007</td></tr><tr><td>Dinner Item</td><td>31359.25</td></tr><tr><td>This Accessory</td><td>31357.04</td></tr><tr><td>Success Device</td><td>31356.18</td></tr><tr><td>Bill Item</td><td>31351.289999999994</td></tr><tr><td>Often Tool</td><td>31339.87</td></tr><tr><td>Wear Device</td><td>31317.899999999998</td></tr><tr><td>Some Gadget</td><td>31302.659999999996</td></tr><tr><td>Whole Accessory</td><td>31287.86</td></tr><tr><td>Exactly Tool</td><td>31280.210000000003</td></tr><tr><td>Its Accessory</td><td>31269.910000000007</td></tr><tr><td>Occur Tool</td><td>31262.34</td></tr><tr><td>Measure Gadget</td><td>31255.739999999998</td></tr><tr><td>Important Gadget</td><td>31251.600000000002</td></tr><tr><td>Yard Gadget</td><td>31245.939999999995</td></tr><tr><td>Free Item</td><td>31228.329999999998</td></tr><tr><td>Win Device</td><td>31224.469999999998</td></tr><tr><td>Point Gadget</td><td>31223.08</td></tr><tr><td>Quite Item</td><td>31221.390000000007</td></tr><tr><td>Positive Gadget</td><td>31205.450000000004</td></tr><tr><td>South Accessory</td><td>31204.510000000002</td></tr><tr><td>Wide Tool</td><td>31181.039999999997</td></tr><tr><td>Matter Gadget</td><td>31178.13</td></tr><tr><td>Son Tool</td><td>31174.73</td></tr><tr><td>Reduce Item</td><td>31174.66</td></tr><tr><td>Age Accessory</td><td>31170.690000000002</td></tr><tr><td>Understand Accessory</td><td>31162.359999999997</td></tr><tr><td>Or Device</td><td>31157.0</td></tr><tr><td>For Device</td><td>31150.310000000005</td></tr><tr><td>Measure Tool</td><td>31145.64</td></tr><tr><td>Prove Device</td><td>31137.98</td></tr><tr><td>Standard Gadget</td><td>31131.739999999998</td></tr><tr><td>Next Gadget</td><td>31120.120000000003</td></tr><tr><td>As Gadget</td><td>31109.15</td></tr><tr><td>Through Device</td><td>31108.57</td></tr><tr><td>Every Tool</td><td>31107.42</td></tr><tr><td>Begin Device</td><td>31098.329999999994</td></tr><tr><td>Hope Device</td><td>31092.71</td></tr><tr><td>Service Gadget</td><td>31086.33</td></tr><tr><td>Shoulder Gadget</td><td>31085.409999999996</td></tr><tr><td>Year Item</td><td>31083.390000000003</td></tr><tr><td>Of Accessory</td><td>31065.620000000003</td></tr><tr><td>Last Accessory</td><td>31065.44</td></tr><tr><td>Thus Gadget</td><td>31055.55</td></tr><tr><td>Idea Tool</td><td>31053.789999999997</td></tr><tr><td>Ahead Tool</td><td>31044.660000000003</td></tr><tr><td>Writer Gadget</td><td>31020.02</td></tr><tr><td>Present Tool</td><td>31000.450000000004</td></tr><tr><td>Economy Item</td><td>30991.57</td></tr><tr><td>Nature Gadget</td><td>30987.32</td></tr><tr><td>Chance Item</td><td>30986.720000000005</td></tr><tr><td>Sort Device</td><td>30981.46</td></tr><tr><td>Sea Gadget</td><td>30964.97</td></tr><tr><td>Now Item</td><td>30958.30000000001</td></tr><tr><td>To Tool</td><td>30953.82</td></tr><tr><td>Put Accessory</td><td>30952.879999999997</td></tr><tr><td>Way Device</td><td>30951.160000000007</td></tr><tr><td>Trial Device</td><td>30935.42</td></tr><tr><td>Take Accessory</td><td>30934.519999999997</td></tr><tr><td>Coach Tool</td><td>30926.25</td></tr><tr><td>Other Item</td><td>30924.679999999997</td></tr><tr><td>Interest Item</td><td>30909.429999999997</td></tr><tr><td>Window Gadget</td><td>30894.350000000002</td></tr><tr><td>Day Gadget</td><td>30858.76</td></tr><tr><td>Media Item</td><td>30853.1</td></tr><tr><td>Military Tool</td><td>30847.589999999997</td></tr><tr><td>Image Accessory</td><td>30829.49</td></tr><tr><td>Perform Tool</td><td>30826.78</td></tr><tr><td>During Accessory</td><td>30820.019999999997</td></tr><tr><td>Expect Tool</td><td>30818.449999999997</td></tr><tr><td>Others Device</td><td>30803.45</td></tr><tr><td>By Device</td><td>30797.0</td></tr><tr><td>Resource Item</td><td>30790.39</td></tr><tr><td>Imagine Tool</td><td>30786.29</td></tr><tr><td>Several Tool</td><td>30782.43</td></tr><tr><td>Less Device</td><td>30778.98</td></tr><tr><td>Apply Gadget</td><td>30777.15</td></tr><tr><td>Whom Accessory</td><td>30754.249999999996</td></tr><tr><td>Particular Device</td><td>30742.489999999998</td></tr><tr><td>Sit Accessory</td><td>30738.88</td></tr><tr><td>Us Accessory</td><td>30731.55</td></tr><tr><td>Watch Accessory</td><td>30730.690000000002</td></tr><tr><td>International Device</td><td>30721.07</td></tr><tr><td>Best Accessory</td><td>30716.309999999998</td></tr><tr><td>Find Gadget</td><td>30715.800000000003</td></tr><tr><td>Civil Tool</td><td>30709.770000000004</td></tr><tr><td>Reveal Tool</td><td>30693.589999999997</td></tr><tr><td>Pick Item</td><td>30689.550000000003</td></tr><tr><td>Plant Device</td><td>30689.000000000004</td></tr><tr><td>Heavy Accessory</td><td>30678.989999999998</td></tr><tr><td>Certain Gadget</td><td>30673.0</td></tr><tr><td>Not Item</td><td>30652.350000000002</td></tr><tr><td>Manager Gadget</td><td>30649.180000000008</td></tr><tr><td>Religious Device</td><td>30648.91</td></tr><tr><td>Exist Accessory</td><td>30647.04</td></tr><tr><td>Manage Accessory</td><td>30623.76</td></tr><tr><td>Necessary Tool</td><td>30616.499999999996</td></tr><tr><td>Recognize Device</td><td>30615.55</td></tr><tr><td>Reveal Device</td><td>30612.64</td></tr><tr><td>Successful Device</td><td>30610.82</td></tr><tr><td>Law Item</td><td>30601.32</td></tr><tr><td>Organization Gadget</td><td>30598.06</td></tr><tr><td>Seat Gadget</td><td>30595.959999999995</td></tr><tr><td>Experience Gadget</td><td>30582.840000000004</td></tr><tr><td>Ago Accessory</td><td>30580.43</td></tr><tr><td>Beyond Item</td><td>30578.100000000002</td></tr><tr><td>Section Gadget</td><td>30562.49</td></tr><tr><td>Produce Item</td><td>30544.049999999996</td></tr><tr><td>Service Device</td><td>30531.6</td></tr><tr><td>Bar Item</td><td>30529.660000000003</td></tr><tr><td>Value Device</td><td>30528.510000000002</td></tr><tr><td>Friend Gadget</td><td>30528.22</td></tr><tr><td>Myself Gadget</td><td>30526.910000000003</td></tr><tr><td>Understand Gadget</td><td>30519.95</td></tr><tr><td>Necessary Gadget</td><td>30514.32</td></tr><tr><td>Best Tool</td><td>30503.43</td></tr><tr><td>Share Item</td><td>30498.71</td></tr><tr><td>Hear Gadget</td><td>30484.45</td></tr><tr><td>Western Accessory</td><td>30483.8</td></tr><tr><td>Visit Accessory</td><td>30482.02</td></tr><tr><td>Open Tool</td><td>30478.890000000003</td></tr><tr><td>Professional Device</td><td>30467.850000000002</td></tr><tr><td>Before Item</td><td>30457.790000000005</td></tr><tr><td>Article Item</td><td>30449.199999999997</td></tr><tr><td>Process Accessory</td><td>30446.920000000002</td></tr><tr><td>Police Accessory</td><td>30443.540000000005</td></tr><tr><td>Reality Device</td><td>30419.199999999997</td></tr><tr><td>Ever Accessory</td><td>30414.67</td></tr><tr><td>Large Item</td><td>30412.399999999994</td></tr><tr><td>Fly Gadget</td><td>30401.79</td></tr><tr><td>Owner Accessory</td><td>30398.65</td></tr><tr><td>Meet Tool</td><td>30395.92</td></tr><tr><td>Soon Gadget</td><td>30393.43</td></tr><tr><td>Guess Tool</td><td>30384.44</td></tr><tr><td>Open Item</td><td>30383.850000000006</td></tr><tr><td>Administration Accessory</td><td>30383.46</td></tr><tr><td>Bed Gadget</td><td>30382.11</td></tr><tr><td>Near Item</td><td>30378.67</td></tr><tr><td>Throw Item</td><td>30369.93</td></tr><tr><td>But Accessory</td><td>30367.45</td></tr><tr><td>Want Gadget</td><td>30365.04</td></tr><tr><td>Where Tool</td><td>30358.069999999996</td></tr><tr><td>Late Accessory</td><td>30352.1</td></tr><tr><td>Similar Tool</td><td>30348.659999999996</td></tr><tr><td>Expert Tool</td><td>30336.64</td></tr><tr><td>Item Item</td><td>30332.089999999997</td></tr><tr><td>Production Accessory</td><td>30331.01000000001</td></tr><tr><td>Accept Gadget</td><td>30327.69</td></tr><tr><td>Role Tool</td><td>30319.17</td></tr><tr><td>Scientist Accessory</td><td>30318.55</td></tr><tr><td>Beyond Tool</td><td>30316.85</td></tr><tr><td>Senior Gadget</td><td>30304.83</td></tr><tr><td>Program Device</td><td>30296.949999999997</td></tr><tr><td>Field Gadget</td><td>30284.809999999998</td></tr><tr><td>Area Device</td><td>30284.639999999996</td></tr><tr><td>Century Device</td><td>30283.61</td></tr><tr><td>Candidate Tool</td><td>30281.809999999998</td></tr><tr><td>Third Accessory</td><td>30279.57</td></tr><tr><td>Region Item</td><td>30275.799999999996</td></tr><tr><td>Key Tool</td><td>30271.659999999996</td></tr><tr><td>Kitchen Tool</td><td>30267.55</td></tr><tr><td>Suffer Device</td><td>30260.4</td></tr><tr><td>Almost Item</td><td>30231.950000000008</td></tr><tr><td>Prove Accessory</td><td>30230.240000000005</td></tr><tr><td>Agency Item</td><td>30218.62</td></tr><tr><td>Follow Gadget</td><td>30215.32</td></tr><tr><td>Special Gadget</td><td>30198.91</td></tr><tr><td>Top Gadget</td><td>30192.81</td></tr><tr><td>Under Gadget</td><td>30185.010000000002</td></tr><tr><td>Stage Accessory</td><td>30159.71</td></tr><tr><td>Relate Tool</td><td>30157.339999999997</td></tr><tr><td>Check Gadget</td><td>30141.72</td></tr><tr><td>Investment Tool</td><td>30135.159999999996</td></tr><tr><td>Fall Tool</td><td>30132.18</td></tr><tr><td>House Item</td><td>30131.42</td></tr><tr><td>Response Tool</td><td>30125.760000000002</td></tr><tr><td>Parent Gadget</td><td>30123.510000000002</td></tr><tr><td>Ball Gadget</td><td>30122.730000000003</td></tr><tr><td>Crime Accessory</td><td>30119.24</td></tr><tr><td>Authority Device</td><td>30111.43</td></tr><tr><td>Like Gadget</td><td>30104.57</td></tr><tr><td>Find Item</td><td>30100.61</td></tr><tr><td>Stop Accessory</td><td>30100.000000000004</td></tr><tr><td>Outside Device</td><td>30092.28</td></tr><tr><td>Civil Device</td><td>30092.080000000005</td></tr><tr><td>Analysis Gadget</td><td>30091.859999999993</td></tr><tr><td>Week Gadget</td><td>30091.39000000001</td></tr><tr><td>And Tool</td><td>30083.89</td></tr><tr><td>Off Accessory</td><td>30079.050000000003</td></tr><tr><td>Really Accessory</td><td>30074.8</td></tr><tr><td>So Gadget</td><td>30065.050000000003</td></tr><tr><td>Answer Accessory</td><td>30061.120000000003</td></tr><tr><td>Population Gadget</td><td>30060.490000000005</td></tr><tr><td>Rate Device</td><td>30041.949999999997</td></tr><tr><td>Sense Gadget</td><td>30028.81</td></tr><tr><td>Scientist Device</td><td>30010.96</td></tr><tr><td>Herself Item</td><td>30010.5</td></tr><tr><td>Strong Device</td><td>30006.409999999996</td></tr><tr><td>Deep Tool</td><td>30000.560000000005</td></tr><tr><td>Point Item</td><td>29999.809999999998</td></tr><tr><td>Friend Device</td><td>29995.59</td></tr><tr><td>Turn Item</td><td>29989.51</td></tr><tr><td>Too Device</td><td>29988.739999999998</td></tr><tr><td>Piece Device</td><td>29988.280000000002</td></tr><tr><td>There Gadget</td><td>29985.479999999996</td></tr><tr><td>Attorney Accessory</td><td>29981.310000000005</td></tr><tr><td>Purpose Item</td><td>29968.09</td></tr><tr><td>Safe Device</td><td>29967.240000000005</td></tr><tr><td>Low Accessory</td><td>29945.909999999996</td></tr><tr><td>Along Item</td><td>29941.309999999998</td></tr><tr><td>Fight Item</td><td>29937.93</td></tr><tr><td>Fill Accessory</td><td>29932.300000000003</td></tr><tr><td>Space Gadget</td><td>29930.14</td></tr><tr><td>Practice Gadget</td><td>29929.6</td></tr><tr><td>Meet Device</td><td>29928.87</td></tr><tr><td>Clearly Gadget</td><td>29912.870000000003</td></tr><tr><td>More Gadget</td><td>29898.54</td></tr><tr><td>Authority Item</td><td>29892.809999999994</td></tr><tr><td>Behavior Gadget</td><td>29891.019999999997</td></tr><tr><td>Decision Gadget</td><td>29888.260000000006</td></tr><tr><td>Ahead Accessory</td><td>29883.910000000003</td></tr><tr><td>Quite Accessory</td><td>29883.190000000002</td></tr><tr><td>Behind Device</td><td>29880.940000000002</td></tr><tr><td>Stage Gadget</td><td>29875.870000000003</td></tr><tr><td>Remain Item</td><td>29865.809999999998</td></tr><tr><td>Stop Device</td><td>29863.969999999998</td></tr><tr><td>Memory Device</td><td>29854.979999999996</td></tr><tr><td>Range Item</td><td>29850.210000000003</td></tr><tr><td>Their Device</td><td>29840.1</td></tr><tr><td>School Item</td><td>29835.000000000007</td></tr><tr><td>Ago Gadget</td><td>29832.679999999997</td></tr><tr><td>Letter Tool</td><td>29828.41</td></tr><tr><td>Huge Gadget</td><td>29820.520000000004</td></tr><tr><td>Toward Accessory</td><td>29813.540000000005</td></tr><tr><td>Always Gadget</td><td>29809.22</td></tr><tr><td>Onto Gadget</td><td>29799.239999999998</td></tr><tr><td>You Item</td><td>29795.540000000005</td></tr><tr><td>Century Gadget</td><td>29794.839999999997</td></tr><tr><td>Entire Item</td><td>29782.75</td></tr><tr><td>Hand Tool</td><td>29779.260000000002</td></tr><tr><td>Fast Accessory</td><td>29777.170000000002</td></tr><tr><td>Marriage Accessory</td><td>29777.090000000004</td></tr><tr><td>Police Gadget</td><td>29766.260000000002</td></tr><tr><td>I Accessory</td><td>29757.710000000006</td></tr><tr><td>Media Device</td><td>29756.77999999999</td></tr><tr><td>Commercial Accessory</td><td>29743.6</td></tr><tr><td>Career Gadget</td><td>29742.230000000003</td></tr><tr><td>Face Accessory</td><td>29738.57</td></tr><tr><td>Task Gadget</td><td>29720.18</td></tr><tr><td>Billion Item</td><td>29719.80999999999</td></tr><tr><td>Loss Accessory</td><td>29690.020000000004</td></tr><tr><td>Fight Device</td><td>29676.68</td></tr><tr><td>Parent Accessory</td><td>29650.190000000006</td></tr><tr><td>Air Tool</td><td>29649.1</td></tr><tr><td>Tv Tool</td><td>29646.600000000006</td></tr><tr><td>Local Accessory</td><td>29639.030000000002</td></tr><tr><td>Only Device</td><td>29639.010000000006</td></tr><tr><td>Tree Item</td><td>29626.06</td></tr><tr><td>Shoulder Device</td><td>29622.35</td></tr><tr><td>Six Device</td><td>29617.449999999997</td></tr><tr><td>Key Gadget</td><td>29608.49</td></tr><tr><td>Large Accessory</td><td>29604.11</td></tr><tr><td>Much Tool</td><td>29601.88</td></tr><tr><td>Two Tool</td><td>29600.579999999998</td></tr><tr><td>Draw Accessory</td><td>29595.690000000002</td></tr><tr><td>Civil Accessory</td><td>29594.339999999997</td></tr><tr><td>Today Tool</td><td>29588.219999999998</td></tr><tr><td>Base Device</td><td>29579.18</td></tr><tr><td>Tough Item</td><td>29576.550000000003</td></tr><tr><td>Create Accessory</td><td>29571.850000000002</td></tr><tr><td>Statement Item</td><td>29565.829999999998</td></tr><tr><td>Ever Device</td><td>29555.57</td></tr><tr><td>Early Gadget</td><td>29550.3</td></tr><tr><td>Use Accessory</td><td>29542.660000000003</td></tr><tr><td>Natural Tool</td><td>29537.18</td></tr><tr><td>Cold Item</td><td>29537.04</td></tr><tr><td>Organization Tool</td><td>29534.659999999996</td></tr><tr><td>Never Device</td><td>29528.02</td></tr><tr><td>Blood Item</td><td>29511.189999999995</td></tr><tr><td>Job Device</td><td>29509.379999999997</td></tr><tr><td>Rise Device</td><td>29504.41</td></tr><tr><td>Modern Item</td><td>29504.359999999993</td></tr><tr><td>Boy Gadget</td><td>29503.25</td></tr><tr><td>Official Device</td><td>29502.31</td></tr><tr><td>Send Item</td><td>29499.99</td></tr><tr><td>Personal Item</td><td>29498.909999999996</td></tr><tr><td>Know Device</td><td>29496.659999999996</td></tr><tr><td>Year Device</td><td>29482.87</td></tr><tr><td>Nothing Tool</td><td>29468.809999999998</td></tr><tr><td>Spring Gadget</td><td>29465.670000000002</td></tr><tr><td>Word Item</td><td>29461.100000000002</td></tr><tr><td>Fact Device</td><td>29454.31</td></tr><tr><td>Rather Accessory</td><td>29447.8</td></tr><tr><td>Member Gadget</td><td>29416.67</td></tr><tr><td>What Device</td><td>29400.209999999995</td></tr><tr><td>Hospital Accessory</td><td>29390.1</td></tr><tr><td>Both Device</td><td>29388.22</td></tr><tr><td>Rate Accessory</td><td>29387.510000000002</td></tr><tr><td>Now Tool</td><td>29386.97</td></tr><tr><td>System Device</td><td>29384.86</td></tr><tr><td>Series Tool</td><td>29379.040000000005</td></tr><tr><td>Billion Gadget</td><td>29367.76</td></tr><tr><td>Watch Tool</td><td>29357.71</td></tr><tr><td>Generation Gadget</td><td>29351.410000000003</td></tr><tr><td>Whole Gadget</td><td>29349.36</td></tr><tr><td>Former Gadget</td><td>29343.0</td></tr><tr><td>Live Device</td><td>29342.58</td></tr><tr><td>Agreement Device</td><td>29330.630000000005</td></tr><tr><td>Program Item</td><td>29309.9</td></tr><tr><td>Film Device</td><td>29309.79</td></tr><tr><td>Officer Gadget</td><td>29305.049999999996</td></tr><tr><td>When Accessory</td><td>29300.87</td></tr><tr><td>Parent Tool</td><td>29297.67</td></tr><tr><td>Often Item</td><td>29294.690000000002</td></tr><tr><td>Run Item</td><td>29280.51</td></tr><tr><td>Move Device</td><td>29273.71</td></tr><tr><td>Season Gadget</td><td>29270.999999999993</td></tr><tr><td>Wall Accessory</td><td>29268.49</td></tr><tr><td>Call Item</td><td>29260.93</td></tr><tr><td>Worry Accessory</td><td>29260.439999999995</td></tr><tr><td>Lawyer Accessory</td><td>29254.720000000005</td></tr><tr><td>Environment Item</td><td>29249.9</td></tr><tr><td>Interest Device</td><td>29248.620000000003</td></tr><tr><td>Along Accessory</td><td>29247.079999999998</td></tr><tr><td>Full Tool</td><td>29247.049999999996</td></tr><tr><td>Mr Item</td><td>29246.660000000007</td></tr><tr><td>Lay Accessory</td><td>29243.120000000003</td></tr><tr><td>Run Gadget</td><td>29239.92</td></tr><tr><td>Everything Tool</td><td>29233.38</td></tr><tr><td>Event Accessory</td><td>29227.570000000003</td></tr><tr><td>Trial Gadget</td><td>29214.950000000004</td></tr><tr><td>Brother Tool</td><td>29212.58</td></tr><tr><td>Step Tool</td><td>29206.79</td></tr><tr><td>From Accessory</td><td>29202.009999999995</td></tr><tr><td>Economy Gadget</td><td>29201.719999999998</td></tr><tr><td>High Accessory</td><td>29197.09</td></tr><tr><td>Good Device</td><td>29190.65</td></tr><tr><td>Add Item</td><td>29189.929999999997</td></tr><tr><td>Similar Gadget</td><td>29181.989999999998</td></tr><tr><td>Why Accessory</td><td>29170.510000000002</td></tr><tr><td>Let Accessory</td><td>29147.85</td></tr><tr><td>Education Device</td><td>29144.4</td></tr><tr><td>Year Gadget</td><td>29141.87</td></tr><tr><td>Mean Item</td><td>29129.37</td></tr><tr><td>High Device</td><td>29123.590000000004</td></tr><tr><td>Window Item</td><td>29122.489999999998</td></tr><tr><td>Why Device</td><td>29121.989999999998</td></tr><tr><td>Account Item</td><td>29121.910000000003</td></tr><tr><td>Include Tool</td><td>29116.91</td></tr><tr><td>Different Device</td><td>29106.37</td></tr><tr><td>Same Device</td><td>29102.780000000002</td></tr><tr><td>Apply Accessory</td><td>29092.44</td></tr><tr><td>Suddenly Gadget</td><td>29092.039999999997</td></tr><tr><td>Action Tool</td><td>29089.400000000005</td></tr><tr><td>Know Accessory</td><td>29084.68</td></tr><tr><td>A Gadget</td><td>29073.97</td></tr><tr><td>Ball Tool</td><td>29073.440000000002</td></tr><tr><td>Phone Item</td><td>29069.800000000003</td></tr><tr><td>Manager Device</td><td>29069.500000000004</td></tr><tr><td>Product Device</td><td>29069.38</td></tr><tr><td>Wife Tool</td><td>29063.819999999992</td></tr><tr><td>Door Device</td><td>29062.010000000002</td></tr><tr><td>Reflect Tool</td><td>29058.579999999998</td></tr><tr><td>Art Device</td><td>29056.5</td></tr><tr><td>West Item</td><td>29055.6</td></tr><tr><td>Relate Gadget</td><td>29052.260000000002</td></tr><tr><td>Every Item</td><td>29045.050000000003</td></tr><tr><td>Health Item</td><td>29043.090000000004</td></tr><tr><td>Around Accessory</td><td>29030.440000000002</td></tr><tr><td>Itself Accessory</td><td>29027.560000000005</td></tr><tr><td>Myself Tool</td><td>29023.549999999996</td></tr><tr><td>Ball Accessory</td><td>29020.170000000002</td></tr><tr><td>Development Tool</td><td>29016.03</td></tr><tr><td>Prevent Device</td><td>29005.6</td></tr><tr><td>Plan Tool</td><td>29000.1</td></tr><tr><td>Really Device</td><td>28996.359999999997</td></tr><tr><td>Much Item</td><td>28996.09</td></tr><tr><td>Race Item</td><td>28989.84</td></tr><tr><td>Husband Accessory</td><td>28978.54</td></tr><tr><td>Total Device</td><td>28953.67</td></tr><tr><td>Tree Tool</td><td>28944.059999999998</td></tr><tr><td>Care Item</td><td>28936.359999999993</td></tr><tr><td>Spring Device</td><td>28932.51</td></tr><tr><td>Range Gadget</td><td>28929.89</td></tr><tr><td>Seven Gadget</td><td>28923.08</td></tr><tr><td>Campaign Accessory</td><td>28922.229999999996</td></tr><tr><td>High Gadget</td><td>28921.18</td></tr><tr><td>Anyone Device</td><td>28912.880000000005</td></tr><tr><td>Well Item</td><td>28912.71</td></tr><tr><td>Relationship Tool</td><td>28908.37</td></tr><tr><td>Garden Gadget</td><td>28896.25</td></tr><tr><td>Tend Tool</td><td>28889.469999999998</td></tr><tr><td>Hold Item</td><td>28879.649999999998</td></tr><tr><td>Animal Device</td><td>28861.2</td></tr><tr><td>Pay Accessory</td><td>28858.459999999995</td></tr><tr><td>Short Gadget</td><td>28847.04</td></tr><tr><td>Care Tool</td><td>28839.73</td></tr><tr><td>Set Accessory</td><td>28829.309999999998</td></tr><tr><td>Break Accessory</td><td>28827.71</td></tr><tr><td>Decide Item</td><td>28815.82</td></tr><tr><td>Military Item</td><td>28803.359999999997</td></tr><tr><td>Plant Tool</td><td>28798.049999999996</td></tr><tr><td>Write Item</td><td>28788.2</td></tr><tr><td>Go Accessory</td><td>28775.069999999996</td></tr><tr><td>Debate Device</td><td>28768.749999999996</td></tr><tr><td>Chair Device</td><td>28763.06</td></tr><tr><td>Show Item</td><td>28760.82</td></tr><tr><td>See Item</td><td>28744.97</td></tr><tr><td>Month Item</td><td>28739.85</td></tr><tr><td>Record Accessory</td><td>28733.659999999996</td></tr><tr><td>Physical Gadget</td><td>28721.3</td></tr><tr><td>Decade Device</td><td>28695.34</td></tr><tr><td>Try Accessory</td><td>28694.969999999998</td></tr><tr><td>Mouth Device</td><td>28671.530000000006</td></tr><tr><td>Over Item</td><td>28667.409999999993</td></tr><tr><td>Already Tool</td><td>28650.019999999997</td></tr><tr><td>Get Gadget</td><td>28646.859999999997</td></tr><tr><td>Value Item</td><td>28644.850000000006</td></tr><tr><td>Data Device</td><td>28638.529999999995</td></tr><tr><td>Agree Device</td><td>28633.530000000002</td></tr><tr><td>Serve Device</td><td>28619.289999999997</td></tr><tr><td>Author Tool</td><td>28617.089999999997</td></tr><tr><td>Job Item</td><td>28616.680000000004</td></tr><tr><td>Child Accessory</td><td>28612.140000000007</td></tr><tr><td>Price Tool</td><td>28605.129999999997</td></tr><tr><td>Approach Accessory</td><td>28602.590000000004</td></tr><tr><td>See Accessory</td><td>28593.050000000003</td></tr><tr><td>Keep Tool</td><td>28590.35</td></tr><tr><td>Address Device</td><td>28590.110000000008</td></tr><tr><td>Cost Tool</td><td>28588.229999999996</td></tr><tr><td>Source Device</td><td>28582.329999999998</td></tr><tr><td>High Tool</td><td>28578.55</td></tr><tr><td>Hospital Item</td><td>28562.18</td></tr><tr><td>Behind Item</td><td>28559.070000000003</td></tr><tr><td>Form Gadget</td><td>28541.420000000006</td></tr><tr><td>Listen Accessory</td><td>28529.359999999997</td></tr><tr><td>Great Tool</td><td>28523.97</td></tr><tr><td>Again Gadget</td><td>28493.989999999998</td></tr><tr><td>Majority Gadget</td><td>28491.97</td></tr><tr><td>Possible Gadget</td><td>28485.6</td></tr><tr><td>Recent Item</td><td>28480.99</td></tr><tr><td>Color Gadget</td><td>28463.91</td></tr><tr><td>Short Item</td><td>28462.249999999996</td></tr><tr><td>Natural Accessory</td><td>28444.370000000006</td></tr><tr><td>Foreign Accessory</td><td>28436.93</td></tr><tr><td>Shake Device</td><td>28428.959999999995</td></tr><tr><td>Head Tool</td><td>28420.93</td></tr><tr><td>Test Gadget</td><td>28417.33</td></tr><tr><td>Pretty Gadget</td><td>28415.290000000005</td></tr><tr><td>Surface Device</td><td>28403.670000000002</td></tr><tr><td>Role Item</td><td>28399.579999999998</td></tr><tr><td>Admit Accessory</td><td>28393.37</td></tr><tr><td>Reality Item</td><td>28381.6</td></tr><tr><td>Senior Accessory</td><td>28372.200000000004</td></tr><tr><td>Book Item</td><td>28364.8</td></tr><tr><td>Society Item</td><td>28364.200000000004</td></tr><tr><td>Difference Device</td><td>28354.25</td></tr><tr><td>Foot Tool</td><td>28352.170000000002</td></tr><tr><td>Tough Tool</td><td>28346.059999999998</td></tr><tr><td>Mean Accessory</td><td>28343.63</td></tr><tr><td>Operation Item</td><td>28338.339999999997</td></tr><tr><td>Treat Accessory</td><td>28315.510000000006</td></tr><tr><td>Actually Tool</td><td>28302.3</td></tr><tr><td>Discussion Tool</td><td>28291.91</td></tr><tr><td>Front Accessory</td><td>28272.4</td></tr><tr><td>Second Device</td><td>28220.53</td></tr><tr><td>Model Accessory</td><td>28219.07</td></tr><tr><td>Live Tool</td><td>28212.18</td></tr><tr><td>Mention Tool</td><td>28195.03</td></tr><tr><td>Daughter Item</td><td>28186.96</td></tr><tr><td>Speech Accessory</td><td>28181.619999999995</td></tr><tr><td>Property Gadget</td><td>28179.1</td></tr><tr><td>Yard Tool</td><td>28177.6</td></tr><tr><td>Air Gadget</td><td>28158.039999999997</td></tr><tr><td>Left Tool</td><td>28156.149999999998</td></tr><tr><td>Need Gadget</td><td>28146.629999999997</td></tr><tr><td>Suggest Tool</td><td>28136.309999999998</td></tr><tr><td>Walk Gadget</td><td>28132.469999999998</td></tr><tr><td>Probably Device</td><td>28120.32</td></tr><tr><td>Thought Gadget</td><td>28117.99</td></tr><tr><td>Style Item</td><td>28117.010000000002</td></tr><tr><td>Church Gadget</td><td>28112.78</td></tr><tr><td>Picture Gadget</td><td>28107.91</td></tr><tr><td>Mother Gadget</td><td>28106.639999999996</td></tr><tr><td>Newspaper Accessory</td><td>28101.780000000002</td></tr><tr><td>Tend Device</td><td>28088.870000000003</td></tr><tr><td>Hold Device</td><td>28086.43</td></tr><tr><td>Instead Gadget</td><td>28078.369999999995</td></tr><tr><td>Most Gadget</td><td>28076.84</td></tr><tr><td>Necessary Accessory</td><td>28072.32</td></tr><tr><td>Most Device</td><td>28071.86</td></tr><tr><td>Various Tool</td><td>28065.119999999995</td></tr><tr><td>Baby Accessory</td><td>28062.509999999995</td></tr><tr><td>Charge Tool</td><td>28061.08</td></tr><tr><td>Section Device</td><td>28051.71</td></tr><tr><td>Chance Gadget</td><td>28044.030000000002</td></tr><tr><td>Rule Item</td><td>28031.789999999997</td></tr><tr><td>Wear Item</td><td>28031.4</td></tr><tr><td>Home Device</td><td>28027.589999999997</td></tr><tr><td>Degree Gadget</td><td>28027.260000000002</td></tr><tr><td>Later Item</td><td>28025.410000000003</td></tr><tr><td>Continue Gadget</td><td>28024.260000000002</td></tr><tr><td>Age Gadget</td><td>28009.320000000003</td></tr><tr><td>Detail Gadget</td><td>27997.3</td></tr><tr><td>Those Gadget</td><td>27996.980000000003</td></tr><tr><td>Less Tool</td><td>27990.63</td></tr><tr><td>Market Item</td><td>27984.980000000003</td></tr><tr><td>Feel Device</td><td>27981.46</td></tr><tr><td>Assume Item</td><td>27966.920000000002</td></tr><tr><td>First Item</td><td>27966.36</td></tr><tr><td>Fire Tool</td><td>27953.21</td></tr><tr><td>Employee Gadget</td><td>27935.249999999996</td></tr><tr><td>Send Device</td><td>27918.870000000003</td></tr><tr><td>Firm Item</td><td>27918.409999999996</td></tr><tr><td>Southern Accessory</td><td>27915.700000000004</td></tr><tr><td>Issue Device</td><td>27910.74</td></tr><tr><td>Agreement Tool</td><td>27907.29</td></tr><tr><td>Fall Device</td><td>27905.560000000005</td></tr><tr><td>Example Accessory</td><td>27898.36</td></tr><tr><td>Visit Gadget</td><td>27897.77</td></tr><tr><td>Seek Tool</td><td>27897.339999999997</td></tr><tr><td>Name Tool</td><td>27873.460000000003</td></tr><tr><td>He Gadget</td><td>27866.350000000002</td></tr><tr><td>Hotel Gadget</td><td>27851.270000000004</td></tr><tr><td>Fast Item</td><td>27850.53</td></tr><tr><td>Young Tool</td><td>27841.359999999997</td></tr><tr><td>Grow Accessory</td><td>27838.579999999994</td></tr><tr><td>Behavior Tool</td><td>27837.43</td></tr><tr><td>Short Accessory</td><td>27836.309999999998</td></tr><tr><td>Evidence Item</td><td>27835.33</td></tr><tr><td>Whose Device</td><td>27826.92</td></tr><tr><td>Majority Item</td><td>27817.75</td></tr><tr><td>Memory Item</td><td>27816.260000000002</td></tr><tr><td>Level Device</td><td>27800.54</td></tr><tr><td>Could Tool</td><td>27797.920000000002</td></tr><tr><td>Myself Device</td><td>27794.249999999996</td></tr><tr><td>Stage Device</td><td>27792.91</td></tr><tr><td>Wish Item</td><td>27789.32</td></tr><tr><td>Local Item</td><td>27787.159999999996</td></tr><tr><td>Imagine Gadget</td><td>27779.440000000002</td></tr><tr><td>Development Gadget</td><td>27778.85</td></tr><tr><td>Trade Gadget</td><td>27776.56</td></tr><tr><td>Worker Device</td><td>27771.04</td></tr><tr><td>Great Device</td><td>27762.9</td></tr><tr><td>Live Item</td><td>27761.75</td></tr><tr><td>News Accessory</td><td>27761.600000000002</td></tr><tr><td>Collection Device</td><td>27758.30000000001</td></tr><tr><td>Chair Tool</td><td>27756.99</td></tr><tr><td>Choose Accessory</td><td>27751.97</td></tr><tr><td>Modern Device</td><td>27736.089999999997</td></tr><tr><td>Page Accessory</td><td>27732.199999999997</td></tr><tr><td>Natural Gadget</td><td>27728.260000000002</td></tr><tr><td>Human Item</td><td>27725.390000000007</td></tr><tr><td>Carry Device</td><td>27717.35</td></tr><tr><td>Decide Gadget</td><td>27697.77</td></tr><tr><td>Something Tool</td><td>27697.269999999997</td></tr><tr><td>Sign Tool</td><td>27693.39</td></tr><tr><td>Person Accessory</td><td>27688.359999999997</td></tr><tr><td>Through Item</td><td>27668.769999999997</td></tr><tr><td>Political Tool</td><td>27661.219999999998</td></tr><tr><td>Adult Tool</td><td>27656.300000000003</td></tr><tr><td>Lawyer Gadget</td><td>27641.4</td></tr><tr><td>Describe Accessory</td><td>27639.63</td></tr><tr><td>Financial Tool</td><td>27637.739999999998</td></tr><tr><td>Capital Accessory</td><td>27631.39</td></tr><tr><td>Type Gadget</td><td>27617.19</td></tr><tr><td>None Item</td><td>27607.229999999996</td></tr><tr><td>Entire Gadget</td><td>27596.379999999997</td></tr><tr><td>Forward Accessory</td><td>27588.600000000002</td></tr><tr><td>Especially Item</td><td>27586.57</td></tr><tr><td>Yes Accessory</td><td>27580.780000000002</td></tr><tr><td>Ready Tool</td><td>27580.629999999997</td></tr><tr><td>Miss Accessory</td><td>27580.010000000002</td></tr><tr><td>Close Tool</td><td>27564.130000000005</td></tr><tr><td>Drive Accessory</td><td>27562.289999999997</td></tr><tr><td>Figure Tool</td><td>27547.75</td></tr><tr><td>Garden Item</td><td>27545.630000000005</td></tr><tr><td>Page Item</td><td>27544.799999999996</td></tr><tr><td>Anyone Item</td><td>27534.87</td></tr><tr><td>Artist Tool</td><td>27529.440000000002</td></tr><tr><td>Region Tool</td><td>27515.769999999997</td></tr><tr><td>Suggest Device</td><td>27502.8</td></tr><tr><td>Area Item</td><td>27502.34</td></tr><tr><td>Budget Gadget</td><td>27500.0</td></tr><tr><td>Southern Gadget</td><td>27479.92</td></tr><tr><td>Their Tool</td><td>27478.110000000004</td></tr><tr><td>Property Device</td><td>27471.720000000005</td></tr><tr><td>Together Accessory</td><td>27469.4</td></tr><tr><td>Be Accessory</td><td>27465.789999999997</td></tr><tr><td>It Tool</td><td>27459.410000000003</td></tr><tr><td>Professor Accessory</td><td>27454.880000000005</td></tr><tr><td>Top Device</td><td>27440.530000000002</td></tr><tr><td>Book Tool</td><td>27434.960000000006</td></tr><tr><td>Part Tool</td><td>27422.059999999998</td></tr><tr><td>Safe Tool</td><td>27420.23</td></tr><tr><td>Far Gadget</td><td>27417.68</td></tr><tr><td>Shoulder Tool</td><td>27404.58</td></tr><tr><td>Down Item</td><td>27402.4</td></tr><tr><td>Couple Accessory</td><td>27400.880000000005</td></tr><tr><td>Action Device</td><td>27389.44</td></tr><tr><td>Night Accessory</td><td>27385.249999999996</td></tr><tr><td>Financial Item</td><td>27375.9</td></tr><tr><td>Huge Item</td><td>27373.909999999996</td></tr><tr><td>None Gadget</td><td>27369.649999999994</td></tr><tr><td>Expect Device</td><td>27367.35</td></tr><tr><td>Read Accessory</td><td>27363.009999999995</td></tr><tr><td>Enjoy Gadget</td><td>27361.22</td></tr><tr><td>Both Tool</td><td>27358.969999999998</td></tr><tr><td>School Gadget</td><td>27358.81</td></tr><tr><td>Example Tool</td><td>27357.680000000004</td></tr><tr><td>Art Item</td><td>27356.5</td></tr><tr><td>Game Accessory</td><td>27341.66</td></tr><tr><td>Indeed Gadget</td><td>27324.800000000003</td></tr><tr><td>Unit Accessory</td><td>27323.449999999997</td></tr><tr><td>Impact Gadget</td><td>27321.019999999997</td></tr><tr><td>Our Accessory</td><td>27313.609999999997</td></tr><tr><td>Claim Gadget</td><td>27305.480000000003</td></tr><tr><td>Science Gadget</td><td>27304.959999999995</td></tr><tr><td>Board Accessory</td><td>27280.91</td></tr><tr><td>Two Device</td><td>27278.800000000003</td></tr><tr><td>Benefit Accessory</td><td>27275.15</td></tr><tr><td>Interview Accessory</td><td>27249.460000000003</td></tr><tr><td>International Gadget</td><td>27245.399999999998</td></tr><tr><td>Meeting Tool</td><td>27237.490000000005</td></tr><tr><td>Remain Tool</td><td>27235.54</td></tr><tr><td>Difference Tool</td><td>27231.29</td></tr><tr><td>Old Tool</td><td>27227.300000000003</td></tr><tr><td>Others Accessory</td><td>27207.429999999997</td></tr><tr><td>Else Tool</td><td>27192.400000000005</td></tr><tr><td>Research Device</td><td>27190.96</td></tr><tr><td>Network Tool</td><td>27186.350000000002</td></tr><tr><td>Assume Gadget</td><td>27180.300000000003</td></tr><tr><td>Wide Device</td><td>27177.57</td></tr><tr><td>Side Gadget</td><td>27175.67</td></tr><tr><td>Head Accessory</td><td>27174.899999999998</td></tr><tr><td>Attack Accessory</td><td>27174.370000000003</td></tr><tr><td>Door Gadget</td><td>27171.059999999998</td></tr><tr><td>Conference Accessory</td><td>27148.6</td></tr><tr><td>Leg Accessory</td><td>27147.07</td></tr><tr><td>Modern Tool</td><td>27133.800000000003</td></tr><tr><td>Fish Tool</td><td>27126.74</td></tr><tr><td>Reach Tool</td><td>27126.149999999998</td></tr><tr><td>Green Device</td><td>27124.270000000004</td></tr><tr><td>Space Tool</td><td>27112.66</td></tr><tr><td>Suggest Item</td><td>27097.69</td></tr><tr><td>Wrong Tool</td><td>27089.6</td></tr><tr><td>Start Item</td><td>27081.829999999998</td></tr><tr><td>Sound Accessory</td><td>27078.520000000004</td></tr><tr><td>Person Tool</td><td>27067.95</td></tr><tr><td>Certain Item</td><td>27053.61</td></tr><tr><td>Others Tool</td><td>27052.780000000002</td></tr><tr><td>Girl Accessory</td><td>27050.95</td></tr><tr><td>Street Accessory</td><td>27046.46</td></tr><tr><td>Everybody Device</td><td>27031.379999999997</td></tr><tr><td>Rather Tool</td><td>27018.929999999997</td></tr><tr><td>Often Device</td><td>27016.53</td></tr><tr><td>Eat Device</td><td>27008.979999999996</td></tr><tr><td>True Item</td><td>27003.95</td></tr><tr><td>Miss Device</td><td>27002.46</td></tr><tr><td>No Accessory</td><td>26993.99</td></tr><tr><td>Never Tool</td><td>26990.559999999998</td></tr><tr><td>Production Item</td><td>26989.379999999997</td></tr><tr><td>Thus Accessory</td><td>26985.489999999994</td></tr><tr><td>Star Gadget</td><td>26983.8</td></tr><tr><td>A Accessory</td><td>26971.9</td></tr><tr><td>Report Tool</td><td>26953.95</td></tr><tr><td>Detail Tool</td><td>26948.7</td></tr><tr><td>American Gadget</td><td>26944.21</td></tr><tr><td>Skill Device</td><td>26941.82</td></tr><tr><td>From Device</td><td>26936.690000000006</td></tr><tr><td>Teacher Gadget</td><td>26933.12</td></tr><tr><td>Cost Device</td><td>26911.15</td></tr><tr><td>Score Device</td><td>26907.300000000003</td></tr><tr><td>Central Accessory</td><td>26901.309999999998</td></tr><tr><td>Above Accessory</td><td>26900.71</td></tr><tr><td>Professional Gadget</td><td>26894.8</td></tr><tr><td>We Device</td><td>26890.07</td></tr><tr><td>Firm Device</td><td>26886.639999999996</td></tr><tr><td>Century Accessory</td><td>26880.769999999997</td></tr><tr><td>Force Device</td><td>26875.270000000004</td></tr><tr><td>Seem Item</td><td>26875.260000000002</td></tr><tr><td>Dinner Accessory</td><td>26869.78</td></tr><tr><td>Customer Device</td><td>26866.05</td></tr><tr><td>Sport Gadget</td><td>26865.549999999996</td></tr><tr><td>Them Gadget</td><td>26851.700000000004</td></tr><tr><td>Project Gadget</td><td>26848.100000000002</td></tr><tr><td>Hear Device</td><td>26844.29</td></tr><tr><td>Level Accessory</td><td>26834.550000000003</td></tr><tr><td>Source Tool</td><td>26828.800000000003</td></tr><tr><td>Her Device</td><td>26822.92</td></tr><tr><td>Reflect Device</td><td>26821.57</td></tr><tr><td>Study Accessory</td><td>26818.94</td></tr><tr><td>Radio Gadget</td><td>26814.0</td></tr><tr><td>Half Gadget</td><td>26802.949999999993</td></tr><tr><td>We Gadget</td><td>26801.149999999994</td></tr><tr><td>Throughout Device</td><td>26794.49</td></tr><tr><td>Ground Accessory</td><td>26792.26</td></tr><tr><td>Move Gadget</td><td>26792.13</td></tr><tr><td>Mission Item</td><td>26787.590000000004</td></tr><tr><td>Sea Tool</td><td>26783.21</td></tr><tr><td>Whether Tool</td><td>26769.510000000002</td></tr><tr><td>Style Device</td><td>26763.460000000006</td></tr><tr><td>Performance Gadget</td><td>26761.639999999996</td></tr><tr><td>Talk Accessory</td><td>26759.8</td></tr><tr><td>Sit Item</td><td>26751.550000000003</td></tr><tr><td>Nation Gadget</td><td>26730.640000000003</td></tr><tr><td>Guess Item</td><td>26727.690000000002</td></tr><tr><td>Property Item</td><td>26721.54</td></tr><tr><td>Human Tool</td><td>26718.26</td></tr><tr><td>Protect Accessory</td><td>26714.729999999996</td></tr><tr><td>Across Tool</td><td>26691.659999999996</td></tr><tr><td>Officer Device</td><td>26687.129999999994</td></tr><tr><td>Toward Gadget</td><td>26685.339999999997</td></tr><tr><td>Without Device</td><td>26674.809999999998</td></tr><tr><td>Economy Tool</td><td>26667.42</td></tr><tr><td>Country Gadget</td><td>26658.440000000006</td></tr><tr><td>Red Tool</td><td>26649.2</td></tr><tr><td>Anyone Tool</td><td>26643.81</td></tr><tr><td>Race Gadget</td><td>26640.090000000004</td></tr><tr><td>Building Device</td><td>26620.060000000005</td></tr><tr><td>Within Gadget</td><td>26619.75</td></tr><tr><td>Contain Tool</td><td>26618.780000000006</td></tr><tr><td>Learn Accessory</td><td>26612.149999999998</td></tr><tr><td>Take Device</td><td>26608.519999999997</td></tr><tr><td>Successful Item</td><td>26592.11</td></tr><tr><td>Show Tool</td><td>26583.54</td></tr><tr><td>Everybody Item</td><td>26575.520000000004</td></tr><tr><td>Society Gadget</td><td>26572.35</td></tr><tr><td>Oil Tool</td><td>26560.83</td></tr><tr><td>Sometimes Item</td><td>26559.579999999998</td></tr><tr><td>Together Device</td><td>26545.03</td></tr><tr><td>Activity Tool</td><td>26525.57</td></tr><tr><td>In Gadget</td><td>26524.61</td></tr><tr><td>Ability Accessory</td><td>26522.39</td></tr><tr><td>Manager Item</td><td>26522.259999999995</td></tr><tr><td>Nice Item</td><td>26512.91</td></tr><tr><td>Thus Item</td><td>26510.66</td></tr><tr><td>Financial Device</td><td>26509.68</td></tr><tr><td>Fall Gadget</td><td>26509.370000000003</td></tr><tr><td>Word Gadget</td><td>26502.890000000003</td></tr><tr><td>Her Gadget</td><td>26499.66</td></tr><tr><td>Wish Accessory</td><td>26496.870000000003</td></tr><tr><td>Audience Device</td><td>26493.179999999997</td></tr><tr><td>Listen Item</td><td>26486.760000000002</td></tr><tr><td>Smile Gadget</td><td>26477.860000000004</td></tr><tr><td>Interest Gadget</td><td>26459.27</td></tr><tr><td>Who Item</td><td>26444.840000000004</td></tr><tr><td>Catch Tool</td><td>26443.34</td></tr><tr><td>Left Gadget</td><td>26439.010000000002</td></tr><tr><td>Knowledge Item</td><td>26438.82</td></tr><tr><td>Drive Item</td><td>26435.440000000002</td></tr><tr><td>Finally Accessory</td><td>26426.25</td></tr><tr><td>Think Item</td><td>26424.859999999993</td></tr><tr><td>Five Device</td><td>26415.84</td></tr><tr><td>Teach Tool</td><td>26404.839999999997</td></tr><tr><td>Politics Accessory</td><td>26399.71</td></tr><tr><td>Especially Device</td><td>26390.270000000004</td></tr><tr><td>Fast Device</td><td>26387.97</td></tr><tr><td>Cost Item</td><td>26387.8</td></tr><tr><td>Friend Item</td><td>26383.390000000003</td></tr><tr><td>Road Accessory</td><td>26372.22</td></tr><tr><td>Others Gadget</td><td>26354.790000000005</td></tr><tr><td>Study Tool</td><td>26354.63</td></tr><tr><td>Second Tool</td><td>26344.440000000002</td></tr><tr><td>Model Tool</td><td>26344.210000000003</td></tr><tr><td>Agree Item</td><td>26313.47</td></tr><tr><td>Keep Item</td><td>26308.09</td></tr><tr><td>Performance Item</td><td>26294.5</td></tr><tr><td>Discuss Gadget</td><td>26290.789999999994</td></tr><tr><td>According Tool</td><td>26282.91</td></tr><tr><td>Middle Device</td><td>26270.989999999998</td></tr><tr><td>Return Tool</td><td>26265.460000000003</td></tr><tr><td>Wife Gadget</td><td>26262.78</td></tr><tr><td>List Tool</td><td>26258.35</td></tr><tr><td>Several Device</td><td>26254.58</td></tr><tr><td>From Gadget</td><td>26248.84</td></tr><tr><td>Seek Item</td><td>26243.939999999995</td></tr><tr><td>Question Tool</td><td>26237.32</td></tr><tr><td>City Tool</td><td>26234.76</td></tr><tr><td>Mention Accessory</td><td>26233.630000000005</td></tr><tr><td>Pressure Gadget</td><td>26233.559999999998</td></tr><tr><td>Central Item</td><td>26226.65</td></tr><tr><td>Health Accessory</td><td>26222.800000000003</td></tr><tr><td>Here Item</td><td>26222.74</td></tr><tr><td>Tv Device</td><td>26219.58</td></tr><tr><td>Evening Tool</td><td>26217.069999999996</td></tr><tr><td>Best Device</td><td>26207.019999999997</td></tr><tr><td>Clear Device</td><td>26198.77</td></tr><tr><td>Glass Device</td><td>26196.039999999997</td></tr><tr><td>Cold Device</td><td>26193.739999999998</td></tr><tr><td>Camera Item</td><td>26175.78</td></tr><tr><td>Throw Device</td><td>26172.46</td></tr><tr><td>Maintain Tool</td><td>26170.079999999998</td></tr><tr><td>Focus Accessory</td><td>26166.870000000006</td></tr><tr><td>True Device</td><td>26155.12</td></tr><tr><td>Serve Gadget</td><td>26154.82</td></tr><tr><td>Both Item</td><td>26150.759999999995</td></tr><tr><td>Rock Tool</td><td>26145.270000000004</td></tr><tr><td>Decade Accessory</td><td>26135.46</td></tr><tr><td>Data Tool</td><td>26129.38</td></tr><tr><td>Another Accessory</td><td>26127.95</td></tr><tr><td>Recent Accessory</td><td>26125.62</td></tr><tr><td>Whole Item</td><td>26120.829999999994</td></tr><tr><td>Attack Gadget</td><td>26118.399999999998</td></tr><tr><td>Possible Accessory</td><td>26102.25</td></tr><tr><td>Team Tool</td><td>26099.19</td></tr><tr><td>Draw Tool</td><td>26091.14</td></tr><tr><td>Television Accessory</td><td>26077.05</td></tr><tr><td>Tell Item</td><td>26075.519999999997</td></tr><tr><td>Worker Item</td><td>26074.37</td></tr><tr><td>Anything Accessory</td><td>26064.43</td></tr><tr><td>Cell Item</td><td>26061.379999999997</td></tr><tr><td>Vote Accessory</td><td>26050.010000000002</td></tr><tr><td>Prevent Gadget</td><td>26044.910000000003</td></tr><tr><td>Smile Device</td><td>26044.210000000006</td></tr><tr><td>Democratic Item</td><td>26039.199999999997</td></tr><tr><td>Conference Item</td><td>26035.86</td></tr><tr><td>Number Accessory</td><td>26027.64</td></tr><tr><td>Marriage Gadget</td><td>26019.740000000005</td></tr><tr><td>Forward Tool</td><td>26017.41</td></tr><tr><td>These Item</td><td>25995.610000000004</td></tr><tr><td>Out Item</td><td>25994.269999999997</td></tr><tr><td>Everybody Accessory</td><td>25984.320000000003</td></tr><tr><td>State Gadget</td><td>25983.039999999997</td></tr><tr><td>Money Item</td><td>25964.339999999997</td></tr><tr><td>Rather Item</td><td>25962.82</td></tr><tr><td>Car Gadget</td><td>25933.549999999996</td></tr><tr><td>News Device</td><td>25932.48</td></tr><tr><td>Add Tool</td><td>25928.91</td></tr><tr><td>Significant Tool</td><td>25928.379999999997</td></tr><tr><td>Read Gadget</td><td>25928.179999999997</td></tr><tr><td>Him Gadget</td><td>25926.890000000003</td></tr><tr><td>Including Device</td><td>25925.559999999998</td></tr><tr><td>Range Tool</td><td>25923.769999999997</td></tr><tr><td>Degree Item</td><td>25919.71</td></tr><tr><td>Occur Device</td><td>25904.760000000002</td></tr><tr><td>Management Item</td><td>25903.649999999998</td></tr><tr><td>Purpose Tool</td><td>25903.629999999997</td></tr><tr><td>Able Tool</td><td>25899.879999999997</td></tr><tr><td>Better Item</td><td>25899.809999999994</td></tr><tr><td>Entire Tool</td><td>25899.39</td></tr><tr><td>Walk Tool</td><td>25893.290000000005</td></tr><tr><td>Western Gadget</td><td>25872.14</td></tr><tr><td>Still Device</td><td>25855.319999999996</td></tr><tr><td>Better Tool</td><td>25843.92</td></tr><tr><td>Catch Gadget</td><td>25824.680000000004</td></tr><tr><td>Safe Gadget</td><td>25810.67</td></tr><tr><td>Perform Accessory</td><td>25809.77</td></tr><tr><td>Hair Tool</td><td>25794.840000000004</td></tr><tr><td>Explain Gadget</td><td>25787.39</td></tr><tr><td>Task Device</td><td>25775.73</td></tr><tr><td>Better Accessory</td><td>25754.08</td></tr><tr><td>Of Gadget</td><td>25744.390000000003</td></tr><tr><td>Because Gadget</td><td>25740.699999999997</td></tr><tr><td>All Accessory</td><td>25736.969999999994</td></tr><tr><td>Tell Device</td><td>25732.97</td></tr><tr><td>Growth Gadget</td><td>25731.36</td></tr><tr><td>Surface Tool</td><td>25726.83</td></tr><tr><td>Us Item</td><td>25721.330000000005</td></tr><tr><td>Seek Device</td><td>25716.809999999998</td></tr><tr><td>Direction Gadget</td><td>25716.48</td></tr><tr><td>Chance Tool</td><td>25711.699999999997</td></tr><tr><td>Nation Item</td><td>25709.24</td></tr><tr><td>Life Device</td><td>25700.810000000005</td></tr><tr><td>Later Device</td><td>25698.68</td></tr><tr><td>Agent Gadget</td><td>25691.54</td></tr><tr><td>Baby Item</td><td>25689.829999999998</td></tr><tr><td>Whose Accessory</td><td>25689.53</td></tr><tr><td>Game Gadget</td><td>25679.309999999998</td></tr><tr><td>Young Gadget</td><td>25666.130000000005</td></tr><tr><td>Sister Accessory</td><td>25665.769999999997</td></tr><tr><td>Dream Tool</td><td>25664.93</td></tr><tr><td>Dream Item</td><td>25660.16</td></tr><tr><td>Address Accessory</td><td>25658.62</td></tr><tr><td>Building Gadget</td><td>25652.81</td></tr><tr><td>Television Gadget</td><td>25651.42</td></tr><tr><td>Me Tool</td><td>25650.499999999996</td></tr><tr><td>Wait Device</td><td>25649.399999999998</td></tr><tr><td>More Item</td><td>25649.250000000004</td></tr><tr><td>Article Accessory</td><td>25641.469999999998</td></tr><tr><td>Building Item</td><td>25629.57</td></tr><tr><td>Deep Accessory</td><td>25626.859999999997</td></tr><tr><td>Hotel Item</td><td>25605.260000000006</td></tr><tr><td>Church Device</td><td>25604.85</td></tr><tr><td>Recently Accessory</td><td>25601.03</td></tr><tr><td>Add Device</td><td>25595.249999999996</td></tr><tr><td>Pressure Device</td><td>25586.010000000002</td></tr><tr><td>Training Gadget</td><td>25574.459999999995</td></tr><tr><td>Like Accessory</td><td>25562.390000000007</td></tr><tr><td>Shake Tool</td><td>25560.290000000005</td></tr><tr><td>Than Tool</td><td>25557.02999999999</td></tr><tr><td>Moment Gadget</td><td>25550.939999999995</td></tr><tr><td>Way Accessory</td><td>25548.019999999997</td></tr><tr><td>Meet Item</td><td>25537.819999999996</td></tr><tr><td>Citizen Tool</td><td>25536.339999999997</td></tr><tr><td>Happy Item</td><td>25534.910000000003</td></tr><tr><td>Read Tool</td><td>25528.48</td></tr><tr><td>Amount Accessory</td><td>25523.13</td></tr><tr><td>Make Item</td><td>25519.5</td></tr><tr><td>After Tool</td><td>25518.839999999997</td></tr><tr><td>Say Tool</td><td>25516.51</td></tr><tr><td>Case Device</td><td>25515.42</td></tr><tr><td>Environmental Tool</td><td>25503.15</td></tr><tr><td>Else Gadget</td><td>25483.539999999997</td></tr><tr><td>Left Device</td><td>25481.989999999998</td></tr><tr><td>Try Device</td><td>25471.550000000003</td></tr><tr><td>Four Accessory</td><td>25468.65</td></tr><tr><td>Movie Accessory</td><td>25467.94</td></tr><tr><td>Ever Gadget</td><td>25463.239999999998</td></tr><tr><td>Individual Device</td><td>25454.39</td></tr><tr><td>Play Device</td><td>25449.46</td></tr><tr><td>Heavy Tool</td><td>25447.53</td></tr><tr><td>Final Gadget</td><td>25446.710000000003</td></tr><tr><td>Community Item</td><td>25444.620000000003</td></tr><tr><td>Material Tool</td><td>25443.810000000005</td></tr><tr><td>Remember Item</td><td>25419.750000000007</td></tr><tr><td>Her Tool</td><td>25414.2</td></tr><tr><td>Girl Gadget</td><td>25413.09</td></tr><tr><td>Main Gadget</td><td>25410.939999999995</td></tr><tr><td>Series Device</td><td>25400.4</td></tr><tr><td>Truth Tool</td><td>25400.050000000003</td></tr><tr><td>Certainly Gadget</td><td>25399.6</td></tr><tr><td>Lose Item</td><td>25393.670000000002</td></tr><tr><td>Anything Gadget</td><td>25381.91</td></tr><tr><td>Look Tool</td><td>25376.980000000003</td></tr><tr><td>Third Gadget</td><td>25376.78</td></tr><tr><td>Only Accessory</td><td>25370.29</td></tr><tr><td>Senior Item</td><td>25365.28</td></tr><tr><td>Popular Device</td><td>25341.64</td></tr><tr><td>Work Item</td><td>25334.950000000004</td></tr><tr><td>Simple Gadget</td><td>25331.559999999998</td></tr><tr><td>Article Device</td><td>25325.699999999997</td></tr><tr><td>Treatment Gadget</td><td>25302.159999999996</td></tr><tr><td>Represent Gadget</td><td>25301.96</td></tr><tr><td>National Accessory</td><td>25298.739999999998</td></tr><tr><td>Movie Gadget</td><td>25295.57</td></tr><tr><td>Card Device</td><td>25294.11</td></tr><tr><td>Through Accessory</td><td>25293.16</td></tr><tr><td>Set Device</td><td>25292.929999999997</td></tr><tr><td>Style Gadget</td><td>25290.24</td></tr><tr><td>Evidence Tool</td><td>25285.000000000004</td></tr><tr><td>Include Item</td><td>25284.839999999997</td></tr><tr><td>Compare Tool</td><td>25282.07</td></tr><tr><td>Cut Accessory</td><td>25276.68</td></tr><tr><td>Investment Gadget</td><td>25276.210000000003</td></tr><tr><td>Rest Accessory</td><td>25275.86</td></tr><tr><td>Inside Accessory</td><td>25271.280000000002</td></tr><tr><td>Forget Accessory</td><td>25270.819999999996</td></tr><tr><td>Drug Gadget</td><td>25268.25</td></tr><tr><td>Find Accessory</td><td>25267.67</td></tr><tr><td>Worry Item</td><td>25262.04</td></tr><tr><td>Less Accessory</td><td>25249.260000000006</td></tr><tr><td>Interest Tool</td><td>25245.920000000002</td></tr><tr><td>Film Tool</td><td>25232.949999999997</td></tr><tr><td>Cost Accessory</td><td>25230.1</td></tr><tr><td>Media Accessory</td><td>25226.480000000003</td></tr><tr><td>Technology Device</td><td>25205.93</td></tr><tr><td>Still Gadget</td><td>25194.27</td></tr><tr><td>Turn Tool</td><td>25190.100000000002</td></tr><tr><td>It Accessory</td><td>25189.06</td></tr><tr><td>Evening Item</td><td>25188.28</td></tr><tr><td>Community Accessory</td><td>25186.539999999997</td></tr><tr><td>Your Device</td><td>25178.049999999996</td></tr><tr><td>Relationship Gadget</td><td>25175.789999999997</td></tr><tr><td>One Gadget</td><td>25172.78</td></tr><tr><td>Most Accessory</td><td>25169.230000000003</td></tr><tr><td>Stay Device</td><td>25167.05</td></tr><tr><td>Success Gadget</td><td>25158.7</td></tr><tr><td>Turn Accessory</td><td>25151.58</td></tr><tr><td>Current Item</td><td>25150.5</td></tr><tr><td>Beautiful Item</td><td>25147.940000000002</td></tr><tr><td>Already Gadget</td><td>25143.069999999996</td></tr><tr><td>Feel Tool</td><td>25140.620000000003</td></tr><tr><td>Business Accessory</td><td>25140.19</td></tr><tr><td>Ahead Device</td><td>25138.679999999997</td></tr><tr><td>Language Accessory</td><td>25137.540000000005</td></tr><tr><td>Consider Gadget</td><td>25132.91</td></tr><tr><td>Just Gadget</td><td>25131.2</td></tr><tr><td>Note Item</td><td>25121.420000000002</td></tr><tr><td>Me Accessory</td><td>25112.21</td></tr><tr><td>Him Item</td><td>25103.219999999998</td></tr><tr><td>Project Accessory</td><td>25102.12</td></tr><tr><td>Thought Tool</td><td>25101.280000000002</td></tr><tr><td>Improve Device</td><td>25095.129999999997</td></tr><tr><td>Impact Item</td><td>25094.03</td></tr><tr><td>Character Accessory</td><td>25087.090000000004</td></tr><tr><td>Bank Gadget</td><td>25084.300000000003</td></tr><tr><td>Begin Gadget</td><td>25079.559999999998</td></tr><tr><td>Policy Device</td><td>25066.649999999998</td></tr><tr><td>Way Item</td><td>25061.09</td></tr><tr><td>Seat Accessory</td><td>25051.219999999994</td></tr><tr><td>Box Device</td><td>25050.21</td></tr><tr><td>Scene Item</td><td>25049.609999999997</td></tr><tr><td>Age Tool</td><td>25047.33</td></tr><tr><td>Power Accessory</td><td>25038.88</td></tr><tr><td>Head Device</td><td>25037.82</td></tr><tr><td>Toward Tool</td><td>25036.2</td></tr><tr><td>Ready Accessory</td><td>25033.790000000005</td></tr><tr><td>Simply Accessory</td><td>25007.32</td></tr><tr><td>Author Item</td><td>25004.94</td></tr><tr><td>Time Device</td><td>25004.499999999996</td></tr><tr><td>Rate Tool</td><td>24999.21</td></tr><tr><td>Paper Tool</td><td>24995.81</td></tr><tr><td>Senior Tool</td><td>24984.94</td></tr><tr><td>Travel Tool</td><td>24980.46</td></tr><tr><td>Line Device</td><td>24976.689999999995</td></tr><tr><td>Color Tool</td><td>24966.239999999998</td></tr><tr><td>Technology Accessory</td><td>24962.0</td></tr><tr><td>Herself Device</td><td>24961.72</td></tr><tr><td>Federal Gadget</td><td>24960.42</td></tr><tr><td>Reduce Accessory</td><td>24958.809999999998</td></tr><tr><td>Experience Tool</td><td>24938.28</td></tr><tr><td>Pattern Gadget</td><td>24937.87</td></tr><tr><td>Itself Device</td><td>24925.159999999996</td></tr><tr><td>Tell Accessory</td><td>24924.360000000004</td></tr><tr><td>Pattern Device</td><td>24922.11</td></tr><tr><td>Camera Tool</td><td>24921.08</td></tr><tr><td>Than Gadget</td><td>24918.28</td></tr><tr><td>Authority Gadget</td><td>24916.260000000002</td></tr><tr><td>Project Item</td><td>24914.17</td></tr><tr><td>Yeah Accessory</td><td>24904.37</td></tr><tr><td>Opportunity Device</td><td>24900.86</td></tr><tr><td>Born Gadget</td><td>24899.159999999996</td></tr><tr><td>Meeting Device</td><td>24891.039999999994</td></tr><tr><td>Reveal Accessory</td><td>24890.16</td></tr><tr><td>Should Accessory</td><td>24880.090000000004</td></tr><tr><td>Cover Accessory</td><td>24875.95</td></tr><tr><td>Down Gadget</td><td>24866.759999999995</td></tr><tr><td>Above Tool</td><td>24860.24</td></tr><tr><td>Bill Tool</td><td>24852.39</td></tr><tr><td>Challenge Item</td><td>24833.56</td></tr><tr><td>Important Tool</td><td>24825.87</td></tr><tr><td>Offer Tool</td><td>24824.179999999997</td></tr><tr><td>Rest Gadget</td><td>24812.02</td></tr><tr><td>Name Item</td><td>24806.15</td></tr><tr><td>Size Gadget</td><td>24804.99</td></tr><tr><td>Hundred Tool</td><td>24799.17</td></tr><tr><td>Medical Gadget</td><td>24790.89</td></tr><tr><td>Require Device</td><td>24777.08</td></tr><tr><td>Charge Device</td><td>24776.100000000002</td></tr><tr><td>Center Gadget</td><td>24773.36</td></tr><tr><td>Interesting Accessory</td><td>24770.649999999994</td></tr><tr><td>For Tool</td><td>24760.140000000003</td></tr><tr><td>Large Gadget</td><td>24756.79</td></tr><tr><td>Themselves Gadget</td><td>24754.72</td></tr><tr><td>Spring Tool</td><td>24742.07</td></tr><tr><td>Standard Accessory</td><td>24737.519999999997</td></tr><tr><td>Game Device</td><td>24734.74</td></tr><tr><td>Consumer Device</td><td>24732.409999999996</td></tr><tr><td>Concern Gadget</td><td>24730.27</td></tr><tr><td>Political Accessory</td><td>24729.7</td></tr><tr><td>Side Tool</td><td>24724.98</td></tr><tr><td>Available Item</td><td>24723.48</td></tr><tr><td>Board Device</td><td>24720.760000000002</td></tr><tr><td>Itself Tool</td><td>24711.039999999997</td></tr><tr><td>Believe Device</td><td>24709.829999999994</td></tr><tr><td>Foot Accessory</td><td>24707.649999999998</td></tr><tr><td>Night Gadget</td><td>24701.57</td></tr><tr><td>Candidate Accessory</td><td>24699.93</td></tr><tr><td>Find Device</td><td>24696.61</td></tr><tr><td>Change Device</td><td>24693.649999999998</td></tr><tr><td>Change Item</td><td>24693.23</td></tr><tr><td>Husband Gadget</td><td>24692.67</td></tr><tr><td>Mission Tool</td><td>24687.8</td></tr><tr><td>Major Accessory</td><td>24674.239999999998</td></tr><tr><td>Practice Item</td><td>24668.4</td></tr><tr><td>Part Item</td><td>24666.12</td></tr><tr><td>Style Tool</td><td>24663.01</td></tr><tr><td>Meeting Accessory</td><td>24656.719999999998</td></tr><tr><td>Yet Gadget</td><td>24655.24</td></tr><tr><td>You Tool</td><td>24653.45</td></tr><tr><td>Call Gadget</td><td>24645.340000000004</td></tr><tr><td>Instead Item</td><td>24633.82</td></tr><tr><td>This Item</td><td>24618.659999999996</td></tr><tr><td>Explain Tool</td><td>24618.070000000007</td></tr><tr><td>Security Gadget</td><td>24612.86</td></tr><tr><td>Statement Accessory</td><td>24612.18</td></tr><tr><td>Share Gadget</td><td>24610.45</td></tr><tr><td>Western Tool</td><td>24609.91</td></tr><tr><td>But Item</td><td>24599.899999999998</td></tr><tr><td>Church Tool</td><td>24599.24</td></tr><tr><td>Poor Accessory</td><td>24594.729999999996</td></tr><tr><td>Issue Gadget</td><td>24594.65</td></tr><tr><td>Attention Tool</td><td>24592.12</td></tr><tr><td>Condition Device</td><td>24591.94</td></tr><tr><td>Partner Device</td><td>24584.03</td></tr><tr><td>Capital Gadget</td><td>24581.14</td></tr><tr><td>Visit Tool</td><td>24578.52</td></tr><tr><td>Third Tool</td><td>24576.42</td></tr><tr><td>How Gadget</td><td>24569.809999999998</td></tr><tr><td>Television Tool</td><td>24569.159999999996</td></tr><tr><td>Kind Device</td><td>24565.89</td></tr><tr><td>Push Item</td><td>24560.14</td></tr><tr><td>Whole Device</td><td>24558.34</td></tr><tr><td>Board Tool</td><td>24556.89</td></tr><tr><td>Consider Device</td><td>24554.37</td></tr><tr><td>Gas Gadget</td><td>24533.33</td></tr><tr><td>Relationship Accessory</td><td>24531.38</td></tr><tr><td>Power Gadget</td><td>24525.75</td></tr><tr><td>Red Item</td><td>24520.770000000004</td></tr><tr><td>Officer Item</td><td>24507.969999999998</td></tr><tr><td>Company Gadget</td><td>24503.979999999996</td></tr><tr><td>Small Tool</td><td>24492.15</td></tr><tr><td>Possible Device</td><td>24484.93</td></tr><tr><td>Vote Tool</td><td>24478.4</td></tr><tr><td>Stand Device</td><td>24474.75</td></tr><tr><td>Sense Item</td><td>24468.47</td></tr><tr><td>Four Item</td><td>24467.32</td></tr><tr><td>Term Accessory</td><td>24467.090000000004</td></tr><tr><td>Act Accessory</td><td>24463.410000000003</td></tr><tr><td>When Item</td><td>24461.49</td></tr><tr><td>Money Device</td><td>24455.96</td></tr><tr><td>Know Gadget</td><td>24448.56</td></tr><tr><td>Consider Item</td><td>24437.019999999997</td></tr><tr><td>Character Tool</td><td>24425.19</td></tr><tr><td>Reach Device</td><td>24423.379999999997</td></tr><tr><td>Administration Item</td><td>24415.6</td></tr><tr><td>Bed Item</td><td>24409.800000000003</td></tr><tr><td>Early Accessory</td><td>24407.98</td></tr><tr><td>Close Gadget</td><td>24390.9</td></tr><tr><td>Night Device</td><td>24382.869999999995</td></tr><tr><td>Various Device</td><td>24381.36</td></tr><tr><td>Nor Device</td><td>24372.0</td></tr><tr><td>Performance Tool</td><td>24370.879999999997</td></tr><tr><td>West Tool</td><td>24366.29</td></tr><tr><td>Month Device</td><td>24366.04</td></tr><tr><td>Per Device</td><td>24360.21</td></tr><tr><td>Probably Item</td><td>24356.550000000003</td></tr><tr><td>Key Item</td><td>24356.420000000002</td></tr><tr><td>House Accessory</td><td>24353.84</td></tr><tr><td>Sit Gadget</td><td>24335.68</td></tr><tr><td>Quickly Device</td><td>24329.89</td></tr><tr><td>Staff Device</td><td>24327.280000000002</td></tr><tr><td>Himself Accessory</td><td>24300.0</td></tr><tr><td>Trouble Tool</td><td>24295.189999999995</td></tr><tr><td>Prepare Gadget</td><td>24289.21</td></tr><tr><td>Easy Tool</td><td>24286.699999999993</td></tr><tr><td>So Accessory</td><td>24286.41</td></tr><tr><td>Knowledge Tool</td><td>24277.809999999998</td></tr><tr><td>Response Accessory</td><td>24271.699999999997</td></tr><tr><td>Yourself Device</td><td>24267.629999999997</td></tr><tr><td>Staff Tool</td><td>24267.120000000003</td></tr><tr><td>Feel Gadget</td><td>24264.19</td></tr><tr><td>Let Device</td><td>24264.14</td></tr><tr><td>Whom Item</td><td>24261.320000000003</td></tr><tr><td>One Item</td><td>24257.73</td></tr><tr><td>It Item</td><td>24252.7</td></tr><tr><td>Marriage Device</td><td>24249.65</td></tr><tr><td>Up Gadget</td><td>24243.99</td></tr><tr><td>Information Device</td><td>24237.63</td></tr><tr><td>Nor Item</td><td>24237.170000000006</td></tr><tr><td>Hospital Tool</td><td>24231.53</td></tr><tr><td>Throw Accessory</td><td>24224.5</td></tr><tr><td>Build Accessory</td><td>24214.140000000003</td></tr><tr><td>Himself Device</td><td>24206.839999999997</td></tr><tr><td>Agree Gadget</td><td>24204.53</td></tr><tr><td>So Tool</td><td>24203.75</td></tr><tr><td>Always Accessory</td><td>24202.610000000004</td></tr><tr><td>Himself Item</td><td>24187.579999999998</td></tr><tr><td>Shake Item</td><td>24184.579999999994</td></tr><tr><td>Own Item</td><td>24182.69</td></tr><tr><td>Which Device</td><td>24176.0</td></tr><tr><td>Run Device</td><td>24168.829999999998</td></tr><tr><td>Image Device</td><td>24166.18</td></tr><tr><td>Nature Accessory</td><td>24161.83</td></tr><tr><td>Pretty Device</td><td>24160.910000000003</td></tr><tr><td>Pm Gadget</td><td>24155.73</td></tr><tr><td>Already Item</td><td>24152.840000000004</td></tr><tr><td>Age Item</td><td>24149.189999999995</td></tr><tr><td>Go Gadget</td><td>24126.010000000002</td></tr><tr><td>Change Accessory</td><td>24125.57</td></tr><tr><td>Method Gadget</td><td>24122.620000000003</td></tr><tr><td>Back Tool</td><td>24121.33</td></tr><tr><td>Food Item</td><td>24113.15</td></tr><tr><td>Recent Gadget</td><td>24112.059999999998</td></tr><tr><td>Here Device</td><td>24111.760000000002</td></tr><tr><td>Gas Accessory</td><td>24106.85</td></tr><tr><td>Reach Item</td><td>24088.79</td></tr><tr><td>Teacher Accessory</td><td>24067.600000000002</td></tr><tr><td>Tv Item</td><td>24049.639999999996</td></tr><tr><td>Plant Gadget</td><td>24045.210000000003</td></tr><tr><td>Speak Device</td><td>24041.36</td></tr><tr><td>Mouth Item</td><td>24038.859999999997</td></tr><tr><td>Safe Accessory</td><td>24023.85</td></tr><tr><td>Place Accessory</td><td>24020.37</td></tr><tr><td>Just Device</td><td>24013.12</td></tr><tr><td>Apply Item</td><td>23996.68</td></tr><tr><td>Our Tool</td><td>23995.02</td></tr><tr><td>Commercial Tool</td><td>23988.01</td></tr><tr><td>Both Accessory</td><td>23982.01</td></tr><tr><td>Case Accessory</td><td>23979.94</td></tr><tr><td>Control Tool</td><td>23975.929999999997</td></tr><tr><td>On Device</td><td>23973.289999999997</td></tr><tr><td>Director Tool</td><td>23966.870000000003</td></tr><tr><td>Everybody Tool</td><td>23961.33</td></tr><tr><td>Argue Device</td><td>23956.419999999995</td></tr><tr><td>Prevent Accessory</td><td>23943.990000000005</td></tr><tr><td>Source Gadget</td><td>23942.21</td></tr><tr><td>Republican Item</td><td>23936.010000000002</td></tr><tr><td>Back Accessory</td><td>23929.729999999996</td></tr><tr><td>Wait Accessory</td><td>23929.030000000002</td></tr><tr><td>Interesting Tool</td><td>23917.26</td></tr><tr><td>Play Gadget</td><td>23908.620000000003</td></tr><tr><td>Example Gadget</td><td>23907.190000000002</td></tr><tr><td>Night Item</td><td>23904.730000000003</td></tr><tr><td>Store Tool</td><td>23902.299999999996</td></tr><tr><td>Stop Gadget</td><td>23898.87</td></tr><tr><td>Rock Device</td><td>23894.059999999998</td></tr><tr><td>Tend Item</td><td>23891.88</td></tr><tr><td>Far Device</td><td>23889.049999999996</td></tr><tr><td>Leave Accessory</td><td>23888.930000000004</td></tr><tr><td>Onto Item</td><td>23879.149999999998</td></tr><tr><td>Feeling Item</td><td>23878.750000000004</td></tr><tr><td>Energy Item</td><td>23878.67</td></tr><tr><td>Tell Tool</td><td>23875.519999999997</td></tr><tr><td>Future Tool</td><td>23873.63</td></tr><tr><td>Than Item</td><td>23871.92</td></tr><tr><td>Paper Item</td><td>23871.9</td></tr><tr><td>Carry Accessory</td><td>23871.829999999998</td></tr><tr><td>Care Gadget</td><td>23870.12</td></tr><tr><td>Back Device</td><td>23855.16</td></tr><tr><td>Candidate Gadget</td><td>23830.590000000004</td></tr><tr><td>Develop Tool</td><td>23825.31</td></tr><tr><td>Animal Tool</td><td>23824.620000000006</td></tr><tr><td>Attorney Gadget</td><td>23815.410000000003</td></tr><tr><td>Different Tool</td><td>23812.089999999997</td></tr><tr><td>Practice Accessory</td><td>23809.780000000002</td></tr><tr><td>Popular Gadget</td><td>23806.76</td></tr><tr><td>Small Gadget</td><td>23806.12</td></tr><tr><td>World Device</td><td>23790.68</td></tr><tr><td>Food Tool</td><td>23787.16</td></tr><tr><td>Crime Device</td><td>23772.35</td></tr><tr><td>Table Device</td><td>23771.879999999997</td></tr><tr><td>Site Device</td><td>23767.309999999998</td></tr><tr><td>Last Item</td><td>23765.079999999998</td></tr><tr><td>Truth Item</td><td>23741.199999999997</td></tr><tr><td>Miss Gadget</td><td>23731.319999999996</td></tr><tr><td>Husband Device</td><td>23730.36</td></tr><tr><td>Although Gadget</td><td>23725.100000000002</td></tr><tr><td>View Gadget</td><td>23705.85</td></tr><tr><td>Member Tool</td><td>23703.93</td></tr><tr><td>Effect Accessory</td><td>23694.81</td></tr><tr><td>Us Tool</td><td>23692.85</td></tr><tr><td>Provide Device</td><td>23692.100000000006</td></tr><tr><td>Think Device</td><td>23687.770000000004</td></tr><tr><td>Deep Device</td><td>23670.629999999997</td></tr><tr><td>Language Device</td><td>23669.78</td></tr><tr><td>Success Tool</td><td>23668.61</td></tr><tr><td>Writer Item</td><td>23666.19</td></tr><tr><td>National Item</td><td>23660.280000000002</td></tr><tr><td>Become Accessory</td><td>23631.75</td></tr><tr><td>Order Gadget</td><td>23626.579999999998</td></tr><tr><td>Technology Gadget</td><td>23625.83</td></tr><tr><td>Others Item</td><td>23617.64</td></tr><tr><td>Theory Item</td><td>23611.18</td></tr><tr><td>Painting Gadget</td><td>23603.26</td></tr><tr><td>Size Tool</td><td>23601.92</td></tr><tr><td>Read Device</td><td>23601.27</td></tr><tr><td>Through Tool</td><td>23596.730000000003</td></tr><tr><td>Follow Accessory</td><td>23592.89</td></tr><tr><td>White Gadget</td><td>23592.519999999997</td></tr><tr><td>Suffer Tool</td><td>23591.28</td></tr><tr><td>Finish Item</td><td>23588.04</td></tr><tr><td>Protect Gadget</td><td>23585.609999999997</td></tr><tr><td>Good Item</td><td>23584.46</td></tr><tr><td>Feeling Gadget</td><td>23572.009999999995</td></tr><tr><td>Goal Tool</td><td>23571.29</td></tr><tr><td>Realize Item</td><td>23568.05</td></tr><tr><td>Agreement Item</td><td>23567.27</td></tr><tr><td>Lead Accessory</td><td>23566.42</td></tr><tr><td>Long Item</td><td>23561.160000000003</td></tr><tr><td>Kitchen Item</td><td>23560.67</td></tr><tr><td>Tonight Item</td><td>23559.379999999997</td></tr><tr><td>Though Device</td><td>23540.3</td></tr><tr><td>Later Tool</td><td>23531.1</td></tr><tr><td>Within Device</td><td>23523.679999999997</td></tr><tr><td>Leave Gadget</td><td>23523.18</td></tr><tr><td>Bit Item</td><td>23522.289999999997</td></tr><tr><td>Away Accessory</td><td>23514.16</td></tr><tr><td>According Device</td><td>23508.0</td></tr><tr><td>Pull Item</td><td>23504.520000000004</td></tr><tr><td>South Gadget</td><td>23491.83</td></tr><tr><td>Second Item</td><td>23485.03</td></tr><tr><td>Nor Gadget</td><td>23484.810000000005</td></tr><tr><td>Risk Accessory</td><td>23471.469999999998</td></tr><tr><td>Chance Accessory</td><td>23459.1</td></tr><tr><td>Look Gadget</td><td>23446.78</td></tr><tr><td>Agreement Gadget</td><td>23440.04</td></tr><tr><td>Lay Tool</td><td>23437.4</td></tr><tr><td>Simple Accessory</td><td>23434.74</td></tr><tr><td>Guy Gadget</td><td>23434.600000000002</td></tr><tr><td>Nature Item</td><td>23431.850000000002</td></tr><tr><td>Identify Tool</td><td>23427.459999999995</td></tr><tr><td>High Item</td><td>23425.35</td></tr><tr><td>Car Device</td><td>23422.33</td></tr><tr><td>Situation Gadget</td><td>23419.170000000002</td></tr><tr><td>Least Tool</td><td>23416.070000000003</td></tr><tr><td>I Gadget</td><td>23409.32</td></tr><tr><td>Seek Gadget</td><td>23403.34</td></tr><tr><td>System Gadget</td><td>23402.440000000002</td></tr><tr><td>Owner Device</td><td>23396.62</td></tr><tr><td>How Tool</td><td>23395.309999999998</td></tr><tr><td>Performance Device</td><td>23392.270000000004</td></tr><tr><td>Thousand Tool</td><td>23389.900000000005</td></tr><tr><td>Mrs Device</td><td>23385.440000000002</td></tr><tr><td>Develop Gadget</td><td>23376.36</td></tr><tr><td>Discover Device</td><td>23372.75</td></tr><tr><td>To Item</td><td>23361.940000000002</td></tr><tr><td>Energy Device</td><td>23359.699999999997</td></tr><tr><td>Day Device</td><td>23357.800000000003</td></tr><tr><td>Around Gadget</td><td>23353.56</td></tr><tr><td>Executive Tool</td><td>23350.079999999994</td></tr><tr><td>Bag Gadget</td><td>23348.139999999996</td></tr><tr><td>Strong Gadget</td><td>23345.73</td></tr><tr><td>Spend Tool</td><td>23339.410000000003</td></tr><tr><td>Wear Tool</td><td>23335.59</td></tr><tr><td>Generation Item</td><td>23334.72</td></tr><tr><td>Open Device</td><td>23299.699999999997</td></tr><tr><td>Issue Accessory</td><td>23297.849999999995</td></tr><tr><td>Professor Item</td><td>23294.11</td></tr><tr><td>Only Tool</td><td>23282.19</td></tr><tr><td>Us Device</td><td>23278.67</td></tr><tr><td>Oil Device</td><td>23275.77</td></tr><tr><td>Security Accessory</td><td>23270.170000000002</td></tr><tr><td>Always Item</td><td>23251.81</td></tr><tr><td>Foreign Item</td><td>23245.699999999997</td></tr><tr><td>Drug Item</td><td>23230.079999999998</td></tr><tr><td>Arm Tool</td><td>23222.14</td></tr><tr><td>Fact Tool</td><td>23217.610000000004</td></tr><tr><td>Deal Device</td><td>23217.18</td></tr><tr><td>Answer Tool</td><td>23215.230000000003</td></tr><tr><td>Throughout Item</td><td>23214.57</td></tr><tr><td>Voice Gadget</td><td>23200.82</td></tr><tr><td>Project Device</td><td>23197.920000000002</td></tr><tr><td>Catch Device</td><td>23196.52</td></tr><tr><td>Student Item</td><td>23183.02</td></tr><tr><td>Read Item</td><td>23167.139999999996</td></tr><tr><td>Responsibility Item</td><td>23161.87</td></tr><tr><td>Very Gadget</td><td>23156.059999999998</td></tr><tr><td>Friend Tool</td><td>23147.850000000002</td></tr><tr><td>Kid Item</td><td>23145.33</td></tr><tr><td>Join Device</td><td>23142.79</td></tr><tr><td>Blue Tool</td><td>23134.76</td></tr><tr><td>Form Tool</td><td>23133.93</td></tr><tr><td>Deep Item</td><td>23128.440000000002</td></tr><tr><td>Exactly Gadget</td><td>23127.269999999997</td></tr><tr><td>Fill Device</td><td>23124.86</td></tr><tr><td>Religious Accessory</td><td>23117.190000000006</td></tr><tr><td>Majority Accessory</td><td>23114.13</td></tr><tr><td>Support Tool</td><td>23108.09</td></tr><tr><td>Determine Item</td><td>23105.4</td></tr><tr><td>Go Tool</td><td>23105.23</td></tr><tr><td>Have Accessory</td><td>23101.899999999998</td></tr><tr><td>Form Accessory</td><td>23097.3</td></tr><tr><td>Material Accessory</td><td>23093.12</td></tr><tr><td>Health Gadget</td><td>23092.760000000002</td></tr><tr><td>Information Item</td><td>23074.010000000002</td></tr><tr><td>Appear Device</td><td>23073.07</td></tr><tr><td>Each Gadget</td><td>23063.17</td></tr><tr><td>Public Item</td><td>23058.29</td></tr><tr><td>Against Tool</td><td>23053.47</td></tr><tr><td>Time Gadget</td><td>23053.35</td></tr><tr><td>Majority Tool</td><td>23050.949999999997</td></tr><tr><td>Feel Accessory</td><td>23048.79</td></tr><tr><td>Long Device</td><td>23047.990000000005</td></tr><tr><td>Window Tool</td><td>23047.92</td></tr><tr><td>Position Item</td><td>23042.44</td></tr><tr><td>Shake Accessory</td><td>23041.68</td></tr><tr><td>Thought Accessory</td><td>23033.530000000002</td></tr><tr><td>Ability Item</td><td>23023.06</td></tr><tr><td>Interview Device</td><td>23021.199999999997</td></tr><tr><td>Per Item</td><td>23006.909999999996</td></tr><tr><td>Possible Item</td><td>22995.44</td></tr><tr><td>Nothing Accessory</td><td>22993.239999999998</td></tr><tr><td>Election Item</td><td>22983.79</td></tr><tr><td>Method Device</td><td>22972.33</td></tr><tr><td>Speak Accessory</td><td>22971.870000000003</td></tr><tr><td>Member Item</td><td>22970.57</td></tr><tr><td>Whatever Gadget</td><td>22969.27</td></tr><tr><td>None Accessory</td><td>22961.85</td></tr><tr><td>Gas Device</td><td>22959.21</td></tr><tr><td>Become Gadget</td><td>22958.77</td></tr><tr><td>Life Accessory</td><td>22951.02</td></tr><tr><td>Carry Tool</td><td>22949.119999999995</td></tr><tr><td>Build Item</td><td>22936.74</td></tr><tr><td>Serious Item</td><td>22929.059999999998</td></tr><tr><td>Attention Accessory</td><td>22929.04</td></tr><tr><td>Training Tool</td><td>22928.66</td></tr><tr><td>Many Gadget</td><td>22917.11</td></tr><tr><td>Pattern Accessory</td><td>22909.24</td></tr><tr><td>Clear Item</td><td>22889.260000000002</td></tr><tr><td>Attack Tool</td><td>22888.120000000003</td></tr><tr><td>Issue Tool</td><td>22874.99</td></tr><tr><td>Field Device</td><td>22868.36</td></tr><tr><td>Station Item</td><td>22866.44</td></tr><tr><td>Land Accessory</td><td>22862.99</td></tr><tr><td>Bit Tool</td><td>22858.9</td></tr><tr><td>Imagine Accessory</td><td>22856.51</td></tr><tr><td>College Gadget</td><td>22853.54</td></tr><tr><td>Evidence Accessory</td><td>22852.39</td></tr><tr><td>Might Device</td><td>22851.55</td></tr><tr><td>Song Accessory</td><td>22843.84</td></tr><tr><td>Under Item</td><td>22842.21</td></tr><tr><td>Forget Item</td><td>22838.19</td></tr><tr><td>Same Accessory</td><td>22835.27</td></tr><tr><td>Type Tool</td><td>22834.53</td></tr><tr><td>Recently Gadget</td><td>22832.84</td></tr><tr><td>Out Accessory</td><td>22822.959999999995</td></tr><tr><td>Family Accessory</td><td>22819.839999999997</td></tr><tr><td>Available Tool</td><td>22817.45</td></tr><tr><td>Well Gadget</td><td>22813.64</td></tr><tr><td>Student Accessory</td><td>22810.939999999995</td></tr><tr><td>Month Tool</td><td>22810.699999999997</td></tr><tr><td>Some Accessory</td><td>22792.859999999997</td></tr><tr><td>Top Accessory</td><td>22777.419999999995</td></tr><tr><td>Ground Gadget</td><td>22776.06</td></tr><tr><td>Size Item</td><td>22775.57</td></tr><tr><td>Large Device</td><td>22773.290000000005</td></tr><tr><td>Yourself Item</td><td>22763.629999999997</td></tr><tr><td>Time Item</td><td>22762.32</td></tr><tr><td>Sure Accessory</td><td>22727.04</td></tr><tr><td>Allow Tool</td><td>22725.88</td></tr><tr><td>Option Item</td><td>22725.48</td></tr><tr><td>Beat Item</td><td>22721.739999999998</td></tr><tr><td>Believe Item</td><td>22721.469999999998</td></tr><tr><td>Pull Gadget</td><td>22715.139999999996</td></tr><tr><td>Would Tool</td><td>22714.879999999997</td></tr><tr><td>Much Device</td><td>22714.140000000003</td></tr><tr><td>Likely Accessory</td><td>22703.450000000004</td></tr><tr><td>Help Accessory</td><td>22702.68</td></tr><tr><td>Same Gadget</td><td>22701.38</td></tr><tr><td>However Tool</td><td>22700.280000000006</td></tr><tr><td>Present Device</td><td>22693.99</td></tr><tr><td>Another Gadget</td><td>22691.75</td></tr><tr><td>Including Gadget</td><td>22689.58</td></tr><tr><td>All Device</td><td>22679.42</td></tr><tr><td>Drug Device</td><td>22678.809999999998</td></tr><tr><td>Research Item</td><td>22675.040000000005</td></tr><tr><td>Public Device</td><td>22669.9</td></tr><tr><td>Recently Item</td><td>22667.620000000003</td></tr><tr><td>Pressure Tool</td><td>22665.36</td></tr><tr><td>Such Tool</td><td>22663.920000000002</td></tr><tr><td>Sister Device</td><td>22662.95</td></tr><tr><td>Just Item</td><td>22655.660000000003</td></tr><tr><td>Life Item</td><td>22653.929999999997</td></tr><tr><td>Put Tool</td><td>22653.35</td></tr><tr><td>Save Item</td><td>22651.97</td></tr><tr><td>Girl Tool</td><td>22650.37</td></tr><tr><td>Direction Device</td><td>22648.78</td></tr><tr><td>Stuff Device</td><td>22648.770000000004</td></tr><tr><td>General Gadget</td><td>22636.980000000003</td></tr><tr><td>Whatever Device</td><td>22626.27</td></tr><tr><td>Pick Device</td><td>22620.36</td></tr><tr><td>Base Accessory</td><td>22616.470000000005</td></tr><tr><td>Material Gadget</td><td>22603.92</td></tr><tr><td>Catch Accessory</td><td>22601.710000000003</td></tr><tr><td>Coach Gadget</td><td>22598.38</td></tr><tr><td>Police Tool</td><td>22591.349999999995</td></tr><tr><td>Consumer Accessory</td><td>22590.19</td></tr><tr><td>Under Accessory</td><td>22584.829999999998</td></tr><tr><td>Computer Device</td><td>22577.47</td></tr><tr><td>Economic Gadget</td><td>22574.089999999997</td></tr><tr><td>Miss Item</td><td>22564.449999999997</td></tr><tr><td>Give Device</td><td>22563.96</td></tr><tr><td>Green Tool</td><td>22557.949999999997</td></tr><tr><td>Company Device</td><td>22538.83</td></tr><tr><td>Control Item</td><td>22531.23</td></tr><tr><td>West Accessory</td><td>22514.59</td></tr><tr><td>Exist Tool</td><td>22510.45</td></tr><tr><td>Year Tool</td><td>22501.700000000004</td></tr><tr><td>Affect Item</td><td>22501.5</td></tr><tr><td>Professor Device</td><td>22500.5</td></tr><tr><td>Air Device</td><td>22499.769999999997</td></tr><tr><td>Discuss Item</td><td>22493.219999999998</td></tr><tr><td>Conference Device</td><td>22491.98</td></tr><tr><td>Heavy Item</td><td>22485.4</td></tr><tr><td>Hotel Tool</td><td>22460.75</td></tr><tr><td>Other Gadget</td><td>22459.409999999996</td></tr><tr><td>Run Tool</td><td>22453.84</td></tr><tr><td>Factor Accessory</td><td>22453.37</td></tr><tr><td>End Item</td><td>22452.86</td></tr><tr><td>Open Gadget</td><td>22443.900000000005</td></tr><tr><td>Our Item</td><td>22426.43</td></tr><tr><td>Policy Tool</td><td>22420.96</td></tr><tr><td>Serious Gadget</td><td>22419.429999999997</td></tr><tr><td>Health Device</td><td>22415.150000000005</td></tr><tr><td>Firm Tool</td><td>22405.46</td></tr><tr><td>Question Item</td><td>22404.670000000002</td></tr><tr><td>Real Accessory</td><td>22403.239999999994</td></tr><tr><td>Despite Device</td><td>22400.51</td></tr><tr><td>Understand Device</td><td>22398.329999999998</td></tr><tr><td>Eat Item</td><td>22395.89</td></tr><tr><td>Discuss Tool</td><td>22395.480000000003</td></tr><tr><td>Human Gadget</td><td>22390.32</td></tr><tr><td>Model Gadget</td><td>22386.19</td></tr><tr><td>Easy Item</td><td>22382.559999999998</td></tr><tr><td>Indicate Device</td><td>22381.3</td></tr><tr><td>Marriage Item</td><td>22380.940000000002</td></tr><tr><td>Doctor Item</td><td>22378.05</td></tr><tr><td>As Device</td><td>22368.19</td></tr><tr><td>Across Item</td><td>22358.07</td></tr><tr><td>Lot Gadget</td><td>22352.510000000002</td></tr><tr><td>Himself Gadget</td><td>22322.4</td></tr><tr><td>Body Item</td><td>22314.74</td></tr><tr><td>White Accessory</td><td>22290.0</td></tr><tr><td>North Device</td><td>22272.13</td></tr><tr><td>Order Accessory</td><td>22266.04</td></tr><tr><td>Might Tool</td><td>22265.79</td></tr><tr><td>Course Gadget</td><td>22259.020000000004</td></tr><tr><td>Who Tool</td><td>22255.52</td></tr><tr><td>Customer Tool</td><td>22255.29</td></tr><tr><td>Along Gadget</td><td>22254.17</td></tr><tr><td>Mother Accessory</td><td>22251.01</td></tr><tr><td>Beat Tool</td><td>22246.510000000002</td></tr><tr><td>Hair Device</td><td>22244.74</td></tr><tr><td>Opportunity Accessory</td><td>22239.119999999995</td></tr><tr><td>Follow Tool</td><td>22236.180000000004</td></tr><tr><td>Key Accessory</td><td>22234.21</td></tr><tr><td>Hospital Gadget</td><td>22215.870000000003</td></tr><tr><td>Drive Tool</td><td>22198.689999999995</td></tr><tr><td>Machine Item</td><td>22191.610000000004</td></tr><tr><td>Season Item</td><td>22176.93</td></tr><tr><td>Indeed Item</td><td>22171.08</td></tr><tr><td>Recognize Tool</td><td>22170.160000000003</td></tr><tr><td>History Gadget</td><td>22158.02</td></tr><tr><td>Right Gadget</td><td>22157.29</td></tr><tr><td>According Gadget</td><td>22153.15</td></tr><tr><td>Page Device</td><td>22152.64</td></tr><tr><td>Stage Tool</td><td>22149.499999999996</td></tr><tr><td>Reality Gadget</td><td>22136.880000000005</td></tr><tr><td>Peace Gadget</td><td>22120.49</td></tr><tr><td>With Accessory</td><td>22113.57</td></tr><tr><td>First Device</td><td>22110.670000000002</td></tr><tr><td>Give Tool</td><td>22092.570000000003</td></tr><tr><td>Bad Item</td><td>22091.970000000005</td></tr><tr><td>There Device</td><td>22090.85</td></tr><tr><td>Bit Device</td><td>22081.2</td></tr><tr><td>Executive Device</td><td>22079.4</td></tr><tr><td>Want Tool</td><td>22078.57</td></tr><tr><td>Cause Device</td><td>22070.07</td></tr><tr><td>Foreign Device</td><td>22067.44</td></tr><tr><td>Before Tool</td><td>22061.33</td></tr><tr><td>Fish Device</td><td>22052.85</td></tr><tr><td>Player Gadget</td><td>22051.989999999994</td></tr><tr><td>Outside Item</td><td>22051.49</td></tr><tr><td>Time Accessory</td><td>22051.29</td></tr><tr><td>Design Accessory</td><td>22037.62</td></tr><tr><td>This Gadget</td><td>22034.07</td></tr><tr><td>Political Gadget</td><td>22032.32</td></tr><tr><td>General Item</td><td>22026.9</td></tr><tr><td>Work Device</td><td>22006.54</td></tr><tr><td>On Accessory</td><td>22004.5</td></tr><tr><td>Catch Item</td><td>22000.97</td></tr><tr><td>Century Tool</td><td>21993.359999999997</td></tr><tr><td>Pm Item</td><td>21991.739999999998</td></tr><tr><td>Career Item</td><td>21989.300000000003</td></tr><tr><td>Become Item</td><td>21983.81</td></tr><tr><td>Home Accessory</td><td>21979.46</td></tr><tr><td>Policy Item</td><td>21976.58</td></tr><tr><td>Carry Item</td><td>21973.139999999996</td></tr><tr><td>Item Tool</td><td>21970.5</td></tr><tr><td>Win Tool</td><td>21958.300000000003</td></tr><tr><td>Fund Accessory</td><td>21951.859999999997</td></tr><tr><td>Contain Device</td><td>21938.53</td></tr><tr><td>Image Item</td><td>21931.46</td></tr><tr><td>Thousand Gadget</td><td>21912.620000000003</td></tr><tr><td>Buy Accessory</td><td>21912.489999999998</td></tr><tr><td>South Device</td><td>21908.71</td></tr><tr><td>Story Gadget</td><td>21908.37</td></tr><tr><td>Between Tool</td><td>21903.6</td></tr><tr><td>Also Accessory</td><td>21900.84</td></tr><tr><td>Office Device</td><td>21897.1</td></tr><tr><td>Tax Gadget</td><td>21880.04</td></tr><tr><td>Threat Device</td><td>21879.289999999997</td></tr><tr><td>Heavy Device</td><td>21866.840000000004</td></tr><tr><td>Appear Gadget</td><td>21865.8</td></tr><tr><td>Should Device</td><td>21849.55</td></tr><tr><td>Law Tool</td><td>21848.370000000003</td></tr><tr><td>Recognize Accessory</td><td>21847.69</td></tr><tr><td>International Tool</td><td>21844.199999999997</td></tr><tr><td>By Accessory</td><td>21843.239999999998</td></tr><tr><td>Father Item</td><td>21837.729999999996</td></tr><tr><td>Minute Accessory</td><td>21834.14</td></tr><tr><td>Example Item</td><td>21831.72</td></tr><tr><td>Born Device</td><td>21817.77</td></tr><tr><td>He Device</td><td>21812.019999999997</td></tr><tr><td>Data Accessory</td><td>21811.71</td></tr><tr><td>Glass Gadget</td><td>21808.13</td></tr><tr><td>Degree Tool</td><td>21807.27</td></tr><tr><td>Probably Tool</td><td>21806.489999999998</td></tr><tr><td>Community Device</td><td>21804.89</td></tr><tr><td>Cold Gadget</td><td>21804.069999999996</td></tr><tr><td>Far Accessory</td><td>21800.09</td></tr><tr><td>Hot Accessory</td><td>21797.899999999998</td></tr><tr><td>Them Tool</td><td>21789.09</td></tr><tr><td>Student Device</td><td>21786.039999999997</td></tr><tr><td>Sing Device</td><td>21784.84</td></tr><tr><td>Name Accessory</td><td>21782.1</td></tr><tr><td>Generation Device</td><td>21775.429999999997</td></tr><tr><td>Star Item</td><td>21745.679999999993</td></tr><tr><td>Institution Accessory</td><td>21743.579999999998</td></tr><tr><td>Mission Gadget</td><td>21721.15</td></tr><tr><td>Image Gadget</td><td>21717.04</td></tr><tr><td>Bill Accessory</td><td>21715.230000000003</td></tr><tr><td>Not Gadget</td><td>21706.77</td></tr><tr><td>Tree Accessory</td><td>21700.910000000003</td></tr><tr><td>Instead Tool</td><td>21698.989999999998</td></tr><tr><td>Must Tool</td><td>21678.29</td></tr><tr><td>Turn Device</td><td>21673.989999999998</td></tr><tr><td>Reflect Item</td><td>21667.2</td></tr><tr><td>Black Item</td><td>21661.249999999996</td></tr><tr><td>Personal Gadget</td><td>21656.48</td></tr><tr><td>Participant Tool</td><td>21653.97</td></tr><tr><td>Should Tool</td><td>21645.33</td></tr><tr><td>Keep Accessory</td><td>21644.600000000002</td></tr><tr><td>Usually Item</td><td>21643.36</td></tr><tr><td>Either Item</td><td>21638.44</td></tr><tr><td>How Device</td><td>21634.479999999996</td></tr><tr><td>Always Device</td><td>21612.73</td></tr><tr><td>Step Device</td><td>21611.550000000003</td></tr><tr><td>Buy Tool</td><td>21606.55</td></tr><tr><td>Network Item</td><td>21604.620000000003</td></tr><tr><td>Employee Device</td><td>21593.94</td></tr><tr><td>Matter Accessory</td><td>21593.11</td></tr><tr><td>Reduce Tool</td><td>21589.71</td></tr><tr><td>Establish Item</td><td>21584.190000000002</td></tr><tr><td>Concern Accessory</td><td>21574.25</td></tr><tr><td>Always Tool</td><td>21574.070000000003</td></tr><tr><td>Buy Device</td><td>21567.709999999995</td></tr><tr><td>Away Device</td><td>21566.6</td></tr><tr><td>Memory Accessory</td><td>21564.339999999997</td></tr><tr><td>Military Accessory</td><td>21563.36</td></tr><tr><td>Data Item</td><td>21552.929999999997</td></tr><tr><td>Office Gadget</td><td>21549.06</td></tr><tr><td>Teach Device</td><td>21545.24</td></tr><tr><td>Our Device</td><td>21543.190000000002</td></tr><tr><td>Those Item</td><td>21538.93</td></tr><tr><td>Prepare Tool</td><td>21535.670000000002</td></tr><tr><td>Owner Tool</td><td>21532.829999999998</td></tr><tr><td>Thing Accessory</td><td>21528.309999999998</td></tr><tr><td>Rock Item</td><td>21525.899999999998</td></tr><tr><td>Enter Tool</td><td>21521.160000000003</td></tr><tr><td>New Item</td><td>21510.33</td></tr><tr><td>No Item</td><td>21508.04</td></tr><tr><td>Choose Device</td><td>21505.519999999997</td></tr><tr><td>Right Accessory</td><td>21503.39</td></tr><tr><td>Wind Accessory</td><td>21489.589999999997</td></tr><tr><td>Face Item</td><td>21487.709999999995</td></tr><tr><td>Do Item</td><td>21485.370000000003</td></tr><tr><td>Push Tool</td><td>21478.03</td></tr><tr><td>Bit Gadget</td><td>21475.940000000002</td></tr><tr><td>Space Accessory</td><td>21472.340000000004</td></tr><tr><td>Food Device</td><td>21471.190000000002</td></tr><tr><td>Will Item</td><td>21460.31</td></tr><tr><td>Eight Accessory</td><td>21456.43</td></tr><tr><td>Yeah Item</td><td>21456.15</td></tr><tr><td>Either Tool</td><td>21451.19</td></tr><tr><td>Purpose Accessory</td><td>21450.270000000004</td></tr><tr><td>Enough Item</td><td>21445.08</td></tr><tr><td>Former Accessory</td><td>21443.01</td></tr><tr><td>At Item</td><td>21439.54</td></tr><tr><td>Success Item</td><td>21434.27</td></tr><tr><td>Tonight Tool</td><td>21433.64</td></tr><tr><td>Painting Item</td><td>21426.989999999998</td></tr><tr><td>Everything Gadget</td><td>21417.289999999997</td></tr><tr><td>Actually Item</td><td>21408.23</td></tr><tr><td>Decade Gadget</td><td>21403.85</td></tr><tr><td>Experience Accessory</td><td>21402.029999999995</td></tr><tr><td>Black Device</td><td>21394.860000000004</td></tr><tr><td>Get Tool</td><td>21393.519999999997</td></tr><tr><td>General Device</td><td>21377.030000000002</td></tr><tr><td>Any Tool</td><td>21374.36</td></tr><tr><td>Mean Tool</td><td>21372.66</td></tr><tr><td>Thing Device</td><td>21367.760000000002</td></tr><tr><td>Surface Accessory</td><td>21365.28</td></tr><tr><td>Great Item</td><td>21360.5</td></tr><tr><td>Particularly Item</td><td>21359.06</td></tr><tr><td>Accept Tool</td><td>21348.26</td></tr><tr><td>Road Item</td><td>21347.0</td></tr><tr><td>Power Tool</td><td>21337.92</td></tr><tr><td>Computer Gadget</td><td>21325.910000000003</td></tr><tr><td>Stock Item</td><td>21319.59</td></tr><tr><td>National Tool</td><td>21316.08</td></tr><tr><td>Happen Device</td><td>21315.210000000003</td></tr><tr><td>Week Tool</td><td>21301.310000000005</td></tr><tr><td>Develop Device</td><td>21286.890000000007</td></tr><tr><td>Ten Device</td><td>21265.649999999998</td></tr><tr><td>Vote Gadget</td><td>21263.960000000003</td></tr><tr><td>Future Device</td><td>21249.08</td></tr><tr><td>Rock Accessory</td><td>21248.7</td></tr><tr><td>Memory Tool</td><td>21246.98</td></tr><tr><td>Father Device</td><td>21237.269999999997</td></tr><tr><td>Tree Gadget</td><td>21233.0</td></tr><tr><td>Already Device</td><td>21230.56</td></tr><tr><td>House Tool</td><td>21217.879999999997</td></tr><tr><td>Work Tool</td><td>21217.519999999997</td></tr><tr><td>Blue Accessory</td><td>21217.1</td></tr><tr><td>Its Item</td><td>21214.65</td></tr><tr><td>Place Gadget</td><td>21205.089999999997</td></tr><tr><td>Play Tool</td><td>21197.72</td></tr><tr><td>Learn Gadget</td><td>21185.630000000005</td></tr><tr><td>Listen Tool</td><td>21163.73</td></tr><tr><td>List Item</td><td>21163.31</td></tr><tr><td>Physical Item</td><td>21160.48</td></tr><tr><td>Must Gadget</td><td>21158.34</td></tr><tr><td>School Accessory</td><td>21145.41</td></tr><tr><td>Suggest Gadget</td><td>21142.280000000002</td></tr><tr><td>Mention Item</td><td>21134.12</td></tr><tr><td>Save Gadget</td><td>21133.489999999998</td></tr><tr><td>Ago Item</td><td>21132.23</td></tr><tr><td>Main Item</td><td>21125.510000000002</td></tr><tr><td>Expert Device</td><td>21113.25</td></tr><tr><td>Will Gadget</td><td>21099.67</td></tr><tr><td>City Device</td><td>21086.020000000004</td></tr><tr><td>Community Tool</td><td>21085.82</td></tr><tr><td>Will Accessory</td><td>21079.6</td></tr><tr><td>Main Device</td><td>21076.309999999998</td></tr><tr><td>Test Tool</td><td>21070.53</td></tr><tr><td>Cause Accessory</td><td>21058.48</td></tr><tr><td>Fear Tool</td><td>21056.569999999996</td></tr><tr><td>Deal Accessory</td><td>21051.519999999997</td></tr><tr><td>Child Device</td><td>21046.89</td></tr><tr><td>Agency Tool</td><td>21038.970000000005</td></tr><tr><td>Group Accessory</td><td>21037.489999999994</td></tr><tr><td>Magazine Tool</td><td>21030.42</td></tr><tr><td>Certainly Item</td><td>21026.269999999997</td></tr><tr><td>Sing Gadget</td><td>21024.81</td></tr><tr><td>Government Gadget</td><td>21022.22</td></tr><tr><td>Final Accessory</td><td>21018.66</td></tr><tr><td>Moment Tool</td><td>21004.489999999998</td></tr><tr><td>Condition Accessory</td><td>21003.73</td></tr><tr><td>Heart Device</td><td>20996.289999999997</td></tr><tr><td>Store Device</td><td>20982.66</td></tr><tr><td>Close Device</td><td>20982.36</td></tr><tr><td>Sport Accessory</td><td>20971.950000000004</td></tr><tr><td>Follow Device</td><td>20970.480000000003</td></tr><tr><td>Assume Accessory</td><td>20967.97</td></tr><tr><td>Huge Device</td><td>20961.88</td></tr><tr><td>Box Tool</td><td>20960.430000000004</td></tr><tr><td>Stay Tool</td><td>20955.63</td></tr><tr><td>Dinner Gadget</td><td>20950.1</td></tr><tr><td>Strategy Gadget</td><td>20944.1</td></tr><tr><td>Treatment Item</td><td>20931.86</td></tr><tr><td>If Gadget</td><td>20929.57</td></tr><tr><td>Itself Gadget</td><td>20927.67</td></tr><tr><td>Opportunity Gadget</td><td>20915.16</td></tr><tr><td>Certain Device</td><td>20913.5</td></tr><tr><td>Dream Accessory</td><td>20903.12</td></tr><tr><td>Growth Device</td><td>20901.360000000004</td></tr><tr><td>Effort Tool</td><td>20895.72</td></tr><tr><td>Soon Accessory</td><td>20882.63</td></tr><tr><td>Same Item</td><td>20874.28</td></tr><tr><td>Bring Device</td><td>20865.559999999998</td></tr><tr><td>Important Device</td><td>20862.6</td></tr><tr><td>Must Accessory</td><td>20851.060000000005</td></tr><tr><td>Can Accessory</td><td>20850.01</td></tr><tr><td>Prevent Tool</td><td>20845.660000000003</td></tr><tr><td>Sort Gadget</td><td>20844.680000000004</td></tr><tr><td>Population Device</td><td>20843.43</td></tr><tr><td>Now Gadget</td><td>20836.11</td></tr><tr><td>Mouth Tool</td><td>20832.81</td></tr><tr><td>Improve Item</td><td>20831.66</td></tr><tr><td>Act Tool</td><td>20830.14</td></tr><tr><td>Scene Accessory</td><td>20824.94</td></tr><tr><td>Onto Tool</td><td>20813.079999999998</td></tr><tr><td>Plan Gadget</td><td>20808.52</td></tr><tr><td>Establish Device</td><td>20801.38</td></tr><tr><td>Something Device</td><td>20799.61</td></tr><tr><td>Make Gadget</td><td>20791.98</td></tr><tr><td>Morning Device</td><td>20787.589999999997</td></tr><tr><td>Particular Accessory</td><td>20770.58</td></tr><tr><td>Sea Item</td><td>20764.789999999997</td></tr><tr><td>Foreign Gadget</td><td>20764.04</td></tr><tr><td>Very Tool</td><td>20761.850000000002</td></tr><tr><td>Letter Item</td><td>20760.57</td></tr><tr><td>Why Tool</td><td>20748.039999999997</td></tr><tr><td>Production Gadget</td><td>20742.99</td></tr><tr><td>Agent Device</td><td>20740.940000000002</td></tr><tr><td>Light Accessory</td><td>20740.2</td></tr><tr><td>About Tool</td><td>20736.200000000004</td></tr><tr><td>Chair Gadget</td><td>20730.850000000002</td></tr><tr><td>The Tool</td><td>20716.350000000002</td></tr><tr><td>Ask Tool</td><td>20709.729999999996</td></tr><tr><td>Purpose Gadget</td><td>20708.54</td></tr><tr><td>Trip Item</td><td>20699.54</td></tr><tr><td>Set Tool</td><td>20681.83</td></tr><tr><td>Various Item</td><td>20659.149999999998</td></tr><tr><td>Seat Tool</td><td>20656.920000000002</td></tr><tr><td>Other Tool</td><td>20645.46</td></tr><tr><td>Have Tool</td><td>20644.74</td></tr><tr><td>Citizen Gadget</td><td>20644.480000000003</td></tr><tr><td>Get Device</td><td>20630.640000000003</td></tr><tr><td>Paper Accessory</td><td>20626.129999999997</td></tr><tr><td>Hear Item</td><td>20624.73</td></tr><tr><td>Design Tool</td><td>20610.749999999996</td></tr><tr><td>Meeting Gadget</td><td>20607.57</td></tr><tr><td>Than Device</td><td>20599.350000000002</td></tr><tr><td>Environmental Gadget</td><td>20589.16</td></tr><tr><td>Account Gadget</td><td>20572.100000000002</td></tr><tr><td>Phone Device</td><td>20570.880000000005</td></tr><tr><td>Fire Item</td><td>20566.979999999996</td></tr><tr><td>Partner Gadget</td><td>20561.2</td></tr><tr><td>Positive Accessory</td><td>20556.760000000002</td></tr><tr><td>American Tool</td><td>20556.440000000002</td></tr><tr><td>Be Gadget</td><td>20553.869999999995</td></tr><tr><td>Subject Item</td><td>20552.07</td></tr><tr><td>Clearly Device</td><td>20548.1</td></tr><tr><td>Different Accessory</td><td>20546.359999999997</td></tr><tr><td>Management Device</td><td>20539.23</td></tr><tr><td>Accept Device</td><td>20537.11</td></tr><tr><td>Serious Tool</td><td>20529.960000000003</td></tr><tr><td>Try Gadget</td><td>20520.920000000002</td></tr><tr><td>When Tool</td><td>20514.95</td></tr><tr><td>Somebody Device</td><td>20513.280000000002</td></tr><tr><td>Magazine Accessory</td><td>20510.31</td></tr><tr><td>Term Tool</td><td>20501.670000000002</td></tr><tr><td>Article Tool</td><td>20500.299999999996</td></tr><tr><td>Walk Device</td><td>20490.339999999997</td></tr><tr><td>Some Device</td><td>20486.66</td></tr><tr><td>Military Gadget</td><td>20486.4</td></tr><tr><td>Easy Device</td><td>20483.82</td></tr><tr><td>Hand Item</td><td>20482.739999999998</td></tr><tr><td>Training Item</td><td>20481.28</td></tr><tr><td>Reduce Gadget</td><td>20480.76</td></tr><tr><td>Pull Tool</td><td>20476.210000000003</td></tr><tr><td>Town Accessory</td><td>20471.85</td></tr><tr><td>Yet Tool</td><td>20471.4</td></tr><tr><td>Note Accessory</td><td>20469.08</td></tr><tr><td>Exactly Device</td><td>20466.35</td></tr><tr><td>Visit Device</td><td>20456.850000000002</td></tr><tr><td>Situation Item</td><td>20454.29</td></tr><tr><td>Try Tool</td><td>20448.53</td></tr><tr><td>Same Tool</td><td>20447.35</td></tr><tr><td>Realize Device</td><td>20446.86</td></tr><tr><td>Take Tool</td><td>20433.760000000002</td></tr><tr><td>Expert Accessory</td><td>20431.670000000002</td></tr><tr><td>Sense Accessory</td><td>20404.98</td></tr><tr><td>Yes Item</td><td>20401.88</td></tr><tr><td>Product Tool</td><td>20398.93</td></tr><tr><td>Rise Item</td><td>20397.12</td></tr><tr><td>Body Accessory</td><td>20388.53</td></tr><tr><td>East Gadget</td><td>20385.91</td></tr><tr><td>They Accessory</td><td>20356.79</td></tr><tr><td>Career Tool</td><td>20354.629999999997</td></tr><tr><td>Arrive Tool</td><td>20354.520000000004</td></tr><tr><td>Grow Item</td><td>20353.030000000002</td></tr><tr><td>First Gadget</td><td>20349.679999999997</td></tr><tr><td>Budget Item</td><td>20348.79</td></tr><tr><td>Report Item</td><td>20344.34</td></tr><tr><td>Next Accessory</td><td>20343.21</td></tr><tr><td>Clearly Tool</td><td>20339.66</td></tr><tr><td>Letter Accessory</td><td>20339.4</td></tr><tr><td>Movement Accessory</td><td>20331.969999999998</td></tr><tr><td>Professor Gadget</td><td>20325.239999999998</td></tr><tr><td>Off Tool</td><td>20324.26</td></tr><tr><td>Rest Tool</td><td>20307.920000000002</td></tr><tr><td>Too Tool</td><td>20307.75</td></tr><tr><td>My Accessory</td><td>20305.329999999994</td></tr><tr><td>Song Gadget</td><td>20296.13</td></tr><tr><td>Voice Tool</td><td>20294.679999999997</td></tr><tr><td>Until Gadget</td><td>20293.19</td></tr><tr><td>Military Device</td><td>20290.190000000002</td></tr><tr><td>Stay Gadget</td><td>20287.15</td></tr><tr><td>Everything Accessory</td><td>20279.839999999997</td></tr><tr><td>Book Accessory</td><td>20269.35</td></tr><tr><td>Stand Accessory</td><td>20266.460000000003</td></tr><tr><td>Agree Accessory</td><td>20260.47</td></tr><tr><td>Item Accessory</td><td>20228.55</td></tr><tr><td>Enter Item</td><td>20228.19</td></tr><tr><td>Since Accessory</td><td>20226.210000000003</td></tr><tr><td>Well Accessory</td><td>20225.69</td></tr><tr><td>For Item</td><td>20222.69</td></tr><tr><td>Little Item</td><td>20216.57</td></tr><tr><td>Sign Gadget</td><td>20215.269999999997</td></tr><tr><td>Sound Tool</td><td>20208.36</td></tr><tr><td>Around Item</td><td>20201.519999999997</td></tr><tr><td>Message Device</td><td>20193.899999999998</td></tr><tr><td>Whether Gadget</td><td>20187.38</td></tr><tr><td>Rich Accessory</td><td>20169.050000000003</td></tr><tr><td>Magazine Item</td><td>20167.329999999994</td></tr><tr><td>Medical Accessory</td><td>20159.79</td></tr><tr><td>Modern Accessory</td><td>20157.32</td></tr><tr><td>Thank Gadget</td><td>20143.18</td></tr><tr><td>Against Device</td><td>20139.31</td></tr><tr><td>Various Gadget</td><td>20127.96</td></tr><tr><td>Arrive Item</td><td>20127.79</td></tr><tr><td>Few Accessory</td><td>20122.25</td></tr><tr><td>My Item</td><td>20119.72</td></tr><tr><td>Way Gadget</td><td>20117.62</td></tr><tr><td>Million Gadget</td><td>20087.769999999997</td></tr><tr><td>Part Device</td><td>20080.12</td></tr><tr><td>Wait Gadget</td><td>20078.46</td></tr><tr><td>Alone Device</td><td>20074.82</td></tr><tr><td>Late Item</td><td>20069.59</td></tr><tr><td>Could Item</td><td>20069.43</td></tr><tr><td>Oil Accessory</td><td>20062.130000000005</td></tr><tr><td>Produce Tool</td><td>20059.839999999997</td></tr><tr><td>Bring Tool</td><td>20046.860000000004</td></tr><tr><td>Laugh Gadget</td><td>20042.63</td></tr><tr><td>Enough Accessory</td><td>20037.35</td></tr><tr><td>Top Item</td><td>20037.11</td></tr><tr><td>Bill Device</td><td>20030.940000000002</td></tr><tr><td>Record Device</td><td>20026.76</td></tr><tr><td>Front Tool</td><td>20018.54</td></tr><tr><td>Right Tool</td><td>20011.54</td></tr><tr><td>One Accessory</td><td>19999.519999999997</td></tr><tr><td>Like Device</td><td>19995.379999999997</td></tr><tr><td>Hot Gadget</td><td>19992.29</td></tr><tr><td>Of Device</td><td>19980.030000000006</td></tr><tr><td>Leave Device</td><td>19970.920000000006</td></tr><tr><td>Box Accessory</td><td>19970.699999999997</td></tr><tr><td>Personal Accessory</td><td>19945.730000000003</td></tr><tr><td>Go Device</td><td>19931.809999999998</td></tr><tr><td>Just Tool</td><td>19926.659999999996</td></tr><tr><td>Role Accessory</td><td>19914.49</td></tr><tr><td>Seem Device</td><td>19908.260000000002</td></tr><tr><td>Receive Device</td><td>19903.410000000003</td></tr><tr><td>Appear Accessory</td><td>19899.05</td></tr><tr><td>Little Accessory</td><td>19896.82</td></tr><tr><td>Claim Tool</td><td>19895.370000000003</td></tr><tr><td>Design Gadget</td><td>19893.58</td></tr><tr><td>Decision Tool</td><td>19892.120000000003</td></tr><tr><td>Knowledge Accessory</td><td>19880.77</td></tr><tr><td>Huge Accessory</td><td>19879.36</td></tr><tr><td>Family Device</td><td>19869.920000000002</td></tr><tr><td>Mr Tool</td><td>19865.570000000003</td></tr><tr><td>Lot Device</td><td>19864.61</td></tr><tr><td>Into Item</td><td>19863.079999999998</td></tr><tr><td>Poor Tool</td><td>19857.890000000003</td></tr><tr><td>Best Gadget</td><td>19856.52</td></tr><tr><td>Enter Accessory</td><td>19854.49</td></tr><tr><td>Claim Accessory</td><td>19854.090000000004</td></tr><tr><td>Difficult Tool</td><td>19842.260000000002</td></tr><tr><td>Sing Accessory</td><td>19833.32</td></tr><tr><td>Discuss Accessory</td><td>19828.990000000005</td></tr><tr><td>Provide Tool</td><td>19828.820000000003</td></tr><tr><td>Nature Tool</td><td>19827.58</td></tr><tr><td>Cost Gadget</td><td>19826.53</td></tr><tr><td>Skin Device</td><td>19822.550000000003</td></tr><tr><td>Might Item</td><td>19820.68</td></tr><tr><td>Discover Gadget</td><td>19816.41</td></tr><tr><td>Enjoy Accessory</td><td>19813.74</td></tr><tr><td>Difficult Item</td><td>19799.72</td></tr><tr><td>If Accessory</td><td>19786.910000000003</td></tr><tr><td>Evening Accessory</td><td>19784.239999999998</td></tr><tr><td>International Item</td><td>19779.670000000002</td></tr><tr><td>Partner Tool</td><td>19772.57</td></tr><tr><td>Price Accessory</td><td>19770.38</td></tr><tr><td>Culture Tool</td><td>19769.280000000002</td></tr><tr><td>Would Gadget</td><td>19762.84</td></tr><tr><td>Current Accessory</td><td>19761.670000000002</td></tr><tr><td>Myself Item</td><td>19754.850000000002</td></tr><tr><td>Hard Item</td><td>19753.8</td></tr><tr><td>Ask Item</td><td>19752.9</td></tr><tr><td>Which Item</td><td>19752.7</td></tr><tr><td>Man Accessory</td><td>19751.35</td></tr><tr><td>Statement Gadget</td><td>19741.05</td></tr><tr><td>Like Tool</td><td>19734.69</td></tr><tr><td>Factor Item</td><td>19727.110000000004</td></tr><tr><td>If Tool</td><td>19724.389999999996</td></tr><tr><td>Woman Tool</td><td>19713.280000000002</td></tr><tr><td>Treat Gadget</td><td>19712.45</td></tr><tr><td>Guy Accessory</td><td>19710.4</td></tr><tr><td>Approach Item</td><td>19708.640000000003</td></tr><tr><td>Of Tool</td><td>19706.670000000002</td></tr><tr><td>Store Accessory</td><td>19705.86</td></tr><tr><td>During Device</td><td>19700.37</td></tr><tr><td>Let Item</td><td>19699.449999999997</td></tr><tr><td>Player Device</td><td>19693.94</td></tr><tr><td>Collection Item</td><td>19685.39</td></tr><tr><td>Onto Device</td><td>19681.67</td></tr><tr><td>Speech Device</td><td>19677.83</td></tr><tr><td>Family Tool</td><td>19675.799999999996</td></tr><tr><td>Force Item</td><td>19672.120000000003</td></tr><tr><td>Drop Gadget</td><td>19667.449999999997</td></tr><tr><td>Store Item</td><td>19660.0</td></tr><tr><td>Over Device</td><td>19653.76</td></tr><tr><td>Statement Device</td><td>19651.62</td></tr><tr><td>Bring Item</td><td>19644.760000000002</td></tr><tr><td>Room Item</td><td>19637.98</td></tr><tr><td>Detail Device</td><td>19631.160000000003</td></tr><tr><td>Including Tool</td><td>19626.620000000003</td></tr><tr><td>People Accessory</td><td>19619.359999999997</td></tr><tr><td>Recently Tool</td><td>19618.81</td></tr><tr><td>Argue Gadget</td><td>19616.89</td></tr><tr><td>Dark Device</td><td>19611.500000000004</td></tr><tr><td>Leg Item</td><td>19608.159999999996</td></tr><tr><td>Mother Device</td><td>19595.910000000003</td></tr><tr><td>Official Item</td><td>19587.850000000002</td></tr><tr><td>Parent Item</td><td>19585.629999999997</td></tr><tr><td>Although Tool</td><td>19577.170000000002</td></tr><tr><td>Feeling Tool</td><td>19576.87</td></tr><tr><td>Garden Accessory</td><td>19572.9</td></tr><tr><td>Involve Tool</td><td>19555.07</td></tr><tr><td>Various Accessory</td><td>19550.98</td></tr><tr><td>Senior Device</td><td>19548.36</td></tr><tr><td>Activity Accessory</td><td>19542.92</td></tr><tr><td>Wonder Accessory</td><td>19541.649999999998</td></tr><tr><td>Vote Item</td><td>19540.67</td></tr><tr><td>Brother Item</td><td>19533.48</td></tr><tr><td>Audience Gadget</td><td>19532.69</td></tr><tr><td>Management Gadget</td><td>19529.410000000003</td></tr><tr><td>Development Accessory</td><td>19529.18</td></tr><tr><td>Majority Device</td><td>19516.76</td></tr><tr><td>Doctor Tool</td><td>19507.93</td></tr><tr><td>Increase Tool</td><td>19489.64</td></tr><tr><td>Return Gadget</td><td>19488.019999999997</td></tr><tr><td>He Tool</td><td>19486.800000000003</td></tr><tr><td>Grow Gadget</td><td>19485.15</td></tr><tr><td>Outside Accessory</td><td>19480.67</td></tr><tr><td>Which Accessory</td><td>19480.55</td></tr><tr><td>Treat Tool</td><td>19478.83</td></tr><tr><td>Reveal Item</td><td>19458.32</td></tr><tr><td>White Tool</td><td>19458.120000000003</td></tr><tr><td>Article Gadget</td><td>19454.77</td></tr><tr><td>Cup Gadget</td><td>19446.190000000002</td></tr><tr><td>Side Device</td><td>19442.129999999997</td></tr><tr><td>Tough Accessory</td><td>19436.43</td></tr><tr><td>Despite Gadget</td><td>19413.52</td></tr><tr><td>Specific Gadget</td><td>19405.879999999997</td></tr><tr><td>Decision Accessory</td><td>19399.359999999997</td></tr><tr><td>Either Gadget</td><td>19398.069999999996</td></tr><tr><td>Sell Accessory</td><td>19396.839999999997</td></tr><tr><td>Get Accessory</td><td>19396.07</td></tr><tr><td>National Device</td><td>19384.119999999995</td></tr><tr><td>Price Item</td><td>19375.04</td></tr><tr><td>Look Accessory</td><td>19371.23</td></tr><tr><td>Every Accessory</td><td>19362.600000000002</td></tr><tr><td>Capital Device</td><td>19359.0</td></tr><tr><td>Ok Gadget</td><td>19358.47</td></tr><tr><td>Body Tool</td><td>19351.24</td></tr><tr><td>Choice Item</td><td>19349.84</td></tr><tr><td>Front Gadget</td><td>19348.219999999998</td></tr><tr><td>News Gadget</td><td>19338.98</td></tr><tr><td>Concern Device</td><td>19337.69</td></tr><tr><td>Head Item</td><td>19337.04</td></tr><tr><td>People Tool</td><td>19332.76</td></tr><tr><td>Almost Gadget</td><td>19329.39</td></tr><tr><td>Pick Accessory</td><td>19325.42</td></tr><tr><td>Against Item</td><td>19316.940000000002</td></tr><tr><td>Suffer Item</td><td>19314.55</td></tr><tr><td>Dog Tool</td><td>19314.199999999997</td></tr><tr><td>Dark Accessory</td><td>19308.340000000004</td></tr><tr><td>Reason Device</td><td>19306.03</td></tr><tr><td>Statement Tool</td><td>19300.320000000003</td></tr><tr><td>Budget Accessory</td><td>19297.1</td></tr><tr><td>Green Item</td><td>19273.809999999998</td></tr><tr><td>Since Item</td><td>19273.780000000002</td></tr><tr><td>Machine Gadget</td><td>19264.239999999998</td></tr><tr><td>Off Gadget</td><td>19253.21</td></tr><tr><td>From Item</td><td>19252.07</td></tr><tr><td>Treat Item</td><td>19239.19</td></tr><tr><td>First Accessory</td><td>19226.230000000003</td></tr><tr><td>Tax Item</td><td>19223.31</td></tr><tr><td>Argue Item</td><td>19209.140000000003</td></tr><tr><td>Artist Device</td><td>19207.940000000002</td></tr><tr><td>Establish Gadget</td><td>19205.78</td></tr><tr><td>News Tool</td><td>19173.389999999996</td></tr><tr><td>Present Item</td><td>19166.48</td></tr><tr><td>Must Item</td><td>19160.609999999997</td></tr><tr><td>Adult Device</td><td>19155.29</td></tr><tr><td>Skill Accessory</td><td>19155.249999999996</td></tr><tr><td>Lay Gadget</td><td>19152.160000000003</td></tr><tr><td>Radio Device</td><td>19150.04</td></tr><tr><td>Staff Item</td><td>19143.32</td></tr><tr><td>Produce Gadget</td><td>19140.25</td></tr><tr><td>Including Accessory</td><td>19133.879999999997</td></tr><tr><td>Parent Device</td><td>19127.85</td></tr><tr><td>Power Item</td><td>19127.13</td></tr><tr><td>Defense Gadget</td><td>19124.23</td></tr><tr><td>Information Accessory</td><td>19108.339999999997</td></tr><tr><td>Blue Gadget</td><td>19108.079999999998</td></tr><tr><td>Finally Item</td><td>19104.69</td></tr><tr><td>Bar Gadget</td><td>19096.030000000002</td></tr><tr><td>Pm Tool</td><td>19089.29</td></tr><tr><td>Authority Accessory</td><td>19088.54</td></tr><tr><td>Public Accessory</td><td>19065.699999999997</td></tr><tr><td>Model Item</td><td>19061.359999999997</td></tr><tr><td>Require Item</td><td>19060.190000000002</td></tr><tr><td>Start Device</td><td>19059.42</td></tr><tr><td>Then Gadget</td><td>19055.809999999998</td></tr><tr><td>Prepare Item</td><td>19052.010000000002</td></tr><tr><td>Guy Device</td><td>19050.18</td></tr><tr><td>Wonder Device</td><td>19045.9</td></tr><tr><td>Let Gadget</td><td>19032.629999999997</td></tr><tr><td>Travel Gadget</td><td>19032.09</td></tr><tr><td>Later Gadget</td><td>19028.200000000004</td></tr><tr><td>Three Device</td><td>19020.519999999997</td></tr><tr><td>Every Device</td><td>19005.510000000002</td></tr><tr><td>View Tool</td><td>19003.33</td></tr><tr><td>Any Gadget</td><td>19000.730000000003</td></tr><tr><td>Direction Tool</td><td>18993.62</td></tr><tr><td>Western Device</td><td>18991.899999999998</td></tr><tr><td>Station Accessory</td><td>18984.910000000003</td></tr><tr><td>Sing Item</td><td>18970.229999999996</td></tr><tr><td>More Device</td><td>18969.5</td></tr><tr><td>Watch Item</td><td>18965.780000000002</td></tr><tr><td>Course Item</td><td>18963.790000000005</td></tr><tr><td>Interview Tool</td><td>18958.78</td></tr><tr><td>Inside Tool</td><td>18958.33</td></tr><tr><td>Option Tool</td><td>18946.25</td></tr><tr><td>Enter Gadget</td><td>18906.87</td></tr><tr><td>They Gadget</td><td>18882.399999999998</td></tr><tr><td>Knowledge Device</td><td>18882.14</td></tr><tr><td>Yes Tool</td><td>18879.230000000003</td></tr><tr><td>Food Accessory</td><td>18877.989999999998</td></tr><tr><td>At Accessory</td><td>18877.289999999997</td></tr><tr><td>Democrat Gadget</td><td>18875.72</td></tr><tr><td>While Gadget</td><td>18865.57</td></tr><tr><td>Defense Accessory</td><td>18853.699999999997</td></tr><tr><td>Morning Tool</td><td>18842.58</td></tr><tr><td>Spend Gadget</td><td>18831.24</td></tr><tr><td>Cut Item</td><td>18827.14</td></tr><tr><td>Billion Device</td><td>18823.21</td></tr><tr><td>Check Item</td><td>18822.71</td></tr><tr><td>Daughter Accessory</td><td>18800.46</td></tr><tr><td>Thus Tool</td><td>18798.309999999998</td></tr><tr><td>Appear Item</td><td>18794.220000000005</td></tr><tr><td>Computer Tool</td><td>18792.670000000002</td></tr><tr><td>Expert Item</td><td>18782.52</td></tr><tr><td>Clearly Item</td><td>18773.949999999997</td></tr><tr><td>Federal Accessory</td><td>18771.83</td></tr><tr><td>Protect Tool</td><td>18769.460000000003</td></tr><tr><td>Man Gadget</td><td>18765.84</td></tr><tr><td>Tend Accessory</td><td>18760.070000000003</td></tr><tr><td>Common Device</td><td>18752.430000000004</td></tr><tr><td>Really Tool</td><td>18748.06</td></tr><tr><td>Small Item</td><td>18740.07</td></tr><tr><td>Book Device</td><td>18731.52</td></tr><tr><td>Its Device</td><td>18720.44</td></tr><tr><td>Director Device</td><td>18720.29</td></tr><tr><td>Blood Tool</td><td>18718.399999999994</td></tr><tr><td>Sell Item</td><td>18713.879999999997</td></tr><tr><td>Form Item</td><td>18696.23</td></tr><tr><td>Matter Item</td><td>18692.050000000003</td></tr><tr><td>Imagine Item</td><td>18688.57</td></tr><tr><td>Eat Gadget</td><td>18687.58</td></tr><tr><td>Serious Accessory</td><td>18679.14</td></tr><tr><td>Half Device</td><td>18674.51</td></tr><tr><td>Learn Device</td><td>18668.660000000003</td></tr><tr><td>Be Item</td><td>18666.35</td></tr><tr><td>Near Accessory</td><td>18654.2</td></tr><tr><td>Else Item</td><td>18645.780000000002</td></tr><tr><td>Beyond Device</td><td>18645.499999999996</td></tr><tr><td>Bit Accessory</td><td>18644.260000000002</td></tr><tr><td>Together Tool</td><td>18641.280000000002</td></tr><tr><td>Whom Tool</td><td>18639.48</td></tr><tr><td>East Tool</td><td>18636.71</td></tr><tr><td>Which Gadget</td><td>18623.850000000002</td></tr><tr><td>Interview Item</td><td>18623.43</td></tr><tr><td>Hospital Device</td><td>18621.120000000003</td></tr><tr><td>Yes Device</td><td>18620.76</td></tr><tr><td>There Item</td><td>18620.08</td></tr><tr><td>Easy Accessory</td><td>18612.62</td></tr><tr><td>Drug Accessory</td><td>18607.32</td></tr><tr><td>Door Item</td><td>18606.49</td></tr><tr><td>Because Accessory</td><td>18598.050000000003</td></tr><tr><td>Hour Item</td><td>18584.440000000002</td></tr><tr><td>Manager Accessory</td><td>18582.409999999996</td></tr><tr><td>Stay Accessory</td><td>18560.94</td></tr><tr><td>War Accessory</td><td>18559.81</td></tr><tr><td>General Tool</td><td>18557.95</td></tr><tr><td>Rather Gadget</td><td>18549.23</td></tr><tr><td>Prepare Device</td><td>18548.02</td></tr><tr><td>Water Tool</td><td>18537.13</td></tr><tr><td>Agree Tool</td><td>18535.489999999998</td></tr><tr><td>Paper Gadget</td><td>18530.1</td></tr><tr><td>Dog Accessory</td><td>18524.240000000005</td></tr><tr><td>Professional Accessory</td><td>18519.45</td></tr><tr><td>Individual Gadget</td><td>18519.4</td></tr><tr><td>Where Device</td><td>18493.25</td></tr><tr><td>Consumer Tool</td><td>18490.17</td></tr><tr><td>Response Device</td><td>18481.31</td></tr><tr><td>Score Tool</td><td>18474.79</td></tr><tr><td>Case Tool</td><td>18451.97</td></tr><tr><td>Explain Device</td><td>18445.26</td></tr><tr><td>Any Accessory</td><td>18444.480000000003</td></tr><tr><td>Animal Accessory</td><td>18434.57</td></tr><tr><td>Simple Device</td><td>18434.2</td></tr><tr><td>Media Gadget</td><td>18430.989999999998</td></tr><tr><td>Scene Tool</td><td>18427.82</td></tr><tr><td>Result Item</td><td>18426.48</td></tr><tr><td>Perform Gadget</td><td>18424.17</td></tr><tr><td>Glass Item</td><td>18414.14</td></tr><tr><td>State Item</td><td>18407.070000000003</td></tr><tr><td>Job Gadget</td><td>18402.52</td></tr><tr><td>Truth Device</td><td>18382.660000000003</td></tr><tr><td>Admit Device</td><td>18362.949999999997</td></tr><tr><td>Thank Accessory</td><td>18361.33</td></tr><tr><td>Choice Device</td><td>18357.940000000002</td></tr><tr><td>Live Accessory</td><td>18347.83</td></tr><tr><td>Identify Gadget</td><td>18342.1</td></tr><tr><td>Put Item</td><td>18341.0</td></tr><tr><td>Focus Tool</td><td>18321.93</td></tr><tr><td>Effect Device</td><td>18305.14</td></tr><tr><td>Throw Gadget</td><td>18286.5</td></tr><tr><td>Summer Accessory</td><td>18285.7</td></tr><tr><td>Give Item</td><td>18285.38</td></tr><tr><td>Truth Accessory</td><td>18279.770000000004</td></tr><tr><td>Company Tool</td><td>18273.21</td></tr><tr><td>Particular Gadget</td><td>18269.55</td></tr><tr><td>Notice Device</td><td>18263.27</td></tr><tr><td>Ok Item</td><td>18260.46</td></tr><tr><td>Although Accessory</td><td>18251.86</td></tr><tr><td>Such Gadget</td><td>18248.510000000002</td></tr><tr><td>Station Tool</td><td>18238.55</td></tr><tr><td>Debate Tool</td><td>18231.66</td></tr><tr><td>Start Gadget</td><td>18225.14</td></tr><tr><td>Would Accessory</td><td>18222.670000000002</td></tr><tr><td>Design Device</td><td>18215.3</td></tr><tr><td>Dog Device</td><td>18214.179999999997</td></tr><tr><td>Yeah Gadget</td><td>18212.749999999996</td></tr><tr><td>Dark Tool</td><td>18208.6</td></tr><tr><td>Quickly Tool</td><td>18207.25</td></tr><tr><td>Compare Accessory</td><td>18201.01</td></tr><tr><td>Floor Item</td><td>18194.97</td></tr><tr><td>National Gadget</td><td>18175.079999999998</td></tr><tr><td>Talk Item</td><td>18166.630000000005</td></tr><tr><td>Report Gadget</td><td>18158.379999999997</td></tr><tr><td>Baby Tool</td><td>18126.92</td></tr><tr><td>Help Tool</td><td>18126.36</td></tr><tr><td>Agency Accessory</td><td>18120.760000000002</td></tr><tr><td>Population Tool</td><td>18119.9</td></tr><tr><td>Finally Gadget</td><td>18107.32</td></tr><tr><td>Pass Gadget</td><td>18105.81</td></tr><tr><td>Woman Device</td><td>18103.129999999997</td></tr><tr><td>Guess Gadget</td><td>18102.72</td></tr><tr><td>These Tool</td><td>18100.02</td></tr><tr><td>Arm Gadget</td><td>18090.120000000003</td></tr><tr><td>Say Device</td><td>18074.78</td></tr><tr><td>Charge Gadget</td><td>18072.519999999997</td></tr><tr><td>Student Gadget</td><td>18067.06</td></tr><tr><td>Without Gadget</td><td>18064.019999999997</td></tr><tr><td>Response Item</td><td>18058.38</td></tr><tr><td>Simple Tool</td><td>18052.269999999997</td></tr><tr><td>Law Device</td><td>18050.690000000002</td></tr><tr><td>Central Tool</td><td>18023.579999999998</td></tr><tr><td>Back Item</td><td>18020.92</td></tr><tr><td>Investment Item</td><td>18019.32</td></tr><tr><td>President Gadget</td><td>18011.72</td></tr><tr><td>Either Device</td><td>18008.25</td></tr><tr><td>Garden Tool</td><td>18001.199999999997</td></tr><tr><td>Maintain Device</td><td>17998.18</td></tr><tr><td>Organization Accessory</td><td>17994.339999999997</td></tr><tr><td>Difficult Gadget</td><td>17985.140000000003</td></tr><tr><td>Strong Tool</td><td>17979.18</td></tr><tr><td>Wife Device</td><td>17978.37</td></tr><tr><td>Bank Tool</td><td>17972.98</td></tr><tr><td>Coach Item</td><td>17969.58</td></tr><tr><td>Economic Item</td><td>17967.53</td></tr><tr><td>Stock Tool</td><td>17961.57</td></tr><tr><td>Level Gadget</td><td>17955.19</td></tr><tr><td>Down Accessory</td><td>17953.11</td></tr><tr><td>Ahead Item</td><td>17943.68</td></tr><tr><td>Full Item</td><td>17943.25</td></tr><tr><td>Give Accessory</td><td>17928.45</td></tr><tr><td>Toward Item</td><td>17915.32</td></tr><tr><td>Fall Item</td><td>17909.37</td></tr><tr><td>Person Item</td><td>17901.17</td></tr><tr><td>Next Item</td><td>17896.07</td></tr><tr><td>Debate Item</td><td>17895.78</td></tr><tr><td>Begin Item</td><td>17894.08</td></tr><tr><td>Business Device</td><td>17894.02</td></tr><tr><td>Hundred Device</td><td>17892.350000000002</td></tr><tr><td>Be Device</td><td>17890.21</td></tr><tr><td>Artist Item</td><td>17885.910000000003</td></tr><tr><td>Tend Gadget</td><td>17878.220000000005</td></tr><tr><td>Him Accessory</td><td>17877.35</td></tr><tr><td>As Accessory</td><td>17873.27</td></tr><tr><td>Note Gadget</td><td>17870.39</td></tr><tr><td>Force Accessory</td><td>17869.4</td></tr><tr><td>Risk Gadget</td><td>17868.54</td></tr><tr><td>Music Gadget</td><td>17859.5</td></tr><tr><td>Father Accessory</td><td>17852.120000000003</td></tr><tr><td>Seven Accessory</td><td>17851.71</td></tr><tr><td>When Gadget</td><td>17849.4</td></tr><tr><td>Game Tool</td><td>17839.149999999998</td></tr><tr><td>Sure Device</td><td>17836.87</td></tr><tr><td>Impact Tool</td><td>17831.250000000004</td></tr><tr><td>Strong Item</td><td>17806.46</td></tr><tr><td>Indeed Tool</td><td>17806.3</td></tr><tr><td>Step Gadget</td><td>17797.600000000002</td></tr><tr><td>Network Device</td><td>17794.17</td></tr><tr><td>Office Item</td><td>17787.989999999998</td></tr><tr><td>Smile Accessory</td><td>17775.3</td></tr><tr><td>Sing Tool</td><td>17775.11</td></tr><tr><td>Long Gadget</td><td>17769.59</td></tr><tr><td>Car Item</td><td>17763.99</td></tr><tr><td>Beautiful Device</td><td>17760.3</td></tr><tr><td>Require Tool</td><td>17758.729999999996</td></tr><tr><td>Soon Device</td><td>17756.4</td></tr><tr><td>Population Item</td><td>17749.68</td></tr><tr><td>Need Accessory</td><td>17739.510000000002</td></tr><tr><td>Prepare Accessory</td><td>17735.18</td></tr><tr><td>Put Gadget</td><td>17734.23</td></tr><tr><td>Sell Tool</td><td>17725.53</td></tr><tr><td>Big Item</td><td>17723.389999999996</td></tr><tr><td>Approach Gadget</td><td>17717.36</td></tr><tr><td>Find Tool</td><td>17715.8</td></tr><tr><td>Seem Accessory</td><td>17706.48</td></tr><tr><td>Method Item</td><td>17698.519999999997</td></tr><tr><td>Country Tool</td><td>17688.28</td></tr><tr><td>Buy Gadget</td><td>17677.820000000003</td></tr><tr><td>Fine Device</td><td>17677.77</td></tr><tr><td>Relationship Device</td><td>17677.66</td></tr><tr><td>Manage Device</td><td>17676.7</td></tr><tr><td>Card Accessory</td><td>17676.620000000003</td></tr><tr><td>Particularly Device</td><td>17676.199999999997</td></tr><tr><td>City Gadget</td><td>17666.95</td></tr><tr><td>Between Gadget</td><td>17655.67</td></tr><tr><td>Raise Item</td><td>17635.620000000003</td></tr><tr><td>Ask Device</td><td>17622.770000000004</td></tr><tr><td>Thousand Device</td><td>17612.440000000002</td></tr><tr><td>Ten Accessory</td><td>17609.5</td></tr><tr><td>Full Accessory</td><td>17607.809999999998</td></tr><tr><td>Usually Tool</td><td>17600.18</td></tr><tr><td>Since Gadget</td><td>17598.629999999997</td></tr><tr><td>Hit Item</td><td>17584.15</td></tr><tr><td>Cause Item</td><td>17583.85</td></tr><tr><td>Visit Item</td><td>17582.18</td></tr><tr><td>Speak Tool</td><td>17578.7</td></tr><tr><td>Discussion Device</td><td>17571.04</td></tr><tr><td>Time Tool</td><td>17570.94</td></tr><tr><td>Medical Tool</td><td>17553.09</td></tr><tr><td>Stand Item</td><td>17550.980000000003</td></tr><tr><td>Impact Device</td><td>17547.6</td></tr><tr><td>Eight Gadget</td><td>17536.77</td></tr><tr><td>What Item</td><td>17536.719999999998</td></tr><tr><td>Particular Item</td><td>17535.92</td></tr><tr><td>Next Device</td><td>17535.28</td></tr><tr><td>Lot Tool</td><td>17527.35</td></tr><tr><td>Son Accessory</td><td>17514.96</td></tr><tr><td>North Gadget</td><td>17514.67</td></tr><tr><td>Baby Device</td><td>17514.6</td></tr><tr><td>Focus Gadget</td><td>17507.16</td></tr><tr><td>Explain Accessory</td><td>17499.5</td></tr><tr><td>Unit Gadget</td><td>17497.8</td></tr><tr><td>Hold Gadget</td><td>17489.46</td></tr><tr><td>Painting Tool</td><td>17483.34</td></tr><tr><td>Nation Tool</td><td>17482.059999999998</td></tr><tr><td>Note Tool</td><td>17478.23</td></tr><tr><td>Particular Tool</td><td>17470.08</td></tr><tr><td>Science Item</td><td>17464.33</td></tr><tr><td>Anything Device</td><td>17455.690000000002</td></tr><tr><td>Worker Accessory</td><td>17453.969999999998</td></tr><tr><td>Offer Device</td><td>17434.15</td></tr><tr><td>Raise Tool</td><td>17430.899999999998</td></tr><tr><td>Tonight Device</td><td>17430.100000000002</td></tr><tr><td>Around Tool</td><td>17426.66</td></tr><tr><td>Quite Gadget</td><td>17422.94</td></tr><tr><td>Chair Item</td><td>17409.190000000002</td></tr><tr><td>Stuff Gadget</td><td>17406.28</td></tr><tr><td>Play Item</td><td>17403.309999999998</td></tr><tr><td>Move Item</td><td>17398.879999999997</td></tr><tr><td>Beautiful Tool</td><td>17378.48</td></tr><tr><td>Out Gadget</td><td>17374.46</td></tr><tr><td>Amount Gadget</td><td>17368.690000000002</td></tr><tr><td>Church Item</td><td>17366.620000000003</td></tr><tr><td>Sense Device</td><td>17348.03</td></tr><tr><td>Start Accessory</td><td>17333.59</td></tr><tr><td>Strategy Item</td><td>17330.579999999998</td></tr><tr><td>Control Device</td><td>17322.55</td></tr><tr><td>Political Device</td><td>17322.129999999997</td></tr><tr><td>Writer Accessory</td><td>17315.41</td></tr><tr><td>Civil Gadget</td><td>17305.480000000003</td></tr><tr><td>Kind Accessory</td><td>17301.85</td></tr><tr><td>Area Tool</td><td>17297.86</td></tr><tr><td>Class Item</td><td>17295.88</td></tr><tr><td>Summer Tool</td><td>17277.07</td></tr><tr><td>Order Item</td><td>17271.019999999997</td></tr><tr><td>Relate Accessory</td><td>17235.65</td></tr><tr><td>Term Device</td><td>17224.039999999997</td></tr><tr><td>Owner Gadget</td><td>17217.7</td></tr><tr><td>Figure Item</td><td>17215.88</td></tr><tr><td>As Tool</td><td>17207.97</td></tr><tr><td>Base Item</td><td>17186.769999999997</td></tr><tr><td>Particularly Accessory</td><td>17181.25</td></tr><tr><td>Sea Device</td><td>17175.73</td></tr><tr><td>Traditional Device</td><td>17173.66</td></tr><tr><td>Into Gadget</td><td>17173.62</td></tr><tr><td>Or Item</td><td>17167.04</td></tr><tr><td>All Gadget</td><td>17166.629999999997</td></tr><tr><td>Account Accessory</td><td>17149.019999999997</td></tr><tr><td>Value Accessory</td><td>17146.93</td></tr><tr><td>Eight Device</td><td>17133.28</td></tr><tr><td>Management Accessory</td><td>17125.280000000002</td></tr><tr><td>Pass Item</td><td>17118.21</td></tr><tr><td>Similar Device</td><td>17111.39</td></tr><tr><td>Though Accessory</td><td>17102.38</td></tr><tr><td>Value Gadget</td><td>17092.609999999997</td></tr><tr><td>Left Item</td><td>17090.36</td></tr><tr><td>Sign Item</td><td>17087.46</td></tr><tr><td>People Device</td><td>17087.37</td></tr><tr><td>Laugh Tool</td><td>17086.030000000002</td></tr><tr><td>Such Item</td><td>17085.059999999998</td></tr><tr><td>Daughter Tool</td><td>17083.15</td></tr><tr><td>Beautiful Gadget</td><td>17066.31</td></tr><tr><td>Yourself Tool</td><td>17056.38</td></tr><tr><td>Right Device</td><td>17054.77</td></tr><tr><td>Low Gadget</td><td>17048.13</td></tr><tr><td>Quite Device</td><td>17043.48</td></tr><tr><td>Specific Accessory</td><td>17030.61</td></tr><tr><td>No Device</td><td>17013.03</td></tr><tr><td>Child Gadget</td><td>17012.36</td></tr><tr><td>Model Device</td><td>16995.49</td></tr><tr><td>Attention Gadget</td><td>16990.09</td></tr><tr><td>Institution Tool</td><td>16987.36</td></tr><tr><td>Central Device</td><td>16984.3</td></tr><tr><td>Hot Tool</td><td>16980.75</td></tr><tr><td>Force Tool</td><td>16977.190000000002</td></tr><tr><td>Born Accessory</td><td>16974.62</td></tr><tr><td>Say Item</td><td>16970.61</td></tr><tr><td>Me Item</td><td>16969.99</td></tr><tr><td>Medical Item</td><td>16946.66</td></tr><tr><td>Shoulder Item</td><td>16943.03</td></tr><tr><td>News Item</td><td>16938.34</td></tr><tr><td>Blood Gadget</td><td>16930.46</td></tr><tr><td>My Device</td><td>16927.68</td></tr><tr><td>Maybe Device</td><td>16913.93</td></tr><tr><td>Close Accessory</td><td>16905.12</td></tr><tr><td>Fund Device</td><td>16903.839999999997</td></tr><tr><td>Party Accessory</td><td>16886.95</td></tr><tr><td>Quickly Item</td><td>16871.89</td></tr><tr><td>Office Tool</td><td>16868.36</td></tr><tr><td>Control Accessory</td><td>16862.58</td></tr><tr><td>Citizen Accessory</td><td>16860.95</td></tr><tr><td>Near Device</td><td>16858.69</td></tr><tr><td>A Tool</td><td>16852.83</td></tr><tr><td>Page Gadget</td><td>16852.120000000003</td></tr><tr><td>Night Tool</td><td>16842.07</td></tr><tr><td>Since Tool</td><td>16841.329999999998</td></tr><tr><td>Picture Tool</td><td>16834.72</td></tr><tr><td>Environment Accessory</td><td>16833.34</td></tr><tr><td>Environment Gadget</td><td>16796.280000000002</td></tr><tr><td>Actually Gadget</td><td>16789.48</td></tr><tr><td>Glass Accessory</td><td>16789.36</td></tr><tr><td>Responsibility Tool</td><td>16778.83</td></tr><tr><td>Popular Tool</td><td>16775.1</td></tr><tr><td>Something Gadget</td><td>16768.620000000003</td></tr><tr><td>Couple Tool</td><td>16762.420000000002</td></tr><tr><td>Check Tool</td><td>16754.31</td></tr><tr><td>Skill Gadget</td><td>16749.320000000003</td></tr><tr><td>Local Gadget</td><td>16729.1</td></tr><tr><td>Wonder Gadget</td><td>16726.76</td></tr><tr><td>But Tool</td><td>16719.46</td></tr><tr><td>American Device</td><td>16713.449999999997</td></tr><tr><td>In Item</td><td>16697.96</td></tr><tr><td>Full Device</td><td>16696.34</td></tr><tr><td>Minute Item</td><td>16687.699999999997</td></tr><tr><td>Table Tool</td><td>16682.89</td></tr><tr><td>Spring Accessory</td><td>16667.76</td></tr><tr><td>Reason Accessory</td><td>16667.35</td></tr><tr><td>Yes Gadget</td><td>16667.15</td></tr><tr><td>Write Tool</td><td>16660.390000000003</td></tr><tr><td>Human Accessory</td><td>16658.26</td></tr><tr><td>Bar Device</td><td>16655.37</td></tr><tr><td>Forward Item</td><td>16645.14</td></tr><tr><td>They Device</td><td>16645.07</td></tr><tr><td>Bed Tool</td><td>16643.920000000002</td></tr><tr><td>Sound Gadget</td><td>16640.73</td></tr><tr><td>Television Device</td><td>16639.85</td></tr><tr><td>Laugh Item</td><td>16631.86</td></tr><tr><td>Attention Item</td><td>16631.72</td></tr><tr><td>Sort Item</td><td>16628.24</td></tr><tr><td>Whom Device</td><td>16612.109999999997</td></tr><tr><td>Participant Gadget</td><td>16610.76</td></tr><tr><td>Letter Gadget</td><td>16609.550000000003</td></tr><tr><td>Everyone Accessory</td><td>16603.239999999998</td></tr><tr><td>Begin Tool</td><td>16602.67</td></tr><tr><td>Herself Gadget</td><td>16590.49</td></tr><tr><td>Sign Device</td><td>16590.23</td></tr><tr><td>Respond Item</td><td>16579.36</td></tr><tr><td>Show Device</td><td>16579.090000000004</td></tr><tr><td>Serve Item</td><td>16572.33</td></tr><tr><td>Behind Tool</td><td>16567.829999999998</td></tr><tr><td>Meet Accessory</td><td>16549.460000000003</td></tr><tr><td>Source Item</td><td>16536.2</td></tr><tr><td>Rule Gadget</td><td>16534.9</td></tr><tr><td>Happy Device</td><td>16524.59</td></tr><tr><td>Her Item</td><td>16523.33</td></tr><tr><td>Without Item</td><td>16522.71</td></tr><tr><td>Save Device</td><td>16522.59</td></tr><tr><td>Among Accessory</td><td>16516.760000000002</td></tr><tr><td>President Device</td><td>16511.35</td></tr><tr><td>Determine Accessory</td><td>16500.159999999996</td></tr><tr><td>Office Accessory</td><td>16485.47</td></tr><tr><td>Social Gadget</td><td>16484.309999999998</td></tr><tr><td>Rate Item</td><td>16482.730000000003</td></tr><tr><td>See Gadget</td><td>16480.59</td></tr><tr><td>Small Device</td><td>16465.870000000003</td></tr><tr><td>Teacher Device</td><td>16464.97</td></tr><tr><td>Structure Accessory</td><td>16463.35</td></tr><tr><td>Next Tool</td><td>16457.449999999997</td></tr><tr><td>Exist Item</td><td>16442.6</td></tr><tr><td>Fine Item</td><td>16432.52</td></tr><tr><td>Republican Tool</td><td>16425.81</td></tr><tr><td>Heart Accessory</td><td>16415.33</td></tr><tr><td>During Gadget</td><td>16407.720000000005</td></tr><tr><td>Ready Device</td><td>16398.08</td></tr><tr><td>How Accessory</td><td>16388.7</td></tr><tr><td>Science Device</td><td>16365.52</td></tr><tr><td>This Tool</td><td>16364.809999999998</td></tr><tr><td>Can Device</td><td>16359.39</td></tr><tr><td>Former Tool</td><td>16351.27</td></tr><tr><td>End Accessory</td><td>16342.36</td></tr><tr><td>Wall Gadget</td><td>16338.58</td></tr><tr><td>Collection Accessory</td><td>16330.43</td></tr><tr><td>Sit Device</td><td>16325.470000000001</td></tr><tr><td>Worry Tool</td><td>16321.699999999999</td></tr><tr><td>Grow Tool</td><td>16309.679999999998</td></tr><tr><td>Conference Gadget</td><td>16288.76</td></tr><tr><td>Investment Accessory</td><td>16281.349999999999</td></tr><tr><td>Very Item</td><td>16268.8</td></tr><tr><td>Discover Tool</td><td>16267.77</td></tr><tr><td>Page Tool</td><td>16261.11</td></tr><tr><td>Avoid Gadget</td><td>16259.030000000002</td></tr><tr><td>To Device</td><td>16258.67</td></tr><tr><td>Red Accessory</td><td>16246.52</td></tr><tr><td>Card Gadget</td><td>16237.960000000001</td></tr><tr><td>Director Gadget</td><td>16217.169999999998</td></tr><tr><td>Area Accessory</td><td>16203.72</td></tr><tr><td>Fire Accessory</td><td>16203.42</td></tr><tr><td>East Device</td><td>16202.48</td></tr><tr><td>Few Gadget</td><td>16200.44</td></tr><tr><td>Site Accessory</td><td>16177.540000000005</td></tr><tr><td>Perhaps Accessory</td><td>16173.999999999998</td></tr><tr><td>Respond Tool</td><td>16166.529999999999</td></tr><tr><td>Cultural Device</td><td>16162.66</td></tr><tr><td>Guess Accessory</td><td>16162.429999999998</td></tr><tr><td>Their Item</td><td>16138.95</td></tr><tr><td>But Device</td><td>16116.749999999998</td></tr><tr><td>Two Item</td><td>16112.17</td></tr><tr><td>Though Gadget</td><td>16107.339999999997</td></tr><tr><td>Realize Gadget</td><td>16096.8</td></tr><tr><td>Wind Tool</td><td>16089.370000000003</td></tr><tr><td>Stand Gadget</td><td>16079.750000000002</td></tr><tr><td>Player Accessory</td><td>16076.19</td></tr><tr><td>People Item</td><td>16072.99</td></tr><tr><td>Five Accessory</td><td>16067.240000000002</td></tr><tr><td>Offer Item</td><td>16066.71</td></tr><tr><td>Meet Gadget</td><td>16060.23</td></tr><tr><td>Bad Device</td><td>16048.440000000002</td></tr><tr><td>Theory Accessory</td><td>16044.689999999999</td></tr><tr><td>Chair Accessory</td><td>16036.679999999998</td></tr><tr><td>Individual Item</td><td>16029.769999999999</td></tr><tr><td>Thank Item</td><td>16024.94</td></tr><tr><td>Write Device</td><td>16021.300000000003</td></tr><tr><td>Yourself Accessory</td><td>16018.420000000002</td></tr><tr><td>Congress Device</td><td>16011.97</td></tr><tr><td>Music Accessory</td><td>16010.41</td></tr><tr><td>Operation Accessory</td><td>16006.83</td></tr><tr><td>Machine Tool</td><td>16005.569999999998</td></tr><tr><td>Heart Gadget</td><td>15991.509999999998</td></tr><tr><td>Radio Item</td><td>15989.380000000001</td></tr><tr><td>A Device</td><td>15983.820000000002</td></tr><tr><td>Win Item</td><td>15971.409999999998</td></tr><tr><td>Throw Tool</td><td>15971.359999999999</td></tr><tr><td>Weight Gadget</td><td>15958.5</td></tr><tr><td>Ok Device</td><td>15947.380000000001</td></tr><tr><td>Top Tool</td><td>15926.270000000002</td></tr><tr><td>The Device</td><td>15925.81</td></tr><tr><td>Staff Gadget</td><td>15920.5</td></tr><tr><td>They Tool</td><td>15895.699999999999</td></tr><tr><td>Never Item</td><td>15883.93</td></tr><tr><td>Those Tool</td><td>15869.879999999997</td></tr><tr><td>Wish Device</td><td>15868.699999999999</td></tr><tr><td>Consumer Gadget</td><td>15865.46</td></tr><tr><td>Special Tool</td><td>15864.48</td></tr><tr><td>Skin Gadget</td><td>15860.230000000001</td></tr><tr><td>Trade Tool</td><td>15859.13</td></tr><tr><td>Trouble Gadget</td><td>15858.0</td></tr><tr><td>Win Accessory</td><td>15856.65</td></tr><tr><td>Remember Gadget</td><td>15852.919999999998</td></tr><tr><td>Knowledge Gadget</td><td>15850.55</td></tr><tr><td>Need Item</td><td>15842.359999999999</td></tr><tr><td>Before Gadget</td><td>15826.849999999999</td></tr><tr><td>Central Gadget</td><td>15815.69</td></tr><tr><td>Campaign Device</td><td>15807.919999999998</td></tr><tr><td>Manager Tool</td><td>15796.8</td></tr><tr><td>Western Item</td><td>15794.679999999998</td></tr><tr><td>Wait Item</td><td>15784.359999999997</td></tr><tr><td>Industry Item</td><td>15764.25</td></tr><tr><td>Kind Gadget</td><td>15763.05</td></tr><tr><td>Argue Tool</td><td>15757.07</td></tr><tr><td>When Device</td><td>15739.529999999999</td></tr><tr><td>Sport Item</td><td>15738.369999999999</td></tr><tr><td>Day Tool</td><td>15737.47</td></tr><tr><td>Use Tool</td><td>15737.14</td></tr><tr><td>Manage Gadget</td><td>15720.529999999999</td></tr><tr><td>War Device</td><td>15712.890000000001</td></tr><tr><td>Real Device</td><td>15712.44</td></tr><tr><td>Music Item</td><td>15709.460000000001</td></tr><tr><td>Mean Device</td><td>15702.580000000002</td></tr><tr><td>South Item</td><td>15696.920000000002</td></tr><tr><td>Behind Accessory</td><td>15689.39</td></tr><tr><td>Party Gadget</td><td>15685.739999999998</td></tr><tr><td>Story Accessory</td><td>15683.699999999997</td></tr><tr><td>Speech Gadget</td><td>15679.26</td></tr><tr><td>Middle Accessory</td><td>15673.51</td></tr><tr><td>Water Gadget</td><td>15670.720000000001</td></tr><tr><td>Hard Device</td><td>15661.420000000002</td></tr><tr><td>Risk Item</td><td>15659.029999999999</td></tr><tr><td>Where Accessory</td><td>15654.44</td></tr><tr><td>Else Accessory</td><td>15653.669999999998</td></tr><tr><td>Fire Device</td><td>15651.939999999999</td></tr><tr><td>Determine Tool</td><td>15641.34</td></tr><tr><td>Direction Item</td><td>15633.939999999999</td></tr><tr><td>Citizen Device</td><td>15623.970000000001</td></tr><tr><td>Then Item</td><td>15616.409999999998</td></tr><tr><td>Now Accessory</td><td>15616.369999999999</td></tr><tr><td>Institution Gadget</td><td>15605.420000000002</td></tr><tr><td>President Accessory</td><td>15590.880000000001</td></tr><tr><td>Yet Accessory</td><td>15589.970000000001</td></tr><tr><td>Week Device</td><td>15585.54</td></tr><tr><td>Project Tool</td><td>15569.260000000002</td></tr><tr><td>Campaign Item</td><td>15561.88</td></tr><tr><td>Democratic Accessory</td><td>15542.7</td></tr><tr><td>Current Tool</td><td>15539.829999999998</td></tr><tr><td>Agreement Accessory</td><td>15527.189999999999</td></tr><tr><td>Accept Accessory</td><td>15522.350000000002</td></tr><tr><td>Exactly Accessory</td><td>15521.380000000001</td></tr><tr><td>Kind Tool</td><td>15520.47</td></tr><tr><td>Anything Tool</td><td>15517.699999999999</td></tr><tr><td>Number Gadget</td><td>15516.490000000002</td></tr><tr><td>Compare Device</td><td>15512.0</td></tr><tr><td>Spring Item</td><td>15504.289999999999</td></tr><tr><td>What Tool</td><td>15491.59</td></tr><tr><td>Respond Device</td><td>15487.02</td></tr><tr><td>Process Device</td><td>15477.67</td></tr><tr><td>Voice Accessory</td><td>15463.420000000002</td></tr><tr><td>Poor Gadget</td><td>15453.940000000002</td></tr><tr><td>End Gadget</td><td>15453.67</td></tr><tr><td>Item Device</td><td>15450.61</td></tr><tr><td>Six Gadget</td><td>15435.15</td></tr><tr><td>Inside Gadget</td><td>15425.4</td></tr><tr><td>Nearly Tool</td><td>15422.02</td></tr><tr><td>With Tool</td><td>15416.419999999998</td></tr><tr><td>Rule Tool</td><td>15400.43</td></tr><tr><td>Discover Item</td><td>15400.04</td></tr><tr><td>Hot Device</td><td>15372.92</td></tr><tr><td>East Item</td><td>15363.55</td></tr><tr><td>Newspaper Gadget</td><td>15354.07</td></tr><tr><td>Here Gadget</td><td>15346.93</td></tr><tr><td>Receive Tool</td><td>15343.590000000004</td></tr><tr><td>Increase Item</td><td>15340.869999999999</td></tr><tr><td>Else Device</td><td>15338.07</td></tr><tr><td>Then Accessory</td><td>15336.84</td></tr><tr><td>One Tool</td><td>15333.580000000002</td></tr><tr><td>Wish Gadget</td><td>15324.58</td></tr><tr><td>Cultural Accessory</td><td>15319.859999999999</td></tr><tr><td>Law Accessory</td><td>15319.579999999998</td></tr><tr><td>Allow Accessory</td><td>15282.9</td></tr><tr><td>Cell Accessory</td><td>15269.359999999997</td></tr><tr><td>Type Accessory</td><td>15268.599999999999</td></tr><tr><td>Business Item</td><td>15267.56</td></tr><tr><td>Appear Tool</td><td>15245.6</td></tr><tr><td>Less Item</td><td>15244.170000000002</td></tr><tr><td>Think Gadget</td><td>15237.289999999999</td></tr><tr><td>Old Accessory</td><td>15229.119999999999</td></tr><tr><td>Discuss Device</td><td>15223.87</td></tr><tr><td>May Item</td><td>15223.190000000002</td></tr><tr><td>Table Accessory</td><td>15223.020000000002</td></tr><tr><td>Three Accessory</td><td>15217.52</td></tr><tr><td>Mouth Accessory</td><td>15201.019999999999</td></tr><tr><td>Similar Item</td><td>15199.39</td></tr><tr><td>Father Tool</td><td>15197.84</td></tr><tr><td>Wrong Gadget</td><td>15192.460000000001</td></tr><tr><td>Want Device</td><td>15190.240000000002</td></tr><tr><td>Approach Tool</td><td>15183.18</td></tr><tr><td>Score Item</td><td>15181.140000000003</td></tr><tr><td>Your Gadget</td><td>15173.570000000003</td></tr><tr><td>Deep Gadget</td><td>15172.14</td></tr><tr><td>Customer Accessory</td><td>15168.99</td></tr><tr><td>Tv Gadget</td><td>15168.8</td></tr><tr><td>Firm Accessory</td><td>15163.62</td></tr><tr><td>Decision Item</td><td>15161.11</td></tr><tr><td>Often Accessory</td><td>15160.39</td></tr><tr><td>Own Accessory</td><td>15157.300000000001</td></tr><tr><td>Somebody Item</td><td>15144.220000000001</td></tr><tr><td>Figure Device</td><td>15143.329999999998</td></tr><tr><td>Most Item</td><td>15138.759999999998</td></tr><tr><td>Figure Gadget</td><td>15130.899999999998</td></tr><tr><td>Tonight Gadget</td><td>15130.199999999999</td></tr><tr><td>Quickly Accessory</td><td>15122.45</td></tr><tr><td>Degree Device</td><td>15117.100000000002</td></tr><tr><td>Section Accessory</td><td>15109.309999999998</td></tr><tr><td>Identify Item</td><td>15099.560000000001</td></tr><tr><td>Piece Item</td><td>15098.979999999998</td></tr><tr><td>Film Accessory</td><td>15085.219999999998</td></tr><tr><td>Sell Device</td><td>15062.36</td></tr><tr><td>Purpose Device</td><td>15058.89</td></tr><tr><td>These Device</td><td>15039.649999999998</td></tr><tr><td>Player Tool</td><td>15038.21</td></tr><tr><td>Debate Gadget</td><td>15034.800000000001</td></tr><tr><td>Attack Item</td><td>15005.730000000001</td></tr><tr><td>Perhaps Item</td><td>15005.100000000002</td></tr><tr><td>Allow Item</td><td>15004.45</td></tr><tr><td>Hour Tool</td><td>14998.990000000002</td></tr><tr><td>Near Gadget</td><td>14985.08</td></tr><tr><td>Safe Item</td><td>14983.93</td></tr><tr><td>That Device</td><td>14975.519999999999</td></tr><tr><td>Instead Device</td><td>14973.140000000003</td></tr><tr><td>Level Tool</td><td>14969.9</td></tr><tr><td>Radio Tool</td><td>14965.480000000003</td></tr><tr><td>Sign Accessory</td><td>14935.370000000003</td></tr><tr><td>Study Gadget</td><td>14929.169999999998</td></tr><tr><td>Report Accessory</td><td>14923.100000000002</td></tr><tr><td>Process Tool</td><td>14921.970000000001</td></tr><tr><td>Know Tool</td><td>14920.23</td></tr><tr><td>Provide Gadget</td><td>14916.829999999998</td></tr><tr><td>Letter Device</td><td>14913.510000000002</td></tr><tr><td>Lead Tool</td><td>14909.720000000001</td></tr><tr><td>Social Tool</td><td>14899.879999999997</td></tr><tr><td>At Tool</td><td>14892.5</td></tr><tr><td>List Gadget</td><td>14890.56</td></tr><tr><td>Reach Gadget</td><td>14877.26</td></tr><tr><td>Significant Device</td><td>14873.400000000001</td></tr><tr><td>Leader Accessory</td><td>14859.2</td></tr><tr><td>Eye Gadget</td><td>14856.59</td></tr><tr><td>Skill Tool</td><td>14848.870000000003</td></tr><tr><td>Strategy Device</td><td>14845.07</td></tr><tr><td>None Device</td><td>14835.81</td></tr><tr><td>Even Item</td><td>14834.329999999998</td></tr><tr><td>His Tool</td><td>14832.239999999998</td></tr><tr><td>By Gadget</td><td>14830.569999999998</td></tr><tr><td>Behavior Device</td><td>14822.479999999998</td></tr><tr><td>Development Item</td><td>14821.67</td></tr><tr><td>Skin Item</td><td>14821.36</td></tr><tr><td>Describe Tool</td><td>14803.45</td></tr><tr><td>Cover Device</td><td>14797.939999999999</td></tr><tr><td>Still Item</td><td>14796.39</td></tr><tr><td>Expect Accessory</td><td>14756.990000000002</td></tr><tr><td>Party Tool</td><td>14755.09</td></tr><tr><td>Energy Gadget</td><td>14738.12</td></tr><tr><td>Cultural Gadget</td><td>14723.769999999999</td></tr><tr><td>Wear Accessory</td><td>14720.63</td></tr><tr><td>Family Item</td><td>14720.130000000001</td></tr><tr><td>Its Gadget</td><td>14715.630000000001</td></tr><tr><td>Challenge Tool</td><td>14704.390000000003</td></tr><tr><td>While Item</td><td>14703.130000000001</td></tr><tr><td>Final Item</td><td>14683.079999999998</td></tr><tr><td>Boy Tool</td><td>14678.020000000002</td></tr><tr><td>Detail Item</td><td>14664.149999999998</td></tr><tr><td>Program Gadget</td><td>14659.559999999998</td></tr><tr><td>Support Gadget</td><td>14648.330000000002</td></tr><tr><td>Recognize Gadget</td><td>14641.47</td></tr><tr><td>Join Gadget</td><td>14637.88</td></tr><tr><td>Table Gadget</td><td>14632.82</td></tr><tr><td>Human Device</td><td>14612.140000000001</td></tr><tr><td>Move Accessory</td><td>14597.51</td></tr><tr><td>Street Gadget</td><td>14584.329999999998</td></tr><tr><td>Bring Gadget</td><td>14565.690000000002</td></tr><tr><td>Paper Device</td><td>14557.96</td></tr><tr><td>My Tool</td><td>14556.849999999999</td></tr><tr><td>Tough Device</td><td>14525.899999999998</td></tr><tr><td>Type Item</td><td>14512.6</td></tr><tr><td>Trouble Accessory</td><td>14490.53</td></tr><tr><td>Job Tool</td><td>14487.89</td></tr><tr><td>Four Gadget</td><td>14476.84</td></tr><tr><td>Company Item</td><td>14457.59</td></tr><tr><td>Energy Tool</td><td>14453.900000000001</td></tr><tr><td>Travel Device</td><td>14445.11</td></tr><tr><td>Way Tool</td><td>14444.15</td></tr><tr><td>Hour Gadget</td><td>14441.369999999999</td></tr><tr><td>Far Item</td><td>14436.89</td></tr><tr><td>Single Accessory</td><td>14426.830000000002</td></tr><tr><td>Increase Gadget</td><td>14423.089999999997</td></tr><tr><td>Ground Tool</td><td>14410.73</td></tr><tr><td>Especially Accessory</td><td>14405.0</td></tr><tr><td>Nearly Device</td><td>14404.45</td></tr><tr><td>Pretty Item</td><td>14403.96</td></tr><tr><td>Oil Gadget</td><td>14397.81</td></tr><tr><td>Idea Item</td><td>14384.849999999999</td></tr><tr><td>Then Device</td><td>14384.310000000001</td></tr><tr><td>Rate Gadget</td><td>14375.490000000002</td></tr><tr><td>Religious Tool</td><td>14362.279999999999</td></tr><tr><td>Floor Accessory</td><td>14347.279999999999</td></tr><tr><td>Represent Device</td><td>14339.86</td></tr><tr><td>Answer Device</td><td>14308.580000000002</td></tr><tr><td>Position Accessory</td><td>14308.02</td></tr><tr><td>Market Accessory</td><td>14304.26</td></tr><tr><td>Conference Tool</td><td>14300.460000000001</td></tr><tr><td>Write Gadget</td><td>14290.64</td></tr><tr><td>President Item</td><td>14280.439999999999</td></tr><tr><td>Then Tool</td><td>14273.18</td></tr><tr><td>Personal Device</td><td>14269.240000000002</td></tr><tr><td>Boy Item</td><td>14259.56</td></tr><tr><td>Now Device</td><td>14256.9</td></tr><tr><td>Cover Item</td><td>14256.14</td></tr><tr><td>Eat Tool</td><td>14240.260000000002</td></tr><tr><td>Part Gadget</td><td>14233.150000000001</td></tr><tr><td>Teach Item</td><td>14231.65</td></tr><tr><td>Moment Item</td><td>14227.8</td></tr><tr><td>Them Accessory</td><td>14224.79</td></tr><tr><td>Offer Accessory</td><td>14223.19</td></tr><tr><td>Trip Gadget</td><td>14221.07</td></tr><tr><td>Ago Tool</td><td>14218.45</td></tr><tr><td>Loss Device</td><td>14215.07</td></tr><tr><td>Sometimes Gadget</td><td>14204.929999999997</td></tr><tr><td>Center Accessory</td><td>14199.529999999999</td></tr><tr><td>Reality Tool</td><td>14199.15</td></tr><tr><td>Effort Item</td><td>14188.099999999999</td></tr><tr><td>Also Device</td><td>14185.789999999999</td></tr><tr><td>Evening Gadget</td><td>14182.23</td></tr><tr><td>Age Device</td><td>14178.330000000002</td></tr><tr><td>Town Gadget</td><td>14166.359999999997</td></tr><tr><td>War Gadget</td><td>14146.01</td></tr><tr><td>Religious Gadget</td><td>14135.119999999999</td></tr><tr><td>However Item</td><td>14115.43</td></tr><tr><td>Least Accessory</td><td>14113.65</td></tr><tr><td>Whether Device</td><td>14112.820000000002</td></tr><tr><td>Hope Tool</td><td>14091.4</td></tr><tr><td>Decision Device</td><td>14091.32</td></tr><tr><td>Continue Tool</td><td>14087.58</td></tr><tr><td>Likely Tool</td><td>14069.79</td></tr><tr><td>Pay Gadget</td><td>14068.460000000001</td></tr><tr><td>Past Gadget</td><td>14067.420000000002</td></tr><tr><td>Result Accessory</td><td>14063.71</td></tr><tr><td>Style Accessory</td><td>14054.42</td></tr><tr><td>Network Accessory</td><td>14038.810000000003</td></tr><tr><td>Public Tool</td><td>14038.48</td></tr><tr><td>Bed Device</td><td>14028.21</td></tr><tr><td>Hard Accessory</td><td>14027.98</td></tr><tr><td>Fight Accessory</td><td>14021.260000000002</td></tr><tr><td>Really Gadget</td><td>14020.210000000003</td></tr><tr><td>Whatever Accessory</td><td>14003.320000000002</td></tr><tr><td>Represent Tool</td><td>13984.02</td></tr><tr><td>Law Gadget</td><td>13969.34</td></tr><tr><td>Against Accessory</td><td>13968.129999999997</td></tr><tr><td>Service Accessory</td><td>13959.899999999998</td></tr><tr><td>Event Item</td><td>13939.699999999999</td></tr><tr><td>Early Item</td><td>13932.63</td></tr><tr><td>Make Device</td><td>13924.31</td></tr><tr><td>Whatever Item</td><td>13898.05</td></tr><tr><td>Floor Tool</td><td>13896.120000000003</td></tr><tr><td>Support Item</td><td>13869.779999999999</td></tr><tr><td>Most Tool</td><td>13862.98</td></tr><tr><td>Environmental Device</td><td>13861.949999999999</td></tr><tr><td>Former Device</td><td>13845.14</td></tr><tr><td>Sell Gadget</td><td>13844.960000000001</td></tr><tr><td>See Device</td><td>13840.649999999998</td></tr><tr><td>Tonight Accessory</td><td>13827.09</td></tr><tr><td>Fly Device</td><td>13824.9</td></tr><tr><td>Several Gadget</td><td>13824.74</td></tr><tr><td>Describe Item</td><td>13800.63</td></tr><tr><td>Charge Item</td><td>13793.890000000001</td></tr><tr><td>Where Item</td><td>13775.249999999998</td></tr><tr><td>Along Device</td><td>13756.059999999998</td></tr><tr><td>Face Device</td><td>13745.949999999999</td></tr><tr><td>Bag Item</td><td>13739.809999999998</td></tr><tr><td>Believe Gadget</td><td>13736.52</td></tr><tr><td>Affect Accessory</td><td>13726.36</td></tr><tr><td>Range Accessory</td><td>13725.55</td></tr><tr><td>Stuff Tool</td><td>13712.550000000001</td></tr><tr><td>Phone Tool</td><td>13709.380000000001</td></tr><tr><td>Soldier Item</td><td>13707.119999999997</td></tr><tr><td>Throughout Accessory</td><td>13702.6</td></tr><tr><td>Task Item</td><td>13700.979999999998</td></tr><tr><td>City Accessory</td><td>13699.64</td></tr><tr><td>Lead Device</td><td>13696.029999999999</td></tr><tr><td>Fly Accessory</td><td>13692.86</td></tr><tr><td>Street Tool</td><td>13690.45</td></tr><tr><td>Old Device</td><td>13689.84</td></tr><tr><td>Somebody Gadget</td><td>13681.75</td></tr><tr><td>Trade Accessory</td><td>13668.45</td></tr><tr><td>Fear Device</td><td>13660.340000000002</td></tr><tr><td>Who Gadget</td><td>13654.980000000001</td></tr><tr><td>Boy Device</td><td>13648.0</td></tr><tr><td>Result Gadget</td><td>13647.28</td></tr><tr><td>Two Gadget</td><td>13647.07</td></tr><tr><td>Hear Tool</td><td>13640.979999999998</td></tr><tr><td>Summer Gadget</td><td>13639.000000000002</td></tr><tr><td>Coach Accessory</td><td>13624.230000000001</td></tr><tr><td>Voice Device</td><td>13624.21</td></tr><tr><td>Create Device</td><td>13622.430000000002</td></tr><tr><td>Recent Device</td><td>13620.710000000001</td></tr><tr><td>Hair Item</td><td>13617.85</td></tr><tr><td>Defense Tool</td><td>13616.58</td></tr><tr><td>Operation Device</td><td>13613.13</td></tr><tr><td>Mission Accessory</td><td>13597.060000000001</td></tr><tr><td>Require Gadget</td><td>13594.23</td></tr><tr><td>Lot Accessory</td><td>13594.220000000003</td></tr><tr><td>Box Item</td><td>13576.840000000002</td></tr><tr><td>Black Tool</td><td>13576.23</td></tr><tr><td>Piece Tool</td><td>13575.58</td></tr><tr><td>Home Gadget</td><td>13568.98</td></tr><tr><td>We Tool</td><td>13566.779999999999</td></tr><tr><td>Society Device</td><td>13559.939999999999</td></tr><tr><td>Per Tool</td><td>13558.210000000003</td></tr><tr><td>Later Accessory</td><td>13557.02</td></tr><tr><td>Certain Accessory</td><td>13540.53</td></tr><tr><td>Our Gadget</td><td>13535.74</td></tr><tr><td>Financial Gadget</td><td>13535.38</td></tr><tr><td>Should Item</td><td>13531.999999999996</td></tr><tr><td>Third Item</td><td>13529.930000000002</td></tr><tr><td>Position Tool</td><td>13526.48</td></tr><tr><td>Case Gadget</td><td>13518.03</td></tr><tr><td>Land Item</td><td>13517.130000000001</td></tr><tr><td>Money Gadget</td><td>13495.760000000002</td></tr><tr><td>World Gadget</td><td>13492.71</td></tr><tr><td>Make Tool</td><td>13487.539999999999</td></tr><tr><td>Police Item</td><td>13484.14</td></tr><tr><td>They Item</td><td>13479.66</td></tr><tr><td>Myself Accessory</td><td>13475.599999999999</td></tr><tr><td>View Device</td><td>13473.37</td></tr><tr><td>Property Tool</td><td>13460.470000000001</td></tr><tr><td>Staff Accessory</td><td>13455.43</td></tr><tr><td>Real Gadget</td><td>13451.47</td></tr><tr><td>Record Tool</td><td>13450.65</td></tr><tr><td>Race Accessory</td><td>13443.19</td></tr><tr><td>Leader Tool</td><td>13427.84</td></tr><tr><td>Red Gadget</td><td>13409.31</td></tr><tr><td>Artist Accessory</td><td>13384.49</td></tr><tr><td>Alone Item</td><td>13383.989999999998</td></tr><tr><td>Rise Accessory</td><td>13380.689999999999</td></tr><tr><td>Republican Gadget</td><td>13379.669999999998</td></tr><tr><td>Play Accessory</td><td>13369.23</td></tr><tr><td>Right Item</td><td>13366.689999999999</td></tr><tr><td>With Gadget</td><td>13356.8</td></tr><tr><td>Away Item</td><td>13349.960000000001</td></tr><tr><td>Ago Device</td><td>13332.66</td></tr><tr><td>Mr Device</td><td>13332.28</td></tr><tr><td>Green Gadget</td><td>13331.46</td></tr><tr><td>Use Item</td><td>13326.37</td></tr><tr><td>Toward Device</td><td>13312.990000000002</td></tr><tr><td>Artist Gadget</td><td>13303.69</td></tr><tr><td>Finish Accessory</td><td>13301.02</td></tr><tr><td>Science Accessory</td><td>13295.800000000003</td></tr><tr><td>Born Tool</td><td>13275.1</td></tr><tr><td>Past Device</td><td>13265.069999999998</td></tr><tr><td>Drive Gadget</td><td>13262.41</td></tr><tr><td>Environment Device</td><td>13257.640000000003</td></tr><tr><td>Show Accessory</td><td>13233.569999999998</td></tr><tr><td>Yard Device</td><td>13227.38</td></tr><tr><td>Accept Item</td><td>13225.48</td></tr><tr><td>Itself Item</td><td>13221.560000000001</td></tr><tr><td>Entire Accessory</td><td>13216.31</td></tr><tr><td>Morning Gadget</td><td>13193.960000000001</td></tr><tr><td>New Tool</td><td>13191.310000000001</td></tr><tr><td>Have Device</td><td>13183.99</td></tr><tr><td>North Accessory</td><td>13180.669999999998</td></tr><tr><td>Message Tool</td><td>13179.779999999999</td></tr><tr><td>Member Accessory</td><td>13171.59</td></tr><tr><td>Choice Gadget</td><td>13171.25</td></tr><tr><td>Including Item</td><td>13168.890000000003</td></tr><tr><td>Develop Item</td><td>13152.46</td></tr><tr><td>Forward Gadget</td><td>13151.769999999999</td></tr><tr><td>The Accessory</td><td>13151.589999999998</td></tr><tr><td>Trade Device</td><td>13144.92</td></tr><tr><td>Upon Tool</td><td>13129.489999999998</td></tr><tr><td>Themselves Device</td><td>13117.259999999998</td></tr><tr><td>Likely Device</td><td>13106.83</td></tr><tr><td>Name Device</td><td>13100.439999999999</td></tr><tr><td>Wall Tool</td><td>13096.169999999998</td></tr><tr><td>Big Tool</td><td>13094.279999999999</td></tr><tr><td>Loss Tool</td><td>13078.36</td></tr><tr><td>Call Accessory</td><td>13072.450000000003</td></tr><tr><td>True Gadget</td><td>13055.980000000001</td></tr><tr><td>List Accessory</td><td>13046.390000000001</td></tr><tr><td>Line Gadget</td><td>13037.920000000002</td></tr><tr><td>Special Item</td><td>13026.519999999999</td></tr><tr><td>Focus Device</td><td>13003.81</td></tr><tr><td>Anything Item</td><td>13000.130000000001</td></tr><tr><td>Spend Accessory</td><td>12989.97</td></tr><tr><td>Decide Device</td><td>12988.769999999999</td></tr><tr><td>Physical Tool</td><td>12985.42</td></tr><tr><td>Cold Tool</td><td>12970.440000000002</td></tr><tr><td>Culture Item</td><td>12970.02</td></tr><tr><td>Begin Accessory</td><td>12943.89</td></tr><tr><td>Nice Gadget</td><td>12932.920000000002</td></tr><tr><td>Health Tool</td><td>12930.259999999998</td></tr><tr><td>Never Gadget</td><td>12913.020000000002</td></tr><tr><td>Nothing Device</td><td>12909.26</td></tr><tr><td>Cut Device</td><td>12902.310000000001</td></tr><tr><td>Smile Tool</td><td>12902.01</td></tr><tr><td>Prevent Item</td><td>12901.470000000001</td></tr><tr><td>Class Tool</td><td>12897.05</td></tr><tr><td>Little Tool</td><td>12887.25</td></tr><tr><td>Mr Accessory</td><td>12884.810000000001</td></tr><tr><td>Hit Accessory</td><td>12881.55</td></tr><tr><td>Join Accessory</td><td>12878.669999999998</td></tr><tr><td>Available Accessory</td><td>12870.62</td></tr><tr><td>Significant Item</td><td>12859.46</td></tr><tr><td>Seat Item</td><td>12846.460000000001</td></tr><tr><td>Instead Accessory</td><td>12842.459999999997</td></tr><tr><td>System Tool</td><td>12841.409999999998</td></tr><tr><td>Hope Gadget</td><td>12839.619999999999</td></tr><tr><td>Their Gadget</td><td>12835.57</td></tr><tr><td>Concern Item</td><td>12827.079999999998</td></tr><tr><td>Nothing Gadget</td><td>12810.68</td></tr><tr><td>Might Accessory</td><td>12772.43</td></tr><tr><td>White Device</td><td>12771.03</td></tr><tr><td>Another Item</td><td>12756.89</td></tr><tr><td>Suffer Gadget</td><td>12755.9</td></tr><tr><td>Tax Tool</td><td>12748.050000000001</td></tr><tr><td>Series Accessory</td><td>12741.46</td></tr><tr><td>Resource Tool</td><td>12737.07</td></tr><tr><td>Both Gadget</td><td>12726.87</td></tr><tr><td>Amount Tool</td><td>12722.13</td></tr><tr><td>Increase Device</td><td>12719.09</td></tr><tr><td>Where Gadget</td><td>12716.470000000001</td></tr><tr><td>It Device</td><td>12715.090000000002</td></tr><tr><td>Middle Item</td><td>12694.39</td></tr><tr><td>World Accessory</td><td>12675.5</td></tr><tr><td>Despite Item</td><td>12670.05</td></tr><tr><td>Difficult Device</td><td>12656.17</td></tr><tr><td>History Item</td><td>12643.08</td></tr><tr><td>Arrive Device</td><td>12627.089999999998</td></tr><tr><td>Rich Tool</td><td>12626.34</td></tr><tr><td>Doctor Device</td><td>12622.95</td></tr><tr><td>Hand Accessory</td><td>12614.56</td></tr><tr><td>Able Device</td><td>12593.96</td></tr><tr><td>Painting Accessory</td><td>12587.829999999998</td></tr><tr><td>At Gadget</td><td>12577.349999999999</td></tr><tr><td>Allow Gadget</td><td>12551.8</td></tr><tr><td>Whether Accessory</td><td>12547.960000000001</td></tr><tr><td>Lay Item</td><td>12545.810000000001</td></tr><tr><td>Reality Accessory</td><td>12545.749999999998</td></tr><tr><td>Determine Gadget</td><td>12534.940000000002</td></tr><tr><td>Tax Accessory</td><td>12531.1</td></tr><tr><td>Total Item</td><td>12529.760000000002</td></tr><tr><td>Change Gadget</td><td>12526.16</td></tr><tr><td>Create Tool</td><td>12517.35</td></tr><tr><td>Line Accessory</td><td>12511.409999999998</td></tr><tr><td>Let Tool</td><td>12508.86</td></tr><tr><td>Attorney Item</td><td>12504.849999999999</td></tr><tr><td>Pay Item</td><td>12464.09</td></tr><tr><td>Agency Gadget</td><td>12450.139999999998</td></tr><tr><td>Election Gadget</td><td>12449.19</td></tr><tr><td>Watch Gadget</td><td>12448.800000000001</td></tr><tr><td>Nothing Item</td><td>12446.99</td></tr><tr><td>Understand Item</td><td>12438.9</td></tr><tr><td>None Tool</td><td>12425.15</td></tr><tr><td>Reflect Gadget</td><td>12417.72</td></tr><tr><td>Something Item</td><td>12374.029999999999</td></tr><tr><td>Whose Tool</td><td>12371.67</td></tr><tr><td>Eye Tool</td><td>12362.709999999997</td></tr><tr><td>Nearly Item</td><td>12354.93</td></tr><tr><td>Room Gadget</td><td>12335.0</td></tr><tr><td>Computer Accessory</td><td>12326.95</td></tr><tr><td>Charge Accessory</td><td>12315.560000000001</td></tr><tr><td>Face Gadget</td><td>12304.46</td></tr><tr><td>Month Gadget</td><td>12303.35</td></tr><tr><td>Authority Tool</td><td>12302.619999999999</td></tr><tr><td>Until Tool</td><td>12282.2</td></tr><tr><td>Quality Device</td><td>12275.09</td></tr><tr><td>Industry Gadget</td><td>12266.87</td></tr><tr><td>Approach Device</td><td>12261.68</td></tr><tr><td>Will Device</td><td>12256.869999999999</td></tr><tr><td>However Accessory</td><td>12255.720000000001</td></tr><tr><td>Different Item</td><td>12253.100000000002</td></tr><tr><td>Mother Tool</td><td>12244.189999999999</td></tr><tr><td>Truth Gadget</td><td>12235.450000000003</td></tr><tr><td>Why Gadget</td><td>12231.17</td></tr><tr><td>Class Accessory</td><td>12202.12</td></tr><tr><td>Analysis Accessory</td><td>12190.43</td></tr><tr><td>Huge Tool</td><td>12162.980000000001</td></tr><tr><td>Decide Accessory</td><td>12156.199999999999</td></tr><tr><td>Common Tool</td><td>12155.75</td></tr><tr><td>What Accessory</td><td>12145.199999999999</td></tr><tr><td>Home Tool</td><td>12143.920000000002</td></tr><tr><td>Protect Item</td><td>12115.46</td></tr><tr><td>Certainly Tool</td><td>12113.210000000001</td></tr><tr><td>Thank Tool</td><td>12112.119999999999</td></tr><tr><td>World Tool</td><td>12092.25</td></tr><tr><td>Become Tool</td><td>12071.08</td></tr><tr><td>Pm Device</td><td>12065.179999999998</td></tr><tr><td>Energy Accessory</td><td>12051.4</td></tr><tr><td>Single Item</td><td>12048.09</td></tr><tr><td>Loss Item</td><td>12030.07</td></tr><tr><td>Movie Item</td><td>11976.060000000001</td></tr><tr><td>More Tool</td><td>11964.029999999999</td></tr><tr><td>Audience Tool</td><td>11961.43</td></tr><tr><td>Include Device</td><td>11954.510000000002</td></tr><tr><td>Court Tool</td><td>11937.96</td></tr><tr><td>Bank Device</td><td>11936.98</td></tr><tr><td>Edge Tool</td><td>11935.170000000002</td></tr><tr><td>Realize Accessory</td><td>11932.05</td></tr><tr><td>Practice Device</td><td>11926.469999999998</td></tr><tr><td>Piece Accessory</td><td>11915.68</td></tr><tr><td>Machine Device</td><td>11895.599999999999</td></tr><tr><td>Open Accessory</td><td>11872.64</td></tr><tr><td>And Accessory</td><td>11804.78</td></tr><tr><td>Body Gadget</td><td>11796.269999999999</td></tr><tr><td>Strategy Tool</td><td>11789.739999999998</td></tr><tr><td>Someone Tool</td><td>11789.24</td></tr><tr><td>Future Item</td><td>11785.829999999998</td></tr><tr><td>Here Tool</td><td>11781.36</td></tr><tr><td>However Device</td><td>11763.619999999999</td></tr><tr><td>Live Gadget</td><td>11758.850000000002</td></tr><tr><td>Street Device</td><td>11748.369999999999</td></tr><tr><td>Mind Device</td><td>11743.16</td></tr><tr><td>Understand Tool</td><td>11734.710000000001</td></tr><tr><td>Condition Item</td><td>11732.91</td></tr><tr><td>Dream Gadget</td><td>11720.05</td></tr><tr><td>Hold Accessory</td><td>11705.759999999998</td></tr><tr><td>Few Device</td><td>11686.26</td></tr><tr><td>Consider Accessory</td><td>11684.970000000001</td></tr><tr><td>Value Tool</td><td>11682.329999999998</td></tr><tr><td>Arm Item</td><td>11679.55</td></tr><tr><td>Region Accessory</td><td>11665.59</td></tr><tr><td>Travel Accessory</td><td>11631.8</td></tr><tr><td>Not Tool</td><td>11616.71</td></tr><tr><td>Support Device</td><td>11609.449999999997</td></tr><tr><td>Dinner Device</td><td>11608.220000000001</td></tr><tr><td>Side Item</td><td>11607.96</td></tr><tr><td>Alone Accessory</td><td>11607.1</td></tr><tr><td>Point Tool</td><td>11601.099999999999</td></tr><tr><td>While Device</td><td>11601.05</td></tr><tr><td>Agency Device</td><td>11599.06</td></tr><tr><td>Collection Tool</td><td>11578.93</td></tr><tr><td>Sport Tool</td><td>11578.65</td></tr><tr><td>Return Device</td><td>11553.46</td></tr><tr><td>Guy Item</td><td>11545.68</td></tr><tr><td>Boy Accessory</td><td>11541.259999999998</td></tr><tr><td>Front Item</td><td>11539.34</td></tr><tr><td>Place Device</td><td>11515.34</td></tr><tr><td>Trip Device</td><td>11511.289999999999</td></tr><tr><td>Someone Gadget</td><td>11481.9</td></tr><tr><td>Yard Item</td><td>11479.76</td></tr><tr><td>Director Item</td><td>11472.419999999998</td></tr><tr><td>Organization Device</td><td>11457.61</td></tr><tr><td>Woman Item</td><td>11449.46</td></tr><tr><td>For Accessory</td><td>11447.490000000002</td></tr><tr><td>Information Tool</td><td>11445.990000000002</td></tr><tr><td>Organization Item</td><td>11422.8</td></tr><tr><td>Remember Tool</td><td>11408.529999999999</td></tr><tr><td>Stand Tool</td><td>11404.620000000003</td></tr><tr><td>Resource Accessory</td><td>11403.699999999999</td></tr><tr><td>While Accessory</td><td>11372.919999999998</td></tr><tr><td>Process Gadget</td><td>11357.0</td></tr><tr><td>Quality Tool</td><td>11351.45</td></tr><tr><td>Dark Gadget</td><td>11328.32</td></tr><tr><td>Add Gadget</td><td>11325.27</td></tr><tr><td>Above Gadget</td><td>11309.019999999999</td></tr><tr><td>Maybe Accessory</td><td>11282.849999999999</td></tr><tr><td>Newspaper Item</td><td>11277.46</td></tr><tr><td>Response Gadget</td><td>11276.16</td></tr><tr><td>History Accessory</td><td>11249.230000000001</td></tr><tr><td>Little Gadget</td><td>11222.89</td></tr><tr><td>Scientist Tool</td><td>11214.289999999999</td></tr><tr><td>Standard Item</td><td>11195.170000000002</td></tr><tr><td>Support Accessory</td><td>11187.329999999998</td></tr><tr><td>Break Item</td><td>11158.539999999999</td></tr><tr><td>Six Item</td><td>11127.859999999999</td></tr><tr><td>List Device</td><td>11110.86</td></tr><tr><td>Hit Tool</td><td>11098.82</td></tr><tr><td>Cultural Tool</td><td>11097.42</td></tr><tr><td>Raise Gadget</td><td>11079.310000000001</td></tr><tr><td>Summer Device</td><td>11077.47</td></tr><tr><td>Few Item</td><td>11068.240000000002</td></tr><tr><td>Attorney Device</td><td>11066.4</td></tr><tr><td>Guess Device</td><td>11065.700000000003</td></tr><tr><td>Total Gadget</td><td>11061.380000000001</td></tr><tr><td>Happy Gadget</td><td>11037.37</td></tr><tr><td>Newspaper Device</td><td>11034.57</td></tr><tr><td>Middle Tool</td><td>11005.690000000002</td></tr><tr><td>Spend Item</td><td>10984.539999999999</td></tr><tr><td>Teacher Item</td><td>10977.28</td></tr><tr><td>Color Device</td><td>10967.130000000001</td></tr><tr><td>Hit Device</td><td>10952.310000000001</td></tr><tr><td>Save Tool</td><td>10942.699999999999</td></tr><tr><td>Success Accessory</td><td>10933.09</td></tr><tr><td>Several Accessory</td><td>10894.97</td></tr><tr><td>Sure Item</td><td>10883.169999999998</td></tr><tr><td>Agent Tool</td><td>10872.29</td></tr><tr><td>Movement Device</td><td>10855.119999999999</td></tr><tr><td>Sure Tool</td><td>10843.010000000002</td></tr><tr><td>Official Gadget</td><td>10829.36</td></tr><tr><td>Environment Tool</td><td>10810.34</td></tr><tr><td>Wrong Device</td><td>10804.61</td></tr><tr><td>Without Tool</td><td>10804.370000000003</td></tr><tr><td>Choice Accessory</td><td>10781.910000000002</td></tr><tr><td>Cell Device</td><td>10748.240000000002</td></tr><tr><td>Especially Tool</td><td>10730.299999999997</td></tr><tr><td>Lawyer Tool</td><td>10679.820000000002</td></tr><tr><td>On Gadget</td><td>10679.079999999998</td></tr><tr><td>Air Item</td><td>10669.619999999999</td></tr><tr><td>Course Accessory</td><td>10665.560000000001</td></tr><tr><td>Almost Tool</td><td>10664.650000000001</td></tr><tr><td>Successful Gadget</td><td>10651.75</td></tr><tr><td>Consider Tool</td><td>10610.5</td></tr><tr><td>Until Device</td><td>10597.939999999999</td></tr><tr><td>Despite Tool</td><td>10575.7</td></tr><tr><td>Treatment Accessory</td><td>10547.14</td></tr><tr><td>He Item</td><td>10543.67</td></tr><tr><td>Scene Device</td><td>10538.949999999997</td></tr><tr><td>Tax Device</td><td>10533.65</td></tr><tr><td>Direction Accessory</td><td>10529.789999999999</td></tr><tr><td>Structure Tool</td><td>10492.130000000001</td></tr><tr><td>Notice Gadget</td><td>10484.2</td></tr><tr><td>Base Tool</td><td>10467.14</td></tr><tr><td>Occur Gadget</td><td>10462.55</td></tr><tr><td>View Accessory</td><td>10461.29</td></tr><tr><td>If Item</td><td>10451.520000000002</td></tr><tr><td>Economic Device</td><td>10449.18</td></tr><tr><td>Carry Gadget</td><td>10446.95</td></tr><tr><td>Finish Device</td><td>10441.5</td></tr><tr><td>Beat Accessory</td><td>10429.91</td></tr><tr><td>Minute Gadget</td><td>10397.91</td></tr><tr><td>Little Device</td><td>10389.400000000001</td></tr><tr><td>Lose Accessory</td><td>10374.029999999999</td></tr><tr><td>Room Tool</td><td>10365.18</td></tr><tr><td>Leg Gadget</td><td>10330.78</td></tr><tr><td>Lead Gadget</td><td>10313.17</td></tr><tr><td>Thing Gadget</td><td>10309.12</td></tr><tr><td>Event Gadget</td><td>10273.08</td></tr><tr><td>Avoid Tool</td><td>10270.98</td></tr><tr><td>Enough Tool</td><td>10269.34</td></tr><tr><td>Edge Gadget</td><td>10268.65</td></tr><tr><td>Give Gadget</td><td>10261.74</td></tr><tr><td>After Gadget</td><td>10233.72</td></tr><tr><td>Wonder Item</td><td>10220.560000000001</td></tr><tr><td>Group Item</td><td>10190.56</td></tr><tr><td>Positive Device</td><td>10184.580000000002</td></tr><tr><td>Resource Gadget</td><td>10161.44</td></tr><tr><td>Need Tool</td><td>10138.02</td></tr><tr><td>Between Accessory</td><td>10134.79</td></tr><tr><td>Half Accessory</td><td>10113.89</td></tr><tr><td>Nation Device</td><td>10098.08</td></tr><tr><td>Himself Tool</td><td>10093.91</td></tr><tr><td>She Device</td><td>10071.58</td></tr><tr><td>Hundred Item</td><td>10052.510000000002</td></tr><tr><td>Traditional Tool</td><td>10040.940000000002</td></tr><tr><td>Perhaps Tool</td><td>10033.280000000002</td></tr><tr><td>Weight Item</td><td>10019.28</td></tr><tr><td>Probably Gadget</td><td>10004.04</td></tr><tr><td>Character Device</td><td>10001.94</td></tr><tr><td>Idea Gadget</td><td>9987.26</td></tr><tr><td>Space Device</td><td>9987.07</td></tr><tr><td>Compare Gadget</td><td>9981.170000000002</td></tr><tr><td>Account Device</td><td>9960.760000000004</td></tr><tr><td>Indicate Accessory</td><td>9958.519999999997</td></tr><tr><td>Center Tool</td><td>9945.65</td></tr><tr><td>Particularly Tool</td><td>9941.949999999999</td></tr><tr><td>Return Item</td><td>9938.77</td></tr><tr><td>Vote Device</td><td>9923.060000000001</td></tr><tr><td>Leader Device</td><td>9922.300000000001</td></tr><tr><td>Still Tool</td><td>9921.240000000002</td></tr><tr><td>Crime Gadget</td><td>9912.93</td></tr><tr><td>My Gadget</td><td>9894.3</td></tr><tr><td>Clear Tool</td><td>9870.39</td></tr><tr><td>Like Item</td><td>9865.06</td></tr><tr><td>Someone Accessory</td><td>9845.369999999999</td></tr><tr><td>Positive Item</td><td>9843.13</td></tr><tr><td>Cause Tool</td><td>9840.92</td></tr><tr><td>Ahead Gadget</td><td>9818.539999999999</td></tr><tr><td>Middle Gadget</td><td>9802.81</td></tr><tr><td>Interview Gadget</td><td>9755.61</td></tr><tr><td>Avoid Device</td><td>9730.880000000001</td></tr><tr><td>Unit Item</td><td>9703.470000000001</td></tr><tr><td>Fight Gadget</td><td>9663.49</td></tr><tr><td>That Gadget</td><td>9654.99</td></tr><tr><td>Beat Device</td><td>9654.21</td></tr><tr><td>Serve Tool</td><td>9622.99</td></tr><tr><td>Hard Gadget</td><td>9616.68</td></tr><tr><td>Responsibility Gadget</td><td>9570.369999999999</td></tr><tr><td>Receive Gadget</td><td>9519.87</td></tr><tr><td>Pressure Accessory</td><td>9518.07</td></tr><tr><td>Across Device</td><td>9486.85</td></tr><tr><td>Even Device</td><td>9462.24</td></tr><tr><td>Audience Accessory</td><td>9448.95</td></tr><tr><td>Answer Gadget</td><td>9423.369999999999</td></tr><tr><td>Interesting Item</td><td>9416.82</td></tr><tr><td>Brother Device</td><td>9415.79</td></tr><tr><td>Special Device</td><td>9415.57</td></tr><tr><td>Road Tool</td><td>9396.57</td></tr><tr><td>Try Item</td><td>9394.86</td></tr><tr><td>Opportunity Item</td><td>9366.9</td></tr><tr><td>Big Gadget</td><td>9273.300000000001</td></tr><tr><td>Piece Gadget</td><td>9265.73</td></tr><tr><td>Happen Gadget</td><td>9246.86</td></tr><tr><td>Land Tool</td><td>9238.38</td></tr><tr><td>Investment Device</td><td>9230.269999999999</td></tr><tr><td>Together Gadget</td><td>9227.26</td></tr><tr><td>Be Tool</td><td>9221.869999999999</td></tr><tr><td>Simply Tool</td><td>9198.91</td></tr><tr><td>Land Gadget</td><td>9189.34</td></tr><tr><td>Improve Accessory</td><td>9176.779999999999</td></tr><tr><td>After Device</td><td>9172.69</td></tr><tr><td>Subject Device</td><td>9153.22</td></tr><tr><td>Rise Tool</td><td>9114.130000000001</td></tr><tr><td>Before Device</td><td>9109.76</td></tr><tr><td>Win Gadget</td><td>9103.189999999999</td></tr><tr><td>Gun Accessory</td><td>9102.52</td></tr><tr><td>Suddenly Item</td><td>9077.210000000001</td></tr><tr><td>Goal Item</td><td>9031.710000000001</td></tr><tr><td>Lose Tool</td><td>9023.619999999999</td></tr><tr><td>Space Item</td><td>9003.900000000001</td></tr><tr><td>Upon Gadget</td><td>9002.919999999998</td></tr><tr><td>World Item</td><td>8997.710000000001</td></tr><tr><td>Affect Device</td><td>8984.17</td></tr><tr><td>Current Gadget</td><td>8961.85</td></tr><tr><td>Significant Accessory</td><td>8925.2</td></tr><tr><td>Dark Item</td><td>8916.43</td></tr><tr><td>Gas Tool</td><td>8905.03</td></tr><tr><td>Maybe Tool</td><td>8868.119999999999</td></tr><tr><td>Assume Tool</td><td>8829.35</td></tr><tr><td>All Item</td><td>8820.210000000001</td></tr><tr><td>To Gadget</td><td>8818.740000000002</td></tr><tr><td>Old Item</td><td>8758.939999999999</td></tr><tr><td>Picture Device</td><td>8742.47</td></tr><tr><td>Water Item</td><td>8738.119999999999</td></tr><tr><td>Hair Accessory</td><td>8737.789999999999</td></tr><tr><td>Surface Gadget</td><td>8681.029999999999</td></tr><tr><td>Its Tool</td><td>8657.650000000001</td></tr><tr><td>Democrat Item</td><td>8624.319999999998</td></tr><tr><td>Property Accessory</td><td>8617.64</td></tr><tr><td>Company Accessory</td><td>8597.919999999998</td></tr><tr><td>Second Accessory</td><td>8582.72</td></tr><tr><td>Pm Accessory</td><td>8545.399999999998</td></tr><tr><td>In Device</td><td>8541.189999999999</td></tr><tr><td>Brother Accessory</td><td>8497.460000000001</td></tr><tr><td>Camera Device</td><td>8486.64</td></tr><tr><td>Billion Tool</td><td>8435.429999999998</td></tr><tr><td>Town Tool</td><td>8402.19</td></tr><tr><td>Drop Item</td><td>8366.3</td></tr><tr><td>Note Device</td><td>8342.8</td></tr><tr><td>End Tool</td><td>8339.88</td></tr><tr><td>Mrs Gadget</td><td>8324.93</td></tr><tr><td>Too Accessory</td><td>8287.8</td></tr><tr><td>Day Item</td><td>8247.810000000001</td></tr><tr><td>Part Accessory</td><td>8245.070000000002</td></tr><tr><td>Interesting Gadget</td><td>8239.009999999998</td></tr><tr><td>Rather Device</td><td>8231.97</td></tr><tr><td>Season Accessory</td><td>8225.47</td></tr><tr><td>Available Gadget</td><td>8219.6</td></tr><tr><td>Fear Item</td><td>8183.33</td></tr><tr><td>Claim Device</td><td>8177.139999999999</td></tr><tr><td>Federal Tool</td><td>8091.45</td></tr><tr><td>Certainly Device</td><td>8080.4800000000005</td></tr><tr><td>Do Device</td><td>7997.61</td></tr><tr><td>Sense Tool</td><td>7984.240000000001</td></tr><tr><td>Republican Device</td><td>7963.34</td></tr><tr><td>Threat Tool</td><td>7962.879999999999</td></tr><tr><td>North Tool</td><td>7946.87</td></tr><tr><td>Action Gadget</td><td>7899.389999999999</td></tr><tr><td>Produce Accessory</td><td>7854.71</td></tr><tr><td>Able Accessory</td><td>7850.5599999999995</td></tr><tr><td>Ball Device</td><td>7767.24</td></tr><tr><td>Rock Gadget</td><td>7670.77</td></tr><tr><td>Standard Tool</td><td>7669.13</td></tr><tr><td>Ask Gadget</td><td>7645.150000000001</td></tr><tr><td>Save Accessory</td><td>7633.67</td></tr><tr><td>Opportunity Tool</td><td>7620.64</td></tr><tr><td>Suddenly Tool</td><td>7610.860000000001</td></tr><tr><td>Add Accessory</td><td>7555.669999999999</td></tr><tr><td>Affect Tool</td><td>7503.090000000001</td></tr><tr><td>About Item</td><td>7491.3</td></tr><tr><td>Which Tool</td><td>7490.24</td></tr><tr><td>For Gadget</td><td>7422.700000000001</td></tr><tr><td>This Device</td><td>7416.85</td></tr><tr><td>Push Device</td><td>7404.159999999999</td></tr><tr><td>Past Tool</td><td>7403.0599999999995</td></tr><tr><td>Work Gadget</td><td>7382.99</td></tr><tr><td>Wrong Item</td><td>7369.400000000001</td></tr><tr><td>Over Gadget</td><td>7368.67</td></tr><tr><td>Management Tool</td><td>7306.589999999999</td></tr><tr><td>Sport Device</td><td>7272.58</td></tr><tr><td>Such Accessory</td><td>7211.710000000001</td></tr><tr><td>Rich Item</td><td>7190.74</td></tr><tr><td>Herself Tool</td><td>7186.78</td></tr><tr><td>Score Accessory</td><td>7176.299999999999</td></tr><tr><td>Official Tool</td><td>7175.61</td></tr><tr><td>Mind Gadget</td><td>7056.34</td></tr><tr><td>Government Device</td><td>7055.8</td></tr><tr><td>Involve Item</td><td>7055.160000000001</td></tr><tr><td>Include Accessory</td><td>7049.509999999999</td></tr><tr><td>Writer Device</td><td>7035.42</td></tr><tr><td>There Tool</td><td>7007.51</td></tr><tr><td>Talk Device</td><td>6967.789999999999</td></tr><tr><td>Treat Device</td><td>6938.52</td></tr><tr><td>Tell Gadget</td><td>6860.179999999999</td></tr><tr><td>Question Accessory</td><td>6834.36</td></tr><tr><td>Beat Gadget</td><td>6787.42</td></tr><tr><td>Anyone Accessory</td><td>6754.67</td></tr><tr><td>Education Accessory</td><td>6754.59</td></tr><tr><td>Wrong Accessory</td><td>6702.19</td></tr><tr><td>Fill Gadget</td><td>6687.68</td></tr><tr><td>Actually Device</td><td>6678.069999999999</td></tr><tr><td>Class Gadget</td><td>6674.369999999999</td></tr><tr><td>Themselves Item</td><td>6654.35</td></tr><tr><td>I Device</td><td>6534.6</td></tr><tr><td>Eye Item</td><td>6453.9</td></tr><tr><td>Plant Accessory</td><td>6442.860000000001</td></tr><tr><td>Indicate Item</td><td>6440.76</td></tr><tr><td>Specific Device</td><td>6432.8</td></tr><tr><td>Marriage Tool</td><td>6413.2699999999995</td></tr><tr><td>Although Item</td><td>6396.54</td></tr><tr><td>Hope Accessory</td><td>6395.7699999999995</td></tr><tr><td>Four Device</td><td>6367.11</td></tr><tr><td>Describe Device</td><td>6363.48</td></tr><tr><td>True Accessory</td><td>6348.84</td></tr><tr><td>Measure Item</td><td>6188.68</td></tr><tr><td>Arm Device</td><td>6135.539999999999</td></tr><tr><td>Within Tool</td><td>6117.73</td></tr><tr><td>Audience Item</td><td>6074.12</td></tr><tr><td>Again Tool</td><td>6068.5</td></tr><tr><td>Provide Accessory</td><td>6007.5</td></tr><tr><td>Quality Item</td><td>5917.48</td></tr><tr><td>Third Device</td><td>5893.68</td></tr><tr><td>Today Accessory</td><td>5884.590000000001</td></tr><tr><td>Pay Tool</td><td>5846.02</td></tr><tr><td>Scene Gadget</td><td>5833.75</td></tr><tr><td>Situation Accessory</td><td>5783.05</td></tr><tr><td>Society Tool</td><td>5781.43</td></tr><tr><td>But Gadget</td><td>5747.08</td></tr><tr><td>Manage Item</td><td>5722.48</td></tr><tr><td>Also Gadget</td><td>5653.16</td></tr><tr><td>Three Tool</td><td>5639.5199999999995</td></tr><tr><td>Magazine Gadget</td><td>5578.5599999999995</td></tr><tr><td>Education Tool</td><td>5565.139999999999</td></tr><tr><td>Material Device</td><td>5459.68</td></tr><tr><td>She Tool</td><td>5407.27</td></tr><tr><td>Analysis Item</td><td>5366.43</td></tr><tr><td>Set Gadget</td><td>5361.03</td></tr><tr><td>Spend Device</td><td>5280.79</td></tr><tr><td>Realize Tool</td><td>5191.380000000001</td></tr><tr><td>Allow Device</td><td>4986.02</td></tr><tr><td>Build Tool</td><td>4981.5599999999995</td></tr><tr><td>Explain Item</td><td>4908.87</td></tr><tr><td>Development Device</td><td>4855.82</td></tr><tr><td>Risk Device</td><td>4854.59</td></tr><tr><td>Bill Gadget</td><td>4802.68</td></tr><tr><td>Commercial Device</td><td>4796.290000000001</td></tr><tr><td>Second Gadget</td><td>4751.25</td></tr><tr><td>Thousand Accessory</td><td>4716.24</td></tr><tr><td>These Gadget</td><td>4677.0</td></tr><tr><td>Someone Device</td><td>4660.860000000001</td></tr><tr><td>Peace Tool</td><td>4584.81</td></tr><tr><td>Help Gadget</td><td>4554.200000000001</td></tr><tr><td>Price Gadget</td><td>4552.19</td></tr><tr><td>Full Gadget</td><td>4530.609999999999</td></tr><tr><td>Even Accessory</td><td>4441.04</td></tr><tr><td>Nice Device</td><td>4326.3099999999995</td></tr><tr><td>Size Accessory</td><td>4237.860000000001</td></tr><tr><td>Nice Accessory</td><td>4164.159999999999</td></tr><tr><td>Song Device</td><td>4152.240000000001</td></tr><tr><td>Story Device</td><td>4014.0099999999998</td></tr><tr><td>Information Gadget</td><td>4013.72</td></tr><tr><td>Point Accessory</td><td>3984.14</td></tr><tr><td>Create Item</td><td>3927.36</td></tr><tr><td>Address Tool</td><td>3815.7299999999996</td></tr><tr><td>Should Gadget</td><td>3559.95</td></tr><tr><td>Owner Item</td><td>3515.34</td></tr><tr><td>Reason Tool</td><td>3458.11</td></tr><tr><td>Side Accessory</td><td>3259.83</td></tr><tr><td>Amount Item</td><td>3166.92</td></tr><tr><td>Bar Accessory</td><td>3044.13</td></tr><tr><td>Similar Accessory</td><td>2976.94</td></tr><tr><td>Pressure Item</td><td>2701.7599999999998</td></tr><tr><td>Structure Gadget</td><td>2162.84</td></tr><tr><td>Soon Item</td><td>1985.53</td></tr><tr><td>Book Gadget</td><td>1698.8000000000002</td></tr><tr><td>Matter Tool</td><td>1485.3799999999999</td></tr><tr><td>Congress Gadget</td><td>1375.52</td></tr><tr><td>Contain Item</td><td>1174.9</td></tr><tr><td>Draw Gadget</td><td>1069.1200000000001</td></tr><tr><td>Congress Accessory</td><td>986.46</td></tr><tr><td>State Device</td><td>905.72</td></tr><tr><td>Inside Device</td><td>578.38</td></tr><tr><td>Trial Tool</td><td>550.44</td></tr></tbody></table></div>"
      ]
     },
     "metadata": {
      "application/vnd.databricks.v1+output": {
       "addedWidgets": {},
       "aggData": [],
       "aggError": "",
       "aggOverflow": false,
       "aggSchema": [],
       "aggSeriesLimitReached": false,
       "aggType": "",
       "arguments": {},
       "columnCustomDisplayInfos": {},
       "data": [
        [
         "Choice Tool",
         78989.54999999999
        ],
        [
         "Message Gadget",
         73341.93
        ],
        [
         "Matter Device",
         72665.24999999999
        ],
        [
         "Sure Gadget",
         71733.8
        ],
        [
         "Stuff Item",
         69597.07
        ],
        [
         "Example Device",
         67543.13
        ],
        [
         "Front Device",
         67131.17
        ],
        [
         "Successful Accessory",
         65861.62
        ],
        [
         "Half Item",
         65235.18
        ],
        [
         "Last Tool",
         62638.16999999999
        ],
        [
         "Main Accessory",
         61522.3
        ],
        [
         "Answer Item",
         61255.70000000002
        ],
        [
         "Eye Device",
         61101.35
        ],
        [
         "Employee Accessory",
         60654.04000000001
        ],
        [
         "Position Gadget",
         60466.69
        ],
        [
         "Receive Item",
         60148.92000000001
        ],
        [
         "Film Gadget",
         60100.45000000002
        ],
        [
         "Measure Accessory",
         60050.270000000004
        ],
        [
         "Impact Accessory",
         60011.009999999995
        ],
        [
         "Into Accessory",
         59534.95
        ],
        [
         "Animal Item",
         59528.15
        ],
        [
         "Indeed Accessory",
         59172.359999999986
        ],
        [
         "Partner Item",
         58714.53
        ],
        [
         "Science Tool",
         58619.0
        ],
        [
         "Source Accessory",
         58346.21
        ],
        [
         "Remember Device",
         58337.31999999999
        ],
        [
         "Democrat Accessory",
         58274.79
        ],
        [
         "Through Gadget",
         58259.979999999996
        ],
        [
         "Mouth Gadget",
         58040.09000000001
        ],
        [
         "Use Device",
         57996.26
        ],
        [
         "Executive Item",
         57969.63999999999
        ],
        [
         "Also Tool",
         57843.54000000001
        ],
        [
         "Student Tool",
         57725.20999999999
        ],
        [
         "Congress Tool",
         57449.62
        ],
        [
         "People Gadget",
         57378.34000000001
        ],
        [
         "Theory Gadget",
         57362.48
        ],
        [
         "Many Tool",
         56746.479999999996
        ],
        [
         "Man Item",
         56597.28999999999
        ],
        [
         "Really Item",
         56591.619999999995
        ],
        [
         "Over Accessory",
         56459.77
        ],
        [
         "Much Accessory",
         56265.229999999996
        ],
        [
         "Expert Gadget",
         56149.99
        ],
        [
         "Reach Accessory",
         56120.979999999996
        ],
        [
         "Song Tool",
         55445.04
        ],
        [
         "Wonder Tool",
         55425.8
        ],
        [
         "Woman Gadget",
         55350.94
        ],
        [
         "Happy Tool",
         55301.87000000001
        ],
        [
         "Season Device",
         55209.08
        ],
        [
         "All Tool",
         55124.1
        ],
        [
         "Food Gadget",
         54934.50999999999
        ],
        [
         "Place Tool",
         54837.16
        ],
        [
         "In Accessory",
         54831.499999999985
        ],
        [
         "Former Item",
         54679.08
        ],
        [
         "Popular Accessory",
         54640.58
        ],
        [
         "Avoid Item",
         54598.7
        ],
        [
         "Ready Item",
         54592.7
        ],
        [
         "Likely Item",
         54463.950000000004
        ],
        [
         "Within Item",
         54355.520000000004
        ],
        [
         "Sister Tool",
         53507.49
        ],
        [
         "Defense Device",
         53452.45999999999
        ],
        [
         "Government Item",
         53348.979999999996
        ],
        [
         "While Tool",
         53251.86
        ],
        [
         "Threat Accessory",
         53082.65000000001
        ],
        [
         "Site Tool",
         52788.17
        ],
        [
         "Heart Item",
         52639.45
        ],
        [
         "Interest Accessory",
         52497.2
        ],
        [
         "Short Device",
         52482.39000000001
        ],
        [
         "Continue Device",
         52346.34
        ],
        [
         "Career Accessory",
         52215.05
        ],
        [
         "Mr Gadget",
         52179.58000000001
        ],
        [
         "You Device",
         52163.74
        ],
        [
         "Us Gadget",
         52085.420000000006
        ],
        [
         "Break Tool",
         51865.03
        ],
        [
         "State Tool",
         51817.64000000001
        ],
        [
         "Trouble Device",
         51701.89
        ],
        [
         "Week Accessory",
         51656.2
        ],
        [
         "Oil Item",
         51651.009999999995
        ],
        [
         "Above Device",
         51529.22000000001
        ],
        [
         "Determine Device",
         51494.16999999999
        ],
        [
         "Establish Tool",
         51464.2
        ],
        [
         "Modern Gadget",
         51425.509999999995
        ],
        [
         "Task Tool",
         51348.78
        ],
        [
         "Air Accessory",
         51293.73
        ],
        [
         "Up Item",
         51239.17
        ],
        [
         "Story Tool",
         51220.890000000014
        ],
        [
         "Term Item",
         51195.810000000005
        ],
        [
         "Product Accessory",
         51152.98
        ],
        [
         "Son Device",
         51011.130000000005
        ],
        [
         "At Device",
         50977.100000000006
        ],
        [
         "Brother Gadget",
         50902.17999999999
        ],
        [
         "Simply Device",
         50853.280000000006
        ],
        [
         "Collection Gadget",
         50842.53
        ],
        [
         "Political Item",
         50778.90000000001
        ],
        [
         "Major Tool",
         50767.78
        ],
        [
         "Candidate Device",
         50597.520000000004
        ],
        [
         "Indicate Gadget",
         50346.20000000001
        ],
        [
         "Left Accessory",
         50324.740000000005
        ],
        [
         "Nearly Gadget",
         50303.29000000001
        ],
        [
         "Under Tool",
         50293.899999999994
        ],
        [
         "Movement Tool",
         50277.999999999985
        ],
        [
         "Record Item",
         50253.020000000004
        ],
        [
         "Compare Item",
         50148.689999999995
        ],
        [
         "Lawyer Device",
         50080.14000000001
        ],
        [
         "Weight Accessory",
         50040.03
        ],
        [
         "Media Tool",
         50033.490000000005
        ],
        [
         "Over Tool",
         50018.47000000001
        ],
        [
         "Black Accessory",
         50009.82000000001
        ],
        [
         "Son Item",
         49931.659999999996
        ],
        [
         "Employee Item",
         49901.03
        ],
        [
         "Democratic Device",
         49753.07
        ],
        [
         "Fine Accessory",
         49740.2
        ],
        [
         "State Accessory",
         49651.009999999995
        ],
        [
         "Industry Accessory",
         49517.84999999999
        ],
        [
         "Ten Item",
         49474.170000000006
        ],
        [
         "Foot Item",
         49398.30999999999
        ],
        [
         "Citizen Item",
         49370.080000000016
        ],
        [
         "Board Gadget",
         49311.869999999995
        ],
        [
         "Officer Accessory",
         49299.969999999994
        ],
        [
         "Hope Item",
         49248.409999999996
        ],
        [
         "Recently Device",
         49188.850000000006
        ],
        [
         "Eight Item",
         49159.76
        ],
        [
         "Mother Item",
         49157.43
        ],
        [
         "Market Gadget",
         49149.81
        ],
        [
         "Money Tool",
         49034.53
        ],
        [
         "Room Device",
         48854.33
        ],
        [
         "Learn Item",
         48786.490000000005
        ],
        [
         "Follow Item",
         48753.54
        ],
        [
         "Apply Device",
         48680.83
        ],
        [
         "Will Tool",
         48673.06
        ],
        [
         "Rule Accessory",
         48641.97
        ],
        [
         "Eight Tool",
         48631.3
        ],
        [
         "Southern Item",
         48571.99
        ],
        [
         "Do Tool",
         48512.91000000001
        ],
        [
         "Mrs Accessory",
         48489.29
        ],
        [
         "Create Gadget",
         48458.2
        ],
        [
         "Nature Device",
         48425.75
        ],
        [
         "Actually Accessory",
         48388.920000000006
        ],
        [
         "Enjoy Device",
         48331.36
        ],
        [
         "Beyond Gadget",
         48319.90000000001
        ],
        [
         "Their Accessory",
         48318.61
        ],
        [
         "Threat Gadget",
         48272.509999999995
        ],
        [
         "Well Tool",
         48271.73
        ],
        [
         "Wide Gadget",
         48264.460000000014
        ],
        [
         "Wind Gadget",
         48245.10999999999
        ],
        [
         "Into Device",
         48235.02
        ],
        [
         "Five Gadget",
         48234.31
        ],
        [
         "Research Gadget",
         48216.88
        ],
        [
         "Speech Tool",
         48193.26999999999
        ],
        [
         "Identify Accessory",
         48174.58999999999
        ],
        [
         "During Tool",
         48129.189999999995
        ],
        [
         "New Accessory",
         48107.030000000006
        ],
        [
         "Benefit Gadget",
         47998.53
        ],
        [
         "Group Tool",
         47976.08
        ],
        [
         "Line Item",
         47875.15
        ],
        [
         "Industry Tool",
         47840.73999999999
        ],
        [
         "Plant Item",
         47806.15
        ],
        [
         "Hotel Device",
         47791.62000000001
        ],
        [
         "Politics Device",
         47776.88
        ],
        [
         "Town Item",
         47760.89
        ],
        [
         "Movement Item",
         47710.81999999999
        ],
        [
         "Husband Tool",
         47635.049999999996
        ],
        [
         "Budget Tool",
         47610.719999999994
        ],
        [
         "There Accessory",
         47571.119999999995
        ],
        [
         "Glass Tool",
         47436.310000000005
        ],
        [
         "Small Accessory",
         47400.149999999994
        ],
        [
         "Several Item",
         47364.149999999994
        ],
        [
         "Data Gadget",
         47360.57000000001
        ],
        [
         "Contain Gadget",
         47347.72
        ],
        [
         "Everyone Tool",
         47318.37999999999
        ],
        [
         "Whether Item",
         47278.92999999999
        ],
        [
         "Ten Tool",
         47273.520000000004
        ],
        [
         "Finally Tool",
         47181.09
        ],
        [
         "Responsibility Device",
         47144.61
        ],
        [
         "Effort Accessory",
         47074.8
        ],
        [
         "Affect Gadget",
         47056.88
        ],
        [
         "War Item",
         47032.12
        ],
        [
         "Return Accessory",
         46858.75
        ],
        [
         "Place Item",
         46841.81
        ],
        [
         "History Tool",
         46821.62999999999
        ],
        [
         "Lead Item",
         46811.34000000001
        ],
        [
         "Minute Tool",
         46808.72999999999
        ],
        [
         "Art Accessory",
         46795.340000000004
        ],
        [
         "Remember Accessory",
         46789.719999999994
        ],
        [
         "Ball Item",
         46717.45
        ],
        [
         "Mrs Tool",
         46708.39000000001
        ],
        [
         "Own Gadget",
         46694.759999999995
        ],
        [
         "Likely Gadget",
         46644.44
        ],
        [
         "Though Item",
         46634.53
        ],
        [
         "Character Gadget",
         46620.13
        ],
        [
         "Even Gadget",
         46597.130000000005
        ],
        [
         "Stop Tool",
         46584.27000000001
        ],
        [
         "Or Tool",
         46571.60999999999
        ],
        [
         "Result Tool",
         46563.049999999996
        ],
        [
         "Social Item",
         46541.53
        ],
        [
         "Activity Gadget",
         46471.4
        ],
        [
         "Factor Device",
         46423.950000000004
        ],
        [
         "Indeed Device",
         46244.65
        ],
        [
         "Everything Device",
         46199.0
        ],
        [
         "About Gadget",
         46180.95999999999
        ],
        [
         "Have Item",
         46178.58
        ],
        [
         "Today Gadget",
         46160.79000000001
        ],
        [
         "Event Device",
         46097.47
        ],
        [
         "Me Gadget",
         46092.74
        ],
        [
         "Name Gadget",
         46049.22
        ],
        [
         "Only Gadget",
         45964.20999999999
        ],
        [
         "Arm Accessory",
         45947.57000000001
        ],
        [
         "So Item",
         45946.10999999999
        ],
        [
         "Soldier Accessory",
         45914.170000000006
        ],
        [
         "Morning Item",
         45907.56999999999
        ],
        [
         "West Device",
         45882.450000000004
        ],
        [
         "Meeting Item",
         45841.95999999999
        ],
        [
         "Simply Gadget",
         45829.66
        ],
        [
         "Room Accessory",
         45820.91
        ],
        [
         "Contain Accessory",
         45802.95
        ],
        [
         "In Tool",
         45765.87
        ],
        [
         "Happen Item",
         45748.51
        ],
        [
         "Process Item",
         45719.91
        ],
        [
         "Finally Device",
         45667.73
        ],
        [
         "Better Gadget",
         45656.04000000001
        ],
        [
         "Question Gadget",
         45654.92
        ],
        [
         "Growth Tool",
         45627.420000000006
        ],
        [
         "Effect Tool",
         45604.81
        ],
        [
         "Wind Device",
         45552.439999999995
        ],
        [
         "Picture Accessory",
         45540.240000000005
        ],
        [
         "Sound Device",
         45499.310000000005
        ],
        [
         "American Item",
         45433.7
        ],
        [
         "Expect Gadget",
         45433.05
        ],
        [
         "Each Tool",
         45415.56
        ],
        [
         "Against Gadget",
         45335.96000000001
        ],
        [
         "Some Tool",
         45334.91
        ],
        [
         "Decade Item",
         45328.31
        ],
        [
         "Clear Gadget",
         45318.32000000001
        ],
        [
         "Thousand Item",
         45196.49
        ],
        [
         "Travel Item",
         45079.35999999999
        ],
        [
         "Discover Accessory",
         45051.03
        ],
        [
         "Writer Tool",
         45046.200000000004
        ],
        [
         "Community Gadget",
         45043.28
        ],
        [
         "Water Accessory",
         45014.11
        ],
        [
         "Pattern Tool",
         45013.920000000006
        ],
        [
         "Pretty Tool",
         45008.41
        ],
        [
         "Happen Tool",
         44999.740000000005
        ],
        [
         "After Accessory",
         44996.920000000006
        ],
        [
         "Have Gadget",
         44982.8
        ],
        [
         "Unit Tool",
         44951.759999999995
        ],
        [
         "Test Accessory",
         44944.8
        ],
        [
         "School Device",
         44910.92
        ],
        [
         "Course Device",
         44891.81999999999
        ],
        [
         "Watch Device",
         44859.009999999995
        ],
        [
         "More Accessory",
         44832.80000000001
        ],
        [
         "Worker Gadget",
         44766.369999999995
        ],
        [
         "She Accessory",
         44758.03999999999
        ],
        [
         "Hot Item",
         44687.72
        ],
        [
         "Start Tool",
         44654.600000000006
        ],
        [
         "Probably Accessory",
         44638.810000000005
        ],
        [
         "Major Item",
         44572.71
        ],
        [
         "Successful Tool",
         44542.520000000004
        ],
        [
         "Maintain Item",
         44536.09999999999
        ],
        [
         "During Item",
         44518.5
        ],
        [
         "Fast Gadget",
         44513.270000000004
        ],
        [
         "Or Accessory",
         44500.33
        ],
        [
         "Country Item",
         44498.2
        ],
        [
         "Social Device",
         44433.829999999994
        ],
        [
         "Week Item",
         44418.62
        ],
        [
         "Weight Tool",
         44408.01
        ],
        [
         "Hand Device",
         44395.090000000004
        ],
        [
         "Doctor Accessory",
         44393.01
        ],
        [
         "New Device",
         44363.09
        ],
        [
         "Challenge Gadget",
         44360.520000000004
        ],
        [
         "Alone Tool",
         44329.75000000001
        ],
        [
         "Already Accessory",
         44280.84
        ],
        [
         "Call Device",
         44247.22
        ],
        [
         "Least Gadget",
         44216.95
        ],
        [
         "Here Accessory",
         44203.649999999994
        ],
        [
         "Culture Accessory",
         44200.31
        ],
        [
         "College Accessory",
         44191.5
        ],
        [
         "Care Accessory",
         44140.21
        ],
        [
         "Garden Device",
         44124.58
        ],
        [
         "Enjoy Item",
         44086.9
        ],
        [
         "Late Device",
         44065.21000000001
        ],
        [
         "Administration Device",
         44001.069999999985
        ],
        [
         "Federal Item",
         43975.979999999996
        ],
        [
         "Pass Tool",
         43975.12
        ],
        [
         "Enter Device",
         43915.33
        ],
        [
         "Ability Tool",
         43911.62
        ],
        [
         "Must Device",
         43872.48000000002
        ],
        [
         "Could Gadget",
         43854.87999999999
        ],
        [
         "Stage Item",
         43851.47
        ],
        [
         "Series Item",
         43840.34999999999
        ],
        [
         "Year Accessory",
         43821.07
        ],
        [
         "Fund Tool",
         43777.560000000005
        ],
        [
         "Just Accessory",
         43772.770000000004
        ],
        [
         "Congress Item",
         43757.880000000005
        ],
        [
         "Could Device",
         43743.67000000001
        ],
        [
         "Include Gadget",
         43689.16
        ],
        [
         "Apply Tool",
         43674.14000000001
        ],
        [
         "Walk Item",
         43670.96
        ],
        [
         "Order Device",
         43642.61000000001
        ],
        [
         "Station Gadget",
         43611.12
        ],
        [
         "Admit Tool",
         43569.100000000006
        ],
        [
         "Traditional Accessory",
         43564.939999999995
        ],
        [
         "Cut Tool",
         43552.0
        ],
        [
         "Together Item",
         43538.46000000001
        ],
        [
         "Word Accessory",
         43487.3
        ],
        [
         "Idea Device",
         43456.89
        ],
        [
         "Sister Item",
         43428.229999999996
        ],
        [
         "Story Item",
         43403.81
        ],
        [
         "Attorney Tool",
         43370.47
        ],
        [
         "Training Device",
         43349.14000000001
        ],
        [
         "Civil Item",
         43347.9
        ],
        [
         "Series Gadget",
         43288.729999999996
        ],
        [
         "Worry Gadget",
         43271.869999999995
        ],
        [
         "History Device",
         43261.35999999999
        ],
        [
         "Guy Tool",
         43257.67999999999
        ],
        [
         "West Gadget",
         43255.920000000006
        ],
        [
         "Teacher Tool",
         43247.91
        ],
        [
         "Pull Device",
         43199.97
        ],
        [
         "Mind Tool",
         43147.45
        ],
        [
         "Language Item",
         43108.270000000004
        ],
        [
         "Check Device",
         43096.3
        ],
        [
         "Phone Gadget",
         43086.34999999999
        ],
        [
         "Necessary Device",
         43080.92999999999
        ],
        [
         "Every Gadget",
         43052.33999999999
        ],
        [
         "You Accessory",
         43048.51
        ],
        [
         "Any Item",
         43005.979999999996
        ],
        [
         "I Item",
         42964.74
        ],
        [
         "Table Item",
         42930.53
        ],
        [
         "Talk Gadget",
         42910.380000000005
        ],
        [
         "Wide Item",
         42904.659999999996
        ],
        [
         "Practice Tool",
         42844.11
        ],
        [
         "Benefit Item",
         42816.840000000004
        ],
        [
         "Deal Item",
         42803.030000000006
        ],
        [
         "Suggest Accessory",
         42766.61
        ],
        [
         "Close Item",
         42755.149999999994
        ],
        [
         "Still Accessory",
         42721.48
        ],
        [
         "Though Tool",
         42693.530000000006
        ],
        [
         "Young Accessory",
         42689.76000000001
        ],
        [
         "It Gadget",
         42678.86000000001
        ],
        [
         "Keep Gadget",
         42597.25
        ],
        [
         "Could Accessory",
         42595.88
        ],
        [
         "Light Tool",
         42584.35
        ],
        [
         "Fine Tool",
         42581.41
        ],
        [
         "Think Tool",
         42518.07
        ],
        [
         "Significant Gadget",
         42508.15000000001
        ],
        [
         "Defense Item",
         42501.240000000005
        ],
        [
         "May Gadget",
         42489.450000000004
        ],
        [
         "Sort Tool",
         42478.94999999999
        ],
        [
         "Technology Tool",
         42439.93
        ],
        [
         "Security Tool",
         42434.31999999999
        ],
        [
         "Movie Tool",
         42427.53999999999
        ],
        [
         "Maybe Gadget",
         42406.65
        ],
        [
         "Money Accessory",
         42405.47
        ],
        [
         "Court Gadget",
         42398.49
        ],
        [
         "Option Device",
         42346.86
        ],
        [
         "Able Gadget",
         42339.02
        ],
        [
         "Whom Gadget",
         42324.63
        ],
        [
         "Dog Gadget",
         42296.57
        ],
        [
         "Act Gadget",
         42294.630000000005
        ],
        [
         "Common Gadget",
         42284.310000000005
        ],
        [
         "Challenge Device",
         42266.92
        ],
        [
         "Nation Accessory",
         42200.73
        ],
        [
         "Number Device",
         42198.53999999999
        ],
        [
         "Local Tool",
         42162.17
        ],
        [
         "Condition Gadget",
         42151.92999999999
        ],
        [
         "Onto Accessory",
         42132.75
        ],
        [
         "Firm Gadget",
         42115.149999999994
        ],
        [
         "Skin Tool",
         42039.18000000001
        ],
        [
         "Drop Tool",
         42037.65
        ],
        [
         "Near Tool",
         42009.47
        ],
        [
         "Deal Tool",
         42009.100000000006
        ],
        [
         "Child Item",
         42004.100000000006
        ],
        [
         "Thank Device",
         41997.17
        ],
        [
         "Among Tool",
         41989.28
        ],
        [
         "Once Device",
         41986.81
        ],
        [
         "Song Item",
         41981.56
        ],
        [
         "Tough Gadget",
         41978.12
        ],
        [
         "Perform Device",
         41948.96
        ],
        [
         "Theory Device",
         41930.520000000004
        ],
        [
         "Difference Item",
         41920.770000000004
        ],
        [
         "Outside Tool",
         41911.44
        ],
        [
         "Color Item",
         41900.799999999996
        ],
        [
         "Discussion Gadget",
         41898.07000000001
        ],
        [
         "Economic Tool",
         41896.700000000004
        ],
        [
         "Me Device",
         41842.96000000001
        ],
        [
         "Recent Tool",
         41831.52
        ],
        [
         "I Tool",
         41829.41
        ],
        [
         "Behavior Item",
         41821.86
        ],
        [
         "Door Accessory",
         41784.87
        ],
        [
         "Positive Tool",
         41744.340000000004
        ],
        [
         "Three Gadget",
         41721.439999999995
        ],
        [
         "Choose Tool",
         41689.93999999999
        ],
        [
         "Build Gadget",
         41651.07
        ],
        [
         "Road Device",
         41641.4
        ],
        [
         "Shoulder Accessory",
         41631.05
        ],
        [
         "And Gadget",
         41622.62
        ],
        [
         "Serious Device",
         41617.04
        ],
        [
         "Item Gadget",
         41610.34
        ],
        [
         "Clearly Accessory",
         41595.89
        ],
        [
         "Real Item",
         41588.37999999999
        ],
        [
         "Message Item",
         41573.42
        ],
        [
         "Official Accessory",
         41571.76
        ],
        [
         "Fly Item",
         41570.19
        ],
        [
         "Gas Item",
         41540.96
        ],
        [
         "Draw Item",
         41530.869999999995
        ],
        [
         "Inside Item",
         41514.52
        ],
        [
         "Laugh Device",
         41464.2
        ],
        [
         "Radio Accessory",
         41435.62
        ],
        [
         "Involve Device",
         41433.06
        ],
        [
         "Able Item",
         41412.9
        ],
        [
         "Card Item",
         41368.25
        ],
        [
         "Today Item",
         41367.49
        ],
        [
         "Record Gadget",
         41363.86000000001
        ],
        [
         "Along Tool",
         41360.979999999996
        ],
        [
         "Wall Device",
         41345.77
        ],
        [
         "Major Gadget",
         41328.56
        ],
        [
         "Wish Tool",
         41326.14
        ],
        [
         "Customer Item",
         41318.64
        ],
        [
         "Point Device",
         41314.76999999999
        ],
        [
         "Yeah Tool",
         41313.41999999999
        ],
        [
         "Whose Gadget",
         41294.97000000001
        ],
        [
         "Them Device",
         41292.92
        ],
        [
         "Them Item",
         41289.93000000001
        ],
        [
         "Study Device",
         41277.920000000006
        ],
        [
         "Off Item",
         41234.329999999994
        ],
        [
         "Personal Tool",
         41231.84000000001
        ],
        [
         "Professional Item",
         41230.909999999996
        ],
        [
         "Drop Accessory",
         41183.85999999999
        ],
        [
         "Make Accessory",
         41172.04
        ],
        [
         "Feeling Accessory",
         41162.03999999999
        ],
        [
         "Best Item",
         41127.18
        ],
        [
         "Evening Device",
         41065.03
        ],
        [
         "Government Accessory",
         41052.6
        ],
        [
         "How Item",
         41038.78
        ],
        [
         "Ten Gadget",
         41005.36
        ],
        [
         "Quickly Gadget",
         40995.869999999995
        ],
        [
         "Blood Accessory",
         40876.11
        ],
        [
         "Indicate Tool",
         40872.87
        ],
        [
         "Gun Gadget",
         40854.40000000001
        ],
        [
         "Someone Item",
         40788.99
        ],
        [
         "Describe Gadget",
         40786.65
        ],
        [
         "Occur Item",
         40773.46
        ],
        [
         "See Tool",
         40753.97
        ],
        [
         "Never Accessory",
         40743.31
        ],
        [
         "Either Accessory",
         40736.96
        ],
        [
         "Administration Tool",
         40735.53999999999
        ],
        [
         "Republican Accessory",
         40727.51
        ],
        [
         "Take Item",
         40723.55
        ],
        [
         "Traditional Gadget",
         40708.100000000006
        ],
        [
         "Heart Tool",
         40706.289999999986
        ],
        [
         "Mission Device",
         40676.51
        ],
        [
         "Anyone Gadget",
         40635.340000000004
        ],
        [
         "Resource Device",
         40619.61
        ],
        [
         "Despite Accessory",
         40614.869999999995
        ],
        [
         "Focus Item",
         40610.94
        ],
        [
         "A Item",
         40610.18000000001
        ],
        [
         "First Tool",
         40599.44
        ],
        [
         "Cup Item",
         40592.13999999999
        ],
        [
         "With Item",
         40571.62
        ],
        [
         "Draw Device",
         40560.049999999996
        ],
        [
         "Building Accessory",
         40534.16
        ],
        [
         "Because Tool",
         40496.92
        ],
        [
         "Certain Tool",
         40462.33
        ],
        [
         "Another Device",
         40433.969999999994
        ],
        [
         "Group Device",
         40416.979999999996
        ],
        [
         "Him Device",
         40410.53
        ],
        [
         "Life Tool",
         40385.7
        ],
        [
         "Maintain Accessory",
         40372.42999999999
        ],
        [
         "Few Tool",
         40365.009999999995
        ],
        [
         "Fine Gadget",
         40361.020000000004
        ],
        [
         "Morning Accessory",
         40332.920000000006
        ],
        [
         "Single Gadget",
         40314.31999999999
        ],
        [
         "Election Device",
         40305.0
        ],
        [
         "Generation Tool",
         40300.9
        ],
        [
         "Exactly Item",
         40290.57
        ],
        [
         "Yet Device",
         40269.17
        ],
        [
         "Sometimes Accessory",
         40259.42000000001
        ],
        [
         "Arrive Accessory",
         40240.02
        ],
        [
         "Box Gadget",
         40215.67999999999
        ],
        [
         "Trip Tool",
         40211.07
        ],
        [
         "Almost Device",
         40193.97
        ],
        [
         "Possible Tool",
         40180.87000000001
        ],
        [
         "Performance Accessory",
         40166.340000000004
        ],
        [
         "Case Item",
         40141.93
        ],
        [
         "Door Tool",
         40119.31000000001
        ],
        [
         "Kind Item",
         40100.19999999999
        ],
        [
         "Total Accessory",
         40098.67
        ],
        [
         "Far Tool",
         40097.76
        ],
        [
         "System Item",
         40088.97
        ],
        [
         "Early Device",
         40062.399999999994
        ],
        [
         "Who Device",
         40061.93
        ],
        [
         "Term Gadget",
         40060.92
        ],
        [
         "Set Item",
         40031.42
        ],
        [
         "Lose Device",
         40010.94
        ],
        [
         "Ok Accessory",
         39995.759999999995
        ],
        [
         "Exist Gadget",
         39979.8
        ],
        [
         "Common Accessory",
         39976.03999999999
        ],
        [
         "Fear Gadget",
         39950.66
        ],
        [
         "Difficult Accessory",
         39949.99
        ],
        [
         "Fact Accessory",
         39936.44
        ],
        [
         "Player Item",
         39896.299999999996
        ],
        [
         "Change Tool",
         39888.259999999995
        ],
        [
         "Call Tool",
         39864.170000000006
        ],
        [
         "Task Accessory",
         39862.89
        ],
        [
         "Surface Item",
         39853.030000000006
        ],
        [
         "Believe Tool",
         39837.76
        ],
        [
         "Late Gadget",
         39834.9
        ],
        [
         "Effect Item",
         39825.79
        ],
        [
         "Important Item",
         39818.03
        ],
        [
         "Main Tool",
         39798.83
        ],
        [
         "She Gadget",
         39775.72
        ],
        [
         "North Item",
         39773.04
        ],
        [
         "To Accessory",
         39772.72
        ],
        [
         "Admit Item",
         39727.32
        ],
        [
         "Continue Item",
         39715.79
        ],
        [
         "Per Accessory",
         39700.36
        ],
        [
         "Prove Tool",
         39679.62
        ],
        [
         "Argue Accessory",
         39670.34
        ],
        [
         "Bad Tool",
         39668.119999999995
        ],
        [
         "Edge Device",
         39652.84
        ],
        [
         "Art Gadget",
         39644.47
        ],
        [
         "Star Tool",
         39642.369999999995
        ],
        [
         "Much Gadget",
         39638.36
        ],
        [
         "Condition Tool",
         39592.14000000001
        ],
        [
         "Final Tool",
         39571.329999999994
        ],
        [
         "Up Tool",
         39554.880000000005
        ],
        [
         "About Device",
         39540.43
        ],
        [
         "Seem Gadget",
         39514.39
        ],
        [
         "Build Device",
         39511.12
        ],
        [
         "Baby Gadget",
         39510.14
        ],
        [
         "Church Accessory",
         39498.35999999999
        ],
        [
         "Simple Item",
         39483.41999999999
        ],
        [
         "Field Tool",
         39451.12
        ],
        [
         "Course Tool",
         39412.87
        ],
        [
         "Six Accessory",
         39402.05000000001
        ],
        [
         "Short Tool",
         39381.47000000001
        ],
        [
         "Word Device",
         39372.04
        ],
        [
         "Security Item",
         39371.58
        ],
        [
         "Fall Accessory",
         39369.340000000004
        ],
        [
         "Picture Item",
         39360.2
        ],
        [
         "Agent Accessory",
         39357.600000000006
        ],
        [
         "Down Tool",
         39335.45999999999
        ],
        [
         "Least Device",
         39326.29
        ],
        [
         "Share Tool",
         39325.61
        ],
        [
         "Adult Item",
         39312.83
        ],
        [
         "Fly Tool",
         39286.59
        ],
        [
         "Deal Gadget",
         39255.68
        ],
        [
         "Democratic Tool",
         39255.020000000004
        ],
        [
         "Administration Gadget",
         39245.689999999995
        ],
        [
         "Stock Gadget",
         39242.07
        ],
        [
         "Team Device",
         39228.869999999995
        ],
        [
         "Operation Tool",
         39218.74999999999
        ],
        [
         "Girl Device",
         39215.54
        ],
        [
         "Court Device",
         39165.369999999995
        ],
        [
         "Represent Item",
         39159.46
        ],
        [
         "Usually Gadget",
         39155.5
        ],
        [
         "Especially Gadget",
         39124.729999999996
        ],
        [
         "Base Gadget",
         39099.05
        ],
        [
         "Stay Item",
         39080.92
        ],
        [
         "His Accessory",
         39073.48
        ],
        [
         "Program Tool",
         38951.530000000006
        ],
        [
         "Those Device",
         38918.520000000004
        ],
        [
         "Soldier Tool",
         38896.57
        ],
        [
         "Single Device",
         38869.58
        ],
        [
         "Class Device",
         38854.07000000001
        ],
        [
         "Well Device",
         38849.75000000001
        ],
        [
         "Particularly Gadget",
         38831.299999999996
        ],
        [
         "Improve Tool",
         38828.549999999996
        ],
        [
         "Season Tool",
         38809.509999999995
        ],
        [
         "Section Tool",
         38790.55
        ],
        [
         "Suddenly Accessory",
         38753.74
        ],
        [
         "Man Tool",
         38740.14
        ],
        [
         "Bed Accessory",
         38738.03
        ],
        [
         "And Device",
         38726.21
        ],
        [
         "Her Accessory",
         38722.92
        ],
        [
         "Seek Accessory",
         38700.52
        ],
        [
         "Cold Accessory",
         38686.88999999999
        ],
        [
         "Research Accessory",
         38684.770000000004
        ],
        [
         "Month Accessory",
         38676.48
        ],
        [
         "Send Gadget",
         38670.990000000005
        ],
        [
         "Subject Accessory",
         38663.67
        ],
        [
         "Voice Item",
         38650.28999999999
        ],
        [
         "Such Device",
         38629.43
        ],
        [
         "Force Gadget",
         38620.9
        ],
        [
         "Day Accessory",
         38595.56
        ],
        [
         "Quite Tool",
         38575.72
        ],
        [
         "Whole Tool",
         38573.969999999994
        ],
        [
         "Send Tool",
         38561.17
        ],
        [
         "Wind Item",
         38542.31
        ],
        [
         "Analysis Tool",
         38538.009999999995
        ],
        [
         "Across Gadget",
         38518.36
        ],
        [
         "Hit Gadget",
         38513.13
        ],
        [
         "Peace Item",
         38508.11
        ],
        [
         "That Accessory",
         38490.86
        ],
        [
         "Step Accessory",
         38474.53
        ],
        [
         "Stock Device",
         38441.0
        ],
        [
         "Seven Item",
         38427.66
        ],
        [
         "Respond Gadget",
         38417.5
        ],
        [
         "Politics Item",
         38415.12
        ],
        [
         "White Item",
         38395.979999999996
        ],
        [
         "Because Item",
         38371.72
        ],
        [
         "Magazine Device",
         38324.4
        ],
        [
         "Prove Gadget",
         38315.36
        ],
        [
         "Difference Gadget",
         38311.799999999996
        ],
        [
         "Director Accessory",
         38308.92999999999
        ],
        [
         "Upon Device",
         38301.76
        ],
        [
         "Once Gadget",
         38297.36
        ],
        [
         "Single Tool",
         38296.090000000004
        ],
        [
         "Participant Item",
         38294.94
        ],
        [
         "War Tool",
         38294.119999999995
        ],
        [
         "On Item",
         38274.31
        ],
        [
         "Weight Device",
         38258.08
        ],
        [
         "Suddenly Device",
         38245.3
        ],
        [
         "Individual Accessory",
         38242.47
        ],
        [
         "Important Accessory",
         38240.80999999998
        ],
        [
         "Education Gadget",
         38238.119999999995
        ],
        [
         "Author Device",
         38236.549999999996
        ],
        [
         "We Accessory",
         38226.98
        ],
        [
         "Bad Gadget",
         38226.58
        ],
        [
         "Than Accessory",
         38203.57
        ],
        [
         "Site Item",
         38190.43
        ],
        [
         "Laugh Accessory",
         38187.600000000006
        ],
        [
         "Activity Item",
         38178.29
        ],
        [
         "Art Tool",
         38158.850000000006
        ],
        [
         "Election Tool",
         38134.43000000001
        ],
        [
         "Available Device",
         38104.74
        ],
        [
         "Up Device",
         38083.100000000006
        ],
        [
         "College Device",
         38080.82
        ],
        [
         "Would Item",
         38068.020000000004
        ],
        [
         "Bag Tool",
         38067.329999999994
        ],
        [
         "Alone Gadget",
         38062.55
        ],
        [
         "Feeling Device",
         38058.7
        ],
        [
         "Lose Gadget",
         38057.76999999999
        ],
        [
         "Once Item",
         38056.13
        ],
        [
         "Skill Item",
         38052.990000000005
        ],
        [
         "Discussion Accessory",
         38052.3
        ],
        [
         "Too Gadget",
         38027.25000000001
        ],
        [
         "American Accessory",
         38014.3
        ],
        [
         "Offer Gadget",
         38002.36
        ],
        [
         "Movie Device",
         37987.31
        ],
        [
         "Son Gadget",
         37961.85
        ],
        [
         "Education Item",
         37943.3
        ],
        [
         "Manage Tool",
         37912.12
        ],
        [
         "Bar Tool",
         37907.93
        ],
        [
         "Southern Tool",
         37902.009999999995
        ],
        [
         "Trial Item",
         37901.54000000001
        ],
        [
         "Enough Device",
         37885.91999999999
        ],
        [
         "Hold Tool",
         37833.74
        ],
        [
         "Decide Tool",
         37832.36
        ],
        [
         "Agent Item",
         37823.729999999996
        ],
        [
         "Write Accessory",
         37822.9
        ],
        [
         "Say Accessory",
         37811.67
        ],
        [
         "Gun Item",
         37794.38
        ],
        [
         "Unit Device",
         37787.509999999995
        ],
        [
         "Thought Device",
         37781.659999999996
        ],
        [
         "Future Accessory",
         37760.31
        ],
        [
         "Participant Device",
         37752.47
        ],
        [
         "Sea Accessory",
         37733.119999999995
        ],
        [
         "Last Device",
         37728.25
        ],
        [
         "Situation Device",
         37714.76
        ],
        [
         "Word Tool",
         37699.21000000001
        ],
        [
         "Down Device",
         37698.079999999994
        ],
        [
         "Section Item",
         37672.91
        ],
        [
         "Interesting Device",
         37666.04
        ],
        [
         "Long Accessory",
         37652.689999999995
        ],
        [
         "Tree Device",
         37631.26
        ],
        [
         "Although Device",
         37612.27
        ],
        [
         "Notice Item",
         37596.579999999994
        ],
        [
         "Program Accessory",
         37589.3
        ],
        [
         "Other Device",
         37575.649999999994
        ],
        [
         "Customer Gadget",
         37567.08
        ],
        [
         "Operation Gadget",
         37566.590000000004
        ],
        [
         "Entire Device",
         37540.82000000001
        ],
        [
         "Again Item",
         37520.97
        ],
        [
         "Talk Tool",
         37519.86000000001
        ],
        [
         "Nor Accessory",
         37512.18
        ],
        [
         "Behind Gadget",
         37510.340000000004
        ],
        [
         "Experience Device",
         37499.47
        ],
        [
         "Big Device",
         37488.76999999999
        ],
        [
         "Low Device",
         37463.12
        ],
        [
         "Dream Device",
         37461.03999999999
        ],
        [
         "Policy Gadget",
         37452.060000000005
        ],
        [
         "Decade Tool",
         37432.409999999996
        ],
        [
         "Politics Tool",
         37411.01
        ],
        [
         "Democrat Device",
         37372.27
        ],
        [
         "Partner Accessory",
         37371.78
        ],
        [
         "Lot Item",
         37367.95
        ],
        [
         "Pattern Item",
         37331.450000000004
        ],
        [
         "Somebody Tool",
         37316.06999999999
        ],
        [
         "Protect Device",
         37315.33
        ],
        [
         "Strategy Accessory",
         37280.38
        ],
        [
         "Traditional Item",
         37275.950000000004
        ],
        [
         "Hundred Accessory",
         37261.490000000005
        ],
        [
         "Trip Accessory",
         37258.1
        ],
        [
         "Leave Tool",
         37240.189999999995
        ],
        [
         "Raise Accessory",
         37230.21
        ],
        [
         "Better Device",
         37229.07
        ],
        [
         "Seat Device",
         37206.56
        ],
        [
         "Get Item",
         37197.740000000005
        ],
        [
         "Within Accessory",
         37195.479999999996
        ],
        [
         "Kitchen Accessory",
         37193.72
        ],
        [
         "Million Item",
         37192.56
        ],
        [
         "Cup Tool",
         37182.14
        ],
        [
         "Or Gadget",
         37168.62
        ],
        [
         "Leave Item",
         37152.159999999996
        ],
        [
         "Raise Device",
         37148.759999999995
        ],
        [
         "Newspaper Tool",
         37117.44999999999
        ],
        [
         "Seven Tool",
         37110.14
        ],
        [
         "Window Accessory",
         37086.14
        ],
        [
         "Some Item",
         37082.12
        ],
        [
         "Each Device",
         37077.97
        ],
        [
         "Until Accessory",
         37076.28
        ],
        [
         "By Tool",
         37059.61
        ],
        [
         "Husband Item",
         37058.799999999996
        ],
        [
         "Woman Accessory",
         37027.19
        ],
        [
         "Miss Tool",
         37013.96
        ],
        [
         "International Accessory",
         37009.25
        ],
        [
         "Throughout Tool",
         37009.16
        ],
        [
         "Language Gadget",
         36979.299999999996
        ],
        [
         "She Item",
         36978.71000000001
        ],
        [
         "Production Device",
         36948.56
        ],
        [
         "Enjoy Tool",
         36944.27
        ],
        [
         "Wear Gadget",
         36936.42
        ],
        [
         "Continue Accessory",
         36927.799999999996
        ],
        [
         "Ability Device",
         36919.189999999995
        ],
        [
         "Want Item",
         36915.52
        ],
        [
         "Test Item",
         36903.71000000001
        ],
        [
         "Evidence Device",
         36881.799999999996
        ],
        [
         "College Item",
         36866.26
        ],
        [
         "Person Gadget",
         36853.130000000005
        ],
        [
         "Group Gadget",
         36852.369999999995
        ],
        [
         "Nor Tool",
         36850.32000000001
        ],
        [
         "Great Gadget",
         36844.44
        ],
        [
         "Reason Gadget",
         36834.770000000004
        ],
        [
         "Body Device",
         36829.96
        ],
        [
         "Across Accessory",
         36828.69
        ],
        [
         "Not Device",
         36826.36
        ],
        [
         "Buy Item",
         36823.15999999999
        ],
        [
         "He Accessory",
         36823.01
        ],
        [
         "Lawyer Item",
         36820.15000000001
        ],
        [
         "Again Accessory",
         36800.130000000005
        ],
        [
         "Product Gadget",
         36793.83
        ],
        [
         "Involve Accessory",
         36793.270000000004
        ],
        [
         "Feel Item",
         36788.41
        ],
        [
         "Order Tool",
         36781.76000000001
        ],
        [
         "Last Gadget",
         36778.05
        ],
        [
         "Outside Gadget",
         36775.5
        ],
        [
         "Go Item",
         36770.99
        ],
        [
         "Step Item",
         36762.24
        ],
        [
         "Produce Device",
         36762.05
        ],
        [
         "Benefit Device",
         36738.229999999996
        ],
        [
         "The Gadget",
         36733.34999999999
        ],
        [
         "Good Tool",
         36720.37
        ],
        [
         "Executive Gadget",
         36711.95
        ],
        [
         "Form Device",
         36703.380000000005
        ],
        [
         "Once Tool",
         36694.399999999994
        ],
        [
         "Star Device",
         36690.38
        ],
        [
         "Position Device",
         36659.479999999996
        ],
        [
         "Perform Item",
         36643.439999999995
        ],
        [
         "Stop Item",
         36606.22
        ],
        [
         "Minute Device",
         36596.87
        ],
        [
         "Special Accessory",
         36593.22
        ],
        [
         "Popular Item",
         36592.72
        ],
        [
         "Tv Accessory",
         36588.99
        ],
        [
         "What Gadget",
         36588.56
        ],
        [
         "Rise Gadget",
         36568.4
        ],
        [
         "Market Tool",
         36565.47
        ],
        [
         "Represent Accessory",
         36521.66
        ],
        [
         "Blue Device",
         36521.54
        ],
        [
         "Provide Item",
         36504.94
        ],
        [
         "So Device",
         36499.44
        ],
        [
         "Treatment Device",
         36491.98
        ],
        [
         "Soon Tool",
         36479.15
        ],
        [
         "Who Accessory",
         36473.63
        ],
        [
         "Low Item",
         36469.340000000004
        ],
        [
         "If Device",
         36466.07
        ],
        [
         "Economic Accessory",
         36441.350000000006
        ],
        [
         "Million Accessory",
         36435.83
        ],
        [
         "Notice Tool",
         36433.670000000006
        ],
        [
         "Medical Device",
         36428.11
        ],
        [
         "Structure Device",
         36417.67
        ],
        [
         "Relate Device",
         36417.31
        ],
        [
         "Physical Accessory",
         36415.83
        ],
        [
         "Leader Item",
         36411.01
        ],
        [
         "Share Device",
         36401.82000000001
        ],
        [
         "Music Device",
         36383.93999999999
        ],
        [
         "Billion Accessory",
         36363.4
        ],
        [
         "Drop Device",
         36349.119999999995
        ],
        [
         "Fire Gadget",
         36348.94
        ],
        [
         "Exist Device",
         36339.909999999996
        ],
        [
         "Choose Gadget",
         36325.54
        ],
        [
         "Sister Gadget",
         36312.5
        ],
        [
         "Research Tool",
         36307.740000000005
        ],
        [
         "Camera Gadget",
         36289.009999999995
        ],
        [
         "Edge Item",
         36288.26
        ],
        [
         "Perhaps Device",
         36284.56
        ],
        [
         "Bank Accessory",
         36272.18
        ],
        [
         "Do Gadget",
         36267.9
        ],
        [
         "Perhaps Gadget",
         36267.009999999995
        ],
        [
         "Kid Tool",
         36250.84
        ],
        [
         "On Tool",
         36248.88
        ],
        [
         "Believe Accessory",
         36232.03
        ],
        [
         "Look Item",
         36224.130000000005
        ],
        [
         "Natural Item",
         36219.64000000001
        ],
        [
         "Policy Accessory",
         36207.94
        ],
        [
         "Phone Accessory",
         36195.81
        ],
        [
         "Out Tool",
         36191.85
        ],
        [
         "Everybody Gadget",
         36190.21
        ],
        [
         "Yet Item",
         36186.97
        ],
        [
         "Line Tool",
         36167.25000000001
        ],
        [
         "Maybe Item",
         36160.91
        ],
        [
         "Police Device",
         36148.84
        ],
        [
         "Subject Gadget",
         36142.74
        ],
        [
         "Product Item",
         36124.549999999996
        ],
        [
         "Themselves Tool",
         36119.479999999996
        ],
        [
         "Degree Accessory",
         36114.22
        ],
        [
         "Commercial Gadget",
         36109.31
        ],
        [
         "Floor Gadget",
         36107.82
        ],
        [
         "Serve Accessory",
         36090.740000000005
        ],
        [
         "Star Accessory",
         36081.95
        ],
        [
         "Threat Item",
         36081.39
        ],
        [
         "Everyone Device",
         36080.79
        ],
        [
         "Pretty Accessory",
         36042.93
        ],
        [
         "Mention Gadget",
         36042.36
        ],
        [
         "Avoid Accessory",
         36039.27
        ],
        [
         "Can Tool",
         36036.89
        ],
        [
         "Commercial Item",
         36033.6
        ],
        [
         "His Device",
         36026.83
        ],
        [
         "Each Accessory",
         36023.71000000001
        ],
        [
         "Number Item",
         36017.83
        ],
        [
         "Color Accessory",
         36004.19
        ],
        [
         "Out Device",
         35994.7
        ],
        [
         "Child Tool",
         35967.13
        ],
        [
         "Break Gadget",
         35945.83
        ],
        [
         "Growth Accessory",
         35925.159999999996
        ],
        [
         "Building Tool",
         35922.18
        ],
        [
         "Wait Tool",
         35921.21
        ],
        [
         "Participant Accessory",
         35918.77
        ],
        [
         "Employee Tool",
         35918.17
        ],
        [
         "Long Tool",
         35906.95
        ],
        [
         "Analysis Device",
         35897.37
        ],
        [
         "Design Item",
         35892.27
        ],
        [
         "Keep Device",
         35883.25
        ],
        [
         "With Device",
         35875.64
        ],
        [
         "Any Device",
         35871.93
        ],
        [
         "Also Item",
         35869.85999999999
        ],
        [
         "Almost Accessory",
         35868.08
        ],
        [
         "His Gadget",
         35862.530000000006
        ],
        [
         "Effort Gadget",
         35861.66
        ],
        [
         "Free Gadget",
         35853.81
        ],
        [
         "Very Device",
         35849.96000000001
        ],
        [
         "Wife Item",
         35841.5
        ],
        [
         "Culture Device",
         35814.049999999996
        ],
        [
         "Mrs Item",
         35807.45
        ],
        [
         "Camera Accessory",
         35797.44
        ],
        [
         "Doctor Gadget",
         35793.21
        ],
        [
         "Lay Device",
         35767.25
        ],
        [
         "Country Device",
         35747.87
        ],
        [
         "Push Accessory",
         35724.770000000004
        ],
        [
         "School Tool",
         35722.89
        ],
        [
         "Animal Gadget",
         35710.94
        ],
        [
         "Above Item",
         35683.3
        ],
        [
         "Fact Gadget",
         35683.219999999994
        ],
        [
         "Foot Gadget",
         35669.51
        ],
        [
         "Pull Accessory",
         35667.9
        ],
        [
         "Fish Item",
         35654.78999999999
        ],
        [
         "Identify Device",
         35639.32
        ],
        [
         "Three Item",
         35622.11
        ],
        [
         "Mind Accessory",
         35611.13
        ],
        [
         "One Device",
         35603.6
        ],
        [
         "Report Device",
         35598.46
        ],
        [
         "Couple Gadget",
         35584.90000000001
        ],
        [
         "Nice Tool",
         35583.29
        ],
        [
         "Without Accessory",
         35573.740000000005
        ],
        [
         "Blue Item",
         35558.12999999999
        ],
        [
         "Cup Accessory",
         35550.28
        ],
        [
         "Mention Device",
         35537.53999999999
        ],
        [
         "Show Gadget",
         35529.58
        ],
        [
         "According Item",
         35514.04
        ],
        [
         "Option Accessory",
         35509.75
        ],
        [
         "Network Gadget",
         35485.56999999999
        ],
        [
         "May Device",
         35481.61
        ],
        [
         "Pay Device",
         35478.98
        ],
        [
         "Officer Tool",
         35473.759999999995
        ],
        [
         "Account Tool",
         35473.33
        ],
        [
         "Among Gadget",
         35463.469999999994
        ],
        [
         "Old Gadget",
         35441.69
        ],
        [
         "Hair Gadget",
         35426.57
        ],
        [
         "House Gadget",
         35408.5
        ],
        [
         "Move Tool",
         35379.42
        ],
        [
         "Speak Item",
         35366.55
        ],
        [
         "Difference Accessory",
         35366.409999999996
        ],
        [
         "Quality Accessory",
         35363.340000000004
        ],
        [
         "Address Item",
         35360.729999999996
        ],
        [
         "Light Gadget",
         35347.16
        ],
        [
         "Consumer Item",
         35336.57
        ],
        [
         "Throughout Gadget",
         35336.130000000005
        ],
        [
         "Poor Item",
         35324.78
        ],
        [
         "Until Item",
         35317.92999999999
        ],
        [
         "Adult Accessory",
         35317.280000000006
        ],
        [
         "Many Item",
         35310.829999999994
        ],
        [
         "Capital Item",
         35309.78999999999
        ],
        [
         "Beautiful Accessory",
         35284.990000000005
        ],
        [
         "Enough Gadget",
         35276.85
        ],
        [
         "Ability Gadget",
         35273.87
        ],
        [
         "Send Accessory",
         35260.34
        ],
        [
         "Experience Item",
         35250.87
        ],
        [
         "Drug Tool",
         35245.42
        ],
        [
         "Of Item",
         35217.93
        ],
        [
         "Dog Item",
         35212.13
        ],
        [
         "Television Item",
         35205.39000000001
        ],
        [
         "Happen Accessory",
         35204.91
        ],
        [
         "These Accessory",
         35204.76
        ],
        [
         "Thing Item",
         35190.74999999999
        ],
        [
         "Behavior Accessory",
         35190.05
        ],
        [
         "Free Device",
         35185.810000000005
        ],
        [
         "Politics Gadget",
         35183.43
        ],
        [
         "Face Tool",
         35180.84
        ],
        [
         "Democratic Gadget",
         35167.8
        ],
        [
         "Simply Item",
         35161.29
        ],
        [
         "Water Device",
         35152.64
        ],
        [
         "Wide Accessory",
         35137.78
        ],
        [
         "Respond Accessory",
         35113.880000000005
        ],
        [
         "Benefit Tool",
         35112.17999999999
        ],
        [
         "Want Accessory",
         35102.59
        ],
        [
         "Green Accessory",
         35101.59
        ],
        [
         "Card Tool",
         35053.65
        ],
        [
         "Stock Accessory",
         35032.689999999995
        ],
        [
         "Control Gadget",
         35032.59
        ],
        [
         "Store Gadget",
         35021.07
        ],
        [
         "Different Gadget",
         35020.17
        ],
        [
         "House Device",
         35013.86
        ],
        [
         "Federal Device",
         35012.95
        ],
        [
         "Yard Accessory",
         34992.67
        ],
        [
         "Job Accessory",
         34981.75
        ],
        [
         "Moment Accessory",
         34980.47
        ],
        [
         "Issue Item",
         34980.35
        ],
        [
         "Other Accessory",
         34945.270000000004
        ],
        [
         "Father Gadget",
         34942.759999999995
        ],
        [
         "Five Item",
         34936.78
        ],
        [
         "Town Device",
         34931.350000000006
        ],
        [
         "Social Accessory",
         34923.81
        ],
        [
         "May Tool",
         34903.56
        ],
        [
         "Hand Gadget",
         34899.240000000005
        ],
        [
         "Couple Device",
         34897.99
        ],
        [
         "Major Device",
         34896.020000000004
        ],
        [
         "Government Tool",
         34877.380000000005
        ],
        [
         "Role Device",
         34870.45
        ],
        [
         "Economy Device",
         34867.280000000006
        ],
        [
         "Drive Device",
         34864.13000000001
        ],
        [
         "East Accessory",
         34855.5
        ],
        [
         "Bank Item",
         34855.03999999999
        ],
        [
         "Bring Accessory",
         34836.990000000005
        ],
        [
         "Physical Device",
         34831.09
        ],
        [
         "Reflect Accessory",
         34828.12
        ],
        [
         "Generation Accessory",
         34824.08
        ],
        [
         "Factor Tool",
         34821.850000000006
        ],
        [
         "Involve Gadget",
         34817.84
        ],
        [
         "Technology Item",
         34810.16
        ],
        [
         "Leg Device",
         34807.469999999994
        ],
        [
         "Good Accessory",
         34793.31
        ],
        [
         "Your Tool",
         34792.8
        ],
        [
         "Black Gadget",
         34757.61
        ],
        [
         "View Item",
         34747.46
        ],
        [
         "Character Item",
         34729.94
        ],
        [
         "Wall Item",
         34705.63
        ],
        [
         "Away Gadget",
         34700.409999999996
        ],
        [
         "Structure Item",
         34689.299999999996
        ],
        [
         "Seem Tool",
         34684.990000000005
        ],
        [
         "Film Item",
         34682.75
        ],
        [
         "Can Item",
         34677.659999999996
        ],
        [
         "Heavy Gadget",
         34677.509999999995
        ],
        [
         "Skin Accessory",
         34667.74999999999
        ],
        [
         "Region Gadget",
         34658.97000000001
        ],
        [
         "Act Device",
         34657.57000000001
        ],
        [
         "Bag Accessory",
         34651.329999999994
        ],
        [
         "Site Gadget",
         34648.85
        ],
        [
         "Edge Accessory",
         34644.0
        ],
        [
         "Message Accessory",
         34642.09
        ],
        [
         "Admit Gadget",
         34638.81
        ],
        [
         "Everything Item",
         34634.31
        ],
        [
         "Material Item",
         34623.57
        ],
        [
         "Least Item",
         34622.770000000004
        ],
        [
         "Wife Accessory",
         34605.81
        ],
        [
         "Amount Device",
         34605.479999999996
        ],
        [
         "Ever Item",
         34589.350000000006
        ],
        [
         "Cover Gadget",
         34576.03
        ],
        [
         "Thought Item",
         34575.240000000005
        ],
        [
         "Goal Device",
         34572.61000000001
        ],
        [
         "Author Accessory",
         34541.84
        ],
        [
         "Century Item",
         34533.17999999999
        ],
        [
         "Break Device",
         34532.4
        ],
        [
         "Local Device",
         34515.159999999996
        ],
        [
         "Discussion Item",
         34506.85
        ],
        [
         "Effort Device",
         34489.88
        ],
        [
         "Plan Item",
         34487.71
        ],
        [
         "Specific Tool",
         34477.6
        ],
        [
         "Daughter Device",
         34467.799999999996
        ],
        [
         "Result Device",
         34453.46
        ],
        [
         "Growth Item",
         34451.69
        ],
        [
         "Sort Accessory",
         34440.8
        ],
        [
         "Industry Device",
         34425.76999999999
        ],
        [
         "Improve Gadget",
         34387.43000000001
        ],
        [
         "Care Device",
         34365.32
        ],
        [
         "Cup Device",
         34356.69
        ],
        [
         "Recognize Item",
         34355.96
        ],
        [
         "Budget Device",
         34347.94
        ],
        [
         "Young Item",
         34332.58
        ],
        [
         "By Item",
         34313.32
        ],
        [
         "Bad Accessory",
         34266.880000000005
        ],
        [
         "Hour Device",
         34236.83
        ],
        [
         "Sometimes Device",
         34231.67
        ],
        [
         "Push Gadget",
         34223.74
        ],
        [
         "Option Gadget",
         34221.670000000006
        ],
        [
         "No Gadget",
         34219.24
        ],
        [
         "Remain Gadget",
         34205.7
        ],
        [
         "Listen Gadget",
         34198.76
        ],
        [
         "Career Device",
         34198.72
        ],
        [
         "College Tool",
         34176.59
        ],
        [
         "Crime Tool",
         34166.45
        ],
        [
         "Each Item",
         34165.89
        ],
        [
         "Turn Gadget",
         34161.130000000005
        ],
        [
         "Subject Tool",
         34148.88
        ],
        [
         "Final Device",
         34145.119999999995
        ],
        [
         "Summer Item",
         34133.689999999995
        ],
        [
         "Use Gadget",
         34132.89
        ],
        [
         "Situation Tool",
         34131.68
        ],
        [
         "Ready Gadget",
         34115.18
        ],
        [
         "Cover Tool",
         34090.54
        ],
        [
         "Trade Item",
         34067.25
        ],
        [
         "Notice Accessory",
         34066.2
        ],
        [
         "Cell Tool",
         34059.049999999996
        ],
        [
         "Develop Accessory",
         34058.57000000001
        ],
        [
         "Team Item",
         34051.31
        ],
        [
         "Necessary Item",
         34029.4
        ],
        [
         "Candidate Item",
         34025.85
        ],
        [
         "About Accessory",
         34025.71
        ],
        [
         "Specific Item",
         34005.8
        ],
        [
         "Window Device",
         34002.73
        ],
        [
         "Need Device",
         33995.91
        ],
        [
         "Kid Gadget",
         33987.86
        ],
        [
         "Establish Accessory",
         33987.68
        ],
        [
         "Kid Device",
         33976.52
        ],
        [
         "Learn Tool",
         33954.35
        ],
        [
         "Plan Accessory",
         33951.29
        ],
        [
         "Hundred Gadget",
         33946.23
        ],
        [
         "Choose Item",
         33944.11
        ],
        [
         "Six Tool",
         33940.19
        ],
        [
         "Life Gadget",
         33924.21
        ],
        [
         "Your Accessory",
         33914.54
        ],
        [
         "Prove Item",
         33897.86
        ],
        [
         "Measure Device",
         33891.979999999996
        ],
        [
         "As Item",
         33885.119999999995
        ],
        [
         "Suffer Accessory",
         33878.8
        ],
        [
         "We Item",
         33873.05
        ],
        [
         "Strong Accessory",
         33872.240000000005
        ],
        [
         "That Tool",
         33867.57
        ],
        [
         "Financial Accessory",
         33848.05
        ],
        [
         "Scientist Gadget",
         33844.149999999994
        ],
        [
         "City Item",
         33839.92
        ],
        [
         "Often Gadget",
         33834.850000000006
        ],
        [
         "Image Tool",
         33833.850000000006
        ],
        [
         "Future Gadget",
         33824.35
        ],
        [
         "Kitchen Device",
         33811.18000000001
        ],
        [
         "Democrat Tool",
         33808.06
        ],
        [
         "Relationship Item",
         33805.73
        ],
        [
         "Religious Item",
         33802.22999999999
        ],
        [
         "Herself Accessory",
         33796.45999999999
        ],
        [
         "Car Accessory",
         33788.97000000001
        ],
        [
         "Say Gadget",
         33781.55
        ],
        [
         "Less Gadget",
         33756.189999999995
        ],
        [
         "Away Tool",
         33753.88
        ],
        [
         "Whose Item",
         33753.3
        ],
        [
         "Remain Device",
         33744.700000000004
        ],
        [
         "Sound Item",
         33735.1
        ],
        [
         "Hour Accessory",
         33717.59
        ],
        [
         "Claim Item",
         33715.14
        ],
        [
         "Loss Gadget",
         33695.59
        ],
        [
         "Big Accessory",
         33678.719999999994
        ],
        [
         "Million Tool",
         33675.09
        ],
        [
         "Hard Tool",
         33673.88
        ],
        [
         "Remain Accessory",
         33660.03
        ],
        [
         "Language Tool",
         33657.47
        ],
        [
         "Fill Item",
         33655.34
        ],
        [
         "Yeah Device",
         33647.05
        ],
        [
         "Population Accessory",
         33643.79000000001
        ],
        [
         "Risk Tool",
         33640.89
        ],
        [
         "Head Gadget",
         33639.76000000001
        ],
        [
         "Stuff Accessory",
         33635.14
        ],
        [
         "Ground Device",
         33632.91
        ],
        [
         "Leader Gadget",
         33632.5
        ],
        [
         "Service Tool",
         33628.95999999999
        ],
        [
         "Capital Tool",
         33628.84
        ],
        [
         "Peace Accessory",
         33628.38
        ],
        [
         "Help Item",
         33602.63
        ],
        [
         "Walk Accessory",
         33596.69
        ],
        [
         "Trouble Item",
         33595.229999999996
        ],
        [
         "Free Tool",
         33577.94
        ],
        [
         "Individual Tool",
         33565.86
        ],
        [
         "Thing Tool",
         33558.1
        ],
        [
         "Run Accessory",
         33552.950000000004
        ],
        [
         "Culture Gadget",
         33552.85
        ],
        [
         "Car Tool",
         33550.34
        ],
        [
         "Somebody Accessory",
         33536.130000000005
        ],
        [
         "Person Device",
         33526.54000000001
        ],
        [
         "Sit Tool",
         33505.62000000001
        ],
        [
         "Million Device",
         33495.670000000006
        ],
        [
         "Too Item",
         33451.82
        ],
        [
         "Market Device",
         33440.32000000001
        ],
        [
         "Even Tool",
         33436.130000000005
        ],
        [
         "Cut Gadget",
         33426.090000000004
        ],
        [
         "Event Tool",
         33410.57
        ],
        [
         "Idea Accessory",
         33394.57000000001
        ],
        [
         "Painting Device",
         33379.51
        ],
        [
         "Worker Tool",
         33359.75
        ],
        [
         "Everyone Gadget",
         33355.67
        ],
        [
         "Do Accessory",
         33330.92
        ],
        [
         "Court Item",
         33315.659999999996
        ],
        [
         "Teach Accessory",
         33303.729999999996
        ],
        [
         "Movement Gadget",
         33297.020000000004
        ],
        [
         "Per Gadget",
         33292.92
        ],
        [
         "Author Gadget",
         33286.7
        ],
        [
         "Forget Tool",
         33278.58
        ],
        [
         "Own Tool",
         33276.170000000006
        ],
        [
         "Expect Item",
         33271.579999999994
        ],
        [
         "Receive Accessory",
         33268.619999999995
        ],
        [
         "Pick Tool",
         33261.16
        ],
        [
         "Four Tool",
         33231.49
        ],
        [
         "Man Device",
         33223.52
        ],
        [
         "Join Tool",
         33219.04
        ],
        [
         "Test Device",
         33212.200000000004
        ],
        [
         "Teach Gadget",
         33209.44
        ],
        [
         "Him Tool",
         33195.799999999996
        ],
        [
         "Action Accessory",
         33193.35
        ],
        [
         "Act Item",
         33189.83
        ],
        [
         "Usually Accessory",
         33186.42999999999
        ],
        [
         "Maintain Gadget",
         33185.54
        ],
        [
         "Rule Device",
         33183.74
        ],
        [
         "Soldier Gadget",
         33168.29
        ],
        [
         "Power Device",
         33146.27
        ],
        [
         "Look Device",
         33144.7
        ],
        [
         "Fear Accessory",
         33140.78
        ],
        [
         "Floor Device",
         33133.26
        ],
        [
         "Detail Accessory",
         33117.560000000005
        ],
        [
         "Cause Gadget",
         33108.06999999999
        ],
        [
         "Red Device",
         33106.86
        ],
        [
         "Mean Gadget",
         33099.979999999996
        ],
        [
         "Late Tool",
         33073.58
        ],
        [
         "The Item",
         33069.409999999996
        ],
        [
         "Fill Tool",
         33064.270000000004
        ],
        [
         "Public Gadget",
         33062.06
        ],
        [
         "Thus Device",
         33052.24
        ],
        [
         "Member Device",
         33047.95
        ],
        [
         "Reveal Gadget",
         33043.01
        ],
        [
         "Up Accessory",
         33039.35
        ],
        [
         "Rest Item",
         33033.07000000001
        ],
        [
         "You Gadget",
         32996.38
        ],
        [
         "Smile Item",
         32987.18
        ],
        [
         "Production Tool",
         32985.619999999995
        ],
        [
         "Nearly Accessory",
         32977.55
        ],
        [
         "Listen Device",
         32972.39000000001
        ],
        [
         "Help Device",
         32962.8
        ],
        [
         "Training Accessory",
         32960.97
        ],
        [
         "Fund Item",
         32958.579999999994
        ],
        [
         "Professor Tool",
         32958.32
        ],
        [
         "Hotel Accessory",
         32949.21000000001
        ],
        [
         "Rest Device",
         32940.50000000001
        ],
        [
         "Service Item",
         32936.1
        ],
        [
         "Can Gadget",
         32934.55
        ],
        [
         "Security Device",
         32932.97000000001
        ],
        [
         "Become Device",
         32927.18
        ],
        [
         "Score Gadget",
         32926.7
        ],
        [
         "Business Tool",
         32918.37
        ],
        [
         "Gun Device",
         32914.95
        ],
        [
         "Certainly Accessory",
         32913.07
        ],
        [
         "Challenge Accessory",
         32906.95
        ],
        [
         "Southern Device",
         32905.77
        ],
        [
         "Ask Accessory",
         32898.34
        ],
        [
         "Factor Gadget",
         32893.88
        ],
        [
         "Team Accessory",
         32890.4
        ],
        [
         "According Accessory",
         32872.96
        ],
        [
         "Speak Gadget",
         32872.55
        ],
        [
         "Great Accessory",
         32835.78
        ],
        [
         "Share Accessory",
         32828.85
        ],
        [
         "Professional Tool",
         32812.2
        ],
        [
         "Cultural Item",
         32790.26
        ],
        [
         "Pick Gadget",
         32790.200000000004
        ],
        [
         "Rich Gadget",
         32789.6
        ],
        [
         "Past Item",
         32788.76
        ],
        [
         "Occur Accessory",
         32774.700000000004
        ],
        [
         "Young Device",
         32766.63
        ],
        [
         "Whatever Tool",
         32761.83
        ],
        [
         "Everyone Item",
         32756.050000000003
        ],
        [
         "Music Tool",
         32747.610000000004
        ],
        [
         "Work Accessory",
         32739.03
        ],
        [
         "Peace Device",
         32725.33
        ],
        [
         "His Item",
         32724.07
        ],
        [
         "Goal Gadget",
         32713.940000000002
        ],
        [
         "Increase Accessory",
         32712.369999999995
        ],
        [
         "Figure Accessory",
         32704.59
        ],
        [
         "Ever Tool",
         32704.55
        ],
        [
         "Think Accessory",
         32694.73
        ],
        [
         "Campaign Tool",
         32691.06
        ],
        [
         "Gun Tool",
         32685.379999999997
        ],
        [
         "Evidence Gadget",
         32678.800000000003
        ],
        [
         "Speech Item",
         32666.66
        ],
        [
         "Family Gadget",
         32654.780000000002
        ],
        [
         "Institution Item",
         32643.76
        ],
        [
         "Upon Item",
         32638.71
        ],
        [
         "Team Gadget",
         32638.009999999995
        ],
        [
         "Girl Item",
         32627.34999999999
        ],
        [
         "Institution Device",
         32619.490000000005
        ],
        [
         "Know Item",
         32619.109999999993
        ],
        [
         "Clear Accessory",
         32617.719999999998
        ],
        [
         "However Gadget",
         32614.769999999997
        ],
        [
         "Kitchen Gadget",
         32606.780000000002
        ],
        [
         "Eat Accessory",
         32605.18
        ],
        [
         "Foot Device",
         32601.009999999995
        ],
        [
         "Couple Item",
         32596.560000000005
        ],
        [
         "Blood Device",
         32593.950000000004
        ],
        [
         "Responsibility Accessory",
         32592.149999999994
        ],
        [
         "Real Tool",
         32577.44
        ],
        [
         "Attack Device",
         32567.980000000003
        ],
        [
         "Present Accessory",
         32559.53
        ],
        [
         "Many Accessory",
         32532.28
        ],
        [
         "Since Device",
         32530.19
        ],
        [
         "Those Accessory",
         32520.19
        ],
        [
         "Treatment Tool",
         32520.0
        ],
        [
         "Forget Device",
         32510.26000000001
        ],
        [
         "Past Accessory",
         32508.820000000003
        ],
        [
         "Game Item",
         32508.449999999997
        ],
        [
         "Many Device",
         32508.130000000005
        ],
        [
         "Easy Gadget",
         32507.26
        ],
        [
         "Only Item",
         32505.300000000003
        ],
        [
         "Machine Accessory",
         32487.940000000006
        ],
        [
         "Free Accessory",
         32487.3
        ],
        [
         "Chance Device",
         32480.3
        ],
        [
         "Themselves Accessory",
         32462.449999999997
        ],
        [
         "Total Tool",
         32461.62
        ],
        [
         "Check Accessory",
         32458.079999999998
        ],
        [
         "Happy Accessory",
         32445.019999999997
        ],
        [
         "Center Device",
         32443.78
        ],
        [
         "Hear Accessory",
         32443.35
        ],
        [
         "Upon Accessory",
         32429.14
        ],
        [
         "Rich Device",
         32414.190000000002
        ],
        [
         "Cell Gadget",
         32385.730000000003
        ],
        [
         "Region Device",
         32376.719999999994
        ],
        [
         "No Tool",
         32371.67
        ],
        [
         "Economy Accessory",
         32360.919999999995
        ],
        [
         "Poor Device",
         32331.209999999995
        ],
        [
         "Leg Tool",
         32320.169999999995
        ],
        [
         "Grow Device",
         32315.03
        ],
        [
         "Method Accessory",
         32302.69
        ],
        [
         "Campaign Gadget",
         32302.39
        ],
        [
         "Land Device",
         32294.289999999997
        ],
        [
         "Key Device",
         32292.12
        ],
        [
         "Business Gadget",
         32280.910000000003
        ],
        [
         "Present Gadget",
         32278.220000000005
        ],
        [
         "Method Tool",
         32274.9
        ],
        [
         "Environmental Accessory",
         32262.539999999997
        ],
        [
         "Election Accessory",
         32257.1
        ],
        [
         "Relate Item",
         32248.659999999996
        ],
        [
         "Price Device",
         32247.16
        ],
        [
         "May Accessory",
         32244.030000000002
        ],
        [
         "Very Accessory",
         32243.070000000007
        ],
        [
         "Adult Gadget",
         32236.130000000005
        ],
        [
         "Under Device",
         32215.41
        ],
        [
         "Reduce Device",
         32202.409999999996
        ],
        [
         "Born Item",
         32201.37
        ],
        [
         "Before Accessory",
         32186.519999999997
        ],
        [
         "From Tool",
         32175.38
        ],
        [
         "Something Accessory",
         32174.44
        ],
        [
         "Size Device",
         32173.739999999998
        ],
        [
         "Fast Tool",
         32163.93
        ],
        [
         "Party Item",
         32162.17
        ],
        [
         "Action Item",
         32155.77
        ],
        [
         "Off Device",
         32155.500000000004
        ],
        [
         "Scientist Item",
         32149.41
        ],
        [
         "True Tool",
         32141.769999999997
        ],
        [
         "Would Device",
         32132.509999999995
        ],
        [
         "Effect Gadget",
         32128.88
        ],
        [
         "Concern Tool",
         32128.469999999998
        ],
        [
         "Again Device",
         32121.16
        ],
        [
         "South Tool",
         32118.480000000003
        ],
        [
         "Race Device",
         32114.920000000006
        ],
        [
         "New Gadget",
         32101.559999999994
        ],
        [
         "Soldier Device",
         32093.400000000005
        ],
        [
         "Field Accessory",
         32080.73
        ],
        [
         "Country Accessory",
         32072.109999999997
        ],
        [
         "Current Device",
         32066.94
        ],
        [
         "Sometimes Tool",
         32059.65
        ],
        [
         "Arrive Gadget",
         32057.06
        ],
        [
         "Assume Device",
         32056.56
        ],
        [
         "Quality Gadget",
         32055.440000000006
        ],
        [
         "Good Gadget",
         32043.800000000003
        ],
        [
         "Standard Device",
         32043.06
        ],
        [
         "Crime Item",
         32040.170000000006
        ],
        [
         "Friend Accessory",
         32037.97
        ],
        [
         "Around Device",
         32035.71
        ],
        [
         "Back Gadget",
         32033.480000000003
        ],
        [
         "Question Device",
         32031.6
        ],
        [
         "Fight Tool",
         32026.84
        ],
        [
         "Party Device",
         32026.110000000004
        ],
        [
         "Five Tool",
         32025.420000000002
        ],
        [
         "Address Gadget",
         32006.57
        ],
        [
         "Yourself Gadget",
         31953.189999999995
        ],
        [
         "Beyond Accessory",
         31935.06
        ],
        [
         "Pass Device",
         31932.189999999995
        ],
        [
         "Among Item",
         31926.420000000002
        ],
        [
         "Worry Device",
         31918.440000000002
        ],
        [
         "Put Device",
         31910.869999999995
        ],
        [
         "Mind Item",
         31896.6
        ],
        [
         "Station Device",
         31886.54
        ],
        [
         "Study Item",
         31882.439999999995
        ],
        [
         "Why Item",
         31881.739999999998
        ],
        [
         "Area Gadget",
         31865.589999999997
        ],
        [
         "Environmental Item",
         31864.13
        ],
        [
         "Role Gadget",
         31860.930000000004
        ],
        [
         "Fish Gadget",
         31850.03
        ],
        [
         "Forget Gadget",
         31845.98
        ],
        [
         "Among Device",
         31845.97
        ],
        [
         "Field Item",
         31843.229999999996
        ],
        [
         "That Item",
         31840.350000000002
        ],
        [
         "Society Accessory",
         31834.45
        ],
        [
         "President Tool",
         31832.319999999996
        ],
        [
         "Court Accessory",
         31805.24
        ],
        [
         "Your Item",
         31792.449999999997
        ],
        [
         "Trial Accessory",
         31790.110000000004
        ],
        [
         "Plan Device",
         31788.060000000005
        ],
        [
         "Dinner Tool",
         31766.999999999996
        ],
        [
         "Fact Item",
         31766.84
        ],
        [
         "System Accessory",
         31763.55
        ],
        [
         "Level Item",
         31760.090000000004
        ],
        [
         "Coach Device",
         31746.430000000004
        ],
        [
         "Not Accessory",
         31745.620000000003
        ],
        [
         "Ground Item",
         31736.69
        ],
        [
         "Join Item",
         31736.15
        ],
        [
         "Low Tool",
         31736.030000000002
        ],
        [
         "Early Tool",
         31730.73
        ],
        [
         "Street Item",
         31722.549999999996
        ],
        [
         "General Accessory",
         31708.71
        ],
        [
         "Once Accessory",
         31702.03
        ],
        [
         "Bag Device",
         31700.55
        ],
        [
         "Attention Device",
         31699.120000000003
        ],
        [
         "Number Tool",
         31697.6
        ],
        [
         "Another Tool",
         31696.599999999995
        ],
        [
         "Theory Tool",
         31696.540000000005
        ],
        [
         "Fund Gadget",
         31686.7
        ],
        [
         "Light Item",
         31671.04
        ],
        [
         "Reason Item",
         31669.32
        ],
        [
         "Road Gadget",
         31655.829999999994
        ],
        [
         "Pass Accessory",
         31651.14
        ],
        [
         "Moment Device",
         31650.899999999994
        ],
        [
         "Memory Gadget",
         31624.910000000003
        ],
        [
         "Imagine Device",
         31606.69
        ],
        [
         "Two Accessory",
         31598.25
        ],
        [
         "After Item",
         31580.589999999997
        ],
        [
         "Own Device",
         31571.46
        ],
        [
         "Ok Tool",
         31567.290000000005
        ],
        [
         "Shake Gadget",
         31557.000000000004
        ],
        [
         "Require Accessory",
         31532.14
        ],
        [
         "Debate Accessory",
         31532.03
        ],
        [
         "Between Device",
         31531.68
        ],
        [
         "Natural Device",
         31526.450000000004
        ],
        [
         "Forward Device",
         31519.039999999997
        ],
        [
         "Common Item",
         31518.25
        ],
        [
         "Daughter Gadget",
         31516.04
        ],
        [
         "Kid Accessory",
         31514.390000000003
        ],
        [
         "Board Item",
         31500.89
        ],
        [
         "Range Device",
         31499.0
        ],
        [
         "Large Tool",
         31477.029999999995
        ],
        [
         "Eye Accessory",
         31468.539999999997
        ],
        [
         "Home Item",
         31467.32
        ],
        [
         "Seven Device",
         31458.059999999998
        ],
        [
         "Half Tool",
         31457.62
        ],
        [
         "Finish Tool",
         31444.9
        ],
        [
         "Foreign Tool",
         31444.289999999997
        ],
        [
         "Light Device",
         31440.890000000003
        ],
        [
         "Usually Device",
         31438.48
        ],
        [
         "Might Gadget",
         31436.4
        ],
        [
         "Between Item",
         31429.100000000002
        ],
        [
         "Into Tool",
         31425.029999999995
        ],
        [
         "Today Device",
         31423.839999999997
        ],
        [
         "Take Gadget",
         31416.07
        ],
        [
         "Center Item",
         31407.85
        ],
        [
         "Type Device",
         31398.08
        ],
        [
         "Executive Accessory",
         31396.25
        ],
        [
         "End Device",
         31392.29
        ],
        [
         "Race Tool",
         31389.25
        ],
        [
         "Finish Gadget",
         31382.749999999993
        ],
        [
         "Computer Item",
         31382.739999999998
        ],
        [
         "Fish Accessory",
         31375.320000000003
        ],
        [
         "Because Device",
         31373.29
        ],
        [
         "Goal Accessory",
         31367.83
        ],
        [
         "Activity Device",
         31363.500000000007
        ],
        [
         "Dinner Item",
         31359.25
        ],
        [
         "This Accessory",
         31357.04
        ],
        [
         "Success Device",
         31356.18
        ],
        [
         "Bill Item",
         31351.289999999994
        ],
        [
         "Often Tool",
         31339.87
        ],
        [
         "Wear Device",
         31317.899999999998
        ],
        [
         "Some Gadget",
         31302.659999999996
        ],
        [
         "Whole Accessory",
         31287.86
        ],
        [
         "Exactly Tool",
         31280.210000000003
        ],
        [
         "Its Accessory",
         31269.910000000007
        ],
        [
         "Occur Tool",
         31262.34
        ],
        [
         "Measure Gadget",
         31255.739999999998
        ],
        [
         "Important Gadget",
         31251.600000000002
        ],
        [
         "Yard Gadget",
         31245.939999999995
        ],
        [
         "Free Item",
         31228.329999999998
        ],
        [
         "Win Device",
         31224.469999999998
        ],
        [
         "Point Gadget",
         31223.08
        ],
        [
         "Quite Item",
         31221.390000000007
        ],
        [
         "Positive Gadget",
         31205.450000000004
        ],
        [
         "South Accessory",
         31204.510000000002
        ],
        [
         "Wide Tool",
         31181.039999999997
        ],
        [
         "Matter Gadget",
         31178.13
        ],
        [
         "Son Tool",
         31174.73
        ],
        [
         "Reduce Item",
         31174.66
        ],
        [
         "Age Accessory",
         31170.690000000002
        ],
        [
         "Understand Accessory",
         31162.359999999997
        ],
        [
         "Or Device",
         31157.0
        ],
        [
         "For Device",
         31150.310000000005
        ],
        [
         "Measure Tool",
         31145.64
        ],
        [
         "Prove Device",
         31137.98
        ],
        [
         "Standard Gadget",
         31131.739999999998
        ],
        [
         "Next Gadget",
         31120.120000000003
        ],
        [
         "As Gadget",
         31109.15
        ],
        [
         "Through Device",
         31108.57
        ],
        [
         "Every Tool",
         31107.42
        ],
        [
         "Begin Device",
         31098.329999999994
        ],
        [
         "Hope Device",
         31092.71
        ],
        [
         "Service Gadget",
         31086.33
        ],
        [
         "Shoulder Gadget",
         31085.409999999996
        ],
        [
         "Year Item",
         31083.390000000003
        ],
        [
         "Of Accessory",
         31065.620000000003
        ],
        [
         "Last Accessory",
         31065.44
        ],
        [
         "Thus Gadget",
         31055.55
        ],
        [
         "Idea Tool",
         31053.789999999997
        ],
        [
         "Ahead Tool",
         31044.660000000003
        ],
        [
         "Writer Gadget",
         31020.02
        ],
        [
         "Present Tool",
         31000.450000000004
        ],
        [
         "Economy Item",
         30991.57
        ],
        [
         "Nature Gadget",
         30987.32
        ],
        [
         "Chance Item",
         30986.720000000005
        ],
        [
         "Sort Device",
         30981.46
        ],
        [
         "Sea Gadget",
         30964.97
        ],
        [
         "Now Item",
         30958.30000000001
        ],
        [
         "To Tool",
         30953.82
        ],
        [
         "Put Accessory",
         30952.879999999997
        ],
        [
         "Way Device",
         30951.160000000007
        ],
        [
         "Trial Device",
         30935.42
        ],
        [
         "Take Accessory",
         30934.519999999997
        ],
        [
         "Coach Tool",
         30926.25
        ],
        [
         "Other Item",
         30924.679999999997
        ],
        [
         "Interest Item",
         30909.429999999997
        ],
        [
         "Window Gadget",
         30894.350000000002
        ],
        [
         "Day Gadget",
         30858.76
        ],
        [
         "Media Item",
         30853.1
        ],
        [
         "Military Tool",
         30847.589999999997
        ],
        [
         "Image Accessory",
         30829.49
        ],
        [
         "Perform Tool",
         30826.78
        ],
        [
         "During Accessory",
         30820.019999999997
        ],
        [
         "Expect Tool",
         30818.449999999997
        ],
        [
         "Others Device",
         30803.45
        ],
        [
         "By Device",
         30797.0
        ],
        [
         "Resource Item",
         30790.39
        ],
        [
         "Imagine Tool",
         30786.29
        ],
        [
         "Several Tool",
         30782.43
        ],
        [
         "Less Device",
         30778.98
        ],
        [
         "Apply Gadget",
         30777.15
        ],
        [
         "Whom Accessory",
         30754.249999999996
        ],
        [
         "Particular Device",
         30742.489999999998
        ],
        [
         "Sit Accessory",
         30738.88
        ],
        [
         "Us Accessory",
         30731.55
        ],
        [
         "Watch Accessory",
         30730.690000000002
        ],
        [
         "International Device",
         30721.07
        ],
        [
         "Best Accessory",
         30716.309999999998
        ],
        [
         "Find Gadget",
         30715.800000000003
        ],
        [
         "Civil Tool",
         30709.770000000004
        ],
        [
         "Reveal Tool",
         30693.589999999997
        ],
        [
         "Pick Item",
         30689.550000000003
        ],
        [
         "Plant Device",
         30689.000000000004
        ],
        [
         "Heavy Accessory",
         30678.989999999998
        ],
        [
         "Certain Gadget",
         30673.0
        ],
        [
         "Not Item",
         30652.350000000002
        ],
        [
         "Manager Gadget",
         30649.180000000008
        ],
        [
         "Religious Device",
         30648.91
        ],
        [
         "Exist Accessory",
         30647.04
        ],
        [
         "Manage Accessory",
         30623.76
        ],
        [
         "Necessary Tool",
         30616.499999999996
        ],
        [
         "Recognize Device",
         30615.55
        ],
        [
         "Reveal Device",
         30612.64
        ],
        [
         "Successful Device",
         30610.82
        ],
        [
         "Law Item",
         30601.32
        ],
        [
         "Organization Gadget",
         30598.06
        ],
        [
         "Seat Gadget",
         30595.959999999995
        ],
        [
         "Experience Gadget",
         30582.840000000004
        ],
        [
         "Ago Accessory",
         30580.43
        ],
        [
         "Beyond Item",
         30578.100000000002
        ],
        [
         "Section Gadget",
         30562.49
        ],
        [
         "Produce Item",
         30544.049999999996
        ],
        [
         "Service Device",
         30531.6
        ],
        [
         "Bar Item",
         30529.660000000003
        ],
        [
         "Value Device",
         30528.510000000002
        ],
        [
         "Friend Gadget",
         30528.22
        ],
        [
         "Myself Gadget",
         30526.910000000003
        ],
        [
         "Understand Gadget",
         30519.95
        ],
        [
         "Necessary Gadget",
         30514.32
        ],
        [
         "Best Tool",
         30503.43
        ],
        [
         "Share Item",
         30498.71
        ],
        [
         "Hear Gadget",
         30484.45
        ],
        [
         "Western Accessory",
         30483.8
        ],
        [
         "Visit Accessory",
         30482.02
        ],
        [
         "Open Tool",
         30478.890000000003
        ],
        [
         "Professional Device",
         30467.850000000002
        ],
        [
         "Before Item",
         30457.790000000005
        ],
        [
         "Article Item",
         30449.199999999997
        ],
        [
         "Process Accessory",
         30446.920000000002
        ],
        [
         "Police Accessory",
         30443.540000000005
        ],
        [
         "Reality Device",
         30419.199999999997
        ],
        [
         "Ever Accessory",
         30414.67
        ],
        [
         "Large Item",
         30412.399999999994
        ],
        [
         "Fly Gadget",
         30401.79
        ],
        [
         "Owner Accessory",
         30398.65
        ],
        [
         "Meet Tool",
         30395.92
        ],
        [
         "Soon Gadget",
         30393.43
        ],
        [
         "Guess Tool",
         30384.44
        ],
        [
         "Open Item",
         30383.850000000006
        ],
        [
         "Administration Accessory",
         30383.46
        ],
        [
         "Bed Gadget",
         30382.11
        ],
        [
         "Near Item",
         30378.67
        ],
        [
         "Throw Item",
         30369.93
        ],
        [
         "But Accessory",
         30367.45
        ],
        [
         "Want Gadget",
         30365.04
        ],
        [
         "Where Tool",
         30358.069999999996
        ],
        [
         "Late Accessory",
         30352.1
        ],
        [
         "Similar Tool",
         30348.659999999996
        ],
        [
         "Expert Tool",
         30336.64
        ],
        [
         "Item Item",
         30332.089999999997
        ],
        [
         "Production Accessory",
         30331.01000000001
        ],
        [
         "Accept Gadget",
         30327.69
        ],
        [
         "Role Tool",
         30319.17
        ],
        [
         "Scientist Accessory",
         30318.55
        ],
        [
         "Beyond Tool",
         30316.85
        ],
        [
         "Senior Gadget",
         30304.83
        ],
        [
         "Program Device",
         30296.949999999997
        ],
        [
         "Field Gadget",
         30284.809999999998
        ],
        [
         "Area Device",
         30284.639999999996
        ],
        [
         "Century Device",
         30283.61
        ],
        [
         "Candidate Tool",
         30281.809999999998
        ],
        [
         "Third Accessory",
         30279.57
        ],
        [
         "Region Item",
         30275.799999999996
        ],
        [
         "Key Tool",
         30271.659999999996
        ],
        [
         "Kitchen Tool",
         30267.55
        ],
        [
         "Suffer Device",
         30260.4
        ],
        [
         "Almost Item",
         30231.950000000008
        ],
        [
         "Prove Accessory",
         30230.240000000005
        ],
        [
         "Agency Item",
         30218.62
        ],
        [
         "Follow Gadget",
         30215.32
        ],
        [
         "Special Gadget",
         30198.91
        ],
        [
         "Top Gadget",
         30192.81
        ],
        [
         "Under Gadget",
         30185.010000000002
        ],
        [
         "Stage Accessory",
         30159.71
        ],
        [
         "Relate Tool",
         30157.339999999997
        ],
        [
         "Check Gadget",
         30141.72
        ],
        [
         "Investment Tool",
         30135.159999999996
        ],
        [
         "Fall Tool",
         30132.18
        ],
        [
         "House Item",
         30131.42
        ],
        [
         "Response Tool",
         30125.760000000002
        ],
        [
         "Parent Gadget",
         30123.510000000002
        ],
        [
         "Ball Gadget",
         30122.730000000003
        ],
        [
         "Crime Accessory",
         30119.24
        ],
        [
         "Authority Device",
         30111.43
        ],
        [
         "Like Gadget",
         30104.57
        ],
        [
         "Find Item",
         30100.61
        ],
        [
         "Stop Accessory",
         30100.000000000004
        ],
        [
         "Outside Device",
         30092.28
        ],
        [
         "Civil Device",
         30092.080000000005
        ],
        [
         "Analysis Gadget",
         30091.859999999993
        ],
        [
         "Week Gadget",
         30091.39000000001
        ],
        [
         "And Tool",
         30083.89
        ],
        [
         "Off Accessory",
         30079.050000000003
        ],
        [
         "Really Accessory",
         30074.8
        ],
        [
         "So Gadget",
         30065.050000000003
        ],
        [
         "Answer Accessory",
         30061.120000000003
        ],
        [
         "Population Gadget",
         30060.490000000005
        ],
        [
         "Rate Device",
         30041.949999999997
        ],
        [
         "Sense Gadget",
         30028.81
        ],
        [
         "Scientist Device",
         30010.96
        ],
        [
         "Herself Item",
         30010.5
        ],
        [
         "Strong Device",
         30006.409999999996
        ],
        [
         "Deep Tool",
         30000.560000000005
        ],
        [
         "Point Item",
         29999.809999999998
        ],
        [
         "Friend Device",
         29995.59
        ],
        [
         "Turn Item",
         29989.51
        ],
        [
         "Too Device",
         29988.739999999998
        ],
        [
         "Piece Device",
         29988.280000000002
        ],
        [
         "There Gadget",
         29985.479999999996
        ],
        [
         "Attorney Accessory",
         29981.310000000005
        ],
        [
         "Purpose Item",
         29968.09
        ],
        [
         "Safe Device",
         29967.240000000005
        ],
        [
         "Low Accessory",
         29945.909999999996
        ],
        [
         "Along Item",
         29941.309999999998
        ],
        [
         "Fight Item",
         29937.93
        ],
        [
         "Fill Accessory",
         29932.300000000003
        ],
        [
         "Space Gadget",
         29930.14
        ],
        [
         "Practice Gadget",
         29929.6
        ],
        [
         "Meet Device",
         29928.87
        ],
        [
         "Clearly Gadget",
         29912.870000000003
        ],
        [
         "More Gadget",
         29898.54
        ],
        [
         "Authority Item",
         29892.809999999994
        ],
        [
         "Behavior Gadget",
         29891.019999999997
        ],
        [
         "Decision Gadget",
         29888.260000000006
        ],
        [
         "Ahead Accessory",
         29883.910000000003
        ],
        [
         "Quite Accessory",
         29883.190000000002
        ],
        [
         "Behind Device",
         29880.940000000002
        ],
        [
         "Stage Gadget",
         29875.870000000003
        ],
        [
         "Remain Item",
         29865.809999999998
        ],
        [
         "Stop Device",
         29863.969999999998
        ],
        [
         "Memory Device",
         29854.979999999996
        ],
        [
         "Range Item",
         29850.210000000003
        ],
        [
         "Their Device",
         29840.1
        ],
        [
         "School Item",
         29835.000000000007
        ],
        [
         "Ago Gadget",
         29832.679999999997
        ],
        [
         "Letter Tool",
         29828.41
        ],
        [
         "Huge Gadget",
         29820.520000000004
        ],
        [
         "Toward Accessory",
         29813.540000000005
        ],
        [
         "Always Gadget",
         29809.22
        ],
        [
         "Onto Gadget",
         29799.239999999998
        ],
        [
         "You Item",
         29795.540000000005
        ],
        [
         "Century Gadget",
         29794.839999999997
        ],
        [
         "Entire Item",
         29782.75
        ],
        [
         "Hand Tool",
         29779.260000000002
        ],
        [
         "Fast Accessory",
         29777.170000000002
        ],
        [
         "Marriage Accessory",
         29777.090000000004
        ],
        [
         "Police Gadget",
         29766.260000000002
        ],
        [
         "I Accessory",
         29757.710000000006
        ],
        [
         "Media Device",
         29756.77999999999
        ],
        [
         "Commercial Accessory",
         29743.6
        ],
        [
         "Career Gadget",
         29742.230000000003
        ],
        [
         "Face Accessory",
         29738.57
        ],
        [
         "Task Gadget",
         29720.18
        ],
        [
         "Billion Item",
         29719.80999999999
        ],
        [
         "Loss Accessory",
         29690.020000000004
        ],
        [
         "Fight Device",
         29676.68
        ],
        [
         "Parent Accessory",
         29650.190000000006
        ],
        [
         "Air Tool",
         29649.1
        ],
        [
         "Tv Tool",
         29646.600000000006
        ],
        [
         "Local Accessory",
         29639.030000000002
        ],
        [
         "Only Device",
         29639.010000000006
        ],
        [
         "Tree Item",
         29626.06
        ],
        [
         "Shoulder Device",
         29622.35
        ],
        [
         "Six Device",
         29617.449999999997
        ],
        [
         "Key Gadget",
         29608.49
        ],
        [
         "Large Accessory",
         29604.11
        ],
        [
         "Much Tool",
         29601.88
        ],
        [
         "Two Tool",
         29600.579999999998
        ],
        [
         "Draw Accessory",
         29595.690000000002
        ],
        [
         "Civil Accessory",
         29594.339999999997
        ],
        [
         "Today Tool",
         29588.219999999998
        ],
        [
         "Base Device",
         29579.18
        ],
        [
         "Tough Item",
         29576.550000000003
        ],
        [
         "Create Accessory",
         29571.850000000002
        ],
        [
         "Statement Item",
         29565.829999999998
        ],
        [
         "Ever Device",
         29555.57
        ],
        [
         "Early Gadget",
         29550.3
        ],
        [
         "Use Accessory",
         29542.660000000003
        ],
        [
         "Natural Tool",
         29537.18
        ],
        [
         "Cold Item",
         29537.04
        ],
        [
         "Organization Tool",
         29534.659999999996
        ],
        [
         "Never Device",
         29528.02
        ],
        [
         "Blood Item",
         29511.189999999995
        ],
        [
         "Job Device",
         29509.379999999997
        ],
        [
         "Rise Device",
         29504.41
        ],
        [
         "Modern Item",
         29504.359999999993
        ],
        [
         "Boy Gadget",
         29503.25
        ],
        [
         "Official Device",
         29502.31
        ],
        [
         "Send Item",
         29499.99
        ],
        [
         "Personal Item",
         29498.909999999996
        ],
        [
         "Know Device",
         29496.659999999996
        ],
        [
         "Year Device",
         29482.87
        ],
        [
         "Nothing Tool",
         29468.809999999998
        ],
        [
         "Spring Gadget",
         29465.670000000002
        ],
        [
         "Word Item",
         29461.100000000002
        ],
        [
         "Fact Device",
         29454.31
        ],
        [
         "Rather Accessory",
         29447.8
        ],
        [
         "Member Gadget",
         29416.67
        ],
        [
         "What Device",
         29400.209999999995
        ],
        [
         "Hospital Accessory",
         29390.1
        ],
        [
         "Both Device",
         29388.22
        ],
        [
         "Rate Accessory",
         29387.510000000002
        ],
        [
         "Now Tool",
         29386.97
        ],
        [
         "System Device",
         29384.86
        ],
        [
         "Series Tool",
         29379.040000000005
        ],
        [
         "Billion Gadget",
         29367.76
        ],
        [
         "Watch Tool",
         29357.71
        ],
        [
         "Generation Gadget",
         29351.410000000003
        ],
        [
         "Whole Gadget",
         29349.36
        ],
        [
         "Former Gadget",
         29343.0
        ],
        [
         "Live Device",
         29342.58
        ],
        [
         "Agreement Device",
         29330.630000000005
        ],
        [
         "Program Item",
         29309.9
        ],
        [
         "Film Device",
         29309.79
        ],
        [
         "Officer Gadget",
         29305.049999999996
        ],
        [
         "When Accessory",
         29300.87
        ],
        [
         "Parent Tool",
         29297.67
        ],
        [
         "Often Item",
         29294.690000000002
        ],
        [
         "Run Item",
         29280.51
        ],
        [
         "Move Device",
         29273.71
        ],
        [
         "Season Gadget",
         29270.999999999993
        ],
        [
         "Wall Accessory",
         29268.49
        ],
        [
         "Call Item",
         29260.93
        ],
        [
         "Worry Accessory",
         29260.439999999995
        ],
        [
         "Lawyer Accessory",
         29254.720000000005
        ],
        [
         "Environment Item",
         29249.9
        ],
        [
         "Interest Device",
         29248.620000000003
        ],
        [
         "Along Accessory",
         29247.079999999998
        ],
        [
         "Full Tool",
         29247.049999999996
        ],
        [
         "Mr Item",
         29246.660000000007
        ],
        [
         "Lay Accessory",
         29243.120000000003
        ],
        [
         "Run Gadget",
         29239.92
        ],
        [
         "Everything Tool",
         29233.38
        ],
        [
         "Event Accessory",
         29227.570000000003
        ],
        [
         "Trial Gadget",
         29214.950000000004
        ],
        [
         "Brother Tool",
         29212.58
        ],
        [
         "Step Tool",
         29206.79
        ],
        [
         "From Accessory",
         29202.009999999995
        ],
        [
         "Economy Gadget",
         29201.719999999998
        ],
        [
         "High Accessory",
         29197.09
        ],
        [
         "Good Device",
         29190.65
        ],
        [
         "Add Item",
         29189.929999999997
        ],
        [
         "Similar Gadget",
         29181.989999999998
        ],
        [
         "Why Accessory",
         29170.510000000002
        ],
        [
         "Let Accessory",
         29147.85
        ],
        [
         "Education Device",
         29144.4
        ],
        [
         "Year Gadget",
         29141.87
        ],
        [
         "Mean Item",
         29129.37
        ],
        [
         "High Device",
         29123.590000000004
        ],
        [
         "Window Item",
         29122.489999999998
        ],
        [
         "Why Device",
         29121.989999999998
        ],
        [
         "Account Item",
         29121.910000000003
        ],
        [
         "Include Tool",
         29116.91
        ],
        [
         "Different Device",
         29106.37
        ],
        [
         "Same Device",
         29102.780000000002
        ],
        [
         "Apply Accessory",
         29092.44
        ],
        [
         "Suddenly Gadget",
         29092.039999999997
        ],
        [
         "Action Tool",
         29089.400000000005
        ],
        [
         "Know Accessory",
         29084.68
        ],
        [
         "A Gadget",
         29073.97
        ],
        [
         "Ball Tool",
         29073.440000000002
        ],
        [
         "Phone Item",
         29069.800000000003
        ],
        [
         "Manager Device",
         29069.500000000004
        ],
        [
         "Product Device",
         29069.38
        ],
        [
         "Wife Tool",
         29063.819999999992
        ],
        [
         "Door Device",
         29062.010000000002
        ],
        [
         "Reflect Tool",
         29058.579999999998
        ],
        [
         "Art Device",
         29056.5
        ],
        [
         "West Item",
         29055.6
        ],
        [
         "Relate Gadget",
         29052.260000000002
        ],
        [
         "Every Item",
         29045.050000000003
        ],
        [
         "Health Item",
         29043.090000000004
        ],
        [
         "Around Accessory",
         29030.440000000002
        ],
        [
         "Itself Accessory",
         29027.560000000005
        ],
        [
         "Myself Tool",
         29023.549999999996
        ],
        [
         "Ball Accessory",
         29020.170000000002
        ],
        [
         "Development Tool",
         29016.03
        ],
        [
         "Prevent Device",
         29005.6
        ],
        [
         "Plan Tool",
         29000.1
        ],
        [
         "Really Device",
         28996.359999999997
        ],
        [
         "Much Item",
         28996.09
        ],
        [
         "Race Item",
         28989.84
        ],
        [
         "Husband Accessory",
         28978.54
        ],
        [
         "Total Device",
         28953.67
        ],
        [
         "Tree Tool",
         28944.059999999998
        ],
        [
         "Care Item",
         28936.359999999993
        ],
        [
         "Spring Device",
         28932.51
        ],
        [
         "Range Gadget",
         28929.89
        ],
        [
         "Seven Gadget",
         28923.08
        ],
        [
         "Campaign Accessory",
         28922.229999999996
        ],
        [
         "High Gadget",
         28921.18
        ],
        [
         "Anyone Device",
         28912.880000000005
        ],
        [
         "Well Item",
         28912.71
        ],
        [
         "Relationship Tool",
         28908.37
        ],
        [
         "Garden Gadget",
         28896.25
        ],
        [
         "Tend Tool",
         28889.469999999998
        ],
        [
         "Hold Item",
         28879.649999999998
        ],
        [
         "Animal Device",
         28861.2
        ],
        [
         "Pay Accessory",
         28858.459999999995
        ],
        [
         "Short Gadget",
         28847.04
        ],
        [
         "Care Tool",
         28839.73
        ],
        [
         "Set Accessory",
         28829.309999999998
        ],
        [
         "Break Accessory",
         28827.71
        ],
        [
         "Decide Item",
         28815.82
        ],
        [
         "Military Item",
         28803.359999999997
        ],
        [
         "Plant Tool",
         28798.049999999996
        ],
        [
         "Write Item",
         28788.2
        ],
        [
         "Go Accessory",
         28775.069999999996
        ],
        [
         "Debate Device",
         28768.749999999996
        ],
        [
         "Chair Device",
         28763.06
        ],
        [
         "Show Item",
         28760.82
        ],
        [
         "See Item",
         28744.97
        ],
        [
         "Month Item",
         28739.85
        ],
        [
         "Record Accessory",
         28733.659999999996
        ],
        [
         "Physical Gadget",
         28721.3
        ],
        [
         "Decade Device",
         28695.34
        ],
        [
         "Try Accessory",
         28694.969999999998
        ],
        [
         "Mouth Device",
         28671.530000000006
        ],
        [
         "Over Item",
         28667.409999999993
        ],
        [
         "Already Tool",
         28650.019999999997
        ],
        [
         "Get Gadget",
         28646.859999999997
        ],
        [
         "Value Item",
         28644.850000000006
        ],
        [
         "Data Device",
         28638.529999999995
        ],
        [
         "Agree Device",
         28633.530000000002
        ],
        [
         "Serve Device",
         28619.289999999997
        ],
        [
         "Author Tool",
         28617.089999999997
        ],
        [
         "Job Item",
         28616.680000000004
        ],
        [
         "Child Accessory",
         28612.140000000007
        ],
        [
         "Price Tool",
         28605.129999999997
        ],
        [
         "Approach Accessory",
         28602.590000000004
        ],
        [
         "See Accessory",
         28593.050000000003
        ],
        [
         "Keep Tool",
         28590.35
        ],
        [
         "Address Device",
         28590.110000000008
        ],
        [
         "Cost Tool",
         28588.229999999996
        ],
        [
         "Source Device",
         28582.329999999998
        ],
        [
         "High Tool",
         28578.55
        ],
        [
         "Hospital Item",
         28562.18
        ],
        [
         "Behind Item",
         28559.070000000003
        ],
        [
         "Form Gadget",
         28541.420000000006
        ],
        [
         "Listen Accessory",
         28529.359999999997
        ],
        [
         "Great Tool",
         28523.97
        ],
        [
         "Again Gadget",
         28493.989999999998
        ],
        [
         "Majority Gadget",
         28491.97
        ],
        [
         "Possible Gadget",
         28485.6
        ],
        [
         "Recent Item",
         28480.99
        ],
        [
         "Color Gadget",
         28463.91
        ],
        [
         "Short Item",
         28462.249999999996
        ],
        [
         "Natural Accessory",
         28444.370000000006
        ],
        [
         "Foreign Accessory",
         28436.93
        ],
        [
         "Shake Device",
         28428.959999999995
        ],
        [
         "Head Tool",
         28420.93
        ],
        [
         "Test Gadget",
         28417.33
        ],
        [
         "Pretty Gadget",
         28415.290000000005
        ],
        [
         "Surface Device",
         28403.670000000002
        ],
        [
         "Role Item",
         28399.579999999998
        ],
        [
         "Admit Accessory",
         28393.37
        ],
        [
         "Reality Item",
         28381.6
        ],
        [
         "Senior Accessory",
         28372.200000000004
        ],
        [
         "Book Item",
         28364.8
        ],
        [
         "Society Item",
         28364.200000000004
        ],
        [
         "Difference Device",
         28354.25
        ],
        [
         "Foot Tool",
         28352.170000000002
        ],
        [
         "Tough Tool",
         28346.059999999998
        ],
        [
         "Mean Accessory",
         28343.63
        ],
        [
         "Operation Item",
         28338.339999999997
        ],
        [
         "Treat Accessory",
         28315.510000000006
        ],
        [
         "Actually Tool",
         28302.3
        ],
        [
         "Discussion Tool",
         28291.91
        ],
        [
         "Front Accessory",
         28272.4
        ],
        [
         "Second Device",
         28220.53
        ],
        [
         "Model Accessory",
         28219.07
        ],
        [
         "Live Tool",
         28212.18
        ],
        [
         "Mention Tool",
         28195.03
        ],
        [
         "Daughter Item",
         28186.96
        ],
        [
         "Speech Accessory",
         28181.619999999995
        ],
        [
         "Property Gadget",
         28179.1
        ],
        [
         "Yard Tool",
         28177.6
        ],
        [
         "Air Gadget",
         28158.039999999997
        ],
        [
         "Left Tool",
         28156.149999999998
        ],
        [
         "Need Gadget",
         28146.629999999997
        ],
        [
         "Suggest Tool",
         28136.309999999998
        ],
        [
         "Walk Gadget",
         28132.469999999998
        ],
        [
         "Probably Device",
         28120.32
        ],
        [
         "Thought Gadget",
         28117.99
        ],
        [
         "Style Item",
         28117.010000000002
        ],
        [
         "Church Gadget",
         28112.78
        ],
        [
         "Picture Gadget",
         28107.91
        ],
        [
         "Mother Gadget",
         28106.639999999996
        ],
        [
         "Newspaper Accessory",
         28101.780000000002
        ],
        [
         "Tend Device",
         28088.870000000003
        ],
        [
         "Hold Device",
         28086.43
        ],
        [
         "Instead Gadget",
         28078.369999999995
        ],
        [
         "Most Gadget",
         28076.84
        ],
        [
         "Necessary Accessory",
         28072.32
        ],
        [
         "Most Device",
         28071.86
        ],
        [
         "Various Tool",
         28065.119999999995
        ],
        [
         "Baby Accessory",
         28062.509999999995
        ],
        [
         "Charge Tool",
         28061.08
        ],
        [
         "Section Device",
         28051.71
        ],
        [
         "Chance Gadget",
         28044.030000000002
        ],
        [
         "Rule Item",
         28031.789999999997
        ],
        [
         "Wear Item",
         28031.4
        ],
        [
         "Home Device",
         28027.589999999997
        ],
        [
         "Degree Gadget",
         28027.260000000002
        ],
        [
         "Later Item",
         28025.410000000003
        ],
        [
         "Continue Gadget",
         28024.260000000002
        ],
        [
         "Age Gadget",
         28009.320000000003
        ],
        [
         "Detail Gadget",
         27997.3
        ],
        [
         "Those Gadget",
         27996.980000000003
        ],
        [
         "Less Tool",
         27990.63
        ],
        [
         "Market Item",
         27984.980000000003
        ],
        [
         "Feel Device",
         27981.46
        ],
        [
         "Assume Item",
         27966.920000000002
        ],
        [
         "First Item",
         27966.36
        ],
        [
         "Fire Tool",
         27953.21
        ],
        [
         "Employee Gadget",
         27935.249999999996
        ],
        [
         "Send Device",
         27918.870000000003
        ],
        [
         "Firm Item",
         27918.409999999996
        ],
        [
         "Southern Accessory",
         27915.700000000004
        ],
        [
         "Issue Device",
         27910.74
        ],
        [
         "Agreement Tool",
         27907.29
        ],
        [
         "Fall Device",
         27905.560000000005
        ],
        [
         "Example Accessory",
         27898.36
        ],
        [
         "Visit Gadget",
         27897.77
        ],
        [
         "Seek Tool",
         27897.339999999997
        ],
        [
         "Name Tool",
         27873.460000000003
        ],
        [
         "He Gadget",
         27866.350000000002
        ],
        [
         "Hotel Gadget",
         27851.270000000004
        ],
        [
         "Fast Item",
         27850.53
        ],
        [
         "Young Tool",
         27841.359999999997
        ],
        [
         "Grow Accessory",
         27838.579999999994
        ],
        [
         "Behavior Tool",
         27837.43
        ],
        [
         "Short Accessory",
         27836.309999999998
        ],
        [
         "Evidence Item",
         27835.33
        ],
        [
         "Whose Device",
         27826.92
        ],
        [
         "Majority Item",
         27817.75
        ],
        [
         "Memory Item",
         27816.260000000002
        ],
        [
         "Level Device",
         27800.54
        ],
        [
         "Could Tool",
         27797.920000000002
        ],
        [
         "Myself Device",
         27794.249999999996
        ],
        [
         "Stage Device",
         27792.91
        ],
        [
         "Wish Item",
         27789.32
        ],
        [
         "Local Item",
         27787.159999999996
        ],
        [
         "Imagine Gadget",
         27779.440000000002
        ],
        [
         "Development Gadget",
         27778.85
        ],
        [
         "Trade Gadget",
         27776.56
        ],
        [
         "Worker Device",
         27771.04
        ],
        [
         "Great Device",
         27762.9
        ],
        [
         "Live Item",
         27761.75
        ],
        [
         "News Accessory",
         27761.600000000002
        ],
        [
         "Collection Device",
         27758.30000000001
        ],
        [
         "Chair Tool",
         27756.99
        ],
        [
         "Choose Accessory",
         27751.97
        ],
        [
         "Modern Device",
         27736.089999999997
        ],
        [
         "Page Accessory",
         27732.199999999997
        ],
        [
         "Natural Gadget",
         27728.260000000002
        ],
        [
         "Human Item",
         27725.390000000007
        ],
        [
         "Carry Device",
         27717.35
        ],
        [
         "Decide Gadget",
         27697.77
        ],
        [
         "Something Tool",
         27697.269999999997
        ],
        [
         "Sign Tool",
         27693.39
        ],
        [
         "Person Accessory",
         27688.359999999997
        ],
        [
         "Through Item",
         27668.769999999997
        ],
        [
         "Political Tool",
         27661.219999999998
        ],
        [
         "Adult Tool",
         27656.300000000003
        ],
        [
         "Lawyer Gadget",
         27641.4
        ],
        [
         "Describe Accessory",
         27639.63
        ],
        [
         "Financial Tool",
         27637.739999999998
        ],
        [
         "Capital Accessory",
         27631.39
        ],
        [
         "Type Gadget",
         27617.19
        ],
        [
         "None Item",
         27607.229999999996
        ],
        [
         "Entire Gadget",
         27596.379999999997
        ],
        [
         "Forward Accessory",
         27588.600000000002
        ],
        [
         "Especially Item",
         27586.57
        ],
        [
         "Yes Accessory",
         27580.780000000002
        ],
        [
         "Ready Tool",
         27580.629999999997
        ],
        [
         "Miss Accessory",
         27580.010000000002
        ],
        [
         "Close Tool",
         27564.130000000005
        ],
        [
         "Drive Accessory",
         27562.289999999997
        ],
        [
         "Figure Tool",
         27547.75
        ],
        [
         "Garden Item",
         27545.630000000005
        ],
        [
         "Page Item",
         27544.799999999996
        ],
        [
         "Anyone Item",
         27534.87
        ],
        [
         "Artist Tool",
         27529.440000000002
        ],
        [
         "Region Tool",
         27515.769999999997
        ],
        [
         "Suggest Device",
         27502.8
        ],
        [
         "Area Item",
         27502.34
        ],
        [
         "Budget Gadget",
         27500.0
        ],
        [
         "Southern Gadget",
         27479.92
        ],
        [
         "Their Tool",
         27478.110000000004
        ],
        [
         "Property Device",
         27471.720000000005
        ],
        [
         "Together Accessory",
         27469.4
        ],
        [
         "Be Accessory",
         27465.789999999997
        ],
        [
         "It Tool",
         27459.410000000003
        ],
        [
         "Professor Accessory",
         27454.880000000005
        ],
        [
         "Top Device",
         27440.530000000002
        ],
        [
         "Book Tool",
         27434.960000000006
        ],
        [
         "Part Tool",
         27422.059999999998
        ],
        [
         "Safe Tool",
         27420.23
        ],
        [
         "Far Gadget",
         27417.68
        ],
        [
         "Shoulder Tool",
         27404.58
        ],
        [
         "Down Item",
         27402.4
        ],
        [
         "Couple Accessory",
         27400.880000000005
        ],
        [
         "Action Device",
         27389.44
        ],
        [
         "Night Accessory",
         27385.249999999996
        ],
        [
         "Financial Item",
         27375.9
        ],
        [
         "Huge Item",
         27373.909999999996
        ],
        [
         "None Gadget",
         27369.649999999994
        ],
        [
         "Expect Device",
         27367.35
        ],
        [
         "Read Accessory",
         27363.009999999995
        ],
        [
         "Enjoy Gadget",
         27361.22
        ],
        [
         "Both Tool",
         27358.969999999998
        ],
        [
         "School Gadget",
         27358.81
        ],
        [
         "Example Tool",
         27357.680000000004
        ],
        [
         "Art Item",
         27356.5
        ],
        [
         "Game Accessory",
         27341.66
        ],
        [
         "Indeed Gadget",
         27324.800000000003
        ],
        [
         "Unit Accessory",
         27323.449999999997
        ],
        [
         "Impact Gadget",
         27321.019999999997
        ],
        [
         "Our Accessory",
         27313.609999999997
        ],
        [
         "Claim Gadget",
         27305.480000000003
        ],
        [
         "Science Gadget",
         27304.959999999995
        ],
        [
         "Board Accessory",
         27280.91
        ],
        [
         "Two Device",
         27278.800000000003
        ],
        [
         "Benefit Accessory",
         27275.15
        ],
        [
         "Interview Accessory",
         27249.460000000003
        ],
        [
         "International Gadget",
         27245.399999999998
        ],
        [
         "Meeting Tool",
         27237.490000000005
        ],
        [
         "Remain Tool",
         27235.54
        ],
        [
         "Difference Tool",
         27231.29
        ],
        [
         "Old Tool",
         27227.300000000003
        ],
        [
         "Others Accessory",
         27207.429999999997
        ],
        [
         "Else Tool",
         27192.400000000005
        ],
        [
         "Research Device",
         27190.96
        ],
        [
         "Network Tool",
         27186.350000000002
        ],
        [
         "Assume Gadget",
         27180.300000000003
        ],
        [
         "Wide Device",
         27177.57
        ],
        [
         "Side Gadget",
         27175.67
        ],
        [
         "Head Accessory",
         27174.899999999998
        ],
        [
         "Attack Accessory",
         27174.370000000003
        ],
        [
         "Door Gadget",
         27171.059999999998
        ],
        [
         "Conference Accessory",
         27148.6
        ],
        [
         "Leg Accessory",
         27147.07
        ],
        [
         "Modern Tool",
         27133.800000000003
        ],
        [
         "Fish Tool",
         27126.74
        ],
        [
         "Reach Tool",
         27126.149999999998
        ],
        [
         "Green Device",
         27124.270000000004
        ],
        [
         "Space Tool",
         27112.66
        ],
        [
         "Suggest Item",
         27097.69
        ],
        [
         "Wrong Tool",
         27089.6
        ],
        [
         "Start Item",
         27081.829999999998
        ],
        [
         "Sound Accessory",
         27078.520000000004
        ],
        [
         "Person Tool",
         27067.95
        ],
        [
         "Certain Item",
         27053.61
        ],
        [
         "Others Tool",
         27052.780000000002
        ],
        [
         "Girl Accessory",
         27050.95
        ],
        [
         "Street Accessory",
         27046.46
        ],
        [
         "Everybody Device",
         27031.379999999997
        ],
        [
         "Rather Tool",
         27018.929999999997
        ],
        [
         "Often Device",
         27016.53
        ],
        [
         "Eat Device",
         27008.979999999996
        ],
        [
         "True Item",
         27003.95
        ],
        [
         "Miss Device",
         27002.46
        ],
        [
         "No Accessory",
         26993.99
        ],
        [
         "Never Tool",
         26990.559999999998
        ],
        [
         "Production Item",
         26989.379999999997
        ],
        [
         "Thus Accessory",
         26985.489999999994
        ],
        [
         "Star Gadget",
         26983.8
        ],
        [
         "A Accessory",
         26971.9
        ],
        [
         "Report Tool",
         26953.95
        ],
        [
         "Detail Tool",
         26948.7
        ],
        [
         "American Gadget",
         26944.21
        ],
        [
         "Skill Device",
         26941.82
        ],
        [
         "From Device",
         26936.690000000006
        ],
        [
         "Teacher Gadget",
         26933.12
        ],
        [
         "Cost Device",
         26911.15
        ],
        [
         "Score Device",
         26907.300000000003
        ],
        [
         "Central Accessory",
         26901.309999999998
        ],
        [
         "Above Accessory",
         26900.71
        ],
        [
         "Professional Gadget",
         26894.8
        ],
        [
         "We Device",
         26890.07
        ],
        [
         "Firm Device",
         26886.639999999996
        ],
        [
         "Century Accessory",
         26880.769999999997
        ],
        [
         "Force Device",
         26875.270000000004
        ],
        [
         "Seem Item",
         26875.260000000002
        ],
        [
         "Dinner Accessory",
         26869.78
        ],
        [
         "Customer Device",
         26866.05
        ],
        [
         "Sport Gadget",
         26865.549999999996
        ],
        [
         "Them Gadget",
         26851.700000000004
        ],
        [
         "Project Gadget",
         26848.100000000002
        ],
        [
         "Hear Device",
         26844.29
        ],
        [
         "Level Accessory",
         26834.550000000003
        ],
        [
         "Source Tool",
         26828.800000000003
        ],
        [
         "Her Device",
         26822.92
        ],
        [
         "Reflect Device",
         26821.57
        ],
        [
         "Study Accessory",
         26818.94
        ],
        [
         "Radio Gadget",
         26814.0
        ],
        [
         "Half Gadget",
         26802.949999999993
        ],
        [
         "We Gadget",
         26801.149999999994
        ],
        [
         "Throughout Device",
         26794.49
        ],
        [
         "Ground Accessory",
         26792.26
        ],
        [
         "Move Gadget",
         26792.13
        ],
        [
         "Mission Item",
         26787.590000000004
        ],
        [
         "Sea Tool",
         26783.21
        ],
        [
         "Whether Tool",
         26769.510000000002
        ],
        [
         "Style Device",
         26763.460000000006
        ],
        [
         "Performance Gadget",
         26761.639999999996
        ],
        [
         "Talk Accessory",
         26759.8
        ],
        [
         "Sit Item",
         26751.550000000003
        ],
        [
         "Nation Gadget",
         26730.640000000003
        ],
        [
         "Guess Item",
         26727.690000000002
        ],
        [
         "Property Item",
         26721.54
        ],
        [
         "Human Tool",
         26718.26
        ],
        [
         "Protect Accessory",
         26714.729999999996
        ],
        [
         "Across Tool",
         26691.659999999996
        ],
        [
         "Officer Device",
         26687.129999999994
        ],
        [
         "Toward Gadget",
         26685.339999999997
        ],
        [
         "Without Device",
         26674.809999999998
        ],
        [
         "Economy Tool",
         26667.42
        ],
        [
         "Country Gadget",
         26658.440000000006
        ],
        [
         "Red Tool",
         26649.2
        ],
        [
         "Anyone Tool",
         26643.81
        ],
        [
         "Race Gadget",
         26640.090000000004
        ],
        [
         "Building Device",
         26620.060000000005
        ],
        [
         "Within Gadget",
         26619.75
        ],
        [
         "Contain Tool",
         26618.780000000006
        ],
        [
         "Learn Accessory",
         26612.149999999998
        ],
        [
         "Take Device",
         26608.519999999997
        ],
        [
         "Successful Item",
         26592.11
        ],
        [
         "Show Tool",
         26583.54
        ],
        [
         "Everybody Item",
         26575.520000000004
        ],
        [
         "Society Gadget",
         26572.35
        ],
        [
         "Oil Tool",
         26560.83
        ],
        [
         "Sometimes Item",
         26559.579999999998
        ],
        [
         "Together Device",
         26545.03
        ],
        [
         "Activity Tool",
         26525.57
        ],
        [
         "In Gadget",
         26524.61
        ],
        [
         "Ability Accessory",
         26522.39
        ],
        [
         "Manager Item",
         26522.259999999995
        ],
        [
         "Nice Item",
         26512.91
        ],
        [
         "Thus Item",
         26510.66
        ],
        [
         "Financial Device",
         26509.68
        ],
        [
         "Fall Gadget",
         26509.370000000003
        ],
        [
         "Word Gadget",
         26502.890000000003
        ],
        [
         "Her Gadget",
         26499.66
        ],
        [
         "Wish Accessory",
         26496.870000000003
        ],
        [
         "Audience Device",
         26493.179999999997
        ],
        [
         "Listen Item",
         26486.760000000002
        ],
        [
         "Smile Gadget",
         26477.860000000004
        ],
        [
         "Interest Gadget",
         26459.27
        ],
        [
         "Who Item",
         26444.840000000004
        ],
        [
         "Catch Tool",
         26443.34
        ],
        [
         "Left Gadget",
         26439.010000000002
        ],
        [
         "Knowledge Item",
         26438.82
        ],
        [
         "Drive Item",
         26435.440000000002
        ],
        [
         "Finally Accessory",
         26426.25
        ],
        [
         "Think Item",
         26424.859999999993
        ],
        [
         "Five Device",
         26415.84
        ],
        [
         "Teach Tool",
         26404.839999999997
        ],
        [
         "Politics Accessory",
         26399.71
        ],
        [
         "Especially Device",
         26390.270000000004
        ],
        [
         "Fast Device",
         26387.97
        ],
        [
         "Cost Item",
         26387.8
        ],
        [
         "Friend Item",
         26383.390000000003
        ],
        [
         "Road Accessory",
         26372.22
        ],
        [
         "Others Gadget",
         26354.790000000005
        ],
        [
         "Study Tool",
         26354.63
        ],
        [
         "Second Tool",
         26344.440000000002
        ],
        [
         "Model Tool",
         26344.210000000003
        ],
        [
         "Agree Item",
         26313.47
        ],
        [
         "Keep Item",
         26308.09
        ],
        [
         "Performance Item",
         26294.5
        ],
        [
         "Discuss Gadget",
         26290.789999999994
        ],
        [
         "According Tool",
         26282.91
        ],
        [
         "Middle Device",
         26270.989999999998
        ],
        [
         "Return Tool",
         26265.460000000003
        ],
        [
         "Wife Gadget",
         26262.78
        ],
        [
         "List Tool",
         26258.35
        ],
        [
         "Several Device",
         26254.58
        ],
        [
         "From Gadget",
         26248.84
        ],
        [
         "Seek Item",
         26243.939999999995
        ],
        [
         "Question Tool",
         26237.32
        ],
        [
         "City Tool",
         26234.76
        ],
        [
         "Mention Accessory",
         26233.630000000005
        ],
        [
         "Pressure Gadget",
         26233.559999999998
        ],
        [
         "Central Item",
         26226.65
        ],
        [
         "Health Accessory",
         26222.800000000003
        ],
        [
         "Here Item",
         26222.74
        ],
        [
         "Tv Device",
         26219.58
        ],
        [
         "Evening Tool",
         26217.069999999996
        ],
        [
         "Best Device",
         26207.019999999997
        ],
        [
         "Clear Device",
         26198.77
        ],
        [
         "Glass Device",
         26196.039999999997
        ],
        [
         "Cold Device",
         26193.739999999998
        ],
        [
         "Camera Item",
         26175.78
        ],
        [
         "Throw Device",
         26172.46
        ],
        [
         "Maintain Tool",
         26170.079999999998
        ],
        [
         "Focus Accessory",
         26166.870000000006
        ],
        [
         "True Device",
         26155.12
        ],
        [
         "Serve Gadget",
         26154.82
        ],
        [
         "Both Item",
         26150.759999999995
        ],
        [
         "Rock Tool",
         26145.270000000004
        ],
        [
         "Decade Accessory",
         26135.46
        ],
        [
         "Data Tool",
         26129.38
        ],
        [
         "Another Accessory",
         26127.95
        ],
        [
         "Recent Accessory",
         26125.62
        ],
        [
         "Whole Item",
         26120.829999999994
        ],
        [
         "Attack Gadget",
         26118.399999999998
        ],
        [
         "Possible Accessory",
         26102.25
        ],
        [
         "Team Tool",
         26099.19
        ],
        [
         "Draw Tool",
         26091.14
        ],
        [
         "Television Accessory",
         26077.05
        ],
        [
         "Tell Item",
         26075.519999999997
        ],
        [
         "Worker Item",
         26074.37
        ],
        [
         "Anything Accessory",
         26064.43
        ],
        [
         "Cell Item",
         26061.379999999997
        ],
        [
         "Vote Accessory",
         26050.010000000002
        ],
        [
         "Prevent Gadget",
         26044.910000000003
        ],
        [
         "Smile Device",
         26044.210000000006
        ],
        [
         "Democratic Item",
         26039.199999999997
        ],
        [
         "Conference Item",
         26035.86
        ],
        [
         "Number Accessory",
         26027.64
        ],
        [
         "Marriage Gadget",
         26019.740000000005
        ],
        [
         "Forward Tool",
         26017.41
        ],
        [
         "These Item",
         25995.610000000004
        ],
        [
         "Out Item",
         25994.269999999997
        ],
        [
         "Everybody Accessory",
         25984.320000000003
        ],
        [
         "State Gadget",
         25983.039999999997
        ],
        [
         "Money Item",
         25964.339999999997
        ],
        [
         "Rather Item",
         25962.82
        ],
        [
         "Car Gadget",
         25933.549999999996
        ],
        [
         "News Device",
         25932.48
        ],
        [
         "Add Tool",
         25928.91
        ],
        [
         "Significant Tool",
         25928.379999999997
        ],
        [
         "Read Gadget",
         25928.179999999997
        ],
        [
         "Him Gadget",
         25926.890000000003
        ],
        [
         "Including Device",
         25925.559999999998
        ],
        [
         "Range Tool",
         25923.769999999997
        ],
        [
         "Degree Item",
         25919.71
        ],
        [
         "Occur Device",
         25904.760000000002
        ],
        [
         "Management Item",
         25903.649999999998
        ],
        [
         "Purpose Tool",
         25903.629999999997
        ],
        [
         "Able Tool",
         25899.879999999997
        ],
        [
         "Better Item",
         25899.809999999994
        ],
        [
         "Entire Tool",
         25899.39
        ],
        [
         "Walk Tool",
         25893.290000000005
        ],
        [
         "Western Gadget",
         25872.14
        ],
        [
         "Still Device",
         25855.319999999996
        ],
        [
         "Better Tool",
         25843.92
        ],
        [
         "Catch Gadget",
         25824.680000000004
        ],
        [
         "Safe Gadget",
         25810.67
        ],
        [
         "Perform Accessory",
         25809.77
        ],
        [
         "Hair Tool",
         25794.840000000004
        ],
        [
         "Explain Gadget",
         25787.39
        ],
        [
         "Task Device",
         25775.73
        ],
        [
         "Better Accessory",
         25754.08
        ],
        [
         "Of Gadget",
         25744.390000000003
        ],
        [
         "Because Gadget",
         25740.699999999997
        ],
        [
         "All Accessory",
         25736.969999999994
        ],
        [
         "Tell Device",
         25732.97
        ],
        [
         "Growth Gadget",
         25731.36
        ],
        [
         "Surface Tool",
         25726.83
        ],
        [
         "Us Item",
         25721.330000000005
        ],
        [
         "Seek Device",
         25716.809999999998
        ],
        [
         "Direction Gadget",
         25716.48
        ],
        [
         "Chance Tool",
         25711.699999999997
        ],
        [
         "Nation Item",
         25709.24
        ],
        [
         "Life Device",
         25700.810000000005
        ],
        [
         "Later Device",
         25698.68
        ],
        [
         "Agent Gadget",
         25691.54
        ],
        [
         "Baby Item",
         25689.829999999998
        ],
        [
         "Whose Accessory",
         25689.53
        ],
        [
         "Game Gadget",
         25679.309999999998
        ],
        [
         "Young Gadget",
         25666.130000000005
        ],
        [
         "Sister Accessory",
         25665.769999999997
        ],
        [
         "Dream Tool",
         25664.93
        ],
        [
         "Dream Item",
         25660.16
        ],
        [
         "Address Accessory",
         25658.62
        ],
        [
         "Building Gadget",
         25652.81
        ],
        [
         "Television Gadget",
         25651.42
        ],
        [
         "Me Tool",
         25650.499999999996
        ],
        [
         "Wait Device",
         25649.399999999998
        ],
        [
         "More Item",
         25649.250000000004
        ],
        [
         "Article Accessory",
         25641.469999999998
        ],
        [
         "Building Item",
         25629.57
        ],
        [
         "Deep Accessory",
         25626.859999999997
        ],
        [
         "Hotel Item",
         25605.260000000006
        ],
        [
         "Church Device",
         25604.85
        ],
        [
         "Recently Accessory",
         25601.03
        ],
        [
         "Add Device",
         25595.249999999996
        ],
        [
         "Pressure Device",
         25586.010000000002
        ],
        [
         "Training Gadget",
         25574.459999999995
        ],
        [
         "Like Accessory",
         25562.390000000007
        ],
        [
         "Shake Tool",
         25560.290000000005
        ],
        [
         "Than Tool",
         25557.02999999999
        ],
        [
         "Moment Gadget",
         25550.939999999995
        ],
        [
         "Way Accessory",
         25548.019999999997
        ],
        [
         "Meet Item",
         25537.819999999996
        ],
        [
         "Citizen Tool",
         25536.339999999997
        ],
        [
         "Happy Item",
         25534.910000000003
        ],
        [
         "Read Tool",
         25528.48
        ],
        [
         "Amount Accessory",
         25523.13
        ],
        [
         "Make Item",
         25519.5
        ],
        [
         "After Tool",
         25518.839999999997
        ],
        [
         "Say Tool",
         25516.51
        ],
        [
         "Case Device",
         25515.42
        ],
        [
         "Environmental Tool",
         25503.15
        ],
        [
         "Else Gadget",
         25483.539999999997
        ],
        [
         "Left Device",
         25481.989999999998
        ],
        [
         "Try Device",
         25471.550000000003
        ],
        [
         "Four Accessory",
         25468.65
        ],
        [
         "Movie Accessory",
         25467.94
        ],
        [
         "Ever Gadget",
         25463.239999999998
        ],
        [
         "Individual Device",
         25454.39
        ],
        [
         "Play Device",
         25449.46
        ],
        [
         "Heavy Tool",
         25447.53
        ],
        [
         "Final Gadget",
         25446.710000000003
        ],
        [
         "Community Item",
         25444.620000000003
        ],
        [
         "Material Tool",
         25443.810000000005
        ],
        [
         "Remember Item",
         25419.750000000007
        ],
        [
         "Her Tool",
         25414.2
        ],
        [
         "Girl Gadget",
         25413.09
        ],
        [
         "Main Gadget",
         25410.939999999995
        ],
        [
         "Series Device",
         25400.4
        ],
        [
         "Truth Tool",
         25400.050000000003
        ],
        [
         "Certainly Gadget",
         25399.6
        ],
        [
         "Lose Item",
         25393.670000000002
        ],
        [
         "Anything Gadget",
         25381.91
        ],
        [
         "Look Tool",
         25376.980000000003
        ],
        [
         "Third Gadget",
         25376.78
        ],
        [
         "Only Accessory",
         25370.29
        ],
        [
         "Senior Item",
         25365.28
        ],
        [
         "Popular Device",
         25341.64
        ],
        [
         "Work Item",
         25334.950000000004
        ],
        [
         "Simple Gadget",
         25331.559999999998
        ],
        [
         "Article Device",
         25325.699999999997
        ],
        [
         "Treatment Gadget",
         25302.159999999996
        ],
        [
         "Represent Gadget",
         25301.96
        ],
        [
         "National Accessory",
         25298.739999999998
        ],
        [
         "Movie Gadget",
         25295.57
        ],
        [
         "Card Device",
         25294.11
        ],
        [
         "Through Accessory",
         25293.16
        ],
        [
         "Set Device",
         25292.929999999997
        ],
        [
         "Style Gadget",
         25290.24
        ],
        [
         "Evidence Tool",
         25285.000000000004
        ],
        [
         "Include Item",
         25284.839999999997
        ],
        [
         "Compare Tool",
         25282.07
        ],
        [
         "Cut Accessory",
         25276.68
        ],
        [
         "Investment Gadget",
         25276.210000000003
        ],
        [
         "Rest Accessory",
         25275.86
        ],
        [
         "Inside Accessory",
         25271.280000000002
        ],
        [
         "Forget Accessory",
         25270.819999999996
        ],
        [
         "Drug Gadget",
         25268.25
        ],
        [
         "Find Accessory",
         25267.67
        ],
        [
         "Worry Item",
         25262.04
        ],
        [
         "Less Accessory",
         25249.260000000006
        ],
        [
         "Interest Tool",
         25245.920000000002
        ],
        [
         "Film Tool",
         25232.949999999997
        ],
        [
         "Cost Accessory",
         25230.1
        ],
        [
         "Media Accessory",
         25226.480000000003
        ],
        [
         "Technology Device",
         25205.93
        ],
        [
         "Still Gadget",
         25194.27
        ],
        [
         "Turn Tool",
         25190.100000000002
        ],
        [
         "It Accessory",
         25189.06
        ],
        [
         "Evening Item",
         25188.28
        ],
        [
         "Community Accessory",
         25186.539999999997
        ],
        [
         "Your Device",
         25178.049999999996
        ],
        [
         "Relationship Gadget",
         25175.789999999997
        ],
        [
         "One Gadget",
         25172.78
        ],
        [
         "Most Accessory",
         25169.230000000003
        ],
        [
         "Stay Device",
         25167.05
        ],
        [
         "Success Gadget",
         25158.7
        ],
        [
         "Turn Accessory",
         25151.58
        ],
        [
         "Current Item",
         25150.5
        ],
        [
         "Beautiful Item",
         25147.940000000002
        ],
        [
         "Already Gadget",
         25143.069999999996
        ],
        [
         "Feel Tool",
         25140.620000000003
        ],
        [
         "Business Accessory",
         25140.19
        ],
        [
         "Ahead Device",
         25138.679999999997
        ],
        [
         "Language Accessory",
         25137.540000000005
        ],
        [
         "Consider Gadget",
         25132.91
        ],
        [
         "Just Gadget",
         25131.2
        ],
        [
         "Note Item",
         25121.420000000002
        ],
        [
         "Me Accessory",
         25112.21
        ],
        [
         "Him Item",
         25103.219999999998
        ],
        [
         "Project Accessory",
         25102.12
        ],
        [
         "Thought Tool",
         25101.280000000002
        ],
        [
         "Improve Device",
         25095.129999999997
        ],
        [
         "Impact Item",
         25094.03
        ],
        [
         "Character Accessory",
         25087.090000000004
        ],
        [
         "Bank Gadget",
         25084.300000000003
        ],
        [
         "Begin Gadget",
         25079.559999999998
        ],
        [
         "Policy Device",
         25066.649999999998
        ],
        [
         "Way Item",
         25061.09
        ],
        [
         "Seat Accessory",
         25051.219999999994
        ],
        [
         "Box Device",
         25050.21
        ],
        [
         "Scene Item",
         25049.609999999997
        ],
        [
         "Age Tool",
         25047.33
        ],
        [
         "Power Accessory",
         25038.88
        ],
        [
         "Head Device",
         25037.82
        ],
        [
         "Toward Tool",
         25036.2
        ],
        [
         "Ready Accessory",
         25033.790000000005
        ],
        [
         "Simply Accessory",
         25007.32
        ],
        [
         "Author Item",
         25004.94
        ],
        [
         "Time Device",
         25004.499999999996
        ],
        [
         "Rate Tool",
         24999.21
        ],
        [
         "Paper Tool",
         24995.81
        ],
        [
         "Senior Tool",
         24984.94
        ],
        [
         "Travel Tool",
         24980.46
        ],
        [
         "Line Device",
         24976.689999999995
        ],
        [
         "Color Tool",
         24966.239999999998
        ],
        [
         "Technology Accessory",
         24962.0
        ],
        [
         "Herself Device",
         24961.72
        ],
        [
         "Federal Gadget",
         24960.42
        ],
        [
         "Reduce Accessory",
         24958.809999999998
        ],
        [
         "Experience Tool",
         24938.28
        ],
        [
         "Pattern Gadget",
         24937.87
        ],
        [
         "Itself Device",
         24925.159999999996
        ],
        [
         "Tell Accessory",
         24924.360000000004
        ],
        [
         "Pattern Device",
         24922.11
        ],
        [
         "Camera Tool",
         24921.08
        ],
        [
         "Than Gadget",
         24918.28
        ],
        [
         "Authority Gadget",
         24916.260000000002
        ],
        [
         "Project Item",
         24914.17
        ],
        [
         "Yeah Accessory",
         24904.37
        ],
        [
         "Opportunity Device",
         24900.86
        ],
        [
         "Born Gadget",
         24899.159999999996
        ],
        [
         "Meeting Device",
         24891.039999999994
        ],
        [
         "Reveal Accessory",
         24890.16
        ],
        [
         "Should Accessory",
         24880.090000000004
        ],
        [
         "Cover Accessory",
         24875.95
        ],
        [
         "Down Gadget",
         24866.759999999995
        ],
        [
         "Above Tool",
         24860.24
        ],
        [
         "Bill Tool",
         24852.39
        ],
        [
         "Challenge Item",
         24833.56
        ],
        [
         "Important Tool",
         24825.87
        ],
        [
         "Offer Tool",
         24824.179999999997
        ],
        [
         "Rest Gadget",
         24812.02
        ],
        [
         "Name Item",
         24806.15
        ],
        [
         "Size Gadget",
         24804.99
        ],
        [
         "Hundred Tool",
         24799.17
        ],
        [
         "Medical Gadget",
         24790.89
        ],
        [
         "Require Device",
         24777.08
        ],
        [
         "Charge Device",
         24776.100000000002
        ],
        [
         "Center Gadget",
         24773.36
        ],
        [
         "Interesting Accessory",
         24770.649999999994
        ],
        [
         "For Tool",
         24760.140000000003
        ],
        [
         "Large Gadget",
         24756.79
        ],
        [
         "Themselves Gadget",
         24754.72
        ],
        [
         "Spring Tool",
         24742.07
        ],
        [
         "Standard Accessory",
         24737.519999999997
        ],
        [
         "Game Device",
         24734.74
        ],
        [
         "Consumer Device",
         24732.409999999996
        ],
        [
         "Concern Gadget",
         24730.27
        ],
        [
         "Political Accessory",
         24729.7
        ],
        [
         "Side Tool",
         24724.98
        ],
        [
         "Available Item",
         24723.48
        ],
        [
         "Board Device",
         24720.760000000002
        ],
        [
         "Itself Tool",
         24711.039999999997
        ],
        [
         "Believe Device",
         24709.829999999994
        ],
        [
         "Foot Accessory",
         24707.649999999998
        ],
        [
         "Night Gadget",
         24701.57
        ],
        [
         "Candidate Accessory",
         24699.93
        ],
        [
         "Find Device",
         24696.61
        ],
        [
         "Change Device",
         24693.649999999998
        ],
        [
         "Change Item",
         24693.23
        ],
        [
         "Husband Gadget",
         24692.67
        ],
        [
         "Mission Tool",
         24687.8
        ],
        [
         "Major Accessory",
         24674.239999999998
        ],
        [
         "Practice Item",
         24668.4
        ],
        [
         "Part Item",
         24666.12
        ],
        [
         "Style Tool",
         24663.01
        ],
        [
         "Meeting Accessory",
         24656.719999999998
        ],
        [
         "Yet Gadget",
         24655.24
        ],
        [
         "You Tool",
         24653.45
        ],
        [
         "Call Gadget",
         24645.340000000004
        ],
        [
         "Instead Item",
         24633.82
        ],
        [
         "This Item",
         24618.659999999996
        ],
        [
         "Explain Tool",
         24618.070000000007
        ],
        [
         "Security Gadget",
         24612.86
        ],
        [
         "Statement Accessory",
         24612.18
        ],
        [
         "Share Gadget",
         24610.45
        ],
        [
         "Western Tool",
         24609.91
        ],
        [
         "But Item",
         24599.899999999998
        ],
        [
         "Church Tool",
         24599.24
        ],
        [
         "Poor Accessory",
         24594.729999999996
        ],
        [
         "Issue Gadget",
         24594.65
        ],
        [
         "Attention Tool",
         24592.12
        ],
        [
         "Condition Device",
         24591.94
        ],
        [
         "Partner Device",
         24584.03
        ],
        [
         "Capital Gadget",
         24581.14
        ],
        [
         "Visit Tool",
         24578.52
        ],
        [
         "Third Tool",
         24576.42
        ],
        [
         "How Gadget",
         24569.809999999998
        ],
        [
         "Television Tool",
         24569.159999999996
        ],
        [
         "Kind Device",
         24565.89
        ],
        [
         "Push Item",
         24560.14
        ],
        [
         "Whole Device",
         24558.34
        ],
        [
         "Board Tool",
         24556.89
        ],
        [
         "Consider Device",
         24554.37
        ],
        [
         "Gas Gadget",
         24533.33
        ],
        [
         "Relationship Accessory",
         24531.38
        ],
        [
         "Power Gadget",
         24525.75
        ],
        [
         "Red Item",
         24520.770000000004
        ],
        [
         "Officer Item",
         24507.969999999998
        ],
        [
         "Company Gadget",
         24503.979999999996
        ],
        [
         "Small Tool",
         24492.15
        ],
        [
         "Possible Device",
         24484.93
        ],
        [
         "Vote Tool",
         24478.4
        ],
        [
         "Stand Device",
         24474.75
        ],
        [
         "Sense Item",
         24468.47
        ],
        [
         "Four Item",
         24467.32
        ],
        [
         "Term Accessory",
         24467.090000000004
        ],
        [
         "Act Accessory",
         24463.410000000003
        ],
        [
         "When Item",
         24461.49
        ],
        [
         "Money Device",
         24455.96
        ],
        [
         "Know Gadget",
         24448.56
        ],
        [
         "Consider Item",
         24437.019999999997
        ],
        [
         "Character Tool",
         24425.19
        ],
        [
         "Reach Device",
         24423.379999999997
        ],
        [
         "Administration Item",
         24415.6
        ],
        [
         "Bed Item",
         24409.800000000003
        ],
        [
         "Early Accessory",
         24407.98
        ],
        [
         "Close Gadget",
         24390.9
        ],
        [
         "Night Device",
         24382.869999999995
        ],
        [
         "Various Device",
         24381.36
        ],
        [
         "Nor Device",
         24372.0
        ],
        [
         "Performance Tool",
         24370.879999999997
        ],
        [
         "West Tool",
         24366.29
        ],
        [
         "Month Device",
         24366.04
        ],
        [
         "Per Device",
         24360.21
        ],
        [
         "Probably Item",
         24356.550000000003
        ],
        [
         "Key Item",
         24356.420000000002
        ],
        [
         "House Accessory",
         24353.84
        ],
        [
         "Sit Gadget",
         24335.68
        ],
        [
         "Quickly Device",
         24329.89
        ],
        [
         "Staff Device",
         24327.280000000002
        ],
        [
         "Himself Accessory",
         24300.0
        ],
        [
         "Trouble Tool",
         24295.189999999995
        ],
        [
         "Prepare Gadget",
         24289.21
        ],
        [
         "Easy Tool",
         24286.699999999993
        ],
        [
         "So Accessory",
         24286.41
        ],
        [
         "Knowledge Tool",
         24277.809999999998
        ],
        [
         "Response Accessory",
         24271.699999999997
        ],
        [
         "Yourself Device",
         24267.629999999997
        ],
        [
         "Staff Tool",
         24267.120000000003
        ],
        [
         "Feel Gadget",
         24264.19
        ],
        [
         "Let Device",
         24264.14
        ],
        [
         "Whom Item",
         24261.320000000003
        ],
        [
         "One Item",
         24257.73
        ],
        [
         "It Item",
         24252.7
        ],
        [
         "Marriage Device",
         24249.65
        ],
        [
         "Up Gadget",
         24243.99
        ],
        [
         "Information Device",
         24237.63
        ],
        [
         "Nor Item",
         24237.170000000006
        ],
        [
         "Hospital Tool",
         24231.53
        ],
        [
         "Throw Accessory",
         24224.5
        ],
        [
         "Build Accessory",
         24214.140000000003
        ],
        [
         "Himself Device",
         24206.839999999997
        ],
        [
         "Agree Gadget",
         24204.53
        ],
        [
         "So Tool",
         24203.75
        ],
        [
         "Always Accessory",
         24202.610000000004
        ],
        [
         "Himself Item",
         24187.579999999998
        ],
        [
         "Shake Item",
         24184.579999999994
        ],
        [
         "Own Item",
         24182.69
        ],
        [
         "Which Device",
         24176.0
        ],
        [
         "Run Device",
         24168.829999999998
        ],
        [
         "Image Device",
         24166.18
        ],
        [
         "Nature Accessory",
         24161.83
        ],
        [
         "Pretty Device",
         24160.910000000003
        ],
        [
         "Pm Gadget",
         24155.73
        ],
        [
         "Already Item",
         24152.840000000004
        ],
        [
         "Age Item",
         24149.189999999995
        ],
        [
         "Go Gadget",
         24126.010000000002
        ],
        [
         "Change Accessory",
         24125.57
        ],
        [
         "Method Gadget",
         24122.620000000003
        ],
        [
         "Back Tool",
         24121.33
        ],
        [
         "Food Item",
         24113.15
        ],
        [
         "Recent Gadget",
         24112.059999999998
        ],
        [
         "Here Device",
         24111.760000000002
        ],
        [
         "Gas Accessory",
         24106.85
        ],
        [
         "Reach Item",
         24088.79
        ],
        [
         "Teacher Accessory",
         24067.600000000002
        ],
        [
         "Tv Item",
         24049.639999999996
        ],
        [
         "Plant Gadget",
         24045.210000000003
        ],
        [
         "Speak Device",
         24041.36
        ],
        [
         "Mouth Item",
         24038.859999999997
        ],
        [
         "Safe Accessory",
         24023.85
        ],
        [
         "Place Accessory",
         24020.37
        ],
        [
         "Just Device",
         24013.12
        ],
        [
         "Apply Item",
         23996.68
        ],
        [
         "Our Tool",
         23995.02
        ],
        [
         "Commercial Tool",
         23988.01
        ],
        [
         "Both Accessory",
         23982.01
        ],
        [
         "Case Accessory",
         23979.94
        ],
        [
         "Control Tool",
         23975.929999999997
        ],
        [
         "On Device",
         23973.289999999997
        ],
        [
         "Director Tool",
         23966.870000000003
        ],
        [
         "Everybody Tool",
         23961.33
        ],
        [
         "Argue Device",
         23956.419999999995
        ],
        [
         "Prevent Accessory",
         23943.990000000005
        ],
        [
         "Source Gadget",
         23942.21
        ],
        [
         "Republican Item",
         23936.010000000002
        ],
        [
         "Back Accessory",
         23929.729999999996
        ],
        [
         "Wait Accessory",
         23929.030000000002
        ],
        [
         "Interesting Tool",
         23917.26
        ],
        [
         "Play Gadget",
         23908.620000000003
        ],
        [
         "Example Gadget",
         23907.190000000002
        ],
        [
         "Night Item",
         23904.730000000003
        ],
        [
         "Store Tool",
         23902.299999999996
        ],
        [
         "Stop Gadget",
         23898.87
        ],
        [
         "Rock Device",
         23894.059999999998
        ],
        [
         "Tend Item",
         23891.88
        ],
        [
         "Far Device",
         23889.049999999996
        ],
        [
         "Leave Accessory",
         23888.930000000004
        ],
        [
         "Onto Item",
         23879.149999999998
        ],
        [
         "Feeling Item",
         23878.750000000004
        ],
        [
         "Energy Item",
         23878.67
        ],
        [
         "Tell Tool",
         23875.519999999997
        ],
        [
         "Future Tool",
         23873.63
        ],
        [
         "Than Item",
         23871.92
        ],
        [
         "Paper Item",
         23871.9
        ],
        [
         "Carry Accessory",
         23871.829999999998
        ],
        [
         "Care Gadget",
         23870.12
        ],
        [
         "Back Device",
         23855.16
        ],
        [
         "Candidate Gadget",
         23830.590000000004
        ],
        [
         "Develop Tool",
         23825.31
        ],
        [
         "Animal Tool",
         23824.620000000006
        ],
        [
         "Attorney Gadget",
         23815.410000000003
        ],
        [
         "Different Tool",
         23812.089999999997
        ],
        [
         "Practice Accessory",
         23809.780000000002
        ],
        [
         "Popular Gadget",
         23806.76
        ],
        [
         "Small Gadget",
         23806.12
        ],
        [
         "World Device",
         23790.68
        ],
        [
         "Food Tool",
         23787.16
        ],
        [
         "Crime Device",
         23772.35
        ],
        [
         "Table Device",
         23771.879999999997
        ],
        [
         "Site Device",
         23767.309999999998
        ],
        [
         "Last Item",
         23765.079999999998
        ],
        [
         "Truth Item",
         23741.199999999997
        ],
        [
         "Miss Gadget",
         23731.319999999996
        ],
        [
         "Husband Device",
         23730.36
        ],
        [
         "Although Gadget",
         23725.100000000002
        ],
        [
         "View Gadget",
         23705.85
        ],
        [
         "Member Tool",
         23703.93
        ],
        [
         "Effect Accessory",
         23694.81
        ],
        [
         "Us Tool",
         23692.85
        ],
        [
         "Provide Device",
         23692.100000000006
        ],
        [
         "Think Device",
         23687.770000000004
        ],
        [
         "Deep Device",
         23670.629999999997
        ],
        [
         "Language Device",
         23669.78
        ],
        [
         "Success Tool",
         23668.61
        ],
        [
         "Writer Item",
         23666.19
        ],
        [
         "National Item",
         23660.280000000002
        ],
        [
         "Become Accessory",
         23631.75
        ],
        [
         "Order Gadget",
         23626.579999999998
        ],
        [
         "Technology Gadget",
         23625.83
        ],
        [
         "Others Item",
         23617.64
        ],
        [
         "Theory Item",
         23611.18
        ],
        [
         "Painting Gadget",
         23603.26
        ],
        [
         "Size Tool",
         23601.92
        ],
        [
         "Read Device",
         23601.27
        ],
        [
         "Through Tool",
         23596.730000000003
        ],
        [
         "Follow Accessory",
         23592.89
        ],
        [
         "White Gadget",
         23592.519999999997
        ],
        [
         "Suffer Tool",
         23591.28
        ],
        [
         "Finish Item",
         23588.04
        ],
        [
         "Protect Gadget",
         23585.609999999997
        ],
        [
         "Good Item",
         23584.46
        ],
        [
         "Feeling Gadget",
         23572.009999999995
        ],
        [
         "Goal Tool",
         23571.29
        ],
        [
         "Realize Item",
         23568.05
        ],
        [
         "Agreement Item",
         23567.27
        ],
        [
         "Lead Accessory",
         23566.42
        ],
        [
         "Long Item",
         23561.160000000003
        ],
        [
         "Kitchen Item",
         23560.67
        ],
        [
         "Tonight Item",
         23559.379999999997
        ],
        [
         "Though Device",
         23540.3
        ],
        [
         "Later Tool",
         23531.1
        ],
        [
         "Within Device",
         23523.679999999997
        ],
        [
         "Leave Gadget",
         23523.18
        ],
        [
         "Bit Item",
         23522.289999999997
        ],
        [
         "Away Accessory",
         23514.16
        ],
        [
         "According Device",
         23508.0
        ],
        [
         "Pull Item",
         23504.520000000004
        ],
        [
         "South Gadget",
         23491.83
        ],
        [
         "Second Item",
         23485.03
        ],
        [
         "Nor Gadget",
         23484.810000000005
        ],
        [
         "Risk Accessory",
         23471.469999999998
        ],
        [
         "Chance Accessory",
         23459.1
        ],
        [
         "Look Gadget",
         23446.78
        ],
        [
         "Agreement Gadget",
         23440.04
        ],
        [
         "Lay Tool",
         23437.4
        ],
        [
         "Simple Accessory",
         23434.74
        ],
        [
         "Guy Gadget",
         23434.600000000002
        ],
        [
         "Nature Item",
         23431.850000000002
        ],
        [
         "Identify Tool",
         23427.459999999995
        ],
        [
         "High Item",
         23425.35
        ],
        [
         "Car Device",
         23422.33
        ],
        [
         "Situation Gadget",
         23419.170000000002
        ],
        [
         "Least Tool",
         23416.070000000003
        ],
        [
         "I Gadget",
         23409.32
        ],
        [
         "Seek Gadget",
         23403.34
        ],
        [
         "System Gadget",
         23402.440000000002
        ],
        [
         "Owner Device",
         23396.62
        ],
        [
         "How Tool",
         23395.309999999998
        ],
        [
         "Performance Device",
         23392.270000000004
        ],
        [
         "Thousand Tool",
         23389.900000000005
        ],
        [
         "Mrs Device",
         23385.440000000002
        ],
        [
         "Develop Gadget",
         23376.36
        ],
        [
         "Discover Device",
         23372.75
        ],
        [
         "To Item",
         23361.940000000002
        ],
        [
         "Energy Device",
         23359.699999999997
        ],
        [
         "Day Device",
         23357.800000000003
        ],
        [
         "Around Gadget",
         23353.56
        ],
        [
         "Executive Tool",
         23350.079999999994
        ],
        [
         "Bag Gadget",
         23348.139999999996
        ],
        [
         "Strong Gadget",
         23345.73
        ],
        [
         "Spend Tool",
         23339.410000000003
        ],
        [
         "Wear Tool",
         23335.59
        ],
        [
         "Generation Item",
         23334.72
        ],
        [
         "Open Device",
         23299.699999999997
        ],
        [
         "Issue Accessory",
         23297.849999999995
        ],
        [
         "Professor Item",
         23294.11
        ],
        [
         "Only Tool",
         23282.19
        ],
        [
         "Us Device",
         23278.67
        ],
        [
         "Oil Device",
         23275.77
        ],
        [
         "Security Accessory",
         23270.170000000002
        ],
        [
         "Always Item",
         23251.81
        ],
        [
         "Foreign Item",
         23245.699999999997
        ],
        [
         "Drug Item",
         23230.079999999998
        ],
        [
         "Arm Tool",
         23222.14
        ],
        [
         "Fact Tool",
         23217.610000000004
        ],
        [
         "Deal Device",
         23217.18
        ],
        [
         "Answer Tool",
         23215.230000000003
        ],
        [
         "Throughout Item",
         23214.57
        ],
        [
         "Voice Gadget",
         23200.82
        ],
        [
         "Project Device",
         23197.920000000002
        ],
        [
         "Catch Device",
         23196.52
        ],
        [
         "Student Item",
         23183.02
        ],
        [
         "Read Item",
         23167.139999999996
        ],
        [
         "Responsibility Item",
         23161.87
        ],
        [
         "Very Gadget",
         23156.059999999998
        ],
        [
         "Friend Tool",
         23147.850000000002
        ],
        [
         "Kid Item",
         23145.33
        ],
        [
         "Join Device",
         23142.79
        ],
        [
         "Blue Tool",
         23134.76
        ],
        [
         "Form Tool",
         23133.93
        ],
        [
         "Deep Item",
         23128.440000000002
        ],
        [
         "Exactly Gadget",
         23127.269999999997
        ],
        [
         "Fill Device",
         23124.86
        ],
        [
         "Religious Accessory",
         23117.190000000006
        ],
        [
         "Majority Accessory",
         23114.13
        ],
        [
         "Support Tool",
         23108.09
        ],
        [
         "Determine Item",
         23105.4
        ],
        [
         "Go Tool",
         23105.23
        ],
        [
         "Have Accessory",
         23101.899999999998
        ],
        [
         "Form Accessory",
         23097.3
        ],
        [
         "Material Accessory",
         23093.12
        ],
        [
         "Health Gadget",
         23092.760000000002
        ],
        [
         "Information Item",
         23074.010000000002
        ],
        [
         "Appear Device",
         23073.07
        ],
        [
         "Each Gadget",
         23063.17
        ],
        [
         "Public Item",
         23058.29
        ],
        [
         "Against Tool",
         23053.47
        ],
        [
         "Time Gadget",
         23053.35
        ],
        [
         "Majority Tool",
         23050.949999999997
        ],
        [
         "Feel Accessory",
         23048.79
        ],
        [
         "Long Device",
         23047.990000000005
        ],
        [
         "Window Tool",
         23047.92
        ],
        [
         "Position Item",
         23042.44
        ],
        [
         "Shake Accessory",
         23041.68
        ],
        [
         "Thought Accessory",
         23033.530000000002
        ],
        [
         "Ability Item",
         23023.06
        ],
        [
         "Interview Device",
         23021.199999999997
        ],
        [
         "Per Item",
         23006.909999999996
        ],
        [
         "Possible Item",
         22995.44
        ],
        [
         "Nothing Accessory",
         22993.239999999998
        ],
        [
         "Election Item",
         22983.79
        ],
        [
         "Method Device",
         22972.33
        ],
        [
         "Speak Accessory",
         22971.870000000003
        ],
        [
         "Member Item",
         22970.57
        ],
        [
         "Whatever Gadget",
         22969.27
        ],
        [
         "None Accessory",
         22961.85
        ],
        [
         "Gas Device",
         22959.21
        ],
        [
         "Become Gadget",
         22958.77
        ],
        [
         "Life Accessory",
         22951.02
        ],
        [
         "Carry Tool",
         22949.119999999995
        ],
        [
         "Build Item",
         22936.74
        ],
        [
         "Serious Item",
         22929.059999999998
        ],
        [
         "Attention Accessory",
         22929.04
        ],
        [
         "Training Tool",
         22928.66
        ],
        [
         "Many Gadget",
         22917.11
        ],
        [
         "Pattern Accessory",
         22909.24
        ],
        [
         "Clear Item",
         22889.260000000002
        ],
        [
         "Attack Tool",
         22888.120000000003
        ],
        [
         "Issue Tool",
         22874.99
        ],
        [
         "Field Device",
         22868.36
        ],
        [
         "Station Item",
         22866.44
        ],
        [
         "Land Accessory",
         22862.99
        ],
        [
         "Bit Tool",
         22858.9
        ],
        [
         "Imagine Accessory",
         22856.51
        ],
        [
         "College Gadget",
         22853.54
        ],
        [
         "Evidence Accessory",
         22852.39
        ],
        [
         "Might Device",
         22851.55
        ],
        [
         "Song Accessory",
         22843.84
        ],
        [
         "Under Item",
         22842.21
        ],
        [
         "Forget Item",
         22838.19
        ],
        [
         "Same Accessory",
         22835.27
        ],
        [
         "Type Tool",
         22834.53
        ],
        [
         "Recently Gadget",
         22832.84
        ],
        [
         "Out Accessory",
         22822.959999999995
        ],
        [
         "Family Accessory",
         22819.839999999997
        ],
        [
         "Available Tool",
         22817.45
        ],
        [
         "Well Gadget",
         22813.64
        ],
        [
         "Student Accessory",
         22810.939999999995
        ],
        [
         "Month Tool",
         22810.699999999997
        ],
        [
         "Some Accessory",
         22792.859999999997
        ],
        [
         "Top Accessory",
         22777.419999999995
        ],
        [
         "Ground Gadget",
         22776.06
        ],
        [
         "Size Item",
         22775.57
        ],
        [
         "Large Device",
         22773.290000000005
        ],
        [
         "Yourself Item",
         22763.629999999997
        ],
        [
         "Time Item",
         22762.32
        ],
        [
         "Sure Accessory",
         22727.04
        ],
        [
         "Allow Tool",
         22725.88
        ],
        [
         "Option Item",
         22725.48
        ],
        [
         "Beat Item",
         22721.739999999998
        ],
        [
         "Believe Item",
         22721.469999999998
        ],
        [
         "Pull Gadget",
         22715.139999999996
        ],
        [
         "Would Tool",
         22714.879999999997
        ],
        [
         "Much Device",
         22714.140000000003
        ],
        [
         "Likely Accessory",
         22703.450000000004
        ],
        [
         "Help Accessory",
         22702.68
        ],
        [
         "Same Gadget",
         22701.38
        ],
        [
         "However Tool",
         22700.280000000006
        ],
        [
         "Present Device",
         22693.99
        ],
        [
         "Another Gadget",
         22691.75
        ],
        [
         "Including Gadget",
         22689.58
        ],
        [
         "All Device",
         22679.42
        ],
        [
         "Drug Device",
         22678.809999999998
        ],
        [
         "Research Item",
         22675.040000000005
        ],
        [
         "Public Device",
         22669.9
        ],
        [
         "Recently Item",
         22667.620000000003
        ],
        [
         "Pressure Tool",
         22665.36
        ],
        [
         "Such Tool",
         22663.920000000002
        ],
        [
         "Sister Device",
         22662.95
        ],
        [
         "Just Item",
         22655.660000000003
        ],
        [
         "Life Item",
         22653.929999999997
        ],
        [
         "Put Tool",
         22653.35
        ],
        [
         "Save Item",
         22651.97
        ],
        [
         "Girl Tool",
         22650.37
        ],
        [
         "Direction Device",
         22648.78
        ],
        [
         "Stuff Device",
         22648.770000000004
        ],
        [
         "General Gadget",
         22636.980000000003
        ],
        [
         "Whatever Device",
         22626.27
        ],
        [
         "Pick Device",
         22620.36
        ],
        [
         "Base Accessory",
         22616.470000000005
        ],
        [
         "Material Gadget",
         22603.92
        ],
        [
         "Catch Accessory",
         22601.710000000003
        ],
        [
         "Coach Gadget",
         22598.38
        ],
        [
         "Police Tool",
         22591.349999999995
        ],
        [
         "Consumer Accessory",
         22590.19
        ],
        [
         "Under Accessory",
         22584.829999999998
        ],
        [
         "Computer Device",
         22577.47
        ],
        [
         "Economic Gadget",
         22574.089999999997
        ],
        [
         "Miss Item",
         22564.449999999997
        ],
        [
         "Give Device",
         22563.96
        ],
        [
         "Green Tool",
         22557.949999999997
        ],
        [
         "Company Device",
         22538.83
        ],
        [
         "Control Item",
         22531.23
        ],
        [
         "West Accessory",
         22514.59
        ],
        [
         "Exist Tool",
         22510.45
        ],
        [
         "Year Tool",
         22501.700000000004
        ],
        [
         "Affect Item",
         22501.5
        ],
        [
         "Professor Device",
         22500.5
        ],
        [
         "Air Device",
         22499.769999999997
        ],
        [
         "Discuss Item",
         22493.219999999998
        ],
        [
         "Conference Device",
         22491.98
        ],
        [
         "Heavy Item",
         22485.4
        ],
        [
         "Hotel Tool",
         22460.75
        ],
        [
         "Other Gadget",
         22459.409999999996
        ],
        [
         "Run Tool",
         22453.84
        ],
        [
         "Factor Accessory",
         22453.37
        ],
        [
         "End Item",
         22452.86
        ],
        [
         "Open Gadget",
         22443.900000000005
        ],
        [
         "Our Item",
         22426.43
        ],
        [
         "Policy Tool",
         22420.96
        ],
        [
         "Serious Gadget",
         22419.429999999997
        ],
        [
         "Health Device",
         22415.150000000005
        ],
        [
         "Firm Tool",
         22405.46
        ],
        [
         "Question Item",
         22404.670000000002
        ],
        [
         "Real Accessory",
         22403.239999999994
        ],
        [
         "Despite Device",
         22400.51
        ],
        [
         "Understand Device",
         22398.329999999998
        ],
        [
         "Eat Item",
         22395.89
        ],
        [
         "Discuss Tool",
         22395.480000000003
        ],
        [
         "Human Gadget",
         22390.32
        ],
        [
         "Model Gadget",
         22386.19
        ],
        [
         "Easy Item",
         22382.559999999998
        ],
        [
         "Indicate Device",
         22381.3
        ],
        [
         "Marriage Item",
         22380.940000000002
        ],
        [
         "Doctor Item",
         22378.05
        ],
        [
         "As Device",
         22368.19
        ],
        [
         "Across Item",
         22358.07
        ],
        [
         "Lot Gadget",
         22352.510000000002
        ],
        [
         "Himself Gadget",
         22322.4
        ],
        [
         "Body Item",
         22314.74
        ],
        [
         "White Accessory",
         22290.0
        ],
        [
         "North Device",
         22272.13
        ],
        [
         "Order Accessory",
         22266.04
        ],
        [
         "Might Tool",
         22265.79
        ],
        [
         "Course Gadget",
         22259.020000000004
        ],
        [
         "Who Tool",
         22255.52
        ],
        [
         "Customer Tool",
         22255.29
        ],
        [
         "Along Gadget",
         22254.17
        ],
        [
         "Mother Accessory",
         22251.01
        ],
        [
         "Beat Tool",
         22246.510000000002
        ],
        [
         "Hair Device",
         22244.74
        ],
        [
         "Opportunity Accessory",
         22239.119999999995
        ],
        [
         "Follow Tool",
         22236.180000000004
        ],
        [
         "Key Accessory",
         22234.21
        ],
        [
         "Hospital Gadget",
         22215.870000000003
        ],
        [
         "Drive Tool",
         22198.689999999995
        ],
        [
         "Machine Item",
         22191.610000000004
        ],
        [
         "Season Item",
         22176.93
        ],
        [
         "Indeed Item",
         22171.08
        ],
        [
         "Recognize Tool",
         22170.160000000003
        ],
        [
         "History Gadget",
         22158.02
        ],
        [
         "Right Gadget",
         22157.29
        ],
        [
         "According Gadget",
         22153.15
        ],
        [
         "Page Device",
         22152.64
        ],
        [
         "Stage Tool",
         22149.499999999996
        ],
        [
         "Reality Gadget",
         22136.880000000005
        ],
        [
         "Peace Gadget",
         22120.49
        ],
        [
         "With Accessory",
         22113.57
        ],
        [
         "First Device",
         22110.670000000002
        ],
        [
         "Give Tool",
         22092.570000000003
        ],
        [
         "Bad Item",
         22091.970000000005
        ],
        [
         "There Device",
         22090.85
        ],
        [
         "Bit Device",
         22081.2
        ],
        [
         "Executive Device",
         22079.4
        ],
        [
         "Want Tool",
         22078.57
        ],
        [
         "Cause Device",
         22070.07
        ],
        [
         "Foreign Device",
         22067.44
        ],
        [
         "Before Tool",
         22061.33
        ],
        [
         "Fish Device",
         22052.85
        ],
        [
         "Player Gadget",
         22051.989999999994
        ],
        [
         "Outside Item",
         22051.49
        ],
        [
         "Time Accessory",
         22051.29
        ],
        [
         "Design Accessory",
         22037.62
        ],
        [
         "This Gadget",
         22034.07
        ],
        [
         "Political Gadget",
         22032.32
        ],
        [
         "General Item",
         22026.9
        ],
        [
         "Work Device",
         22006.54
        ],
        [
         "On Accessory",
         22004.5
        ],
        [
         "Catch Item",
         22000.97
        ],
        [
         "Century Tool",
         21993.359999999997
        ],
        [
         "Pm Item",
         21991.739999999998
        ],
        [
         "Career Item",
         21989.300000000003
        ],
        [
         "Become Item",
         21983.81
        ],
        [
         "Home Accessory",
         21979.46
        ],
        [
         "Policy Item",
         21976.58
        ],
        [
         "Carry Item",
         21973.139999999996
        ],
        [
         "Item Tool",
         21970.5
        ],
        [
         "Win Tool",
         21958.300000000003
        ],
        [
         "Fund Accessory",
         21951.859999999997
        ],
        [
         "Contain Device",
         21938.53
        ],
        [
         "Image Item",
         21931.46
        ],
        [
         "Thousand Gadget",
         21912.620000000003
        ],
        [
         "Buy Accessory",
         21912.489999999998
        ],
        [
         "South Device",
         21908.71
        ],
        [
         "Story Gadget",
         21908.37
        ],
        [
         "Between Tool",
         21903.6
        ],
        [
         "Also Accessory",
         21900.84
        ],
        [
         "Office Device",
         21897.1
        ],
        [
         "Tax Gadget",
         21880.04
        ],
        [
         "Threat Device",
         21879.289999999997
        ],
        [
         "Heavy Device",
         21866.840000000004
        ],
        [
         "Appear Gadget",
         21865.8
        ],
        [
         "Should Device",
         21849.55
        ],
        [
         "Law Tool",
         21848.370000000003
        ],
        [
         "Recognize Accessory",
         21847.69
        ],
        [
         "International Tool",
         21844.199999999997
        ],
        [
         "By Accessory",
         21843.239999999998
        ],
        [
         "Father Item",
         21837.729999999996
        ],
        [
         "Minute Accessory",
         21834.14
        ],
        [
         "Example Item",
         21831.72
        ],
        [
         "Born Device",
         21817.77
        ],
        [
         "He Device",
         21812.019999999997
        ],
        [
         "Data Accessory",
         21811.71
        ],
        [
         "Glass Gadget",
         21808.13
        ],
        [
         "Degree Tool",
         21807.27
        ],
        [
         "Probably Tool",
         21806.489999999998
        ],
        [
         "Community Device",
         21804.89
        ],
        [
         "Cold Gadget",
         21804.069999999996
        ],
        [
         "Far Accessory",
         21800.09
        ],
        [
         "Hot Accessory",
         21797.899999999998
        ],
        [
         "Them Tool",
         21789.09
        ],
        [
         "Student Device",
         21786.039999999997
        ],
        [
         "Sing Device",
         21784.84
        ],
        [
         "Name Accessory",
         21782.1
        ],
        [
         "Generation Device",
         21775.429999999997
        ],
        [
         "Star Item",
         21745.679999999993
        ],
        [
         "Institution Accessory",
         21743.579999999998
        ],
        [
         "Mission Gadget",
         21721.15
        ],
        [
         "Image Gadget",
         21717.04
        ],
        [
         "Bill Accessory",
         21715.230000000003
        ],
        [
         "Not Gadget",
         21706.77
        ],
        [
         "Tree Accessory",
         21700.910000000003
        ],
        [
         "Instead Tool",
         21698.989999999998
        ],
        [
         "Must Tool",
         21678.29
        ],
        [
         "Turn Device",
         21673.989999999998
        ],
        [
         "Reflect Item",
         21667.2
        ],
        [
         "Black Item",
         21661.249999999996
        ],
        [
         "Personal Gadget",
         21656.48
        ],
        [
         "Participant Tool",
         21653.97
        ],
        [
         "Should Tool",
         21645.33
        ],
        [
         "Keep Accessory",
         21644.600000000002
        ],
        [
         "Usually Item",
         21643.36
        ],
        [
         "Either Item",
         21638.44
        ],
        [
         "How Device",
         21634.479999999996
        ],
        [
         "Always Device",
         21612.73
        ],
        [
         "Step Device",
         21611.550000000003
        ],
        [
         "Buy Tool",
         21606.55
        ],
        [
         "Network Item",
         21604.620000000003
        ],
        [
         "Employee Device",
         21593.94
        ],
        [
         "Matter Accessory",
         21593.11
        ],
        [
         "Reduce Tool",
         21589.71
        ],
        [
         "Establish Item",
         21584.190000000002
        ],
        [
         "Concern Accessory",
         21574.25
        ],
        [
         "Always Tool",
         21574.070000000003
        ],
        [
         "Buy Device",
         21567.709999999995
        ],
        [
         "Away Device",
         21566.6
        ],
        [
         "Memory Accessory",
         21564.339999999997
        ],
        [
         "Military Accessory",
         21563.36
        ],
        [
         "Data Item",
         21552.929999999997
        ],
        [
         "Office Gadget",
         21549.06
        ],
        [
         "Teach Device",
         21545.24
        ],
        [
         "Our Device",
         21543.190000000002
        ],
        [
         "Those Item",
         21538.93
        ],
        [
         "Prepare Tool",
         21535.670000000002
        ],
        [
         "Owner Tool",
         21532.829999999998
        ],
        [
         "Thing Accessory",
         21528.309999999998
        ],
        [
         "Rock Item",
         21525.899999999998
        ],
        [
         "Enter Tool",
         21521.160000000003
        ],
        [
         "New Item",
         21510.33
        ],
        [
         "No Item",
         21508.04
        ],
        [
         "Choose Device",
         21505.519999999997
        ],
        [
         "Right Accessory",
         21503.39
        ],
        [
         "Wind Accessory",
         21489.589999999997
        ],
        [
         "Face Item",
         21487.709999999995
        ],
        [
         "Do Item",
         21485.370000000003
        ],
        [
         "Push Tool",
         21478.03
        ],
        [
         "Bit Gadget",
         21475.940000000002
        ],
        [
         "Space Accessory",
         21472.340000000004
        ],
        [
         "Food Device",
         21471.190000000002
        ],
        [
         "Will Item",
         21460.31
        ],
        [
         "Eight Accessory",
         21456.43
        ],
        [
         "Yeah Item",
         21456.15
        ],
        [
         "Either Tool",
         21451.19
        ],
        [
         "Purpose Accessory",
         21450.270000000004
        ],
        [
         "Enough Item",
         21445.08
        ],
        [
         "Former Accessory",
         21443.01
        ],
        [
         "At Item",
         21439.54
        ],
        [
         "Success Item",
         21434.27
        ],
        [
         "Tonight Tool",
         21433.64
        ],
        [
         "Painting Item",
         21426.989999999998
        ],
        [
         "Everything Gadget",
         21417.289999999997
        ],
        [
         "Actually Item",
         21408.23
        ],
        [
         "Decade Gadget",
         21403.85
        ],
        [
         "Experience Accessory",
         21402.029999999995
        ],
        [
         "Black Device",
         21394.860000000004
        ],
        [
         "Get Tool",
         21393.519999999997
        ],
        [
         "General Device",
         21377.030000000002
        ],
        [
         "Any Tool",
         21374.36
        ],
        [
         "Mean Tool",
         21372.66
        ],
        [
         "Thing Device",
         21367.760000000002
        ],
        [
         "Surface Accessory",
         21365.28
        ],
        [
         "Great Item",
         21360.5
        ],
        [
         "Particularly Item",
         21359.06
        ],
        [
         "Accept Tool",
         21348.26
        ],
        [
         "Road Item",
         21347.0
        ],
        [
         "Power Tool",
         21337.92
        ],
        [
         "Computer Gadget",
         21325.910000000003
        ],
        [
         "Stock Item",
         21319.59
        ],
        [
         "National Tool",
         21316.08
        ],
        [
         "Happen Device",
         21315.210000000003
        ],
        [
         "Week Tool",
         21301.310000000005
        ],
        [
         "Develop Device",
         21286.890000000007
        ],
        [
         "Ten Device",
         21265.649999999998
        ],
        [
         "Vote Gadget",
         21263.960000000003
        ],
        [
         "Future Device",
         21249.08
        ],
        [
         "Rock Accessory",
         21248.7
        ],
        [
         "Memory Tool",
         21246.98
        ],
        [
         "Father Device",
         21237.269999999997
        ],
        [
         "Tree Gadget",
         21233.0
        ],
        [
         "Already Device",
         21230.56
        ],
        [
         "House Tool",
         21217.879999999997
        ],
        [
         "Work Tool",
         21217.519999999997
        ],
        [
         "Blue Accessory",
         21217.1
        ],
        [
         "Its Item",
         21214.65
        ],
        [
         "Place Gadget",
         21205.089999999997
        ],
        [
         "Play Tool",
         21197.72
        ],
        [
         "Learn Gadget",
         21185.630000000005
        ],
        [
         "Listen Tool",
         21163.73
        ],
        [
         "List Item",
         21163.31
        ],
        [
         "Physical Item",
         21160.48
        ],
        [
         "Must Gadget",
         21158.34
        ],
        [
         "School Accessory",
         21145.41
        ],
        [
         "Suggest Gadget",
         21142.280000000002
        ],
        [
         "Mention Item",
         21134.12
        ],
        [
         "Save Gadget",
         21133.489999999998
        ],
        [
         "Ago Item",
         21132.23
        ],
        [
         "Main Item",
         21125.510000000002
        ],
        [
         "Expert Device",
         21113.25
        ],
        [
         "Will Gadget",
         21099.67
        ],
        [
         "City Device",
         21086.020000000004
        ],
        [
         "Community Tool",
         21085.82
        ],
        [
         "Will Accessory",
         21079.6
        ],
        [
         "Main Device",
         21076.309999999998
        ],
        [
         "Test Tool",
         21070.53
        ],
        [
         "Cause Accessory",
         21058.48
        ],
        [
         "Fear Tool",
         21056.569999999996
        ],
        [
         "Deal Accessory",
         21051.519999999997
        ],
        [
         "Child Device",
         21046.89
        ],
        [
         "Agency Tool",
         21038.970000000005
        ],
        [
         "Group Accessory",
         21037.489999999994
        ],
        [
         "Magazine Tool",
         21030.42
        ],
        [
         "Certainly Item",
         21026.269999999997
        ],
        [
         "Sing Gadget",
         21024.81
        ],
        [
         "Government Gadget",
         21022.22
        ],
        [
         "Final Accessory",
         21018.66
        ],
        [
         "Moment Tool",
         21004.489999999998
        ],
        [
         "Condition Accessory",
         21003.73
        ],
        [
         "Heart Device",
         20996.289999999997
        ],
        [
         "Store Device",
         20982.66
        ],
        [
         "Close Device",
         20982.36
        ],
        [
         "Sport Accessory",
         20971.950000000004
        ],
        [
         "Follow Device",
         20970.480000000003
        ],
        [
         "Assume Accessory",
         20967.97
        ],
        [
         "Huge Device",
         20961.88
        ],
        [
         "Box Tool",
         20960.430000000004
        ],
        [
         "Stay Tool",
         20955.63
        ],
        [
         "Dinner Gadget",
         20950.1
        ],
        [
         "Strategy Gadget",
         20944.1
        ],
        [
         "Treatment Item",
         20931.86
        ],
        [
         "If Gadget",
         20929.57
        ],
        [
         "Itself Gadget",
         20927.67
        ],
        [
         "Opportunity Gadget",
         20915.16
        ],
        [
         "Certain Device",
         20913.5
        ],
        [
         "Dream Accessory",
         20903.12
        ],
        [
         "Growth Device",
         20901.360000000004
        ],
        [
         "Effort Tool",
         20895.72
        ],
        [
         "Soon Accessory",
         20882.63
        ],
        [
         "Same Item",
         20874.28
        ],
        [
         "Bring Device",
         20865.559999999998
        ],
        [
         "Important Device",
         20862.6
        ],
        [
         "Must Accessory",
         20851.060000000005
        ],
        [
         "Can Accessory",
         20850.01
        ],
        [
         "Prevent Tool",
         20845.660000000003
        ],
        [
         "Sort Gadget",
         20844.680000000004
        ],
        [
         "Population Device",
         20843.43
        ],
        [
         "Now Gadget",
         20836.11
        ],
        [
         "Mouth Tool",
         20832.81
        ],
        [
         "Improve Item",
         20831.66
        ],
        [
         "Act Tool",
         20830.14
        ],
        [
         "Scene Accessory",
         20824.94
        ],
        [
         "Onto Tool",
         20813.079999999998
        ],
        [
         "Plan Gadget",
         20808.52
        ],
        [
         "Establish Device",
         20801.38
        ],
        [
         "Something Device",
         20799.61
        ],
        [
         "Make Gadget",
         20791.98
        ],
        [
         "Morning Device",
         20787.589999999997
        ],
        [
         "Particular Accessory",
         20770.58
        ],
        [
         "Sea Item",
         20764.789999999997
        ],
        [
         "Foreign Gadget",
         20764.04
        ],
        [
         "Very Tool",
         20761.850000000002
        ],
        [
         "Letter Item",
         20760.57
        ],
        [
         "Why Tool",
         20748.039999999997
        ],
        [
         "Production Gadget",
         20742.99
        ],
        [
         "Agent Device",
         20740.940000000002
        ],
        [
         "Light Accessory",
         20740.2
        ],
        [
         "About Tool",
         20736.200000000004
        ],
        [
         "Chair Gadget",
         20730.850000000002
        ],
        [
         "The Tool",
         20716.350000000002
        ],
        [
         "Ask Tool",
         20709.729999999996
        ],
        [
         "Purpose Gadget",
         20708.54
        ],
        [
         "Trip Item",
         20699.54
        ],
        [
         "Set Tool",
         20681.83
        ],
        [
         "Various Item",
         20659.149999999998
        ],
        [
         "Seat Tool",
         20656.920000000002
        ],
        [
         "Other Tool",
         20645.46
        ],
        [
         "Have Tool",
         20644.74
        ],
        [
         "Citizen Gadget",
         20644.480000000003
        ],
        [
         "Get Device",
         20630.640000000003
        ],
        [
         "Paper Accessory",
         20626.129999999997
        ],
        [
         "Hear Item",
         20624.73
        ],
        [
         "Design Tool",
         20610.749999999996
        ],
        [
         "Meeting Gadget",
         20607.57
        ],
        [
         "Than Device",
         20599.350000000002
        ],
        [
         "Environmental Gadget",
         20589.16
        ],
        [
         "Account Gadget",
         20572.100000000002
        ],
        [
         "Phone Device",
         20570.880000000005
        ],
        [
         "Fire Item",
         20566.979999999996
        ],
        [
         "Partner Gadget",
         20561.2
        ],
        [
         "Positive Accessory",
         20556.760000000002
        ],
        [
         "American Tool",
         20556.440000000002
        ],
        [
         "Be Gadget",
         20553.869999999995
        ],
        [
         "Subject Item",
         20552.07
        ],
        [
         "Clearly Device",
         20548.1
        ],
        [
         "Different Accessory",
         20546.359999999997
        ],
        [
         "Management Device",
         20539.23
        ],
        [
         "Accept Device",
         20537.11
        ],
        [
         "Serious Tool",
         20529.960000000003
        ],
        [
         "Try Gadget",
         20520.920000000002
        ],
        [
         "When Tool",
         20514.95
        ],
        [
         "Somebody Device",
         20513.280000000002
        ],
        [
         "Magazine Accessory",
         20510.31
        ],
        [
         "Term Tool",
         20501.670000000002
        ],
        [
         "Article Tool",
         20500.299999999996
        ],
        [
         "Walk Device",
         20490.339999999997
        ],
        [
         "Some Device",
         20486.66
        ],
        [
         "Military Gadget",
         20486.4
        ],
        [
         "Easy Device",
         20483.82
        ],
        [
         "Hand Item",
         20482.739999999998
        ],
        [
         "Training Item",
         20481.28
        ],
        [
         "Reduce Gadget",
         20480.76
        ],
        [
         "Pull Tool",
         20476.210000000003
        ],
        [
         "Town Accessory",
         20471.85
        ],
        [
         "Yet Tool",
         20471.4
        ],
        [
         "Note Accessory",
         20469.08
        ],
        [
         "Exactly Device",
         20466.35
        ],
        [
         "Visit Device",
         20456.850000000002
        ],
        [
         "Situation Item",
         20454.29
        ],
        [
         "Try Tool",
         20448.53
        ],
        [
         "Same Tool",
         20447.35
        ],
        [
         "Realize Device",
         20446.86
        ],
        [
         "Take Tool",
         20433.760000000002
        ],
        [
         "Expert Accessory",
         20431.670000000002
        ],
        [
         "Sense Accessory",
         20404.98
        ],
        [
         "Yes Item",
         20401.88
        ],
        [
         "Product Tool",
         20398.93
        ],
        [
         "Rise Item",
         20397.12
        ],
        [
         "Body Accessory",
         20388.53
        ],
        [
         "East Gadget",
         20385.91
        ],
        [
         "They Accessory",
         20356.79
        ],
        [
         "Career Tool",
         20354.629999999997
        ],
        [
         "Arrive Tool",
         20354.520000000004
        ],
        [
         "Grow Item",
         20353.030000000002
        ],
        [
         "First Gadget",
         20349.679999999997
        ],
        [
         "Budget Item",
         20348.79
        ],
        [
         "Report Item",
         20344.34
        ],
        [
         "Next Accessory",
         20343.21
        ],
        [
         "Clearly Tool",
         20339.66
        ],
        [
         "Letter Accessory",
         20339.4
        ],
        [
         "Movement Accessory",
         20331.969999999998
        ],
        [
         "Professor Gadget",
         20325.239999999998
        ],
        [
         "Off Tool",
         20324.26
        ],
        [
         "Rest Tool",
         20307.920000000002
        ],
        [
         "Too Tool",
         20307.75
        ],
        [
         "My Accessory",
         20305.329999999994
        ],
        [
         "Song Gadget",
         20296.13
        ],
        [
         "Voice Tool",
         20294.679999999997
        ],
        [
         "Until Gadget",
         20293.19
        ],
        [
         "Military Device",
         20290.190000000002
        ],
        [
         "Stay Gadget",
         20287.15
        ],
        [
         "Everything Accessory",
         20279.839999999997
        ],
        [
         "Book Accessory",
         20269.35
        ],
        [
         "Stand Accessory",
         20266.460000000003
        ],
        [
         "Agree Accessory",
         20260.47
        ],
        [
         "Item Accessory",
         20228.55
        ],
        [
         "Enter Item",
         20228.19
        ],
        [
         "Since Accessory",
         20226.210000000003
        ],
        [
         "Well Accessory",
         20225.69
        ],
        [
         "For Item",
         20222.69
        ],
        [
         "Little Item",
         20216.57
        ],
        [
         "Sign Gadget",
         20215.269999999997
        ],
        [
         "Sound Tool",
         20208.36
        ],
        [
         "Around Item",
         20201.519999999997
        ],
        [
         "Message Device",
         20193.899999999998
        ],
        [
         "Whether Gadget",
         20187.38
        ],
        [
         "Rich Accessory",
         20169.050000000003
        ],
        [
         "Magazine Item",
         20167.329999999994
        ],
        [
         "Medical Accessory",
         20159.79
        ],
        [
         "Modern Accessory",
         20157.32
        ],
        [
         "Thank Gadget",
         20143.18
        ],
        [
         "Against Device",
         20139.31
        ],
        [
         "Various Gadget",
         20127.96
        ],
        [
         "Arrive Item",
         20127.79
        ],
        [
         "Few Accessory",
         20122.25
        ],
        [
         "My Item",
         20119.72
        ],
        [
         "Way Gadget",
         20117.62
        ],
        [
         "Million Gadget",
         20087.769999999997
        ],
        [
         "Part Device",
         20080.12
        ],
        [
         "Wait Gadget",
         20078.46
        ],
        [
         "Alone Device",
         20074.82
        ],
        [
         "Late Item",
         20069.59
        ],
        [
         "Could Item",
         20069.43
        ],
        [
         "Oil Accessory",
         20062.130000000005
        ],
        [
         "Produce Tool",
         20059.839999999997
        ],
        [
         "Bring Tool",
         20046.860000000004
        ],
        [
         "Laugh Gadget",
         20042.63
        ],
        [
         "Enough Accessory",
         20037.35
        ],
        [
         "Top Item",
         20037.11
        ],
        [
         "Bill Device",
         20030.940000000002
        ],
        [
         "Record Device",
         20026.76
        ],
        [
         "Front Tool",
         20018.54
        ],
        [
         "Right Tool",
         20011.54
        ],
        [
         "One Accessory",
         19999.519999999997
        ],
        [
         "Like Device",
         19995.379999999997
        ],
        [
         "Hot Gadget",
         19992.29
        ],
        [
         "Of Device",
         19980.030000000006
        ],
        [
         "Leave Device",
         19970.920000000006
        ],
        [
         "Box Accessory",
         19970.699999999997
        ],
        [
         "Personal Accessory",
         19945.730000000003
        ],
        [
         "Go Device",
         19931.809999999998
        ],
        [
         "Just Tool",
         19926.659999999996
        ],
        [
         "Role Accessory",
         19914.49
        ],
        [
         "Seem Device",
         19908.260000000002
        ],
        [
         "Receive Device",
         19903.410000000003
        ],
        [
         "Appear Accessory",
         19899.05
        ],
        [
         "Little Accessory",
         19896.82
        ],
        [
         "Claim Tool",
         19895.370000000003
        ],
        [
         "Design Gadget",
         19893.58
        ],
        [
         "Decision Tool",
         19892.120000000003
        ],
        [
         "Knowledge Accessory",
         19880.77
        ],
        [
         "Huge Accessory",
         19879.36
        ],
        [
         "Family Device",
         19869.920000000002
        ],
        [
         "Mr Tool",
         19865.570000000003
        ],
        [
         "Lot Device",
         19864.61
        ],
        [
         "Into Item",
         19863.079999999998
        ],
        [
         "Poor Tool",
         19857.890000000003
        ],
        [
         "Best Gadget",
         19856.52
        ],
        [
         "Enter Accessory",
         19854.49
        ],
        [
         "Claim Accessory",
         19854.090000000004
        ],
        [
         "Difficult Tool",
         19842.260000000002
        ],
        [
         "Sing Accessory",
         19833.32
        ],
        [
         "Discuss Accessory",
         19828.990000000005
        ],
        [
         "Provide Tool",
         19828.820000000003
        ],
        [
         "Nature Tool",
         19827.58
        ],
        [
         "Cost Gadget",
         19826.53
        ],
        [
         "Skin Device",
         19822.550000000003
        ],
        [
         "Might Item",
         19820.68
        ],
        [
         "Discover Gadget",
         19816.41
        ],
        [
         "Enjoy Accessory",
         19813.74
        ],
        [
         "Difficult Item",
         19799.72
        ],
        [
         "If Accessory",
         19786.910000000003
        ],
        [
         "Evening Accessory",
         19784.239999999998
        ],
        [
         "International Item",
         19779.670000000002
        ],
        [
         "Partner Tool",
         19772.57
        ],
        [
         "Price Accessory",
         19770.38
        ],
        [
         "Culture Tool",
         19769.280000000002
        ],
        [
         "Would Gadget",
         19762.84
        ],
        [
         "Current Accessory",
         19761.670000000002
        ],
        [
         "Myself Item",
         19754.850000000002
        ],
        [
         "Hard Item",
         19753.8
        ],
        [
         "Ask Item",
         19752.9
        ],
        [
         "Which Item",
         19752.7
        ],
        [
         "Man Accessory",
         19751.35
        ],
        [
         "Statement Gadget",
         19741.05
        ],
        [
         "Like Tool",
         19734.69
        ],
        [
         "Factor Item",
         19727.110000000004
        ],
        [
         "If Tool",
         19724.389999999996
        ],
        [
         "Woman Tool",
         19713.280000000002
        ],
        [
         "Treat Gadget",
         19712.45
        ],
        [
         "Guy Accessory",
         19710.4
        ],
        [
         "Approach Item",
         19708.640000000003
        ],
        [
         "Of Tool",
         19706.670000000002
        ],
        [
         "Store Accessory",
         19705.86
        ],
        [
         "During Device",
         19700.37
        ],
        [
         "Let Item",
         19699.449999999997
        ],
        [
         "Player Device",
         19693.94
        ],
        [
         "Collection Item",
         19685.39
        ],
        [
         "Onto Device",
         19681.67
        ],
        [
         "Speech Device",
         19677.83
        ],
        [
         "Family Tool",
         19675.799999999996
        ],
        [
         "Force Item",
         19672.120000000003
        ],
        [
         "Drop Gadget",
         19667.449999999997
        ],
        [
         "Store Item",
         19660.0
        ],
        [
         "Over Device",
         19653.76
        ],
        [
         "Statement Device",
         19651.62
        ],
        [
         "Bring Item",
         19644.760000000002
        ],
        [
         "Room Item",
         19637.98
        ],
        [
         "Detail Device",
         19631.160000000003
        ],
        [
         "Including Tool",
         19626.620000000003
        ],
        [
         "People Accessory",
         19619.359999999997
        ],
        [
         "Recently Tool",
         19618.81
        ],
        [
         "Argue Gadget",
         19616.89
        ],
        [
         "Dark Device",
         19611.500000000004
        ],
        [
         "Leg Item",
         19608.159999999996
        ],
        [
         "Mother Device",
         19595.910000000003
        ],
        [
         "Official Item",
         19587.850000000002
        ],
        [
         "Parent Item",
         19585.629999999997
        ],
        [
         "Although Tool",
         19577.170000000002
        ],
        [
         "Feeling Tool",
         19576.87
        ],
        [
         "Garden Accessory",
         19572.9
        ],
        [
         "Involve Tool",
         19555.07
        ],
        [
         "Various Accessory",
         19550.98
        ],
        [
         "Senior Device",
         19548.36
        ],
        [
         "Activity Accessory",
         19542.92
        ],
        [
         "Wonder Accessory",
         19541.649999999998
        ],
        [
         "Vote Item",
         19540.67
        ],
        [
         "Brother Item",
         19533.48
        ],
        [
         "Audience Gadget",
         19532.69
        ],
        [
         "Management Gadget",
         19529.410000000003
        ],
        [
         "Development Accessory",
         19529.18
        ],
        [
         "Majority Device",
         19516.76
        ],
        [
         "Doctor Tool",
         19507.93
        ],
        [
         "Increase Tool",
         19489.64
        ],
        [
         "Return Gadget",
         19488.019999999997
        ],
        [
         "He Tool",
         19486.800000000003
        ],
        [
         "Grow Gadget",
         19485.15
        ],
        [
         "Outside Accessory",
         19480.67
        ],
        [
         "Which Accessory",
         19480.55
        ],
        [
         "Treat Tool",
         19478.83
        ],
        [
         "Reveal Item",
         19458.32
        ],
        [
         "White Tool",
         19458.120000000003
        ],
        [
         "Article Gadget",
         19454.77
        ],
        [
         "Cup Gadget",
         19446.190000000002
        ],
        [
         "Side Device",
         19442.129999999997
        ],
        [
         "Tough Accessory",
         19436.43
        ],
        [
         "Despite Gadget",
         19413.52
        ],
        [
         "Specific Gadget",
         19405.879999999997
        ],
        [
         "Decision Accessory",
         19399.359999999997
        ],
        [
         "Either Gadget",
         19398.069999999996
        ],
        [
         "Sell Accessory",
         19396.839999999997
        ],
        [
         "Get Accessory",
         19396.07
        ],
        [
         "National Device",
         19384.119999999995
        ],
        [
         "Price Item",
         19375.04
        ],
        [
         "Look Accessory",
         19371.23
        ],
        [
         "Every Accessory",
         19362.600000000002
        ],
        [
         "Capital Device",
         19359.0
        ],
        [
         "Ok Gadget",
         19358.47
        ],
        [
         "Body Tool",
         19351.24
        ],
        [
         "Choice Item",
         19349.84
        ],
        [
         "Front Gadget",
         19348.219999999998
        ],
        [
         "News Gadget",
         19338.98
        ],
        [
         "Concern Device",
         19337.69
        ],
        [
         "Head Item",
         19337.04
        ],
        [
         "People Tool",
         19332.76
        ],
        [
         "Almost Gadget",
         19329.39
        ],
        [
         "Pick Accessory",
         19325.42
        ],
        [
         "Against Item",
         19316.940000000002
        ],
        [
         "Suffer Item",
         19314.55
        ],
        [
         "Dog Tool",
         19314.199999999997
        ],
        [
         "Dark Accessory",
         19308.340000000004
        ],
        [
         "Reason Device",
         19306.03
        ],
        [
         "Statement Tool",
         19300.320000000003
        ],
        [
         "Budget Accessory",
         19297.1
        ],
        [
         "Green Item",
         19273.809999999998
        ],
        [
         "Since Item",
         19273.780000000002
        ],
        [
         "Machine Gadget",
         19264.239999999998
        ],
        [
         "Off Gadget",
         19253.21
        ],
        [
         "From Item",
         19252.07
        ],
        [
         "Treat Item",
         19239.19
        ],
        [
         "First Accessory",
         19226.230000000003
        ],
        [
         "Tax Item",
         19223.31
        ],
        [
         "Argue Item",
         19209.140000000003
        ],
        [
         "Artist Device",
         19207.940000000002
        ],
        [
         "Establish Gadget",
         19205.78
        ],
        [
         "News Tool",
         19173.389999999996
        ],
        [
         "Present Item",
         19166.48
        ],
        [
         "Must Item",
         19160.609999999997
        ],
        [
         "Adult Device",
         19155.29
        ],
        [
         "Skill Accessory",
         19155.249999999996
        ],
        [
         "Lay Gadget",
         19152.160000000003
        ],
        [
         "Radio Device",
         19150.04
        ],
        [
         "Staff Item",
         19143.32
        ],
        [
         "Produce Gadget",
         19140.25
        ],
        [
         "Including Accessory",
         19133.879999999997
        ],
        [
         "Parent Device",
         19127.85
        ],
        [
         "Power Item",
         19127.13
        ],
        [
         "Defense Gadget",
         19124.23
        ],
        [
         "Information Accessory",
         19108.339999999997
        ],
        [
         "Blue Gadget",
         19108.079999999998
        ],
        [
         "Finally Item",
         19104.69
        ],
        [
         "Bar Gadget",
         19096.030000000002
        ],
        [
         "Pm Tool",
         19089.29
        ],
        [
         "Authority Accessory",
         19088.54
        ],
        [
         "Public Accessory",
         19065.699999999997
        ],
        [
         "Model Item",
         19061.359999999997
        ],
        [
         "Require Item",
         19060.190000000002
        ],
        [
         "Start Device",
         19059.42
        ],
        [
         "Then Gadget",
         19055.809999999998
        ],
        [
         "Prepare Item",
         19052.010000000002
        ],
        [
         "Guy Device",
         19050.18
        ],
        [
         "Wonder Device",
         19045.9
        ],
        [
         "Let Gadget",
         19032.629999999997
        ],
        [
         "Travel Gadget",
         19032.09
        ],
        [
         "Later Gadget",
         19028.200000000004
        ],
        [
         "Three Device",
         19020.519999999997
        ],
        [
         "Every Device",
         19005.510000000002
        ],
        [
         "View Tool",
         19003.33
        ],
        [
         "Any Gadget",
         19000.730000000003
        ],
        [
         "Direction Tool",
         18993.62
        ],
        [
         "Western Device",
         18991.899999999998
        ],
        [
         "Station Accessory",
         18984.910000000003
        ],
        [
         "Sing Item",
         18970.229999999996
        ],
        [
         "More Device",
         18969.5
        ],
        [
         "Watch Item",
         18965.780000000002
        ],
        [
         "Course Item",
         18963.790000000005
        ],
        [
         "Interview Tool",
         18958.78
        ],
        [
         "Inside Tool",
         18958.33
        ],
        [
         "Option Tool",
         18946.25
        ],
        [
         "Enter Gadget",
         18906.87
        ],
        [
         "They Gadget",
         18882.399999999998
        ],
        [
         "Knowledge Device",
         18882.14
        ],
        [
         "Yes Tool",
         18879.230000000003
        ],
        [
         "Food Accessory",
         18877.989999999998
        ],
        [
         "At Accessory",
         18877.289999999997
        ],
        [
         "Democrat Gadget",
         18875.72
        ],
        [
         "While Gadget",
         18865.57
        ],
        [
         "Defense Accessory",
         18853.699999999997
        ],
        [
         "Morning Tool",
         18842.58
        ],
        [
         "Spend Gadget",
         18831.24
        ],
        [
         "Cut Item",
         18827.14
        ],
        [
         "Billion Device",
         18823.21
        ],
        [
         "Check Item",
         18822.71
        ],
        [
         "Daughter Accessory",
         18800.46
        ],
        [
         "Thus Tool",
         18798.309999999998
        ],
        [
         "Appear Item",
         18794.220000000005
        ],
        [
         "Computer Tool",
         18792.670000000002
        ],
        [
         "Expert Item",
         18782.52
        ],
        [
         "Clearly Item",
         18773.949999999997
        ],
        [
         "Federal Accessory",
         18771.83
        ],
        [
         "Protect Tool",
         18769.460000000003
        ],
        [
         "Man Gadget",
         18765.84
        ],
        [
         "Tend Accessory",
         18760.070000000003
        ],
        [
         "Common Device",
         18752.430000000004
        ],
        [
         "Really Tool",
         18748.06
        ],
        [
         "Small Item",
         18740.07
        ],
        [
         "Book Device",
         18731.52
        ],
        [
         "Its Device",
         18720.44
        ],
        [
         "Director Device",
         18720.29
        ],
        [
         "Blood Tool",
         18718.399999999994
        ],
        [
         "Sell Item",
         18713.879999999997
        ],
        [
         "Form Item",
         18696.23
        ],
        [
         "Matter Item",
         18692.050000000003
        ],
        [
         "Imagine Item",
         18688.57
        ],
        [
         "Eat Gadget",
         18687.58
        ],
        [
         "Serious Accessory",
         18679.14
        ],
        [
         "Half Device",
         18674.51
        ],
        [
         "Learn Device",
         18668.660000000003
        ],
        [
         "Be Item",
         18666.35
        ],
        [
         "Near Accessory",
         18654.2
        ],
        [
         "Else Item",
         18645.780000000002
        ],
        [
         "Beyond Device",
         18645.499999999996
        ],
        [
         "Bit Accessory",
         18644.260000000002
        ],
        [
         "Together Tool",
         18641.280000000002
        ],
        [
         "Whom Tool",
         18639.48
        ],
        [
         "East Tool",
         18636.71
        ],
        [
         "Which Gadget",
         18623.850000000002
        ],
        [
         "Interview Item",
         18623.43
        ],
        [
         "Hospital Device",
         18621.120000000003
        ],
        [
         "Yes Device",
         18620.76
        ],
        [
         "There Item",
         18620.08
        ],
        [
         "Easy Accessory",
         18612.62
        ],
        [
         "Drug Accessory",
         18607.32
        ],
        [
         "Door Item",
         18606.49
        ],
        [
         "Because Accessory",
         18598.050000000003
        ],
        [
         "Hour Item",
         18584.440000000002
        ],
        [
         "Manager Accessory",
         18582.409999999996
        ],
        [
         "Stay Accessory",
         18560.94
        ],
        [
         "War Accessory",
         18559.81
        ],
        [
         "General Tool",
         18557.95
        ],
        [
         "Rather Gadget",
         18549.23
        ],
        [
         "Prepare Device",
         18548.02
        ],
        [
         "Water Tool",
         18537.13
        ],
        [
         "Agree Tool",
         18535.489999999998
        ],
        [
         "Paper Gadget",
         18530.1
        ],
        [
         "Dog Accessory",
         18524.240000000005
        ],
        [
         "Professional Accessory",
         18519.45
        ],
        [
         "Individual Gadget",
         18519.4
        ],
        [
         "Where Device",
         18493.25
        ],
        [
         "Consumer Tool",
         18490.17
        ],
        [
         "Response Device",
         18481.31
        ],
        [
         "Score Tool",
         18474.79
        ],
        [
         "Case Tool",
         18451.97
        ],
        [
         "Explain Device",
         18445.26
        ],
        [
         "Any Accessory",
         18444.480000000003
        ],
        [
         "Animal Accessory",
         18434.57
        ],
        [
         "Simple Device",
         18434.2
        ],
        [
         "Media Gadget",
         18430.989999999998
        ],
        [
         "Scene Tool",
         18427.82
        ],
        [
         "Result Item",
         18426.48
        ],
        [
         "Perform Gadget",
         18424.17
        ],
        [
         "Glass Item",
         18414.14
        ],
        [
         "State Item",
         18407.070000000003
        ],
        [
         "Job Gadget",
         18402.52
        ],
        [
         "Truth Device",
         18382.660000000003
        ],
        [
         "Admit Device",
         18362.949999999997
        ],
        [
         "Thank Accessory",
         18361.33
        ],
        [
         "Choice Device",
         18357.940000000002
        ],
        [
         "Live Accessory",
         18347.83
        ],
        [
         "Identify Gadget",
         18342.1
        ],
        [
         "Put Item",
         18341.0
        ],
        [
         "Focus Tool",
         18321.93
        ],
        [
         "Effect Device",
         18305.14
        ],
        [
         "Throw Gadget",
         18286.5
        ],
        [
         "Summer Accessory",
         18285.7
        ],
        [
         "Give Item",
         18285.38
        ],
        [
         "Truth Accessory",
         18279.770000000004
        ],
        [
         "Company Tool",
         18273.21
        ],
        [
         "Particular Gadget",
         18269.55
        ],
        [
         "Notice Device",
         18263.27
        ],
        [
         "Ok Item",
         18260.46
        ],
        [
         "Although Accessory",
         18251.86
        ],
        [
         "Such Gadget",
         18248.510000000002
        ],
        [
         "Station Tool",
         18238.55
        ],
        [
         "Debate Tool",
         18231.66
        ],
        [
         "Start Gadget",
         18225.14
        ],
        [
         "Would Accessory",
         18222.670000000002
        ],
        [
         "Design Device",
         18215.3
        ],
        [
         "Dog Device",
         18214.179999999997
        ],
        [
         "Yeah Gadget",
         18212.749999999996
        ],
        [
         "Dark Tool",
         18208.6
        ],
        [
         "Quickly Tool",
         18207.25
        ],
        [
         "Compare Accessory",
         18201.01
        ],
        [
         "Floor Item",
         18194.97
        ],
        [
         "National Gadget",
         18175.079999999998
        ],
        [
         "Talk Item",
         18166.630000000005
        ],
        [
         "Report Gadget",
         18158.379999999997
        ],
        [
         "Baby Tool",
         18126.92
        ],
        [
         "Help Tool",
         18126.36
        ],
        [
         "Agency Accessory",
         18120.760000000002
        ],
        [
         "Population Tool",
         18119.9
        ],
        [
         "Finally Gadget",
         18107.32
        ],
        [
         "Pass Gadget",
         18105.81
        ],
        [
         "Woman Device",
         18103.129999999997
        ],
        [
         "Guess Gadget",
         18102.72
        ],
        [
         "These Tool",
         18100.02
        ],
        [
         "Arm Gadget",
         18090.120000000003
        ],
        [
         "Say Device",
         18074.78
        ],
        [
         "Charge Gadget",
         18072.519999999997
        ],
        [
         "Student Gadget",
         18067.06
        ],
        [
         "Without Gadget",
         18064.019999999997
        ],
        [
         "Response Item",
         18058.38
        ],
        [
         "Simple Tool",
         18052.269999999997
        ],
        [
         "Law Device",
         18050.690000000002
        ],
        [
         "Central Tool",
         18023.579999999998
        ],
        [
         "Back Item",
         18020.92
        ],
        [
         "Investment Item",
         18019.32
        ],
        [
         "President Gadget",
         18011.72
        ],
        [
         "Either Device",
         18008.25
        ],
        [
         "Garden Tool",
         18001.199999999997
        ],
        [
         "Maintain Device",
         17998.18
        ],
        [
         "Organization Accessory",
         17994.339999999997
        ],
        [
         "Difficult Gadget",
         17985.140000000003
        ],
        [
         "Strong Tool",
         17979.18
        ],
        [
         "Wife Device",
         17978.37
        ],
        [
         "Bank Tool",
         17972.98
        ],
        [
         "Coach Item",
         17969.58
        ],
        [
         "Economic Item",
         17967.53
        ],
        [
         "Stock Tool",
         17961.57
        ],
        [
         "Level Gadget",
         17955.19
        ],
        [
         "Down Accessory",
         17953.11
        ],
        [
         "Ahead Item",
         17943.68
        ],
        [
         "Full Item",
         17943.25
        ],
        [
         "Give Accessory",
         17928.45
        ],
        [
         "Toward Item",
         17915.32
        ],
        [
         "Fall Item",
         17909.37
        ],
        [
         "Person Item",
         17901.17
        ],
        [
         "Next Item",
         17896.07
        ],
        [
         "Debate Item",
         17895.78
        ],
        [
         "Begin Item",
         17894.08
        ],
        [
         "Business Device",
         17894.02
        ],
        [
         "Hundred Device",
         17892.350000000002
        ],
        [
         "Be Device",
         17890.21
        ],
        [
         "Artist Item",
         17885.910000000003
        ],
        [
         "Tend Gadget",
         17878.220000000005
        ],
        [
         "Him Accessory",
         17877.35
        ],
        [
         "As Accessory",
         17873.27
        ],
        [
         "Note Gadget",
         17870.39
        ],
        [
         "Force Accessory",
         17869.4
        ],
        [
         "Risk Gadget",
         17868.54
        ],
        [
         "Music Gadget",
         17859.5
        ],
        [
         "Father Accessory",
         17852.120000000003
        ],
        [
         "Seven Accessory",
         17851.71
        ],
        [
         "When Gadget",
         17849.4
        ],
        [
         "Game Tool",
         17839.149999999998
        ],
        [
         "Sure Device",
         17836.87
        ],
        [
         "Impact Tool",
         17831.250000000004
        ],
        [
         "Strong Item",
         17806.46
        ],
        [
         "Indeed Tool",
         17806.3
        ],
        [
         "Step Gadget",
         17797.600000000002
        ],
        [
         "Network Device",
         17794.17
        ],
        [
         "Office Item",
         17787.989999999998
        ],
        [
         "Smile Accessory",
         17775.3
        ],
        [
         "Sing Tool",
         17775.11
        ],
        [
         "Long Gadget",
         17769.59
        ],
        [
         "Car Item",
         17763.99
        ],
        [
         "Beautiful Device",
         17760.3
        ],
        [
         "Require Tool",
         17758.729999999996
        ],
        [
         "Soon Device",
         17756.4
        ],
        [
         "Population Item",
         17749.68
        ],
        [
         "Need Accessory",
         17739.510000000002
        ],
        [
         "Prepare Accessory",
         17735.18
        ],
        [
         "Put Gadget",
         17734.23
        ],
        [
         "Sell Tool",
         17725.53
        ],
        [
         "Big Item",
         17723.389999999996
        ],
        [
         "Approach Gadget",
         17717.36
        ],
        [
         "Find Tool",
         17715.8
        ],
        [
         "Seem Accessory",
         17706.48
        ],
        [
         "Method Item",
         17698.519999999997
        ],
        [
         "Country Tool",
         17688.28
        ],
        [
         "Buy Gadget",
         17677.820000000003
        ],
        [
         "Fine Device",
         17677.77
        ],
        [
         "Relationship Device",
         17677.66
        ],
        [
         "Manage Device",
         17676.7
        ],
        [
         "Card Accessory",
         17676.620000000003
        ],
        [
         "Particularly Device",
         17676.199999999997
        ],
        [
         "City Gadget",
         17666.95
        ],
        [
         "Between Gadget",
         17655.67
        ],
        [
         "Raise Item",
         17635.620000000003
        ],
        [
         "Ask Device",
         17622.770000000004
        ],
        [
         "Thousand Device",
         17612.440000000002
        ],
        [
         "Ten Accessory",
         17609.5
        ],
        [
         "Full Accessory",
         17607.809999999998
        ],
        [
         "Usually Tool",
         17600.18
        ],
        [
         "Since Gadget",
         17598.629999999997
        ],
        [
         "Hit Item",
         17584.15
        ],
        [
         "Cause Item",
         17583.85
        ],
        [
         "Visit Item",
         17582.18
        ],
        [
         "Speak Tool",
         17578.7
        ],
        [
         "Discussion Device",
         17571.04
        ],
        [
         "Time Tool",
         17570.94
        ],
        [
         "Medical Tool",
         17553.09
        ],
        [
         "Stand Item",
         17550.980000000003
        ],
        [
         "Impact Device",
         17547.6
        ],
        [
         "Eight Gadget",
         17536.77
        ],
        [
         "What Item",
         17536.719999999998
        ],
        [
         "Particular Item",
         17535.92
        ],
        [
         "Next Device",
         17535.28
        ],
        [
         "Lot Tool",
         17527.35
        ],
        [
         "Son Accessory",
         17514.96
        ],
        [
         "North Gadget",
         17514.67
        ],
        [
         "Baby Device",
         17514.6
        ],
        [
         "Focus Gadget",
         17507.16
        ],
        [
         "Explain Accessory",
         17499.5
        ],
        [
         "Unit Gadget",
         17497.8
        ],
        [
         "Hold Gadget",
         17489.46
        ],
        [
         "Painting Tool",
         17483.34
        ],
        [
         "Nation Tool",
         17482.059999999998
        ],
        [
         "Note Tool",
         17478.23
        ],
        [
         "Particular Tool",
         17470.08
        ],
        [
         "Science Item",
         17464.33
        ],
        [
         "Anything Device",
         17455.690000000002
        ],
        [
         "Worker Accessory",
         17453.969999999998
        ],
        [
         "Offer Device",
         17434.15
        ],
        [
         "Raise Tool",
         17430.899999999998
        ],
        [
         "Tonight Device",
         17430.100000000002
        ],
        [
         "Around Tool",
         17426.66
        ],
        [
         "Quite Gadget",
         17422.94
        ],
        [
         "Chair Item",
         17409.190000000002
        ],
        [
         "Stuff Gadget",
         17406.28
        ],
        [
         "Play Item",
         17403.309999999998
        ],
        [
         "Move Item",
         17398.879999999997
        ],
        [
         "Beautiful Tool",
         17378.48
        ],
        [
         "Out Gadget",
         17374.46
        ],
        [
         "Amount Gadget",
         17368.690000000002
        ],
        [
         "Church Item",
         17366.620000000003
        ],
        [
         "Sense Device",
         17348.03
        ],
        [
         "Start Accessory",
         17333.59
        ],
        [
         "Strategy Item",
         17330.579999999998
        ],
        [
         "Control Device",
         17322.55
        ],
        [
         "Political Device",
         17322.129999999997
        ],
        [
         "Writer Accessory",
         17315.41
        ],
        [
         "Civil Gadget",
         17305.480000000003
        ],
        [
         "Kind Accessory",
         17301.85
        ],
        [
         "Area Tool",
         17297.86
        ],
        [
         "Class Item",
         17295.88
        ],
        [
         "Summer Tool",
         17277.07
        ],
        [
         "Order Item",
         17271.019999999997
        ],
        [
         "Relate Accessory",
         17235.65
        ],
        [
         "Term Device",
         17224.039999999997
        ],
        [
         "Owner Gadget",
         17217.7
        ],
        [
         "Figure Item",
         17215.88
        ],
        [
         "As Tool",
         17207.97
        ],
        [
         "Base Item",
         17186.769999999997
        ],
        [
         "Particularly Accessory",
         17181.25
        ],
        [
         "Sea Device",
         17175.73
        ],
        [
         "Traditional Device",
         17173.66
        ],
        [
         "Into Gadget",
         17173.62
        ],
        [
         "Or Item",
         17167.04
        ],
        [
         "All Gadget",
         17166.629999999997
        ],
        [
         "Account Accessory",
         17149.019999999997
        ],
        [
         "Value Accessory",
         17146.93
        ],
        [
         "Eight Device",
         17133.28
        ],
        [
         "Management Accessory",
         17125.280000000002
        ],
        [
         "Pass Item",
         17118.21
        ],
        [
         "Similar Device",
         17111.39
        ],
        [
         "Though Accessory",
         17102.38
        ],
        [
         "Value Gadget",
         17092.609999999997
        ],
        [
         "Left Item",
         17090.36
        ],
        [
         "Sign Item",
         17087.46
        ],
        [
         "People Device",
         17087.37
        ],
        [
         "Laugh Tool",
         17086.030000000002
        ],
        [
         "Such Item",
         17085.059999999998
        ],
        [
         "Daughter Tool",
         17083.15
        ],
        [
         "Beautiful Gadget",
         17066.31
        ],
        [
         "Yourself Tool",
         17056.38
        ],
        [
         "Right Device",
         17054.77
        ],
        [
         "Low Gadget",
         17048.13
        ],
        [
         "Quite Device",
         17043.48
        ],
        [
         "Specific Accessory",
         17030.61
        ],
        [
         "No Device",
         17013.03
        ],
        [
         "Child Gadget",
         17012.36
        ],
        [
         "Model Device",
         16995.49
        ],
        [
         "Attention Gadget",
         16990.09
        ],
        [
         "Institution Tool",
         16987.36
        ],
        [
         "Central Device",
         16984.3
        ],
        [
         "Hot Tool",
         16980.75
        ],
        [
         "Force Tool",
         16977.190000000002
        ],
        [
         "Born Accessory",
         16974.62
        ],
        [
         "Say Item",
         16970.61
        ],
        [
         "Me Item",
         16969.99
        ],
        [
         "Medical Item",
         16946.66
        ],
        [
         "Shoulder Item",
         16943.03
        ],
        [
         "News Item",
         16938.34
        ],
        [
         "Blood Gadget",
         16930.46
        ],
        [
         "My Device",
         16927.68
        ],
        [
         "Maybe Device",
         16913.93
        ],
        [
         "Close Accessory",
         16905.12
        ],
        [
         "Fund Device",
         16903.839999999997
        ],
        [
         "Party Accessory",
         16886.95
        ],
        [
         "Quickly Item",
         16871.89
        ],
        [
         "Office Tool",
         16868.36
        ],
        [
         "Control Accessory",
         16862.58
        ],
        [
         "Citizen Accessory",
         16860.95
        ],
        [
         "Near Device",
         16858.69
        ],
        [
         "A Tool",
         16852.83
        ],
        [
         "Page Gadget",
         16852.120000000003
        ],
        [
         "Night Tool",
         16842.07
        ],
        [
         "Since Tool",
         16841.329999999998
        ],
        [
         "Picture Tool",
         16834.72
        ],
        [
         "Environment Accessory",
         16833.34
        ],
        [
         "Environment Gadget",
         16796.280000000002
        ],
        [
         "Actually Gadget",
         16789.48
        ],
        [
         "Glass Accessory",
         16789.36
        ],
        [
         "Responsibility Tool",
         16778.83
        ],
        [
         "Popular Tool",
         16775.1
        ],
        [
         "Something Gadget",
         16768.620000000003
        ],
        [
         "Couple Tool",
         16762.420000000002
        ],
        [
         "Check Tool",
         16754.31
        ],
        [
         "Skill Gadget",
         16749.320000000003
        ],
        [
         "Local Gadget",
         16729.1
        ],
        [
         "Wonder Gadget",
         16726.76
        ],
        [
         "But Tool",
         16719.46
        ],
        [
         "American Device",
         16713.449999999997
        ],
        [
         "In Item",
         16697.96
        ],
        [
         "Full Device",
         16696.34
        ],
        [
         "Minute Item",
         16687.699999999997
        ],
        [
         "Table Tool",
         16682.89
        ],
        [
         "Spring Accessory",
         16667.76
        ],
        [
         "Reason Accessory",
         16667.35
        ],
        [
         "Yes Gadget",
         16667.15
        ],
        [
         "Write Tool",
         16660.390000000003
        ],
        [
         "Human Accessory",
         16658.26
        ],
        [
         "Bar Device",
         16655.37
        ],
        [
         "Forward Item",
         16645.14
        ],
        [
         "They Device",
         16645.07
        ],
        [
         "Bed Tool",
         16643.920000000002
        ],
        [
         "Sound Gadget",
         16640.73
        ],
        [
         "Television Device",
         16639.85
        ],
        [
         "Laugh Item",
         16631.86
        ],
        [
         "Attention Item",
         16631.72
        ],
        [
         "Sort Item",
         16628.24
        ],
        [
         "Whom Device",
         16612.109999999997
        ],
        [
         "Participant Gadget",
         16610.76
        ],
        [
         "Letter Gadget",
         16609.550000000003
        ],
        [
         "Everyone Accessory",
         16603.239999999998
        ],
        [
         "Begin Tool",
         16602.67
        ],
        [
         "Herself Gadget",
         16590.49
        ],
        [
         "Sign Device",
         16590.23
        ],
        [
         "Respond Item",
         16579.36
        ],
        [
         "Show Device",
         16579.090000000004
        ],
        [
         "Serve Item",
         16572.33
        ],
        [
         "Behind Tool",
         16567.829999999998
        ],
        [
         "Meet Accessory",
         16549.460000000003
        ],
        [
         "Source Item",
         16536.2
        ],
        [
         "Rule Gadget",
         16534.9
        ],
        [
         "Happy Device",
         16524.59
        ],
        [
         "Her Item",
         16523.33
        ],
        [
         "Without Item",
         16522.71
        ],
        [
         "Save Device",
         16522.59
        ],
        [
         "Among Accessory",
         16516.760000000002
        ],
        [
         "President Device",
         16511.35
        ],
        [
         "Determine Accessory",
         16500.159999999996
        ],
        [
         "Office Accessory",
         16485.47
        ],
        [
         "Social Gadget",
         16484.309999999998
        ],
        [
         "Rate Item",
         16482.730000000003
        ],
        [
         "See Gadget",
         16480.59
        ],
        [
         "Small Device",
         16465.870000000003
        ],
        [
         "Teacher Device",
         16464.97
        ],
        [
         "Structure Accessory",
         16463.35
        ],
        [
         "Next Tool",
         16457.449999999997
        ],
        [
         "Exist Item",
         16442.6
        ],
        [
         "Fine Item",
         16432.52
        ],
        [
         "Republican Tool",
         16425.81
        ],
        [
         "Heart Accessory",
         16415.33
        ],
        [
         "During Gadget",
         16407.720000000005
        ],
        [
         "Ready Device",
         16398.08
        ],
        [
         "How Accessory",
         16388.7
        ],
        [
         "Science Device",
         16365.52
        ],
        [
         "This Tool",
         16364.809999999998
        ],
        [
         "Can Device",
         16359.39
        ],
        [
         "Former Tool",
         16351.27
        ],
        [
         "End Accessory",
         16342.36
        ],
        [
         "Wall Gadget",
         16338.58
        ],
        [
         "Collection Accessory",
         16330.43
        ],
        [
         "Sit Device",
         16325.470000000001
        ],
        [
         "Worry Tool",
         16321.699999999999
        ],
        [
         "Grow Tool",
         16309.679999999998
        ],
        [
         "Conference Gadget",
         16288.76
        ],
        [
         "Investment Accessory",
         16281.349999999999
        ],
        [
         "Very Item",
         16268.8
        ],
        [
         "Discover Tool",
         16267.77
        ],
        [
         "Page Tool",
         16261.11
        ],
        [
         "Avoid Gadget",
         16259.030000000002
        ],
        [
         "To Device",
         16258.67
        ],
        [
         "Red Accessory",
         16246.52
        ],
        [
         "Card Gadget",
         16237.960000000001
        ],
        [
         "Director Gadget",
         16217.169999999998
        ],
        [
         "Area Accessory",
         16203.72
        ],
        [
         "Fire Accessory",
         16203.42
        ],
        [
         "East Device",
         16202.48
        ],
        [
         "Few Gadget",
         16200.44
        ],
        [
         "Site Accessory",
         16177.540000000005
        ],
        [
         "Perhaps Accessory",
         16173.999999999998
        ],
        [
         "Respond Tool",
         16166.529999999999
        ],
        [
         "Cultural Device",
         16162.66
        ],
        [
         "Guess Accessory",
         16162.429999999998
        ],
        [
         "Their Item",
         16138.95
        ],
        [
         "But Device",
         16116.749999999998
        ],
        [
         "Two Item",
         16112.17
        ],
        [
         "Though Gadget",
         16107.339999999997
        ],
        [
         "Realize Gadget",
         16096.8
        ],
        [
         "Wind Tool",
         16089.370000000003
        ],
        [
         "Stand Gadget",
         16079.750000000002
        ],
        [
         "Player Accessory",
         16076.19
        ],
        [
         "People Item",
         16072.99
        ],
        [
         "Five Accessory",
         16067.240000000002
        ],
        [
         "Offer Item",
         16066.71
        ],
        [
         "Meet Gadget",
         16060.23
        ],
        [
         "Bad Device",
         16048.440000000002
        ],
        [
         "Theory Accessory",
         16044.689999999999
        ],
        [
         "Chair Accessory",
         16036.679999999998
        ],
        [
         "Individual Item",
         16029.769999999999
        ],
        [
         "Thank Item",
         16024.94
        ],
        [
         "Write Device",
         16021.300000000003
        ],
        [
         "Yourself Accessory",
         16018.420000000002
        ],
        [
         "Congress Device",
         16011.97
        ],
        [
         "Music Accessory",
         16010.41
        ],
        [
         "Operation Accessory",
         16006.83
        ],
        [
         "Machine Tool",
         16005.569999999998
        ],
        [
         "Heart Gadget",
         15991.509999999998
        ],
        [
         "Radio Item",
         15989.380000000001
        ],
        [
         "A Device",
         15983.820000000002
        ],
        [
         "Win Item",
         15971.409999999998
        ],
        [
         "Throw Tool",
         15971.359999999999
        ],
        [
         "Weight Gadget",
         15958.5
        ],
        [
         "Ok Device",
         15947.380000000001
        ],
        [
         "Top Tool",
         15926.270000000002
        ],
        [
         "The Device",
         15925.81
        ],
        [
         "Staff Gadget",
         15920.5
        ],
        [
         "They Tool",
         15895.699999999999
        ],
        [
         "Never Item",
         15883.93
        ],
        [
         "Those Tool",
         15869.879999999997
        ],
        [
         "Wish Device",
         15868.699999999999
        ],
        [
         "Consumer Gadget",
         15865.46
        ],
        [
         "Special Tool",
         15864.48
        ],
        [
         "Skin Gadget",
         15860.230000000001
        ],
        [
         "Trade Tool",
         15859.13
        ],
        [
         "Trouble Gadget",
         15858.0
        ],
        [
         "Win Accessory",
         15856.65
        ],
        [
         "Remember Gadget",
         15852.919999999998
        ],
        [
         "Knowledge Gadget",
         15850.55
        ],
        [
         "Need Item",
         15842.359999999999
        ],
        [
         "Before Gadget",
         15826.849999999999
        ],
        [
         "Central Gadget",
         15815.69
        ],
        [
         "Campaign Device",
         15807.919999999998
        ],
        [
         "Manager Tool",
         15796.8
        ],
        [
         "Western Item",
         15794.679999999998
        ],
        [
         "Wait Item",
         15784.359999999997
        ],
        [
         "Industry Item",
         15764.25
        ],
        [
         "Kind Gadget",
         15763.05
        ],
        [
         "Argue Tool",
         15757.07
        ],
        [
         "When Device",
         15739.529999999999
        ],
        [
         "Sport Item",
         15738.369999999999
        ],
        [
         "Day Tool",
         15737.47
        ],
        [
         "Use Tool",
         15737.14
        ],
        [
         "Manage Gadget",
         15720.529999999999
        ],
        [
         "War Device",
         15712.890000000001
        ],
        [
         "Real Device",
         15712.44
        ],
        [
         "Music Item",
         15709.460000000001
        ],
        [
         "Mean Device",
         15702.580000000002
        ],
        [
         "South Item",
         15696.920000000002
        ],
        [
         "Behind Accessory",
         15689.39
        ],
        [
         "Party Gadget",
         15685.739999999998
        ],
        [
         "Story Accessory",
         15683.699999999997
        ],
        [
         "Speech Gadget",
         15679.26
        ],
        [
         "Middle Accessory",
         15673.51
        ],
        [
         "Water Gadget",
         15670.720000000001
        ],
        [
         "Hard Device",
         15661.420000000002
        ],
        [
         "Risk Item",
         15659.029999999999
        ],
        [
         "Where Accessory",
         15654.44
        ],
        [
         "Else Accessory",
         15653.669999999998
        ],
        [
         "Fire Device",
         15651.939999999999
        ],
        [
         "Determine Tool",
         15641.34
        ],
        [
         "Direction Item",
         15633.939999999999
        ],
        [
         "Citizen Device",
         15623.970000000001
        ],
        [
         "Then Item",
         15616.409999999998
        ],
        [
         "Now Accessory",
         15616.369999999999
        ],
        [
         "Institution Gadget",
         15605.420000000002
        ],
        [
         "President Accessory",
         15590.880000000001
        ],
        [
         "Yet Accessory",
         15589.970000000001
        ],
        [
         "Week Device",
         15585.54
        ],
        [
         "Project Tool",
         15569.260000000002
        ],
        [
         "Campaign Item",
         15561.88
        ],
        [
         "Democratic Accessory",
         15542.7
        ],
        [
         "Current Tool",
         15539.829999999998
        ],
        [
         "Agreement Accessory",
         15527.189999999999
        ],
        [
         "Accept Accessory",
         15522.350000000002
        ],
        [
         "Exactly Accessory",
         15521.380000000001
        ],
        [
         "Kind Tool",
         15520.47
        ],
        [
         "Anything Tool",
         15517.699999999999
        ],
        [
         "Number Gadget",
         15516.490000000002
        ],
        [
         "Compare Device",
         15512.0
        ],
        [
         "Spring Item",
         15504.289999999999
        ],
        [
         "What Tool",
         15491.59
        ],
        [
         "Respond Device",
         15487.02
        ],
        [
         "Process Device",
         15477.67
        ],
        [
         "Voice Accessory",
         15463.420000000002
        ],
        [
         "Poor Gadget",
         15453.940000000002
        ],
        [
         "End Gadget",
         15453.67
        ],
        [
         "Item Device",
         15450.61
        ],
        [
         "Six Gadget",
         15435.15
        ],
        [
         "Inside Gadget",
         15425.4
        ],
        [
         "Nearly Tool",
         15422.02
        ],
        [
         "With Tool",
         15416.419999999998
        ],
        [
         "Rule Tool",
         15400.43
        ],
        [
         "Discover Item",
         15400.04
        ],
        [
         "Hot Device",
         15372.92
        ],
        [
         "East Item",
         15363.55
        ],
        [
         "Newspaper Gadget",
         15354.07
        ],
        [
         "Here Gadget",
         15346.93
        ],
        [
         "Receive Tool",
         15343.590000000004
        ],
        [
         "Increase Item",
         15340.869999999999
        ],
        [
         "Else Device",
         15338.07
        ],
        [
         "Then Accessory",
         15336.84
        ],
        [
         "One Tool",
         15333.580000000002
        ],
        [
         "Wish Gadget",
         15324.58
        ],
        [
         "Cultural Accessory",
         15319.859999999999
        ],
        [
         "Law Accessory",
         15319.579999999998
        ],
        [
         "Allow Accessory",
         15282.9
        ],
        [
         "Cell Accessory",
         15269.359999999997
        ],
        [
         "Type Accessory",
         15268.599999999999
        ],
        [
         "Business Item",
         15267.56
        ],
        [
         "Appear Tool",
         15245.6
        ],
        [
         "Less Item",
         15244.170000000002
        ],
        [
         "Think Gadget",
         15237.289999999999
        ],
        [
         "Old Accessory",
         15229.119999999999
        ],
        [
         "Discuss Device",
         15223.87
        ],
        [
         "May Item",
         15223.190000000002
        ],
        [
         "Table Accessory",
         15223.020000000002
        ],
        [
         "Three Accessory",
         15217.52
        ],
        [
         "Mouth Accessory",
         15201.019999999999
        ],
        [
         "Similar Item",
         15199.39
        ],
        [
         "Father Tool",
         15197.84
        ],
        [
         "Wrong Gadget",
         15192.460000000001
        ],
        [
         "Want Device",
         15190.240000000002
        ],
        [
         "Approach Tool",
         15183.18
        ],
        [
         "Score Item",
         15181.140000000003
        ],
        [
         "Your Gadget",
         15173.570000000003
        ],
        [
         "Deep Gadget",
         15172.14
        ],
        [
         "Customer Accessory",
         15168.99
        ],
        [
         "Tv Gadget",
         15168.8
        ],
        [
         "Firm Accessory",
         15163.62
        ],
        [
         "Decision Item",
         15161.11
        ],
        [
         "Often Accessory",
         15160.39
        ],
        [
         "Own Accessory",
         15157.300000000001
        ],
        [
         "Somebody Item",
         15144.220000000001
        ],
        [
         "Figure Device",
         15143.329999999998
        ],
        [
         "Most Item",
         15138.759999999998
        ],
        [
         "Figure Gadget",
         15130.899999999998
        ],
        [
         "Tonight Gadget",
         15130.199999999999
        ],
        [
         "Quickly Accessory",
         15122.45
        ],
        [
         "Degree Device",
         15117.100000000002
        ],
        [
         "Section Accessory",
         15109.309999999998
        ],
        [
         "Identify Item",
         15099.560000000001
        ],
        [
         "Piece Item",
         15098.979999999998
        ],
        [
         "Film Accessory",
         15085.219999999998
        ],
        [
         "Sell Device",
         15062.36
        ],
        [
         "Purpose Device",
         15058.89
        ],
        [
         "These Device",
         15039.649999999998
        ],
        [
         "Player Tool",
         15038.21
        ],
        [
         "Debate Gadget",
         15034.800000000001
        ],
        [
         "Attack Item",
         15005.730000000001
        ],
        [
         "Perhaps Item",
         15005.100000000002
        ],
        [
         "Allow Item",
         15004.45
        ],
        [
         "Hour Tool",
         14998.990000000002
        ],
        [
         "Near Gadget",
         14985.08
        ],
        [
         "Safe Item",
         14983.93
        ],
        [
         "That Device",
         14975.519999999999
        ],
        [
         "Instead Device",
         14973.140000000003
        ],
        [
         "Level Tool",
         14969.9
        ],
        [
         "Radio Tool",
         14965.480000000003
        ],
        [
         "Sign Accessory",
         14935.370000000003
        ],
        [
         "Study Gadget",
         14929.169999999998
        ],
        [
         "Report Accessory",
         14923.100000000002
        ],
        [
         "Process Tool",
         14921.970000000001
        ],
        [
         "Know Tool",
         14920.23
        ],
        [
         "Provide Gadget",
         14916.829999999998
        ],
        [
         "Letter Device",
         14913.510000000002
        ],
        [
         "Lead Tool",
         14909.720000000001
        ],
        [
         "Social Tool",
         14899.879999999997
        ],
        [
         "At Tool",
         14892.5
        ],
        [
         "List Gadget",
         14890.56
        ],
        [
         "Reach Gadget",
         14877.26
        ],
        [
         "Significant Device",
         14873.400000000001
        ],
        [
         "Leader Accessory",
         14859.2
        ],
        [
         "Eye Gadget",
         14856.59
        ],
        [
         "Skill Tool",
         14848.870000000003
        ],
        [
         "Strategy Device",
         14845.07
        ],
        [
         "None Device",
         14835.81
        ],
        [
         "Even Item",
         14834.329999999998
        ],
        [
         "His Tool",
         14832.239999999998
        ],
        [
         "By Gadget",
         14830.569999999998
        ],
        [
         "Behavior Device",
         14822.479999999998
        ],
        [
         "Development Item",
         14821.67
        ],
        [
         "Skin Item",
         14821.36
        ],
        [
         "Describe Tool",
         14803.45
        ],
        [
         "Cover Device",
         14797.939999999999
        ],
        [
         "Still Item",
         14796.39
        ],
        [
         "Expect Accessory",
         14756.990000000002
        ],
        [
         "Party Tool",
         14755.09
        ],
        [
         "Energy Gadget",
         14738.12
        ],
        [
         "Cultural Gadget",
         14723.769999999999
        ],
        [
         "Wear Accessory",
         14720.63
        ],
        [
         "Family Item",
         14720.130000000001
        ],
        [
         "Its Gadget",
         14715.630000000001
        ],
        [
         "Challenge Tool",
         14704.390000000003
        ],
        [
         "While Item",
         14703.130000000001
        ],
        [
         "Final Item",
         14683.079999999998
        ],
        [
         "Boy Tool",
         14678.020000000002
        ],
        [
         "Detail Item",
         14664.149999999998
        ],
        [
         "Program Gadget",
         14659.559999999998
        ],
        [
         "Support Gadget",
         14648.330000000002
        ],
        [
         "Recognize Gadget",
         14641.47
        ],
        [
         "Join Gadget",
         14637.88
        ],
        [
         "Table Gadget",
         14632.82
        ],
        [
         "Human Device",
         14612.140000000001
        ],
        [
         "Move Accessory",
         14597.51
        ],
        [
         "Street Gadget",
         14584.329999999998
        ],
        [
         "Bring Gadget",
         14565.690000000002
        ],
        [
         "Paper Device",
         14557.96
        ],
        [
         "My Tool",
         14556.849999999999
        ],
        [
         "Tough Device",
         14525.899999999998
        ],
        [
         "Type Item",
         14512.6
        ],
        [
         "Trouble Accessory",
         14490.53
        ],
        [
         "Job Tool",
         14487.89
        ],
        [
         "Four Gadget",
         14476.84
        ],
        [
         "Company Item",
         14457.59
        ],
        [
         "Energy Tool",
         14453.900000000001
        ],
        [
         "Travel Device",
         14445.11
        ],
        [
         "Way Tool",
         14444.15
        ],
        [
         "Hour Gadget",
         14441.369999999999
        ],
        [
         "Far Item",
         14436.89
        ],
        [
         "Single Accessory",
         14426.830000000002
        ],
        [
         "Increase Gadget",
         14423.089999999997
        ],
        [
         "Ground Tool",
         14410.73
        ],
        [
         "Especially Accessory",
         14405.0
        ],
        [
         "Nearly Device",
         14404.45
        ],
        [
         "Pretty Item",
         14403.96
        ],
        [
         "Oil Gadget",
         14397.81
        ],
        [
         "Idea Item",
         14384.849999999999
        ],
        [
         "Then Device",
         14384.310000000001
        ],
        [
         "Rate Gadget",
         14375.490000000002
        ],
        [
         "Religious Tool",
         14362.279999999999
        ],
        [
         "Floor Accessory",
         14347.279999999999
        ],
        [
         "Represent Device",
         14339.86
        ],
        [
         "Answer Device",
         14308.580000000002
        ],
        [
         "Position Accessory",
         14308.02
        ],
        [
         "Market Accessory",
         14304.26
        ],
        [
         "Conference Tool",
         14300.460000000001
        ],
        [
         "Write Gadget",
         14290.64
        ],
        [
         "President Item",
         14280.439999999999
        ],
        [
         "Then Tool",
         14273.18
        ],
        [
         "Personal Device",
         14269.240000000002
        ],
        [
         "Boy Item",
         14259.56
        ],
        [
         "Now Device",
         14256.9
        ],
        [
         "Cover Item",
         14256.14
        ],
        [
         "Eat Tool",
         14240.260000000002
        ],
        [
         "Part Gadget",
         14233.150000000001
        ],
        [
         "Teach Item",
         14231.65
        ],
        [
         "Moment Item",
         14227.8
        ],
        [
         "Them Accessory",
         14224.79
        ],
        [
         "Offer Accessory",
         14223.19
        ],
        [
         "Trip Gadget",
         14221.07
        ],
        [
         "Ago Tool",
         14218.45
        ],
        [
         "Loss Device",
         14215.07
        ],
        [
         "Sometimes Gadget",
         14204.929999999997
        ],
        [
         "Center Accessory",
         14199.529999999999
        ],
        [
         "Reality Tool",
         14199.15
        ],
        [
         "Effort Item",
         14188.099999999999
        ],
        [
         "Also Device",
         14185.789999999999
        ],
        [
         "Evening Gadget",
         14182.23
        ],
        [
         "Age Device",
         14178.330000000002
        ],
        [
         "Town Gadget",
         14166.359999999997
        ],
        [
         "War Gadget",
         14146.01
        ],
        [
         "Religious Gadget",
         14135.119999999999
        ],
        [
         "However Item",
         14115.43
        ],
        [
         "Least Accessory",
         14113.65
        ],
        [
         "Whether Device",
         14112.820000000002
        ],
        [
         "Hope Tool",
         14091.4
        ],
        [
         "Decision Device",
         14091.32
        ],
        [
         "Continue Tool",
         14087.58
        ],
        [
         "Likely Tool",
         14069.79
        ],
        [
         "Pay Gadget",
         14068.460000000001
        ],
        [
         "Past Gadget",
         14067.420000000002
        ],
        [
         "Result Accessory",
         14063.71
        ],
        [
         "Style Accessory",
         14054.42
        ],
        [
         "Network Accessory",
         14038.810000000003
        ],
        [
         "Public Tool",
         14038.48
        ],
        [
         "Bed Device",
         14028.21
        ],
        [
         "Hard Accessory",
         14027.98
        ],
        [
         "Fight Accessory",
         14021.260000000002
        ],
        [
         "Really Gadget",
         14020.210000000003
        ],
        [
         "Whatever Accessory",
         14003.320000000002
        ],
        [
         "Represent Tool",
         13984.02
        ],
        [
         "Law Gadget",
         13969.34
        ],
        [
         "Against Accessory",
         13968.129999999997
        ],
        [
         "Service Accessory",
         13959.899999999998
        ],
        [
         "Event Item",
         13939.699999999999
        ],
        [
         "Early Item",
         13932.63
        ],
        [
         "Make Device",
         13924.31
        ],
        [
         "Whatever Item",
         13898.05
        ],
        [
         "Floor Tool",
         13896.120000000003
        ],
        [
         "Support Item",
         13869.779999999999
        ],
        [
         "Most Tool",
         13862.98
        ],
        [
         "Environmental Device",
         13861.949999999999
        ],
        [
         "Former Device",
         13845.14
        ],
        [
         "Sell Gadget",
         13844.960000000001
        ],
        [
         "See Device",
         13840.649999999998
        ],
        [
         "Tonight Accessory",
         13827.09
        ],
        [
         "Fly Device",
         13824.9
        ],
        [
         "Several Gadget",
         13824.74
        ],
        [
         "Describe Item",
         13800.63
        ],
        [
         "Charge Item",
         13793.890000000001
        ],
        [
         "Where Item",
         13775.249999999998
        ],
        [
         "Along Device",
         13756.059999999998
        ],
        [
         "Face Device",
         13745.949999999999
        ],
        [
         "Bag Item",
         13739.809999999998
        ],
        [
         "Believe Gadget",
         13736.52
        ],
        [
         "Affect Accessory",
         13726.36
        ],
        [
         "Range Accessory",
         13725.55
        ],
        [
         "Stuff Tool",
         13712.550000000001
        ],
        [
         "Phone Tool",
         13709.380000000001
        ],
        [
         "Soldier Item",
         13707.119999999997
        ],
        [
         "Throughout Accessory",
         13702.6
        ],
        [
         "Task Item",
         13700.979999999998
        ],
        [
         "City Accessory",
         13699.64
        ],
        [
         "Lead Device",
         13696.029999999999
        ],
        [
         "Fly Accessory",
         13692.86
        ],
        [
         "Street Tool",
         13690.45
        ],
        [
         "Old Device",
         13689.84
        ],
        [
         "Somebody Gadget",
         13681.75
        ],
        [
         "Trade Accessory",
         13668.45
        ],
        [
         "Fear Device",
         13660.340000000002
        ],
        [
         "Who Gadget",
         13654.980000000001
        ],
        [
         "Boy Device",
         13648.0
        ],
        [
         "Result Gadget",
         13647.28
        ],
        [
         "Two Gadget",
         13647.07
        ],
        [
         "Hear Tool",
         13640.979999999998
        ],
        [
         "Summer Gadget",
         13639.000000000002
        ],
        [
         "Coach Accessory",
         13624.230000000001
        ],
        [
         "Voice Device",
         13624.21
        ],
        [
         "Create Device",
         13622.430000000002
        ],
        [
         "Recent Device",
         13620.710000000001
        ],
        [
         "Hair Item",
         13617.85
        ],
        [
         "Defense Tool",
         13616.58
        ],
        [
         "Operation Device",
         13613.13
        ],
        [
         "Mission Accessory",
         13597.060000000001
        ],
        [
         "Require Gadget",
         13594.23
        ],
        [
         "Lot Accessory",
         13594.220000000003
        ],
        [
         "Box Item",
         13576.840000000002
        ],
        [
         "Black Tool",
         13576.23
        ],
        [
         "Piece Tool",
         13575.58
        ],
        [
         "Home Gadget",
         13568.98
        ],
        [
         "We Tool",
         13566.779999999999
        ],
        [
         "Society Device",
         13559.939999999999
        ],
        [
         "Per Tool",
         13558.210000000003
        ],
        [
         "Later Accessory",
         13557.02
        ],
        [
         "Certain Accessory",
         13540.53
        ],
        [
         "Our Gadget",
         13535.74
        ],
        [
         "Financial Gadget",
         13535.38
        ],
        [
         "Should Item",
         13531.999999999996
        ],
        [
         "Third Item",
         13529.930000000002
        ],
        [
         "Position Tool",
         13526.48
        ],
        [
         "Case Gadget",
         13518.03
        ],
        [
         "Land Item",
         13517.130000000001
        ],
        [
         "Money Gadget",
         13495.760000000002
        ],
        [
         "World Gadget",
         13492.71
        ],
        [
         "Make Tool",
         13487.539999999999
        ],
        [
         "Police Item",
         13484.14
        ],
        [
         "They Item",
         13479.66
        ],
        [
         "Myself Accessory",
         13475.599999999999
        ],
        [
         "View Device",
         13473.37
        ],
        [
         "Property Tool",
         13460.470000000001
        ],
        [
         "Staff Accessory",
         13455.43
        ],
        [
         "Real Gadget",
         13451.47
        ],
        [
         "Record Tool",
         13450.65
        ],
        [
         "Race Accessory",
         13443.19
        ],
        [
         "Leader Tool",
         13427.84
        ],
        [
         "Red Gadget",
         13409.31
        ],
        [
         "Artist Accessory",
         13384.49
        ],
        [
         "Alone Item",
         13383.989999999998
        ],
        [
         "Rise Accessory",
         13380.689999999999
        ],
        [
         "Republican Gadget",
         13379.669999999998
        ],
        [
         "Play Accessory",
         13369.23
        ],
        [
         "Right Item",
         13366.689999999999
        ],
        [
         "With Gadget",
         13356.8
        ],
        [
         "Away Item",
         13349.960000000001
        ],
        [
         "Ago Device",
         13332.66
        ],
        [
         "Mr Device",
         13332.28
        ],
        [
         "Green Gadget",
         13331.46
        ],
        [
         "Use Item",
         13326.37
        ],
        [
         "Toward Device",
         13312.990000000002
        ],
        [
         "Artist Gadget",
         13303.69
        ],
        [
         "Finish Accessory",
         13301.02
        ],
        [
         "Science Accessory",
         13295.800000000003
        ],
        [
         "Born Tool",
         13275.1
        ],
        [
         "Past Device",
         13265.069999999998
        ],
        [
         "Drive Gadget",
         13262.41
        ],
        [
         "Environment Device",
         13257.640000000003
        ],
        [
         "Show Accessory",
         13233.569999999998
        ],
        [
         "Yard Device",
         13227.38
        ],
        [
         "Accept Item",
         13225.48
        ],
        [
         "Itself Item",
         13221.560000000001
        ],
        [
         "Entire Accessory",
         13216.31
        ],
        [
         "Morning Gadget",
         13193.960000000001
        ],
        [
         "New Tool",
         13191.310000000001
        ],
        [
         "Have Device",
         13183.99
        ],
        [
         "North Accessory",
         13180.669999999998
        ],
        [
         "Message Tool",
         13179.779999999999
        ],
        [
         "Member Accessory",
         13171.59
        ],
        [
         "Choice Gadget",
         13171.25
        ],
        [
         "Including Item",
         13168.890000000003
        ],
        [
         "Develop Item",
         13152.46
        ],
        [
         "Forward Gadget",
         13151.769999999999
        ],
        [
         "The Accessory",
         13151.589999999998
        ],
        [
         "Trade Device",
         13144.92
        ],
        [
         "Upon Tool",
         13129.489999999998
        ],
        [
         "Themselves Device",
         13117.259999999998
        ],
        [
         "Likely Device",
         13106.83
        ],
        [
         "Name Device",
         13100.439999999999
        ],
        [
         "Wall Tool",
         13096.169999999998
        ],
        [
         "Big Tool",
         13094.279999999999
        ],
        [
         "Loss Tool",
         13078.36
        ],
        [
         "Call Accessory",
         13072.450000000003
        ],
        [
         "True Gadget",
         13055.980000000001
        ],
        [
         "List Accessory",
         13046.390000000001
        ],
        [
         "Line Gadget",
         13037.920000000002
        ],
        [
         "Special Item",
         13026.519999999999
        ],
        [
         "Focus Device",
         13003.81
        ],
        [
         "Anything Item",
         13000.130000000001
        ],
        [
         "Spend Accessory",
         12989.97
        ],
        [
         "Decide Device",
         12988.769999999999
        ],
        [
         "Physical Tool",
         12985.42
        ],
        [
         "Cold Tool",
         12970.440000000002
        ],
        [
         "Culture Item",
         12970.02
        ],
        [
         "Begin Accessory",
         12943.89
        ],
        [
         "Nice Gadget",
         12932.920000000002
        ],
        [
         "Health Tool",
         12930.259999999998
        ],
        [
         "Never Gadget",
         12913.020000000002
        ],
        [
         "Nothing Device",
         12909.26
        ],
        [
         "Cut Device",
         12902.310000000001
        ],
        [
         "Smile Tool",
         12902.01
        ],
        [
         "Prevent Item",
         12901.470000000001
        ],
        [
         "Class Tool",
         12897.05
        ],
        [
         "Little Tool",
         12887.25
        ],
        [
         "Mr Accessory",
         12884.810000000001
        ],
        [
         "Hit Accessory",
         12881.55
        ],
        [
         "Join Accessory",
         12878.669999999998
        ],
        [
         "Available Accessory",
         12870.62
        ],
        [
         "Significant Item",
         12859.46
        ],
        [
         "Seat Item",
         12846.460000000001
        ],
        [
         "Instead Accessory",
         12842.459999999997
        ],
        [
         "System Tool",
         12841.409999999998
        ],
        [
         "Hope Gadget",
         12839.619999999999
        ],
        [
         "Their Gadget",
         12835.57
        ],
        [
         "Concern Item",
         12827.079999999998
        ],
        [
         "Nothing Gadget",
         12810.68
        ],
        [
         "Might Accessory",
         12772.43
        ],
        [
         "White Device",
         12771.03
        ],
        [
         "Another Item",
         12756.89
        ],
        [
         "Suffer Gadget",
         12755.9
        ],
        [
         "Tax Tool",
         12748.050000000001
        ],
        [
         "Series Accessory",
         12741.46
        ],
        [
         "Resource Tool",
         12737.07
        ],
        [
         "Both Gadget",
         12726.87
        ],
        [
         "Amount Tool",
         12722.13
        ],
        [
         "Increase Device",
         12719.09
        ],
        [
         "Where Gadget",
         12716.470000000001
        ],
        [
         "It Device",
         12715.090000000002
        ],
        [
         "Middle Item",
         12694.39
        ],
        [
         "World Accessory",
         12675.5
        ],
        [
         "Despite Item",
         12670.05
        ],
        [
         "Difficult Device",
         12656.17
        ],
        [
         "History Item",
         12643.08
        ],
        [
         "Arrive Device",
         12627.089999999998
        ],
        [
         "Rich Tool",
         12626.34
        ],
        [
         "Doctor Device",
         12622.95
        ],
        [
         "Hand Accessory",
         12614.56
        ],
        [
         "Able Device",
         12593.96
        ],
        [
         "Painting Accessory",
         12587.829999999998
        ],
        [
         "At Gadget",
         12577.349999999999
        ],
        [
         "Allow Gadget",
         12551.8
        ],
        [
         "Whether Accessory",
         12547.960000000001
        ],
        [
         "Lay Item",
         12545.810000000001
        ],
        [
         "Reality Accessory",
         12545.749999999998
        ],
        [
         "Determine Gadget",
         12534.940000000002
        ],
        [
         "Tax Accessory",
         12531.1
        ],
        [
         "Total Item",
         12529.760000000002
        ],
        [
         "Change Gadget",
         12526.16
        ],
        [
         "Create Tool",
         12517.35
        ],
        [
         "Line Accessory",
         12511.409999999998
        ],
        [
         "Let Tool",
         12508.86
        ],
        [
         "Attorney Item",
         12504.849999999999
        ],
        [
         "Pay Item",
         12464.09
        ],
        [
         "Agency Gadget",
         12450.139999999998
        ],
        [
         "Election Gadget",
         12449.19
        ],
        [
         "Watch Gadget",
         12448.800000000001
        ],
        [
         "Nothing Item",
         12446.99
        ],
        [
         "Understand Item",
         12438.9
        ],
        [
         "None Tool",
         12425.15
        ],
        [
         "Reflect Gadget",
         12417.72
        ],
        [
         "Something Item",
         12374.029999999999
        ],
        [
         "Whose Tool",
         12371.67
        ],
        [
         "Eye Tool",
         12362.709999999997
        ],
        [
         "Nearly Item",
         12354.93
        ],
        [
         "Room Gadget",
         12335.0
        ],
        [
         "Computer Accessory",
         12326.95
        ],
        [
         "Charge Accessory",
         12315.560000000001
        ],
        [
         "Face Gadget",
         12304.46
        ],
        [
         "Month Gadget",
         12303.35
        ],
        [
         "Authority Tool",
         12302.619999999999
        ],
        [
         "Until Tool",
         12282.2
        ],
        [
         "Quality Device",
         12275.09
        ],
        [
         "Industry Gadget",
         12266.87
        ],
        [
         "Approach Device",
         12261.68
        ],
        [
         "Will Device",
         12256.869999999999
        ],
        [
         "However Accessory",
         12255.720000000001
        ],
        [
         "Different Item",
         12253.100000000002
        ],
        [
         "Mother Tool",
         12244.189999999999
        ],
        [
         "Truth Gadget",
         12235.450000000003
        ],
        [
         "Why Gadget",
         12231.17
        ],
        [
         "Class Accessory",
         12202.12
        ],
        [
         "Analysis Accessory",
         12190.43
        ],
        [
         "Huge Tool",
         12162.980000000001
        ],
        [
         "Decide Accessory",
         12156.199999999999
        ],
        [
         "Common Tool",
         12155.75
        ],
        [
         "What Accessory",
         12145.199999999999
        ],
        [
         "Home Tool",
         12143.920000000002
        ],
        [
         "Protect Item",
         12115.46
        ],
        [
         "Certainly Tool",
         12113.210000000001
        ],
        [
         "Thank Tool",
         12112.119999999999
        ],
        [
         "World Tool",
         12092.25
        ],
        [
         "Become Tool",
         12071.08
        ],
        [
         "Pm Device",
         12065.179999999998
        ],
        [
         "Energy Accessory",
         12051.4
        ],
        [
         "Single Item",
         12048.09
        ],
        [
         "Loss Item",
         12030.07
        ],
        [
         "Movie Item",
         11976.060000000001
        ],
        [
         "More Tool",
         11964.029999999999
        ],
        [
         "Audience Tool",
         11961.43
        ],
        [
         "Include Device",
         11954.510000000002
        ],
        [
         "Court Tool",
         11937.96
        ],
        [
         "Bank Device",
         11936.98
        ],
        [
         "Edge Tool",
         11935.170000000002
        ],
        [
         "Realize Accessory",
         11932.05
        ],
        [
         "Practice Device",
         11926.469999999998
        ],
        [
         "Piece Accessory",
         11915.68
        ],
        [
         "Machine Device",
         11895.599999999999
        ],
        [
         "Open Accessory",
         11872.64
        ],
        [
         "And Accessory",
         11804.78
        ],
        [
         "Body Gadget",
         11796.269999999999
        ],
        [
         "Strategy Tool",
         11789.739999999998
        ],
        [
         "Someone Tool",
         11789.24
        ],
        [
         "Future Item",
         11785.829999999998
        ],
        [
         "Here Tool",
         11781.36
        ],
        [
         "However Device",
         11763.619999999999
        ],
        [
         "Live Gadget",
         11758.850000000002
        ],
        [
         "Street Device",
         11748.369999999999
        ],
        [
         "Mind Device",
         11743.16
        ],
        [
         "Understand Tool",
         11734.710000000001
        ],
        [
         "Condition Item",
         11732.91
        ],
        [
         "Dream Gadget",
         11720.05
        ],
        [
         "Hold Accessory",
         11705.759999999998
        ],
        [
         "Few Device",
         11686.26
        ],
        [
         "Consider Accessory",
         11684.970000000001
        ],
        [
         "Value Tool",
         11682.329999999998
        ],
        [
         "Arm Item",
         11679.55
        ],
        [
         "Region Accessory",
         11665.59
        ],
        [
         "Travel Accessory",
         11631.8
        ],
        [
         "Not Tool",
         11616.71
        ],
        [
         "Support Device",
         11609.449999999997
        ],
        [
         "Dinner Device",
         11608.220000000001
        ],
        [
         "Side Item",
         11607.96
        ],
        [
         "Alone Accessory",
         11607.1
        ],
        [
         "Point Tool",
         11601.099999999999
        ],
        [
         "While Device",
         11601.05
        ],
        [
         "Agency Device",
         11599.06
        ],
        [
         "Collection Tool",
         11578.93
        ],
        [
         "Sport Tool",
         11578.65
        ],
        [
         "Return Device",
         11553.46
        ],
        [
         "Guy Item",
         11545.68
        ],
        [
         "Boy Accessory",
         11541.259999999998
        ],
        [
         "Front Item",
         11539.34
        ],
        [
         "Place Device",
         11515.34
        ],
        [
         "Trip Device",
         11511.289999999999
        ],
        [
         "Someone Gadget",
         11481.9
        ],
        [
         "Yard Item",
         11479.76
        ],
        [
         "Director Item",
         11472.419999999998
        ],
        [
         "Organization Device",
         11457.61
        ],
        [
         "Woman Item",
         11449.46
        ],
        [
         "For Accessory",
         11447.490000000002
        ],
        [
         "Information Tool",
         11445.990000000002
        ],
        [
         "Organization Item",
         11422.8
        ],
        [
         "Remember Tool",
         11408.529999999999
        ],
        [
         "Stand Tool",
         11404.620000000003
        ],
        [
         "Resource Accessory",
         11403.699999999999
        ],
        [
         "While Accessory",
         11372.919999999998
        ],
        [
         "Process Gadget",
         11357.0
        ],
        [
         "Quality Tool",
         11351.45
        ],
        [
         "Dark Gadget",
         11328.32
        ],
        [
         "Add Gadget",
         11325.27
        ],
        [
         "Above Gadget",
         11309.019999999999
        ],
        [
         "Maybe Accessory",
         11282.849999999999
        ],
        [
         "Newspaper Item",
         11277.46
        ],
        [
         "Response Gadget",
         11276.16
        ],
        [
         "History Accessory",
         11249.230000000001
        ],
        [
         "Little Gadget",
         11222.89
        ],
        [
         "Scientist Tool",
         11214.289999999999
        ],
        [
         "Standard Item",
         11195.170000000002
        ],
        [
         "Support Accessory",
         11187.329999999998
        ],
        [
         "Break Item",
         11158.539999999999
        ],
        [
         "Six Item",
         11127.859999999999
        ],
        [
         "List Device",
         11110.86
        ],
        [
         "Hit Tool",
         11098.82
        ],
        [
         "Cultural Tool",
         11097.42
        ],
        [
         "Raise Gadget",
         11079.310000000001
        ],
        [
         "Summer Device",
         11077.47
        ],
        [
         "Few Item",
         11068.240000000002
        ],
        [
         "Attorney Device",
         11066.4
        ],
        [
         "Guess Device",
         11065.700000000003
        ],
        [
         "Total Gadget",
         11061.380000000001
        ],
        [
         "Happy Gadget",
         11037.37
        ],
        [
         "Newspaper Device",
         11034.57
        ],
        [
         "Middle Tool",
         11005.690000000002
        ],
        [
         "Spend Item",
         10984.539999999999
        ],
        [
         "Teacher Item",
         10977.28
        ],
        [
         "Color Device",
         10967.130000000001
        ],
        [
         "Hit Device",
         10952.310000000001
        ],
        [
         "Save Tool",
         10942.699999999999
        ],
        [
         "Success Accessory",
         10933.09
        ],
        [
         "Several Accessory",
         10894.97
        ],
        [
         "Sure Item",
         10883.169999999998
        ],
        [
         "Agent Tool",
         10872.29
        ],
        [
         "Movement Device",
         10855.119999999999
        ],
        [
         "Sure Tool",
         10843.010000000002
        ],
        [
         "Official Gadget",
         10829.36
        ],
        [
         "Environment Tool",
         10810.34
        ],
        [
         "Wrong Device",
         10804.61
        ],
        [
         "Without Tool",
         10804.370000000003
        ],
        [
         "Choice Accessory",
         10781.910000000002
        ],
        [
         "Cell Device",
         10748.240000000002
        ],
        [
         "Especially Tool",
         10730.299999999997
        ],
        [
         "Lawyer Tool",
         10679.820000000002
        ],
        [
         "On Gadget",
         10679.079999999998
        ],
        [
         "Air Item",
         10669.619999999999
        ],
        [
         "Course Accessory",
         10665.560000000001
        ],
        [
         "Almost Tool",
         10664.650000000001
        ],
        [
         "Successful Gadget",
         10651.75
        ],
        [
         "Consider Tool",
         10610.5
        ],
        [
         "Until Device",
         10597.939999999999
        ],
        [
         "Despite Tool",
         10575.7
        ],
        [
         "Treatment Accessory",
         10547.14
        ],
        [
         "He Item",
         10543.67
        ],
        [
         "Scene Device",
         10538.949999999997
        ],
        [
         "Tax Device",
         10533.65
        ],
        [
         "Direction Accessory",
         10529.789999999999
        ],
        [
         "Structure Tool",
         10492.130000000001
        ],
        [
         "Notice Gadget",
         10484.2
        ],
        [
         "Base Tool",
         10467.14
        ],
        [
         "Occur Gadget",
         10462.55
        ],
        [
         "View Accessory",
         10461.29
        ],
        [
         "If Item",
         10451.520000000002
        ],
        [
         "Economic Device",
         10449.18
        ],
        [
         "Carry Gadget",
         10446.95
        ],
        [
         "Finish Device",
         10441.5
        ],
        [
         "Beat Accessory",
         10429.91
        ],
        [
         "Minute Gadget",
         10397.91
        ],
        [
         "Little Device",
         10389.400000000001
        ],
        [
         "Lose Accessory",
         10374.029999999999
        ],
        [
         "Room Tool",
         10365.18
        ],
        [
         "Leg Gadget",
         10330.78
        ],
        [
         "Lead Gadget",
         10313.17
        ],
        [
         "Thing Gadget",
         10309.12
        ],
        [
         "Event Gadget",
         10273.08
        ],
        [
         "Avoid Tool",
         10270.98
        ],
        [
         "Enough Tool",
         10269.34
        ],
        [
         "Edge Gadget",
         10268.65
        ],
        [
         "Give Gadget",
         10261.74
        ],
        [
         "After Gadget",
         10233.72
        ],
        [
         "Wonder Item",
         10220.560000000001
        ],
        [
         "Group Item",
         10190.56
        ],
        [
         "Positive Device",
         10184.580000000002
        ],
        [
         "Resource Gadget",
         10161.44
        ],
        [
         "Need Tool",
         10138.02
        ],
        [
         "Between Accessory",
         10134.79
        ],
        [
         "Half Accessory",
         10113.89
        ],
        [
         "Nation Device",
         10098.08
        ],
        [
         "Himself Tool",
         10093.91
        ],
        [
         "She Device",
         10071.58
        ],
        [
         "Hundred Item",
         10052.510000000002
        ],
        [
         "Traditional Tool",
         10040.940000000002
        ],
        [
         "Perhaps Tool",
         10033.280000000002
        ],
        [
         "Weight Item",
         10019.28
        ],
        [
         "Probably Gadget",
         10004.04
        ],
        [
         "Character Device",
         10001.94
        ],
        [
         "Idea Gadget",
         9987.26
        ],
        [
         "Space Device",
         9987.07
        ],
        [
         "Compare Gadget",
         9981.170000000002
        ],
        [
         "Account Device",
         9960.760000000004
        ],
        [
         "Indicate Accessory",
         9958.519999999997
        ],
        [
         "Center Tool",
         9945.65
        ],
        [
         "Particularly Tool",
         9941.949999999999
        ],
        [
         "Return Item",
         9938.77
        ],
        [
         "Vote Device",
         9923.060000000001
        ],
        [
         "Leader Device",
         9922.300000000001
        ],
        [
         "Still Tool",
         9921.240000000002
        ],
        [
         "Crime Gadget",
         9912.93
        ],
        [
         "My Gadget",
         9894.3
        ],
        [
         "Clear Tool",
         9870.39
        ],
        [
         "Like Item",
         9865.06
        ],
        [
         "Someone Accessory",
         9845.369999999999
        ],
        [
         "Positive Item",
         9843.13
        ],
        [
         "Cause Tool",
         9840.92
        ],
        [
         "Ahead Gadget",
         9818.539999999999
        ],
        [
         "Middle Gadget",
         9802.81
        ],
        [
         "Interview Gadget",
         9755.61
        ],
        [
         "Avoid Device",
         9730.880000000001
        ],
        [
         "Unit Item",
         9703.470000000001
        ],
        [
         "Fight Gadget",
         9663.49
        ],
        [
         "That Gadget",
         9654.99
        ],
        [
         "Beat Device",
         9654.21
        ],
        [
         "Serve Tool",
         9622.99
        ],
        [
         "Hard Gadget",
         9616.68
        ],
        [
         "Responsibility Gadget",
         9570.369999999999
        ],
        [
         "Receive Gadget",
         9519.87
        ],
        [
         "Pressure Accessory",
         9518.07
        ],
        [
         "Across Device",
         9486.85
        ],
        [
         "Even Device",
         9462.24
        ],
        [
         "Audience Accessory",
         9448.95
        ],
        [
         "Answer Gadget",
         9423.369999999999
        ],
        [
         "Interesting Item",
         9416.82
        ],
        [
         "Brother Device",
         9415.79
        ],
        [
         "Special Device",
         9415.57
        ],
        [
         "Road Tool",
         9396.57
        ],
        [
         "Try Item",
         9394.86
        ],
        [
         "Opportunity Item",
         9366.9
        ],
        [
         "Big Gadget",
         9273.300000000001
        ],
        [
         "Piece Gadget",
         9265.73
        ],
        [
         "Happen Gadget",
         9246.86
        ],
        [
         "Land Tool",
         9238.38
        ],
        [
         "Investment Device",
         9230.269999999999
        ],
        [
         "Together Gadget",
         9227.26
        ],
        [
         "Be Tool",
         9221.869999999999
        ],
        [
         "Simply Tool",
         9198.91
        ],
        [
         "Land Gadget",
         9189.34
        ],
        [
         "Improve Accessory",
         9176.779999999999
        ],
        [
         "After Device",
         9172.69
        ],
        [
         "Subject Device",
         9153.22
        ],
        [
         "Rise Tool",
         9114.130000000001
        ],
        [
         "Before Device",
         9109.76
        ],
        [
         "Win Gadget",
         9103.189999999999
        ],
        [
         "Gun Accessory",
         9102.52
        ],
        [
         "Suddenly Item",
         9077.210000000001
        ],
        [
         "Goal Item",
         9031.710000000001
        ],
        [
         "Lose Tool",
         9023.619999999999
        ],
        [
         "Space Item",
         9003.900000000001
        ],
        [
         "Upon Gadget",
         9002.919999999998
        ],
        [
         "World Item",
         8997.710000000001
        ],
        [
         "Affect Device",
         8984.17
        ],
        [
         "Current Gadget",
         8961.85
        ],
        [
         "Significant Accessory",
         8925.2
        ],
        [
         "Dark Item",
         8916.43
        ],
        [
         "Gas Tool",
         8905.03
        ],
        [
         "Maybe Tool",
         8868.119999999999
        ],
        [
         "Assume Tool",
         8829.35
        ],
        [
         "All Item",
         8820.210000000001
        ],
        [
         "To Gadget",
         8818.740000000002
        ],
        [
         "Old Item",
         8758.939999999999
        ],
        [
         "Picture Device",
         8742.47
        ],
        [
         "Water Item",
         8738.119999999999
        ],
        [
         "Hair Accessory",
         8737.789999999999
        ],
        [
         "Surface Gadget",
         8681.029999999999
        ],
        [
         "Its Tool",
         8657.650000000001
        ],
        [
         "Democrat Item",
         8624.319999999998
        ],
        [
         "Property Accessory",
         8617.64
        ],
        [
         "Company Accessory",
         8597.919999999998
        ],
        [
         "Second Accessory",
         8582.72
        ],
        [
         "Pm Accessory",
         8545.399999999998
        ],
        [
         "In Device",
         8541.189999999999
        ],
        [
         "Brother Accessory",
         8497.460000000001
        ],
        [
         "Camera Device",
         8486.64
        ],
        [
         "Billion Tool",
         8435.429999999998
        ],
        [
         "Town Tool",
         8402.19
        ],
        [
         "Drop Item",
         8366.3
        ],
        [
         "Note Device",
         8342.8
        ],
        [
         "End Tool",
         8339.88
        ],
        [
         "Mrs Gadget",
         8324.93
        ],
        [
         "Too Accessory",
         8287.8
        ],
        [
         "Day Item",
         8247.810000000001
        ],
        [
         "Part Accessory",
         8245.070000000002
        ],
        [
         "Interesting Gadget",
         8239.009999999998
        ],
        [
         "Rather Device",
         8231.97
        ],
        [
         "Season Accessory",
         8225.47
        ],
        [
         "Available Gadget",
         8219.6
        ],
        [
         "Fear Item",
         8183.33
        ],
        [
         "Claim Device",
         8177.139999999999
        ],
        [
         "Federal Tool",
         8091.45
        ],
        [
         "Certainly Device",
         8080.4800000000005
        ],
        [
         "Do Device",
         7997.61
        ],
        [
         "Sense Tool",
         7984.240000000001
        ],
        [
         "Republican Device",
         7963.34
        ],
        [
         "Threat Tool",
         7962.879999999999
        ],
        [
         "North Tool",
         7946.87
        ],
        [
         "Action Gadget",
         7899.389999999999
        ],
        [
         "Produce Accessory",
         7854.71
        ],
        [
         "Able Accessory",
         7850.5599999999995
        ],
        [
         "Ball Device",
         7767.24
        ],
        [
         "Rock Gadget",
         7670.77
        ],
        [
         "Standard Tool",
         7669.13
        ],
        [
         "Ask Gadget",
         7645.150000000001
        ],
        [
         "Save Accessory",
         7633.67
        ],
        [
         "Opportunity Tool",
         7620.64
        ],
        [
         "Suddenly Tool",
         7610.860000000001
        ],
        [
         "Add Accessory",
         7555.669999999999
        ],
        [
         "Affect Tool",
         7503.090000000001
        ],
        [
         "About Item",
         7491.3
        ],
        [
         "Which Tool",
         7490.24
        ],
        [
         "For Gadget",
         7422.700000000001
        ],
        [
         "This Device",
         7416.85
        ],
        [
         "Push Device",
         7404.159999999999
        ],
        [
         "Past Tool",
         7403.0599999999995
        ],
        [
         "Work Gadget",
         7382.99
        ],
        [
         "Wrong Item",
         7369.400000000001
        ],
        [
         "Over Gadget",
         7368.67
        ],
        [
         "Management Tool",
         7306.589999999999
        ],
        [
         "Sport Device",
         7272.58
        ],
        [
         "Such Accessory",
         7211.710000000001
        ],
        [
         "Rich Item",
         7190.74
        ],
        [
         "Herself Tool",
         7186.78
        ],
        [
         "Score Accessory",
         7176.299999999999
        ],
        [
         "Official Tool",
         7175.61
        ],
        [
         "Mind Gadget",
         7056.34
        ],
        [
         "Government Device",
         7055.8
        ],
        [
         "Involve Item",
         7055.160000000001
        ],
        [
         "Include Accessory",
         7049.509999999999
        ],
        [
         "Writer Device",
         7035.42
        ],
        [
         "There Tool",
         7007.51
        ],
        [
         "Talk Device",
         6967.789999999999
        ],
        [
         "Treat Device",
         6938.52
        ],
        [
         "Tell Gadget",
         6860.179999999999
        ],
        [
         "Question Accessory",
         6834.36
        ],
        [
         "Beat Gadget",
         6787.42
        ],
        [
         "Anyone Accessory",
         6754.67
        ],
        [
         "Education Accessory",
         6754.59
        ],
        [
         "Wrong Accessory",
         6702.19
        ],
        [
         "Fill Gadget",
         6687.68
        ],
        [
         "Actually Device",
         6678.069999999999
        ],
        [
         "Class Gadget",
         6674.369999999999
        ],
        [
         "Themselves Item",
         6654.35
        ],
        [
         "I Device",
         6534.6
        ],
        [
         "Eye Item",
         6453.9
        ],
        [
         "Plant Accessory",
         6442.860000000001
        ],
        [
         "Indicate Item",
         6440.76
        ],
        [
         "Specific Device",
         6432.8
        ],
        [
         "Marriage Tool",
         6413.2699999999995
        ],
        [
         "Although Item",
         6396.54
        ],
        [
         "Hope Accessory",
         6395.7699999999995
        ],
        [
         "Four Device",
         6367.11
        ],
        [
         "Describe Device",
         6363.48
        ],
        [
         "True Accessory",
         6348.84
        ],
        [
         "Measure Item",
         6188.68
        ],
        [
         "Arm Device",
         6135.539999999999
        ],
        [
         "Within Tool",
         6117.73
        ],
        [
         "Audience Item",
         6074.12
        ],
        [
         "Again Tool",
         6068.5
        ],
        [
         "Provide Accessory",
         6007.5
        ],
        [
         "Quality Item",
         5917.48
        ],
        [
         "Third Device",
         5893.68
        ],
        [
         "Today Accessory",
         5884.590000000001
        ],
        [
         "Pay Tool",
         5846.02
        ],
        [
         "Scene Gadget",
         5833.75
        ],
        [
         "Situation Accessory",
         5783.05
        ],
        [
         "Society Tool",
         5781.43
        ],
        [
         "But Gadget",
         5747.08
        ],
        [
         "Manage Item",
         5722.48
        ],
        [
         "Also Gadget",
         5653.16
        ],
        [
         "Three Tool",
         5639.5199999999995
        ],
        [
         "Magazine Gadget",
         5578.5599999999995
        ],
        [
         "Education Tool",
         5565.139999999999
        ],
        [
         "Material Device",
         5459.68
        ],
        [
         "She Tool",
         5407.27
        ],
        [
         "Analysis Item",
         5366.43
        ],
        [
         "Set Gadget",
         5361.03
        ],
        [
         "Spend Device",
         5280.79
        ],
        [
         "Realize Tool",
         5191.380000000001
        ],
        [
         "Allow Device",
         4986.02
        ],
        [
         "Build Tool",
         4981.5599999999995
        ],
        [
         "Explain Item",
         4908.87
        ],
        [
         "Development Device",
         4855.82
        ],
        [
         "Risk Device",
         4854.59
        ],
        [
         "Bill Gadget",
         4802.68
        ],
        [
         "Commercial Device",
         4796.290000000001
        ],
        [
         "Second Gadget",
         4751.25
        ],
        [
         "Thousand Accessory",
         4716.24
        ],
        [
         "These Gadget",
         4677.0
        ],
        [
         "Someone Device",
         4660.860000000001
        ],
        [
         "Peace Tool",
         4584.81
        ],
        [
         "Help Gadget",
         4554.200000000001
        ],
        [
         "Price Gadget",
         4552.19
        ],
        [
         "Full Gadget",
         4530.609999999999
        ],
        [
         "Even Accessory",
         4441.04
        ],
        [
         "Nice Device",
         4326.3099999999995
        ],
        [
         "Size Accessory",
         4237.860000000001
        ],
        [
         "Nice Accessory",
         4164.159999999999
        ],
        [
         "Song Device",
         4152.240000000001
        ],
        [
         "Story Device",
         4014.0099999999998
        ],
        [
         "Information Gadget",
         4013.72
        ],
        [
         "Point Accessory",
         3984.14
        ],
        [
         "Create Item",
         3927.36
        ],
        [
         "Address Tool",
         3815.7299999999996
        ],
        [
         "Should Gadget",
         3559.95
        ],
        [
         "Owner Item",
         3515.34
        ],
        [
         "Reason Tool",
         3458.11
        ],
        [
         "Side Accessory",
         3259.83
        ],
        [
         "Amount Item",
         3166.92
        ],
        [
         "Bar Accessory",
         3044.13
        ],
        [
         "Similar Accessory",
         2976.94
        ],
        [
         "Pressure Item",
         2701.7599999999998
        ],
        [
         "Structure Gadget",
         2162.84
        ],
        [
         "Soon Item",
         1985.53
        ],
        [
         "Book Gadget",
         1698.8000000000002
        ],
        [
         "Matter Tool",
         1485.3799999999999
        ],
        [
         "Congress Gadget",
         1375.52
        ],
        [
         "Contain Item",
         1174.9
        ],
        [
         "Draw Gadget",
         1069.1200000000001
        ],
        [
         "Congress Accessory",
         986.46
        ],
        [
         "State Device",
         905.72
        ],
        [
         "Inside Device",
         578.38
        ],
        [
         "Trial Tool",
         550.44
        ]
       ],
       "datasetInfos": [],
       "dbfsResultPath": null,
       "isJsonSchema": true,
       "metadata": {},
       "overflow": false,
       "plotOptions": {
        "customPlotOptions": {},
        "displayType": "table",
        "pivotAggregation": null,
        "pivotColumns": null,
        "xColumns": null,
        "yColumns": null
       },
       "removedWidgets": [],
       "schema": [
        {
         "metadata": "{}",
         "name": "product_name",
         "type": "\"string\""
        },
        {
         "metadata": "{}",
         "name": "total_revenue",
         "type": "\"double\""
        }
       ],
       "type": "table"
      }
     },
     "output_type": "display_data"
    }
   ],
   "source": [
    "%sql\n",
    "SELECT \n",
    "    p.product_name, \n",
    "    SUM(t.total_price) AS total_revenue\n",
    "FROM fact_transactions t\n",
    "JOIN dim_product p ON t.product_id = p.product_id\n",
    "GROUP BY p.product_name\n",
    "ORDER BY total_revenue DESC;\n"
   ]
  },
  {
   "cell_type": "code",
   "execution_count": 0,
   "metadata": {
    "application/vnd.databricks.v1+cell": {
     "cellMetadata": {
      "byteLimit": 2048000,
      "implicitDf": true,
      "rowLimit": 10000
     },
     "inputWidgets": {},
     "nuid": "a7d1fa04-db37-4ec6-a7a4-d5ce37ef613d",
     "showTitle": false,
     "tableResultSettingsMap": {},
     "title": ""
    }
   },
   "outputs": [
    {
     "output_type": "display_data",
     "data": {
      "text/html": [
       "<style scoped>\n",
       "  .table-result-container {\n",
       "    max-height: 300px;\n",
       "    overflow: auto;\n",
       "  }\n",
       "  table, th, td {\n",
       "    border: 1px solid black;\n",
       "    border-collapse: collapse;\n",
       "  }\n",
       "  th, td {\n",
       "    padding: 5px;\n",
       "  }\n",
       "  th {\n",
       "    text-align: left;\n",
       "  }\n",
       "</style><div class='table-result-container'><table class='table-result'><thead style='background-color: white'><tr><th>membership_status</th><th>total_orders</th><th>revenue</th></tr></thead><tbody><tr><td>No</td><td>139921</td><td>8.772841550000009E7</td></tr><tr><td>Yes</td><td>60079</td><td>3.768258823000016E7</td></tr></tbody></table></div>"
      ]
     },
     "metadata": {
      "application/vnd.databricks.v1+output": {
       "addedWidgets": {},
       "aggData": [],
       "aggError": "",
       "aggOverflow": false,
       "aggSchema": [],
       "aggSeriesLimitReached": false,
       "aggType": "",
       "arguments": {},
       "columnCustomDisplayInfos": {},
       "data": [
        [
         "No",
         139921,
         8.772841550000009E7
        ],
        [
         "Yes",
         60079,
         3.768258823000016E7
        ]
       ],
       "datasetInfos": [],
       "dbfsResultPath": null,
       "isJsonSchema": true,
       "metadata": {},
       "overflow": false,
       "plotOptions": {
        "customPlotOptions": {},
        "displayType": "table",
        "pivotAggregation": null,
        "pivotColumns": null,
        "xColumns": null,
        "yColumns": null
       },
       "removedWidgets": [],
       "schema": [
        {
         "metadata": "{}",
         "name": "membership_status",
         "type": "\"string\""
        },
        {
         "metadata": "{}",
         "name": "total_orders",
         "type": "\"long\""
        },
        {
         "metadata": "{}",
         "name": "revenue",
         "type": "\"double\""
        }
       ],
       "type": "table"
      }
     },
     "output_type": "display_data"
    }
   ],
   "source": [
    "%sql\n",
    "SELECT \n",
    "    c.membership_status, \n",
    "    COUNT(t.transaction_id) AS total_orders, \n",
    "    SUM(t.total_price) AS revenue\n",
    "FROM fact_transactions t\n",
    "JOIN dim_customer c ON t.customer_id = c.customer_id\n",
    "GROUP BY c.membership_status;\n"
   ]
  },
  {
   "cell_type": "code",
   "execution_count": 0,
   "metadata": {
    "application/vnd.databricks.v1+cell": {
     "cellMetadata": {
      "byteLimit": 2048000,
      "implicitDf": true,
      "rowLimit": 10000
     },
     "inputWidgets": {},
     "nuid": "21c9f495-df69-4ab1-a51a-d5d4bb570770",
     "showTitle": false,
     "tableResultSettingsMap": {},
     "title": ""
    }
   },
   "outputs": [
    {
     "output_type": "stream",
     "name": "stdout",
     "output_type": "stream",
     "text": [
      "+--------+--------------------+-----------+\n|database|           tableName|isTemporary|\n+--------+--------------------+-----------+\n| default|amazon_customers_...|      false|\n| default|amazon_products_2...|      false|\n| default|amazon_transactio...|      false|\n| default|        dim_customer|      false|\n| default|         dim_product|      false|\n| default|   fact_transactions|      false|\n| default|   staging_customers|      false|\n| default|    staging_products|      false|\n| default|staging_transactions|      false|\n+--------+--------------------+-----------+\n\n"
     ]
    }
   ],
   "source": [
    "spark.sql(\"SHOW TABLES\").show()\n"
   ]
  },
  {
   "cell_type": "code",
   "execution_count": 0,
   "metadata": {
    "application/vnd.databricks.v1+cell": {
     "cellMetadata": {
      "byteLimit": 2048000,
      "rowLimit": 10000
     },
     "inputWidgets": {},
     "nuid": "25171825-6c53-4dba-b7a2-da0b135173d8",
     "showTitle": false,
     "tableResultSettingsMap": {},
     "title": ""
    }
   },
   "outputs": [],
   "source": [
    "from pyspark.sql import SparkSession\n",
    "\n",
    "# Initialize Spark session\n",
    "spark = SparkSession.builder.appName(\"AmazonDataAnalysis\").getOrCreate()\n",
    "\n",
    "# Load Data\n",
    "customers_df = spark.read.csv(\"/FileStore/tables/amazon_customers.csv\", header=True, inferSchema=True)\n",
    "products_df = spark.read.json(\"/FileStore/tables/amazon_products.json\")\n",
    "transactions_df = spark.read.csv(\"/FileStore/tables/amazon_transactions.csv\", header=True, inferSchema=True)\n",
    "\n",
    "# Register as Temp Views for SQL Queries\n",
    "customers_df.createOrReplaceTempView(\"amazon_customers\")\n",
    "products_df.createOrReplaceTempView(\"amazon_products\")\n",
    "transactions_df.createOrReplaceTempView(\"amazon_transactions\")\n",
    "\n",
    "\n",
    "\n"
   ]
  },
  {
   "cell_type": "code",
   "execution_count": 0,
   "metadata": {
    "application/vnd.databricks.v1+cell": {
     "cellMetadata": {
      "byteLimit": 2048000,
      "rowLimit": 10000
     },
     "inputWidgets": {},
     "nuid": "c1452ecc-d20b-4315-badd-f04b1676494c",
     "showTitle": false,
     "tableResultSettingsMap": {},
     "title": ""
    }
   },
   "outputs": [
    {
     "output_type": "display_data",
     "data": {
      "image/png": "[encoded data removed]"
     },
     "metadata": {
      "application/vnd.databricks.v1+output": {
       "addedWidgets": {},
       "arguments": {},
       "data": "data:image/png;base64,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\n",
       "datasetInfos": [],
       "metadata": {},
       "removedWidgets": [],
       "type": "image"
      }
     },
     "output_type": "display_data"
    }
   ],
   "source": [
    "import pandas as pd\n",
    "import seaborn as sns\n",
    "import matplotlib.pyplot as plt\n",
    "\n",
    "# Run SQL Query\n",
    "top_products_df = spark.sql(\"\"\"\n",
    "    SELECT \n",
    "        p.product_name, \n",
    "        SUM(t.total_price) AS total_revenue\n",
    "    FROM amazon_transactions t\n",
    "    JOIN amazon_products p ON t.product_id = p.product_id\n",
    "    GROUP BY p.product_name\n",
    "    ORDER BY total_revenue DESC\n",
    "    LIMIT 10\n",
    "\"\"\").toPandas()\n",
    "\n",
    "# Visualization\n",
    "plt.figure(figsize=(12, 6))\n",
    "sns.barplot(data=top_products_df, x=\"total_revenue\", y=\"product_name\", palette=\"viridis\")\n",
    "plt.xlabel(\"Total Revenue ($)\")\n",
    "plt.ylabel(\"Product Name\")\n",
    "plt.title(\"Top 10 Best-Selling Products by Revenue\")\n",
    "plt.show()\n"
   ]
  },
  {
   "cell_type": "code",
   "execution_count": 0,
   "metadata": {
    "application/vnd.databricks.v1+cell": {
     "cellMetadata": {
      "byteLimit": 2048000,
      "rowLimit": 10000
     },
     "inputWidgets": {},
     "nuid": "c8aa62d2-2803-4c50-9fd1-af57af6189bc",
     "showTitle": false,
     "tableResultSettingsMap": {},
     "title": ""
    }
   },
   "outputs": [
    {
     "output_type": "display_data",
     "data": {
      "image/png": "[encoded data removed]"
     },
     "metadata": {
      "application/vnd.databricks.v1+output": {
       "addedWidgets": {},
       "arguments": {},
       "data": "data:image/png;base64,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\n",
       "datasetInfos": [],
       "metadata": {},
       "removedWidgets": [],
       "type": "image"
      }
     },
     "output_type": "display_data"
    }
   ],
   "source": [
    "# Run SQL Query\n",
    "prime_spending_df = spark.sql(\"\"\"\n",
    "    SELECT \n",
    "        prime_member, \n",
    "        SUM(total_price) AS total_spent\n",
    "    FROM amazon_transactions t\n",
    "    JOIN amazon_customers c ON t.customer_id = c.customer_id\n",
    "    GROUP BY prime_member\n",
    "\"\"\").toPandas()\n",
    "\n",
    "# Visualization\n",
    "plt.figure(figsize=(6, 6))\n",
    "plt.pie(prime_spending_df[\"total_spent\"], labels=prime_spending_df[\"prime_member\"], autopct=\"%1.1f%%\", colors=[\"#ff9999\",\"#66b3ff\"])\n",
    "plt.title(\"Prime vs Non-Prime Spending\")\n",
    "plt.show()\n"
   ]
  },
  {
   "cell_type": "code",
   "execution_count": 0,
   "metadata": {
    "application/vnd.databricks.v1+cell": {
     "cellMetadata": {
      "byteLimit": 2048000,
      "rowLimit": 10000
     },
     "inputWidgets": {},
     "nuid": "4bf8ee0b-6e34-4668-901a-18921eb2a0ef",
     "showTitle": false,
     "tableResultSettingsMap": {},
     "title": ""
    }
   },
   "outputs": [
    {
     "output_type": "display_data",
     "data": {
      "image/png": "[encoded data removed]"
     },
     "metadata": {
      "application/vnd.databricks.v1+output": {
       "addedWidgets": {},
       "arguments": {},
       "data": "data:image/png;base64,iVBORw0KGgoAAAANSUhEUgAAAt4AAAGeCAYAAACjJAauAAAAOXRFWHRTb2Z0d2FyZQBNYXRwbG90bGliIHZlcnNpb24zLjUuMSwgaHR0cHM6Ly9tYXRwbG90bGliLm9yZy/YYfK9AAAACXBIWXMAAAsTAAALEwEAmpwYAABTA0lEQVR4nO3deZwcVdX/8e/JZN/JMgsBkrDvi0R2fBJA8IkI8gOUfVMBQUAQZRURF0CURQFZBNkeCIiyiIAiEFlMwETCvpgJCQGyECCQjZCZOb8/brXTGXpmuma6u6q7P+/Xq18z3VVdffpMT/WpW7fuNXcXAAAAgOLqkXQAAAAAQDWg8AYAAABKgMIbAAAAKAEKbwAAAKAEKLwBAACAEqDwBgAAAEqAwhsASszM3MzWb2fZUWb2VJpiKidJ5Q8A8kHhDaBqmdlsM/vUzEa0efy5qBAdU4DXmGxm3+zudvJ8rX3NbIaZfWxmi8zsMTMbW4rXbhPHOma2NOvmZrYs6/6upY4JANKgZ9IBAEDC3pR0sKTfSJKZbSGpf6IRdUHUWn2LpP8n6TFJAyXtKam51LG4+1vR62dic0lbufvMtuuaWU93byplfACQFFq8AVS7WyUdkXX/SIUC9r/MbIiZ3WJm75nZHDM718x6RMuOMrOnzOyXZvahmb1pZv8bLfuZpF0lXRm19F6Ztdk9zOw/ZrbYzK4yM2sbWPT4r9o8dr+ZnZrjfWwt6U13f9SDJe7+x6gIlpltZ2ZTotebZ2ZXmlnvXAkxsz7R+3nLzBaY2TVm1i9aNsLMHoi284GZPZnJRT6ifD1tZpeZ2fuSzu/k9cab2dtm9j0zWxjFfnTW9oZHOfnYzJ6VtF6+sQBAqVF4A6h2UyUNNrNNzKxG0kGSbmuzzm8kDZG0rqT/USjUj85avr2k1yWNkPQLSTeYmbn7OZKelPQddx/o7t/Jes7ekj4vaUtJX5O0V47YbpZ0cFaRP0LSHpJuz7HuvyVtHBW0E8xsYJvlzZJOjWLcUdLukk5oJycXSdpQoZhfX9IoSedFy74n6W1JIyXVSTpbkreznfZsL2lW9PyfdfJ6klSvkP9Rkr4h6SozWyNadpWkTyQ1SDomugFAKpVl4W1mN0YtHy/luf7XzOwVM3vZzHJ9YQGobplW7y9KelXSO5kFWcX4WVEr8mxJv5J0eNbz57j79e7erFAsNygUlR25yN0XRy3SjysUnatx92clfaRQJCuKY7K7L8ix7ixJ4xWK07skLTKzmzIFuLtPd/ep7t4UvYdrFQ4iVhO1vB8r6VR3/8Ddl0j6efTakrQqen+j3X2Vuz/p7nEL73fd/TdRF5NPOnm9zGteEL3eg5KWStoo+tvsL+k8d1/m7i8p5B8AUqksC29JN0n6Uj4rmtkGks6StLO7bybpu8ULC0CZulXSIZKOUptuJgotxL0kzcl6bI5CgZsxP/OLuy+Pfm3b4tzW/Kzfl3ew/s2SDot+PyyKNaeosP6au49U6OLyBUnnSJKZbRh1EZlvZh8rFLcjcmxmpEIf9+lRd5LFkh6OHpekSyTNlPQ3M5tlZmd28j5zmRvj9STp/Tb9wDP5GqlwrVL29rL/TgCQKmVZeLv7E5I+yH7MzNYzs4fNbHrU53DjaNG3JF3l7h9Gz11Y4nABpJy7z1G4yHKipD+1WbxIocV1dNZj6yirVbyzzXczvNsk7WtmW0naRNK9eb2o+78U3svm0UO/lfSapA3cfbBCF5HP9CtXeL8rJG3m7kOj2xB3z7ScL3H377n7upL2kXSame2eYzsdhpfv63XiPUlNktbOemydmLEAQMmUZeHdjuskneTu20o6XdLV0eMbStowuphnqpnl1VIOoOp8Q9Ju7r4s+8Go+8hdkn5mZoPMbLSk0/TZfuDtWaDQN7xL3P1tSf9SaOn+o7uvyLWeme1iZt8ys9ro/sYKhfHUaJVBkj6WtDRa9u12Xq9F0vWSLsva1igz2yv6fW8zWz/qkvKRQt/xlm68vw5fr5PnNiscXJxvZv3NbFOFi2MBIJUqovCO+jDuJOkPZjZDoe9iQ7S4p6QNFPo+HizpejMbWvooAaSZuze6+7R2Fp8kaZnCBYFPKVzceGOem75C0gHRiCe/7mJ4N0vaQh10M5G0WKHQftHMlip017hH4WJPKTRIHCJpiUKhe2cH2zpDoTvJ1Khbyt8lbRQt2yC6v1TSFElXu/vj8d9S3q/Xme8odDuZr9AN8ffdjAUAisbiXxOTDhYmtnjA3Tc3s8GSXnf3hhzrXSPpGXf/fXT/UUlnRqdhASD1zOwLCi3so7twISMAICUqosXb3T+W9KaZHSiFq/Kj/pBS6A85Pnp8hELXk1kJhAkAsZlZL0mnSPodRTcAlLeyLLzN7A6FU5wbRRMrfEPSoZK+YWbPS3pZ0r7R6n+V9L6ZvaIwZNf33f39JOIGgDjMbBOFLiQNki5PNBgAQLeVbVcTAAAAoJyUZYs3AAAAUG4ovAEAAIAS6Jl0AHGNGDHCx4wZk3QYRbNs2TINGDAg6TDKBvmKj5zFQ77iIV/xkK/4yFk85Ct/uXI1ffr0RdFswAVRdoX3mDFjNG1ae0Ptlr/Jkydr/PjxSYdRNshXfOQsHvIVD/mKh3zFR87iIV/5y5UrM5tTyNegqwkAAABQAhTeAAAAQAlQeAMAAAAlUNQ+3mY2W9ISSc2Smtx9XJvl4yXdJ+nN6KE/ufsFxYwJAAAASEIpLq6c4O6LOlj+pLvvXYI4AAAAgMTQ1QQAAAAogWIX3i7pb2Y23cyObWedHc3seTN7yMw2K3I8AAAAQCLM3Yu3cbNR7v6OmdVKekTSSe7+RNbywZJa3H2pmU2UdIW7b5BjO8dKOlaS6urqtp00aVLRYk7a0qVLNXDgwKTDKBvkKz5yFg/5iod8xUO+4iNn8ZCv/OXK1YQJE6a3vUaxO4paeK/2QmbnS1rq7r/sYJ3ZksZ11Cd83LhxzgQ6yCBf8ZGzeMhXPOQrHvIVHzmLh3zlr50JdApaeBetq4mZDTCzQZnfJe0p6aU269SbmUW/bxfF836xYgIAAACSUsxRTeok3RPV1T0l3e7uD5vZ8ZLk7tdIOkDSt82sSdIKSQd5qZrgAQBA2WhpkRYulBoattf8+VJtrdSDISJQZopWeLv7LElb5Xj8mqzfr5R0ZbFiAAAgjSgi42lpkV58Udp3X2nOnH4aPVq67z5piy3IG8oLH1cAAEooU0TusIO08cb9tMMO4X5LS9KRpdfChZmiO9yfMyfcX7gw2biAuCi8AQAoIYrI+BYvbs1Xxpw50sqViYQDdBmFNwAAJbRyZe4i8r33pE8+SSamtHKXrrhCevVVafTo1ZeNHi316ZNMXEBXUXgDHWhpkebPD1+K8+dzKhhA9y1blruInDlT2mAD6Xe/k1atSia2NPn0U+nYY6Xvflf65z+le+9tzdvo0dINN0ivvJJkhEB8FN5AO7L7YY4ZI/phAui2uXOlU06Rbr559SLyvvukUaOktdaSvvUtadNNpTvuqN79zaJF0he/GA5Czj5buvhiacstpalTpddeW6Gnn5YmTZL23FO6886kowXyR+ENtIN+mAAKqblZOuywUDyOGdNaRE6dGkbn2G670LJ7//1Sv37SIYdI22wj/fnPoctFtXjppZCLZ56RbrtN+tnPwsglPXpI9fXSvHnPaNQo6dJLpZ13Dnm67bakowbyQ+ENtOEuPfusNG8eF/MAKJyf/1x64gnpqqtCK3emiKyvbx0Sz0z6ylekGTNCi/fy5dI++0g77ig99lii4ZfEAw+E97pihfSPf0iHHtr+uoMGSQ8+KI0fLx1xhPT735cszG6hC2N1o/BGwZXrTuXll6Vzzw19LLffPsTPxTwACuHpp6Xzzw+F5OGHd75+jx7SQQeFPszXXy+98460++7SHnuEluBK4y5dckk4yNhwQ+lf/wr74c4MGBCK9T33lI45Rrr22uLH2h10YQSFNwqq3HYqb74pXXhh6Du4+ebh97Fjw0U7EyaEfpfZ/TBvvjm0sgBAvj78MHSHGDNGuvrq0Kqdr169pG9+U/rPf6TLL5deeCHsV/fdN+xbK8HKldLRR0s/+IF0wAHSk0+Gvu756tcvXHi5997S8cdLv/lN0ULtNrowgsIbBbNsmfT667l3Kq++Gi4qSoP586Vf/zqczlx33XDhzsCB4bF33pEeeSS0nAwZEvpdTp0qzZ4tPfywdOaZoRWquTnpdwGgHLhLxx0nvftu6DoyeHDXttO3b7goc9Ys6ac/Dd0wttoqtKDPnFnYmEtpwYLQyHHzzdKPfxwulOzfP/52+vaV/vhHab/9pJNPDv2/0+iDD3J3YZw1S7rppjCSCyobhTe6zF167TXpssvCab5hw8JRe66dyqJF0jrrSGuvLX3966Hl5tlnS7eT+fDD0Iq9xx5h5IBTTgl9Jy+8MLR6//Of0kknhT6X2TIX84weLW28cThF/MAD0ve+V5q4kZxMl6nMlN5pPWtTTcqxG9sNN0h/+EO4QHC77bq/vYEDpXPOCYXamWeGlt6NNw7D7qWlcSNfM2ZIn/98+HnXXdJ558U7G9BW796hcD/wwLCPvvDCQkXafR9/LB11VGicytWFccmS0Oq//vph3PJlyxIJEyVA4Y1Yli0LV9ifcEJoLd5kE+m008IO/zvfaS1Ss40eHYrdK66QdtkltCCfemrovzdkiLTrrtIZZ4RuHYU83bZsWRhuat99pbq6cLp29uzQwv3yy9Lzz4cvrjFj8t/mCSeEMWWvuCJcIIXKVElTepdjsZpLuXVjk8KZvpNPDgf8p59e2G0PGxYu1mxsDPulm24K16ecdlqYiCft/vSnMCJJS4v01FOhWC6EXr2k228PZwLOPju0oic9IszTT0tbby3demv4jmvbhfG++8Jn5MEHw2f7u98Nj19wQWghR4Vx97K6bbvttl7JHn/88aRDWE1Li/urr7pfeqn7F7/o3ru3u+Tev7/7V77ifvXV7m++2bp+c7P7jBnuo0eH9UaPDvebm1ff7ttvu//hD+6nnuq+ww7uvXqF9SX39dZzP/zwsO0ZM9ybmj4bV3Oz+7x57q+9ttznzWvd/sqV7vff737wwe4DBoTtrblmeJ1nnw3vp7uamtz33tu9Rw/3Bx/s/vZKpb2coVVLi/vLL7s/91zrZzhzGz065K+c5Pv/WEjF2ofNm1def5MVK9y33NJ95Ej3d99tf71C5Wv2bPdjjgn7pYED3c891/3DD1v/72fP9lT837e0uP/0p+Hvt/32HeemPfnkrKnJ/aijwuucc05h9v1xffpp+Dv06OE+dqz700+Hxzv7mzz1VPiOkcLf8nvfC9+ZXZW2uiLNcuVK0jQvYB2beCEd90bhXXxLl4bi9dvfdh8zpvVLbpNN3E87zf2RR9w/+aT953dlR79iRdjZXHKJ+377udfVtb7uwIHuu+/u/sMfuj/0kPvixZ8tJv71L/ef/cx9jTXCY8OGuR97rPvjj+cu3LtryRL3rbcOsT3/fOG3X2hJFGDloKXF/aWX3K+80v3AA91ra0N+Jk9evcDL3GbPTjrieJIoVgu9D2tpcf/b39ynTi2vv8lJJ4X4/vKXjtcrdL5efdX9a18Lr73HHu5TpqTn/375cveDDgqxHHpo2O93Rb45a252/9a3wuudfnppi+833nDfbrvw2kcd5f7RR/G38cILIU81NaFx6hvfcH/99fjbSUNdUS4ovCm8C6q9grilxf2VV9x/9auwo860ag8Y4L7PPu6//e3qrdql0NLiPmuW+223uZ94ovs224RWA8n9T3/KXUzce2/YST3wQGj5Lra5c0Nr+tprp7fVLaPcWguLpbnZ/cUX3X/zG/f993cfMaI1H2uvHc603HBD+LznytdbbyX8BmKaPTt3sfrMM+5//KP7qlWFf81C7cNWrXKfNMn9c58LMf/5z7n/Jl0pRIrt/vtDfN/9bufrFmuf/+9/h4aHtPzfv/OO+7hx7mbuF17YvSI4Ts6am8N3iOR+8snFL75bWtyvuy6cFV5jjXBmt7tmzXI/4QT3vn1D/g44wH369PyfT+GdPwpvCu+CydXi+eyz7hdf3LVW7SQsWeL+2GPhfeQqJkp9cOAedn79+7t//vPuy5aV/vXzNXNm7pyltbWwUJqbwxmJK65w/3//z3348Nb3vs467kce6X7jjeGLLfsLOdf/y9//Hs4CffppQm+mC95+O3fh9cAD/t9uWOef373T2G11dx+2fHnoZrbuuiHGDTd0v/760Dra9m/y+OPuO+/sftddBQi8QN55J3zOtt46v31oMYui9g68pkwJZxAfe6zrrc5xPPts+KwNGBAaSLorbs5aWkJ3Qyn8DxerxX/hQvd99w2vs/vuhf2/cnefP9/9rLPcBw8Or7HnnuFv2NnBBIV3/ii8KbwLpr0Wz3vvbW3VLpciLG2tt/feG1oh9t8/nV03nnsuFFq5cjZ5svucOQkH2AXtnb3JFMyXX+7+1a+GLkeZ9ztmTDjle9NN+R2kte0T/5e/hO2ccEJR31rBtLS4n3FGOGBo29Xg00/d77vP/UtfCo/X1IQDk7//vfstgl3dh73/vvtPfhL6RGf6//7pT6t3FWv7d//ww1B4m7n/+tfdi7sQmprcJ0wIB+OvvZbfc4pZFLW3r/zb31rPIPbpE2L+yU9Cd79Cny2cNCm01I4eXbhueV3JWeb/QQpdNgrdBfGhh9zr68MZ40svLe53weLF7hdd1Nolc/vt3e+5p/3XpPDOH4U3hXfBvP66f6bVI6lW4u5KY3/lSy8NsZxxRnIx5PLgg6Ef+le+Elrns3M2ZYr7F74QioSLLy6fltxcf/8pU0Ifzkwffym0mB59tPvNN3fvoDL7f/L008O2r722u++i+C68MMR6660dX3Mxc6b797/fejZgww3D5/mDD7r2unH3YW+9FVojMxdD/+//hgPCfA8Ali8PB1mS+5lnJnMRXcbPfx7iuPHG/J9T7O6F7e0rFy8OXWJOPdV9q61a/28GDHDfa69Q2D37bNe7IzU3h1Z1yX2XXdwXLCjc++pqzlpa3M87L8R0+OGFKb6XL3f/znfCNjffvLTX/KxYERrNxo4Nr7/ppmF/13ZfTuGdPwpvCu9ue/310B+svX7R5drHN20jdLS0uB9/fMjr736XbCwZ11wTWjK32Sac/s6Vs9mzW0+Nbrqp+z/+kXTUnWuvFe/BB0NL1i23FLYVP/t/sqkptBL37On+xBOFe41Ce/jh0Ap80EH5F6IrVoQifccdQ0779QsHLs8+G++1892HvfSS+xFHhFzW1LgfdljXi5amJvfjjgtxH3FEMgeRU6aE9xEn5+7FL4ryvdj9vffc77479IfeZJPW/63Bg8OB+6WX5t/AsXRpOIMihc9QobstdjdnP/lJiO2gg7p3ncNzz7Xm6rvfLU23nVxWrXK//fYwik6mG92vfx26P6bpe7IcUHhTeHfZu++GL6KamtDied11qw+RloZW4kJI05H8qlWhz13PnuGUfVKam91/8IPwd544MfSNz5YrZ/ff3/rZOPLIwrZOFUpzcziAnDJl9aK72P3V2+brww9Dq/DIkensntXYGFr+t9giFEBd8dxzYVSgTCv0ttuGi07zuY6hs//JJ59sHSqtf/9wwVsh8tjS4n7BBWG7X/rSZz/3xbR4cejKNGZM+D2ONO3Dss2bF4q5b33Lff31W//Phg8P3equvDJclJ85yMgU+DNnuv/1r2GY2EsvLc4ZiELk7OKLw/vZf//43Wuam91/8Ysw0siaa4auO2nQ0hK6xO2yS+h+8thjlfedX2wU3hTesS1e7H722aG1qlevMKRVpohK23iuhZC2L63Fi90328x9yJDwpVRqK1aEYfEyFxHlas1pL2fLloULd3r1CoXbNdek4zOycmU4db/xxuF9Pfhgac/e5MrXa6+FlsCtt+56cVsMy5aFbgNDh4YCqLsWLw4F1mabhTwPHep+yilhyLr25MpXc3O4FmKnncJ2Roxw//GP3Rct6n6MbV1/fei/PG5caQ4gW1pCy2lNTTgojCtt+7D2vPVW6MZw5JGhRTXzv1dfH8bJnjr1s0O8Fmv/UaicXXZZiHefffJvlX/rLffx41uL9mJ8hgvhjTcq6yx3qVB4U3jnbcWKMBxg5mKygw8uzBdv2qXxS+vNN8N40OuuG65yL5X33mstbH75y/ZbmjrL2SuvtH6xbLddvGGrCmnJktBiNmpUiGXrrd3vuCN0IyhlH//28vWXv4TuHAcemGy/4oyWFvdDDgkxPfRQ4bf9j3+EAjMz2dVuu4Wh0jLdOnJ1ZcocNGVOx48ZEwr5Yo8AdP/9ofFh/fXDGYBi+v3vw3v72c+69vw07sM609ISvl+uvz585tob6rGUB8NdddVV/t9rCzrrKnLHHeHgc+DA8HdPw/99e9ob0SaNZ+nShMKbwrtTTU1hlIZMC8Ree4XxW6tFWr+0pk4NV/LvvHNp+v298UYoMvr27Xzc2Hxy1tISxlCvrQ2thyedFP8UelctXBguyspcKDl+fOiz3Ha4v1KdvekoX5nT1T/9afFeP1+Z1rtixzJ/figyM/uchoZwduTf//7sBa+ZLiVbbRW6LRRj3PD2TJkSGiJqa92nTSvOa7z2WuiOM2FC1y/US+s+LI5SF3mFztn114cD1j32yH1QuHhxuAZBCtdAlEOjVtpG/yoXFN4U3u1qaQmtDJtvHv6K48a5P/pocWNLozR/ad11V/jbHHJIcVtGnnoq9LscMcL9n//sfP04Ofvww3CxlVk4pXz77cV7L7NnhwK/X7+Qt69+tWun7guto3y1tIRJm6QwPF9SHn88dHX46ldL1z2oqSnsgyZObP/i7UcfDf19k2oZfPXVEMfAgYXvh/vJJ+HC5eHDmc671EVeMXJ2002hkeHb3w5/z8xBfWY0qJqa0D2qlAeP3dHeXAQV8HErKgpvCu+cnn46XDwhhVbOu+5K9ymvYkr7l1ZmeLEf/ag42580KYzDu8EG+bfCdCVn//pXOLiTwsQQ+Y5RnI8XXwytSTU14cLUo49Opn98ezrL1/LlITcDB4aROkrtrbfChZ4bb9y1aakLIc0TNL3zThjtoWfPMGpLoWQmZLn//u5tJ+37sHyUeojXYuXsoYc+O+793/8eRmhJQyNAXNndv959N4z4M2RI8btflTMKbwrv1bzySut4tXV1YfzOchl7uVjS/qXV0hIKSSl03Sjkdi+6yP87Rm6cC3y6mrOmptAfcsiQMEnEueeGorOrnnqqtSvCgAGhkEnjlOz55Gvu3PA/ud56YSKYUlmxIhT9gwZ1fMFjsaX9tPbixaE7iOR+ySXdb6jITKZ00kndjy3t+7B8paX7V3e09zku9AyUpZbJ16xZYf+97bbpm5k6LUpRePcQUu/tt6VvflPafHPp0Ueln/5UamyUjj9e6tUr6ejQETPpmmuk8eOlY46Rnnyy+9tsagp/+zPPlA46SHrkEWn48O5vtzM1NdIJJ0ivvy597Wvhc7jZZtJf/pL/NtzD+rvuKu2yizRlivTjH0tz5kiXXiqtvXbx4i+mtdaS7rlHmjtX+vrXw9+o2NylE0+Upk2TbrlF2njj4r9me2prpfvuk0aPDvdHjw73a2uTiynbkCHSQw+Fz+33vy+ddprU0tK1bc2bJx11lLTlltIvflHQMMtajx5SfX3429fXh/vlZuXKsC/KNmdOaf6fS2HsWOnmm6Xp06XvfS/paKpXGf5rVKaWFmn+fKmhYXvNnx/uf/ihdMYZ0gYbSLfeKp1yijRrlnTOOdKAAUlHjHz17i398Y/SmDHSfvtJM2d2fVtLlkhf+Yp03XXSWWdJ//d/Ut++BQs1L3V14fP4+OPhtffeW/p//0966632n7NqlXTbbaFY2XvvsO4VV4QvtfPOK82BQ7HtuGM4yPr736XTTy/+6117rXTjjdK550pf/WrxX68jPXpIW2whTZ0qvfbaCk2dGu6nqfjq00e6446wH738cumQQ0KhFUdLi3TEEdLSpWFbpf7fQ3H16dN68JgxenR4vFLsu28ouq+6SrrzzqSjqU4p2i1Wr5YW6cUXpR12kDbeuJ922EF69lnpwAOlSy4JrTRvvBFaBEeMSDpadMWwYa0tw1/+cjioiuvtt0NL8SOPSNdfL/3858kWNuPHSzNmSBdeKD38sLTJJuHz+umn4SByzhzp3Xelu+4KB4+HHx5aaW+5JRx8nHxy5R1AHn10KOyuuEL6/e+L9zpTpoT8/e//SuefX7zXiSPT4jlv3jOpbfHs0UO67LLQUn3nndLEidLHH+f//F/9KhxYXXGFtOmmxYsTyUj7mZtCufBCaaedwpn0N95IOprqk8JdY/VZuDAchWZOcc2ZE7oQnHtuKGxuvvmzR+EoP+uvH7ojzJ4t7b9/KFDz9fzz4cBs1qxQwH/zm0ULM5bevUOXl1dekXbfPbTs//OfIdYxY8LOffhw6YtflO6/X3rhhVCAV3IXqV/+Utpjj9AdaMqUwm9/3rzw+VlnnXDGo6am8K9RycxCd5NbbpGeeEL6whdCTjvzr39JZ58tHXBAev7/UFjZZ25mz1Yqz9wUQq9e4cCzT5/weV6+POmIqkuFfZzKU3v9ysaODafmUTl23VW64YbQTeP440MLcGf++tfQH1oKfcT32qu4MXbFmDGhsL7xxtD/Nfsg8hvfkH7yk9BFptK+wHLp2TN8qa29duha9Pbbhdv2p5+GM2EffRQO4tZYo3DbrjaHHx4OYmfODN2EXn+9/XU//lg6+GBpzTVDNy+z0sWJ0qqEvur5WGut0P3vpZekk05KOprqUqEfqfJSDf3K0Oqww6Qf/Sh0Rbj44o7Xve660DVlvfWkZ56RttqqNDF21YABuQ8i4/alLXfDhoUDkeXLQ//rFSsKs93TTpOefjocvG2xRWG2Wc323FOaPDn8fXbeObRw5nLiidKbb0q3387BDirHl74Urhm78UbpppuSjqZ6UHinQLX0K0OrH/0otKCddZZ0992fXd7SEpYdd1zopvHkk9KoUaWPMy4OIlttumnoCvLvf4euCfmc3ejITTeFC6K+973QFQ2FMW5c6B41dKi0227SAw+svvzWW0PL4Pnnh+IcqCTnny9NmBBGrHrppaSjqQ4U3imQ6Vf2+99LTz/dUrH9ytDKLLQy7LxzOOX9zDOtyz75JIy4cNFF0rHHSn/+szRoUHKxxsFB5Oq+8pUw7OLtt4cLT7tq2rTQNWm33cLnAoW13nqh+N5003CG4r77wgXCM2eGoQiPOy707wYqTU1N2D8NHhz6ey9dmnREla9n0gEg6NEjFFlrrbVIjz9epVVKlenbN/TT3WGH0OpwzTWhpbuxMVzYc/HF4SKwcupPmn1x0sqVoaW7tra6DyLPOitcVHrmmWEs/okT4z3/vffCcI11daHveE/22kVRWxu6nZxzjjRwYPi/nDMnHDzec095/R8CcdTXh+Ex99gjHGTedhuf92JiF54STU2h2NpuuwJ1BkVZGDkyDE/25pvS//xP6xf9H/4gbbttee78MhcnIcic3XjjjdC96Jln8p/spqkpdCtZuDD07WY40eIaODAcIO244+oXCO+3XziY5HONSjVhgnTBBWE0tV13DWfYUBxV3A6VLnPnhi/ZNdek8K42/fqFWS2zv+gPPDAUW6gM/ftL994bznLsu6+0eHF+zzvzTOmxx8JkOdtuW8wIkfHpp1wgjOp01lnhgstTTgnXpqA4ilp4m9lsM3vRzGaY2bQcy83Mfm1mM83sBTP7XDHjSbPGxvBz1KhPkg0EJdfecJJ80VeWddYJ45y/+WZo+W5u7nj9SZPChC0nnigdeWRpYgQXCKN69egRLiaurQ2NP/k2ECCeUrR4T3D3rd19XI5l/ytpg+h2rKTfliCeVMoU3rR4Vx++6KvHLruEkUkefji0ZrfnhRfC+Oc77xxmrEXpcIEwqtmIEeFakrfeCmdiuzsaEz4r6a4m+0q6xYOpkoaaWUPCMSWisTEUWiNG0MxZbfiiry7f+lZoxf7lL0PrUlsffBD6FA8ZEoaa7N279DFWs2qZvRBoz047hYv777lHuuKKpKOpPMW+uNIl/c3MXNK17n5dm+WjJM3Nuv929FgeE/hWlsbGMFMlO/fqw0gg1eeyy6RXXglF+EYbSdttFx5vbpYOPTRc8/GPf3AxX1K4QBjV7tRTpSeeCCNr7bBDuKEwzIt4HsHMRrn7O2ZWK+kRSSe5+xNZyx+QdJG7PxXdf1TSGe4+rc12jlXoiqK6urptJ02aVLSYk/LNb47TyJErdc45UzRw4MCkwykbS5cuJV8xkbN4ipWvjz7qpeOP/5y23LJGl132iWpqeum990ynn95XO+30uvbZpzzbH/h8xUO+4iNn8XQ1X0uW9NRxx22r5mbTdddN05AhTUWILl1y5WrChAnT2+ku3SVFbfF293einwvN7B5J20l6ImuVdyStnXV/reixttu5TtJ1kjRu3DgfP358sUJOhLu0YIE0ceJADRw4UJX2/opp8uTJ5CsmchZPMfO16aahdXvixN7/HUry//5P2mGHjVRTs1FRXrPY+HzFQ77iI2fxdCdfa64Zup5ce+0ueuCByj8TW4rPVtFSaGYDzGxQ5ndJe0pqOyHp/ZKOiEY32UHSR+5ens083fDee2G2qPXWSzoSAKU0aNBnh5I89NCwTwCApG27rXT55dJDD4V+3+i+YrZ410m6x8IMID0l3e7uD5vZ8ZLk7tdIelDSREkzJS2XdHQR40mtWbPCTwpvoLowlCSAtDv++NDf+9xzQ+v3//xP0hGVt6IV3u4+S9JWOR6/Jut3l3RisWIoF5mhBNdbL3Q5AVAdMkNJZhffDCUJIE3MpOuuC5PqHHSQNGOGVFeXdFTlq8J765SHxsbwwR47NulIAJQSQ0kCKAeDBoXhTRcvlg45pPMJwNA+Cu8UaGyURo0K00kDqB6MGQ2gXGyxhXT11dJjj0kXXJB0NOWr2ON4Iw+NjfTvBqoVY0YDKBdHHx36e//kJ2Fm3T33TDqi8kO7SgpQeAMAgHJw1VXSZpuFEZjefjvpaMoPhXfCli2T5s+n8AYAAOnXv3/o7/3JJ+Fiy1Wrko6ovFB4J4yhBAEAQDnZaKMw0snTT0vnnJN0NOWFPt4Jyx5KEAAAoBwcfLD05JOhz/crr0gDBoShUGtruUC8IxTeCcsU3uuum2wcAAAAcVx6qfTMM9LEiWE+gsyQqIzO1D7SkrDGRmnoUGnYsKQjAQAAyN/ixdKRR7ZOAjZnjrTvvtLChYmGlWoU3gmbNYtuJgAAoPysXLn6zLtSuL9yZTLxlAMK74QxlCAAAChHffq0zrybMXp0eBy5UXgnqKkpzFZH4Q0AAMpNbW3o050pvjN9vGtrk40rzbi4MkFz54bim8IbAACUmx49woWUDzwgvf++tM46ofjmwsr2kZoEMZQgAAAoZz16SIsWSePHS2++SdHdGdKTIApvAABQ7urrw89585KNoxxQeCeosTFcgDBqVNKRAAAAdE1DQ/g5f36ycZQDCu8ENTZKY8dyWgYAAJSvwYOlvn1p8c4HJV+CGhuZsRIAAJQ3s9DqTYt35yi8E+LOGN4AAKAyNDTQ4p0PCu+ELFokLV1K4Q0AAMpffT0t3vmg8E4II5oAAIBKQYt3fii8E0LhDQAAKkV9vfThh9InnyQdSbpReCeksTFcjDB2bNKRAAAAdE9mSMEFC5KNI+0ovBPS2BjG7+7bN+lIAAAAuodJdPJD4Z0QRjQBAACVgkl08kPhnRAKbwAAUCkyhTct3h2j8E7AsmXhiJDCGwAAVIKRI8O1axTeHaPwTsCsWeEnhTcAAKgEPXtKtbV0NekMhXcCMkMJMl08AACoFPX1tHh3hsI7AYzhDQAAKk1DAy3enaHwTsCsWdLQodKwYUlHAgAAUBjMXtk5Cu8EMKIJAACoNPX1YQKdlpakI0kvCu8EUHgDAIBK09AgNTVJ77+fdCTpReFdYk1N0uzZFN4AAKCyMHtl5yi8S2zu3FB8U3gDAIBKwuyVnaPwLjFGNAEAAJWI2Ss7R+FdYhTeAACgEtHVpHNFL7zNrMbMnjOzB3IsO8rM3jOzGdHtm8WOJ2mNjVKfPtKoUUlHAgAAUDgDBkiDBtHVpCM9S/Aap0h6VdLgdpbf6e7fKUEcqdDYKI0dK/XgXAMAAKgwzF7ZsaKWf2a2lqQvS/pdMV+nnDQ2MlU8AACoTMxe2bFit7teLukHkjoaSn1/M3vBzO42s7WLHE+i3BnDGwAAVC5avDtm7l6cDZvtLWmiu59gZuMlne7ue7dZZ7ikpe6+0syOk/R1d98tx7aOlXSsJNXV1W07adKkosRcbIsX99J+++2sE0/8jw444J2c6yxdulQDBw4scWTli3zFR87iIV/xkK94yFd85CyeUufryivX14MP1uvBB58q2WsWSq5cTZgwYbq7jyvUaxSz8L5Q0uGSmiT1Vejj/Sd3P6yd9WskfeDuQzra7rhx43zatGmFDrckpk6VdtxR+vOfpb33zr3O5MmTNX78+JLGVc7IV3zkLB7yFQ/5iod8xUfO4il1vi6+WDrzTGnJEqncjo9y5crMClp4F62ribuf5e5rufsYSQdJeqxt0W1mDVl391G4CLNiMZQgAACoZJkhBennnVvJx9YwswvMbJ/o7slm9rKZPS/pZElHlTqeUmpslMzCqCYAAACVhtkrO1aK4QTl7pMlTY5+Py/r8bMknVWKGNKgsTGM3923b9KRAAAAFB6T6HSM0aRLiBFNAABAJaPFu2MU3iVE4Q0AACrZ8OFSz560eLeHwrtEli0LR38U3gAAoFL16CHV1VF4t4fCu0RmzQo/KbwBAEAlY/bK9lF4l0hmKEGmiwcAAJWM2SvbR+FdIozhDQAAqgEt3u2j8C6RWbOkoUOlYcOSjgQAAKB4GhqkhQulpqakI0kfCu8SYUQTAABQDerrJfdQfGN1FN4lQuENAACqAWN5t4/CuwSamqTZsym8AQBA5WP2yvZReJfA3Lmh+KbwBgAAlY4W7/ZReJcAI5oAAIBqUVcXftLi/VkU3iVA4Q0AAKpF377SGmtQeOdC4V0CjY1Snz7SqFFJRwIAAFB8jOWdG4V3CTQ2SmPHSj3INgAAqALMXplb3qWgma1hZpuZ2bpmRgkZQ2MjU8UDAIDqQYt3bj07WmhmQySdKOlgSb0lvSepr6Q6M5sq6Wp3f7zoUZYx9zBr5Re+kHQkAAAApZFp8XaXzJKOJj06LLwl3S3pFkm7uvvi7AVmtq2kw81sXXe/oUjxlb1Fi6QlS7iwEgAAVI+GBumTT6SPPpKGDk06mvTosPB29y92sGy6pOkFj6jCMKIJAACoNtljeVN4t4rdV9vM1jGzjYsRTCWi8AYAANWG2Stz67TwNrOLzGzT6Pf9JT0p6U4z+1mxg6sEjY2hb9PYsUlHAgAAUBrMXplbPi3eX3L3V6LfT5W0p6TPSdq7aFFVkMbGMH53375JRwIAAFAatHjn1tmoJj9SGMHkPEn9JK0n6euSTNKQ6PHJ7v5E0SMtU42NdDMBAADVZejQMHkghffqOru48sdRN5PRkgZLusXdLzCz3pL2dPcLShFkOWtslCZOTDoKAACA0jFjLO9cOhtOUJKOkXSEpE8VhhaUpHUkXVisoCrFsmXhA0eLNwAAqDbMXvlZnRbe7r5M0m/bPDZT0sxiBVUpZs0KPym8AQBAtWlokN54I+ko0qXDiyvN7Hoz26KdZQPM7BgzO7Q4oZW/zFCCTBcPAACqDS3en9VZi/dVkn4YFd8vqXXK+A0U+nzfKOn/ihphGaPFGwAAVKuGBumDD6SVK8OFluj84soZkr5mZgMljZPUIGmFpFfd/fXih1feGhvDVb3DhiUdCQAAQGllxvJesEBaZ51kY0mLfC6ulLsvlTS5uKFUHoYSBAAA1Sp7LG8K7yD2lPHIH4U3AACoVsxe+VkU3kXS1CTNnk3hDQAAqhOzV35WrMLbzPoXK5BKM3duKL4pvAEAQDWqrQ0T6dDi3SqvwtvMdjKzVyS9Ft3fysyuLmpkZS4zlCCFNwAAqEa9ekkjRtDinS3fFu/LJO0l6X1JcvfnJX2hWEFVAgpvAABQ7RoaKLyz5d3VxN3ntnmoucCxVJTGRql3b2nUqKQjAQAASEZDA11NsuVbeM81s50kuZn1MrPTJb1axLjKXmOjNHas1IPLVwEAQJVi9srV5VsWHi/pREmjJL0jaevofqfMrMbMnjOzB3Is62Nmd5rZTDN7xszG5BlP6jGUIAAAqHYNDWECnZaWpCNJh7wKb3df5O6Hunudu9e6+2Hu/n6er3GK2m8d/4akD919fYV+5Bfnuc1Ucw/TxVN4AwCAalZfL61aFaaOR54zV5rZ7yV528fd/ZhOnreWpC9L+pmk03Kssq+k86Pf75Z0pZmZu3/mtcrJokXSkiUU3gAAoLplJtGZNy+McFLt8iq8JWV3E+kraT9J7+bxvMsl/UDSoHaWj5I0V5LcvcnMPpI0XNKiPONKJUY0AQAAWH32yi22SDaWNMir8Hb3P2bfN7M7JD3V0XPMbG9JC919upmN72qA0baOlXSsJNXV1Wny5Mnd2VzRPfJIraRN9f77z2ry5OWxnrt06dLUv780IV/xkbN4yFc85Cse8hUfOYsn6Xy9/XY/SdvrscdeVa9eCxKLIx+lyFW+Ld5tbSCptpN1dpa0j5lNVGglH2xmt7n7YVnrvCNpbUlvm1lPSUMUjRWezd2vk3SdJI0bN87Hjx/fxbBL44knwkxNX//6durbN95zJ0+erLS/vzQhX/GRs3jIVzzkKx7yFR85iyfpfC1dGn6uscYmGj9+k8TiyEcpcpXvzJVLzOzjzE9Jf5Z0RkfPcfez3H0tdx8j6SBJj7UpuiXpfklHRr8fEK1T1v27pdDVZNQoxS66AQAAKsnAgdKAAQwpmJFvV5P2+mjHZmYXSJrm7vdLukHSrWY2U9IHCgV62WMoQQAAgIDZK1vl3dXEzEZJGp39HHd/Ip/nuvtkSZOj38/LevwTSQfmG0O5aGyUJk5MOgoAAIDkMXtlq3yHE7xY0tclvaLWqeJdUl6FdzVZtix8uGjxBgAACGN5P/980lGkQ74t3l+VtJG7ryxiLBVh1qzwc911k40DAAAgDRoapL/+Neko0iHfKeNnSepVzEAqRabwpsUbAAAgtHh//LG0PN4IyxUp3xbv5ZJmmNmjkv7b6u3uJxclqjLG5DkAAACtsmevrPb6KN/C+/7ohk40NkpDh0rDhiUdCQAAQPLq68NProHLfzjBm82sn6R13P31IsdU1hhKEAAAoFV2i3e1y3cCna9ImiHp4ej+1mZGC3gOFN4AAACtMoU3Qwrmf3Hl+ZK2k7RYktx9hiTG7WijqUmaPZvCGwAAIGPECKmmhhZvKf/Ce5W7f9TmsZZCB1Pu5s4NxTeFNwAAQNCjh1RXR4u3lP/FlS+b2SGSasxsA0knS/pn8cIqT4xoAgAA8Fn19bR4S/m3eJ8kaTOFoQRvl/SRpO8WKaayReENAADwWQ0NFN5S/i3eG7v7OZLOKWYw5a6xUerdWxo1KulIAAAA0qOhQZo+Pekokpdvi/evzOxVM/uJmW1e1IjKWGOjNHZs6MsEAACAoL5eWrhQam5OOpJk5VUiuvsESRMkvSfpWjN70czOLWpkZWjWLLqZAAAAtNXQILW0SO+9l3Qkycq7bdbd57v7ryUdrzCm93nFCqocuTOGNwAAQC6Z2SurvZ93vhPobGJm55vZS5J+ozCiyVpFjazMLFokLVlC4Q0AANAWs1cG+V5ceaOkSZL2dPd3ixhP2WJEEwAAgNyYvTLIq/B29x3NrJ+kdYocT9mi8AYAAMiNriZBvl1NvqLQr/vh6P7WZnZ/EeMqO42NklkY1QQAAACt+vaVhg6lxTvfiyvPl7SdpMWS5O4zJFFiZmlsDON39+2bdCQAAADpw+yV+Rfeq9z9ozaPeaGDKWeMaAIAANA+Zq/Mv/B+2cwOkVRjZhuYWWZkE0QovAEAANpXX09Xk3wL75MkbSZppaQ7JH0k6ZRiBVVuli0LHyQKbwAAgNwyLd5exX0m8p25crm7n+Pun3f3cZJulXRlcUMrH7NmhZ/rrptsHAAAAGnV0CCtWBHmPalWHRbeZralmf3NzF4ys5+aWYOZ/VHSo5JeKU2I6ZcpvGnxBgAAyI0hBTtv8b5e0u2S9pe0SGFIwUZJ67v7ZcUNrXwwhjcAAEDHmL2y8wl0+rj7TdHvr5vZye7+gyLHVHYaG8PYlMOGJR0JAABAOmVavKv5AsvOCu++ZraNJIvur8y+7+7/LmZw5YIRTQAAADpGi3fnhfc8SZdm3Z+fdd8l7VaMoMpNY6P0uc8lHQUAAEB6rbGG1Ls3Ld7tcvcJpQqkXDU1SbNnSwcemHQkAAAA6WXG7JX5juONdsydG4pvupoAAAB0rNpnr6Tw7iZGNAEAAMhPtc9eSeHdTRTeAAAA+an2Fu8O+3ibWYeXDDKqSSi8e/eWRo1KOhIAAIB0a2iQ3n9f+vTTUD9Vm85GNflVB8sY1URh1sqxY6UenDsAAADoUGYs7wULpLXXTjaWJDCqSTcxhjcAAEB+MmN5z59P4d0hM9tc0qaS+mYec/dbihFUuXAPhfeuuyYdCQAAQPplWryrtZ93Xh0kzOxHkn4T3SZI+oWkfTp5Tl8ze9bMnjezl83sxznWOcrM3jOzGdHtm114D4lZtEhasoQWbwAAgHxU++yV+bZ4HyBpK0nPufvRZlYn6bZOnrNS0m7uvtTMekl6yswecvepbda7092/Ey/sdGBEEwAAgPzV1YWf1TqkYL6XBK5w9xZJTWY2WNJCSR32zPFgaXS3V3TzLkeaQhTeAAAA+evVSxoxonpbvPMtvKeZ2VBJ10uaLunfkqZ09iQzqzGzGQqF+iPu/kyO1fY3sxfM7G4zK6tu9o2NYfrTsWOTjgQAAKA8NDRUb4u3ucdrhDazMZIGu/sLMZ4zVNI9kk5y95eyHh8uaam7rzSz4yR93d0/M0ShmR0r6VhJqqur23bSpEmxYi6WCy/cWM89N1R33dW290zXLV26VAMHDizY9iod+YqPnMVDvuIhX/GQr/jIWTxpzNf3v7+lli7tqd/+Nl3TweTK1YQJE6a7+7hCvUZehbeZPeruu3f2WCfbOE/Scnf/ZTvLayR94O5DOtrOuHHjfNq0afm+bFHtsovUs6c0eXLhtjl58mSNHz++cBuscOQrPnIWD/mKh3zFQ77iI2fxpDFfRx4pPf649NZbSUeyuly5MrOCFt4ddjWJRiYZJmmEma1hZsOi2xhJHc7VaGYjo5ZumVk/SV+U9FqbdRqy7u4j6dX4byE5jOENAAAQT3196GoSs9NFRehsVJPjJH1X0poK/bozPpZ0ZSfPbZB0c9SS3UPSXe7+gJldIGmau98v6WQz20dSk6QPJB0V+x0kZNmy8KGh8AYAAMhfQ4O0apX0wQfS8OFJR1Nanc1ceYWkK8zsJHf/TZwNR33At8nx+HlZv58l6aw4202LN98MP9ddN9k4AAAAykn27JXVVnjnO6rJtWZ2cjTyyN1m9p1obO6qxVCCAAAA8VXz7JX5TqBztcI43FdH9w+X9FtJZTXTZCFReAMAAMRXzbNXdlh4m1lPd2+S9Hl33ypr0WNm9nxxQ0u3xkZp6FBp2LCkIwEAACgfmRbvahzLu7OuJs9GP5vN7L9tu2a2rqTmokVVBhjRBAAAIL5Bg6T+/WnxzsWin6dLetzMZkX3x0g6ulhBlYPGRulzn0s6CgAAgPJiVr2zV3ZWeI80s9Oi36+VVBP93qwwYsnjxQoszZqapNmzpQMPTDoSAACA8lNfX50t3p11NamRNFDSIIUi3aJbz+ixqjR3bii+6WoCAAAQX0NDdRbenbV4z3P3C0oSSRlhRBMAAICuq6+XHnkk6ShKr7MWb+tkeVWi8AYAAOi6hgbpo4+kFSuSjqS0Oiu8dy9JFGWmsVHq3Vtac82kIwEAACg/2bNXVpMOC293/6BUgZSTWbOksWOlmprO1wUAAMDqqnX2ynynjEcWxvAGAADoumqdvZLCOyZ3Cm8AAIDuqNbZKym8Y1q0SFqyhMIbAACgq0aOlHr0oMUbnWBEEwAAgO6pqZFqa2nxRicovAEAALqvGifRofCOqbFRMgujmgAAAKBrGhpo8UYnGhulUaOkvn2TjgQAAKB81dfT4o1OMKIJAABA9zU0SAsWSM3NSUdSOhTeMVF4AwAAdF99vdTSEkaMqxYU3jEsXx76Iq27btKRAAAAlLdqnESHwjuGWbPCT1q8AQAAuidTeFfTBZYU3jEwlCAAAEBhZGavpMUbOVF4AwAAFAaFNzrU2CgNHSoNG5Z0JAAAAOWtf39p8GC6mqAdjGgCAABQONU2eyWFdwwU3gAAAIVTbbNXUnjnqalJmj2bwhsAAKBQqm32SgrvPM2dG4pvCm8AAIDCyHQ1cU86ktKg8M4TI5oAAAAUVn19mKBw6dKkIykNCu88UXgDAAAUVrXNXknhnadZs6TevaU110w6EgAAgMqQGcu7Wi6wpPDOU2OjNHasVFOTdCQAAACVodpavHsmHUA5aGmRjj02TJ4zf75UWyv14JAFAACgW6qt8KZ87ERLi/Tii6Hw3n57aYcdwv2WlqQjAwAAKG/Dhkm9etHVBJGFC6V995XmzAn358wJ9xcuTDYuAACAcmdWXWN5U3h3YuXK1qI7Y86c8DgAAAC6p76eFu9uM7O+ZvasmT1vZi+b2Y9zrNPHzO40s5lm9oyZjSlWPF3Vp480evTqj40eHR4HAABA92Qm0akGxWzxXilpN3ffStLWkr5kZju0Wecbkj509/UlXSbp4iLG0yW1tdJ997UW36NHh/u1tcnGBQAAUAmqqfAu2qgm7u6SMvMQ9YpubScE3VfS+dHvd0u60swsem4q9OghbbGFNHVq6F7Spw+jmgAAABRKfb20aJG0alW40LKSFbV8NLMaM5shaaGkR9z9mTarjJI0V5LcvUnSR5KGFzOmrujRI3woRo8OPym6AQAACiMzpOCCBcnGUQpWisZlMxsq6R5JJ7n7S1mPvyTpS+7+dnS/UdL27r6ozfOPlXSsJNXV1W07adKkoseclKVLl2rgwIFJh1E2yFd85Cwe8hUP+YqHfMVHzuIph3w99dRw/fCHW+iaa6Zro42WJBZHrlxNmDBhuruPK9RrlGQCHXdfbGaPS/qSpJeyFr0jaW1Jb5tZT0lDJL2f4/nXSbpOksaNG+fjx48vesxJmTx5sir5/RUa+YqPnMVDvuIhX/GQr/jIWTzlkK/+/aUf/lBac81tlWSopchVMUc1GRm1dMvM+kn6oqTX2qx2v6Qjo98PkPRYmvp3AwAAoLgyXU2qYUjBYrZ4N0i62cxqFAr8u9z9ATO7QNI0d79f0g2SbjWzmZI+kHRQEeMBAABAytTVhZ/VMLJJMUc1eUHSNjkePy/r908kHVisGAAAAJBuvXtLw4dXR+HN+BwAAABIVLXMXknhDQAAgERVyyQ6FN4AAABIVEMDLd4AAABA0dXXhxbvSh/bjsIbAAAAiWpokD79VPrww6QjKS4KbwAAACSqvj78rPTuJhTeAAAASFRmEp1Kv8CSwhsAAACJosUbAAAAKAFavAEAAIASGDxY6tePwhsAAAAoKrPqmL2SwhsAAACJq4bZKym8AQAAkDhavAEAAIASoMUbAAAAKIGGBmnxYmnFiqQjKR4KbwAAACQuM5b3ggXJxlFMFN4AAABIXDWM5U3hDQAAgMRVw+yVFN4AAABIHC3eAAAAQAnU1ko9elB4AwAAAEVVUyONHElXEwAAAKDoKn0sbwpvAAAApEKlz15J4Q0AAIBUoMUbAAAAKIH6+jCBTktL0pEUB4U3AAAAUqGhQWpulhYtSjqS4qDwBgAAQCpU+ljeFN4AAABIhUqfvZLCGwAAAKlAizcAAABQArR4AwAAACUwYIA0aBAt3gAAAEDRVfJY3hTeAAAASI1Knr2SwhsAAACpQYs3AAAAUAK0eAMAAAAl0NAgLV0abpWGwhsAAACpUcljeRet8Daztc3scTN7xcxeNrNTcqwz3sw+MrMZ0e28YsUDAACA9Kvksbx7FnHbTZK+5+7/NrNBkqab2SPu/kqb9Z50972LGAcAAADKBC3eXeDu89z939HvSyS9KmlUsV4PAAAA5a+SW7xL0sfbzMZI2kbSMzkW72hmz5vZQ2a2WSniAQAAQDoNHy717FmZLd7m7sV9AbOBkv4h6Wfu/qc2ywZLanH3pWY2UdIV7r5Bjm0cK+lYSaqrq9t20qRJRY05SUuXLtXAgQOTDqNskK/4yFk85Cse8hUP+YqPnMVTrvk68MAdte22H+rMM18r2WvmytWECROmu/u4Qr1GUQtvM+sl6QFJf3X3S/NYf7akce6+qL11xo0b59OmTStckCkzefJkjR8/Pukwygb5io+cxUO+4iFf8ZCv+MhZPOWar89/PrR8P/xw6V4zV67MrKCFdzFHNTFJN0h6tb2i28zqo/VkZttF8bxfrJgAAACQfpU6e2UxRzXZWdLhkl40sxnRY2dLWkeS3P0aSQdI+raZNUlaIekgL3bfFwAAAKRafb30TK4rA8tc0Qpvd39KknWyzpWSrixWDAAAACg/DQ3Se+9JTU3hQstKwcyVAAAASJX6esldWrAg6UgKi8IbAAAAqZKZRKfSxvKm8AYAAECqVOrslRTeAAAASJVKnb2SwhsAAACpkim8afEGAAAAiqhPH2mNNWjxBgAAAIquEifRofAGAABA6lB4AwAAACVQX09XEwAAAKDoMi3e7klHUjgU3gAAAEid+npp5Urpo4+SjqRwKLwBAACQOpU4iQ6FNwAAAFKnEsfypvAGAABA6mRavCvpAksKbwAAAKQOXU0AAACAEhgyJMxgSYs3AAAAUERmlTeJDoU3AAAAUqm+vrIK755JBwAAAAC01dIiXXSR1KtX6G5SWyv1KPMm4zIPHwAAAJWmpUV68UXpyCOlnXeWdtgh3G9pSTqy7qHwBgAAQKosXCjtu680Z064P2dOuL9wYbJxdReFNwAAAFJl5crWojtjzpzweDmj8AYAAECq9OkjjR69+mOjR4fHyxmFNwAAAFKltla6777W4nv06HC/tjbZuLqLUU0AAACQKj16SFtsIU2dGrqX9OlTGaOaUHgDAAAgdXr0CON4V5IyP24AAAAAygOFNwAAAFACFN4AAABACVB4AwAAACVA4Q0AAACUAIU3AAAAUAIU3gAAAEAJUHgDAAAAJUDhDQAAAJQAhTcAAABQAubuSccQi5m9J2lO0nEU0QhJi5IOooyQr/jIWTzkKx7yFQ/5io+cxUO+8pcrV6PdfWShXqDsCu9KZ2bT3H1c0nGUC/IVHzmLh3zFQ77iIV/xkbN4yFf+SpErupoAAAAAJUDhDQAAAJQAhXf6XJd0AGWGfMVHzuIhX/GQr3jIV3zkLB7ylb+i54o+3gAAAEAJ0OINAAAAlACFNwAAAFACFN5lzsxqko4h7cxsIzNbI+k4ypWZWdIxpB056hr2X/lhH9Y9/H+iGLq6/6LwLkNmNsHMfipJ7t5sZvwd22Fme0q6X9IXovvsgDthZruY2XFmtquZ1bq78xnr1FCJz1c+2H/Fwz4sPvZh8ZhZfdIxlAsz+6KZ3ST9d/8Vu/jmg1hGLOgt6RRJp5rZJZLk7i1m1ivZ6NIn+sK6UGGm069LknM1cYfM7EuSfi9pc0kHS7rZzDaMPmPsL3Iws/0kzTOz/aMveAqjHNh/xcc+LD72YfGY2VclvWtmRyUcSqpF+6+ekiZKOsLMbpH+W3z3jrMtPoRlxINPJd0i6QxJ65jZtdGyVYkGlzJmNl5hWKBvuPueksaY2TGJBlUedpJ0ubufJOlcSY9JmpT1xUVRmcXM1pV0sqSrJV1nZgdkim9ytTr2X/GwD+sy9mF5MrM1JR0u6XJJ3zezw5ONKL2i/VeTpEmSvi1pTTP7S7Ts0zjbovAuI1k7jF6StpF0uqR6M7vXzO42s5q4R14V7B1JX3f3GdH92yWtJ3GqNpesnHwkabQkufsH7n6JQu4uMbMRtLZ9xnuSrnD30yQdJunGTPGdcFypw/4rNvZhMbAP65LFkq6K9l/fkfRjiu/cshpThkraxt33kDTAzKaa2ZRo/9Unn21ReJcBMxtiZoOzdhj3SHrf3ecqtB59UVI/d2+Oe+RVaaJcreHu/3H3Z7IWTZZ0qJl9iR3vZ2Xl5E5JB5nZyVmLb5W0QNLaJQ8spbI+Z0sk/VmS3P0hSV9TVvFtZp8zs8GJBpsw9l/xsA/rGvZh+TOzejOrd/fl7v6YJLn745KOUSi+j4jW+4KZjUgy1qRFuRrprf4qKXOG7hxJm0nqFe2/VuazTQrvlDOzAyT9QdLfzOwYM9tCUrOkYWZ2gaSfK5zq7m9mv0ww1MRl5eqhrFxJktz9JYVcHWpmQxMKMXXMbDczOyNz393flrSvpKPN7JTosQWS+in0max6bT5n35C0aWaZuz+sUHxfY2Y3K5zC7ZtEnGnA/ise9mHxsQ+Lx8z2V/iM3WtmZ5jZXpll7j5Z0jcknWlmt0v6tap7/5XJ1Z/N7Adm9r9Zy34j6XeSDpXUK8pXftvlwDm9zGyUpIckHSlpiKSvSvpE0p8krSvpJ5K+7+73RuvWuPtbCYWbqDa5GixpP0nLJT3s7k9E62wl6QpJ33T3mUnFmhZmtrukP0r6l6Rp7n5W1rKtFEZSuFvSSoV8fqXa89bO/+Rqn7NovWskHSBpN3d/IYFQE8f+Kx72YfGxD4vHzIZL+rtCy/YqhbNNG0l63N3vzFrvSoWLeXdz9xeTiDVp7eRqE0n3Sloi6XpJ57r73dH6Y939zXy2TYt3uvWVtEzSC9GR6NWSlipcVbtE0t7Rl5a5+zvV/KWl1XP1D4VcLZe0l5ltIknu/rykZyW1JBZlugyVdJFC375RZnZRZkGUq50kvaLwWTugmr+wsuT6n8x8zjaWJDP7vELLWtUW3RH2X/GwD4tvqNiHxVEj6WNJb0ZnUCZJelrSeDPbTZKiz9q6kvao1qI7kitXT0raW1KdpN3d/W6LRmTKt+iWaPFOPTP7raS5ki5190+iL/dTJD3t7rdFX1r8EZUzVxtJ+q6kKe5+S6LBpZSZ9Xf35WY2TtJJkua7+xnRsh7uzhd8G519zsxskKT+0entqsb+Kx72YfGxD4vHzK6QNEDSKe6+zMLIJkdI+tTdLzWz/pL6uPuHiQaaAh3k6hN3v7yr+y9avFMqunpWCqc1Rkg6xMz6uftrCqdqj4p2OFX/pdVBrl5XyNUR0c4Ebbj78ujXGZKuVBhl4gwLY7p+x8K4pVDen7NB7r6k2otu9l/xsA/rOvZh+bHWMcyvUmjJPcPMBrj7u5L+KmlfMxseXXBZ1UV3Hrnaz8yGdnX/ReGdMpkdcNYf9HFJzylcwHVWdFpjDYVTkFV9JE+u4sv6gl+Nh/FJZ0g6W9Ihki6TNDl6vKpldsJ5fs6qejzqmLmq+v9J8hWftTMJDvuw3LI+Y5nPT6PCwVw/hYvAR0jaUFKT2H/FyVWX/x85EkwJC1O2LlPoA5l5rKe7f2pmj0hapNC36FGFUx/fcvdPEgk2YeQqvnZy1sPDhBLDJC2PTm3vJWmYpJ3d/ZWEwk0FM9tM4bT1+1m54nOWA7mKh3zF107O2Ie1w8y+IOkNd5+f9ViNh5kWZysMsXhk9HOYpG+7+8eJBJuwkufK3bklfJP0ZYXZtf6icAVtjaQe0bLdJd0gqTa6v5akoUnHTK7K59ZJziZEO5P66P4hkjZPOuakbwotjgsl3SGpLnqsJvrJ54xcka/05Gw8+7DP5GtPSW9K2j7rscw1fbspDJG3TnR/iKQBScdcTblK/E1X+y0qip6T9HmFq/0fk7RGtGyEpGckHZh0nGm4kaui5eyApONM203hbOAkhaHb7pK0VvR4HTkjV+QrdTnbP+kY03KTtJek5yXtEN3vo9aGlkGSpvIZSzZXjGqSMDP7kaTp7v5A1B3gL5KmK8xSNlfSf9x9Plf/k6uuiJMzabW+plXLzGoU+vT9TmEWvC0VpqCepDDk23PuPpfPGbmKi3zFFydnEvswCxNR7ePuG5rZSIVJlwZLekLSPyS97e6L+YwllysK75SIrlh/VNIjCkdZuyiMPXqRwt+JC2si5Co+chafmR0p6T13f9DCrGRflnSMu//RGKZsNeQqHvIVHznLn5n9XmEugVWSbpP0vqTPRT8vEfv8/0oiV1xcmQAz21nhFFkfd79DCkMimdmBHqa7lZmtkPQ9Sb3dfWVy0SaLXMVHzuLLyllvd58UPdxP0hZm9pGkHSU9LOlgM/unu89LKNTEkat4yFd85CyerHz1d/fb3P1oM7ta0jvufnW0ziJJp0q6opr3+WnIFcMJlpiZTZR0ncIR1rlm9ousxe9k/T5cYbiaXiUML1XIVXzkLL42OfuhmV0SLfqDpG0UhpM6TdJRCv0BaxIIMxXIVTzkKz5yFk+bfJ1lZpdJkrufoHBGM2O4pGZV8T4/NbkqRod1bu125N9A0jRJu0T3x0i6T9JIRd1+osdPUOiHu0XSMZOr8rmRs4LmbITCxTU/kPQ/0TJTaIFLPG5ylf4b+SJnCearrs0+/8Rovard56cpV3Q1Kb1fuPtT0QUjSyTVKgwd9V70WK2kjSUd5e4vJhloCpCr+MhZfG1zVqcwNNlLZna5h7GVe7n7KkmfJhtq4shVPOQrPnIWT659/gh3X2BhQpgBktaTdDT7/HTkisK7BMxsHUnzJM129/9ED7d4mAigUWFWMkna1N1fNLPTvEpn2yJX8ZGz+DrJ2Uxl5UzSjOhLviqRq3jIV3zkLJ4Y+/zN3f0FMzvdq/RiyjTmij7eRWZmX5b0oKSrJd1mZhtHizIHPcMkDTCzwyT9ycxGVmtRRK7iI2fx5Zmz/lHO/hANM1WVyFU85Cs+chZPzH3+H6N8VeXwdanNVdL9bir1ptD/bG1JLyrMrFWnMIrEPEmbZa13o6S7JT2V/Xg13cgVOSNn6bqRK/JFztJ1I1+Vkyu6mhSJu7uZvStpiqT/SFro7r8ysyZJfzOz3dz9dUkfSvqCpL3d/bUEQ04MuYqPnMVHzvJHruIhX/GRs3jIV/7Sniu6mhSBma1vZp+XNFTSEEmHenR45e5XKEx7e3bUwf/vkvas1n8QchUfOYuPnOWPXMVDvuIjZ/GQr/yVRa5K1bReLTdJe0t6QWG60Ssl7SNptqSzstYZI+n6pGNN+kauyBk5S9eNXJEvcpauG/mqvFzR1aSAzGwnhSlGD3H358zsOknbSdpJ0tToCGuSwnTd25jZMHf/ILmIk0Ou4iNn8ZGz/JGreMhXfOQsHvKVv3LKlUVHACiA6A+/obvfFN0fKekmd/+yma0r6VxJn0jaXlU+jjK5io+cxUfO8keu4iFf8ZGzeMhX/sopVxTeBRQdUQ1w94+j3xsk/VnSRHefZ2ajFabtHuDuHyUZa9LIVXzkLD5ylj9yFQ/5io+cxUO+8ldOueLiygJy92Z3/zi6a5IWS/og+qMfJulsSb2S/qOnAbmKj5zFR87yR67iIV/xkbN4yFf+yilXtHgXmZndpDB25J6q8lNBnSFX8ZGz+MhZ/shVPOQrPnIWD/nKX1pzReFdJGZmknpJejX6ubu3TleKLOQqPnIWHznLH7mKh3zFR87iIV/5S3uuKLyLzMyOkvQvd3856VjSjlzFR87iI2f5I1fxkK/4yFk85Ct/ac0VhXeRmZk5Sc4LuYqPnMVHzvJHruIhX/GRs3jIV/7SmisKbwAAAKAEGNUEAAAAKAEKbwAAAKAEKLwBAACAEqDwBgAAAEqAwhsAyoSZuZndlnW/p5m9Z2YPdHF7Q83shKz747u6LQBA5yi8AaB8LJO0uZn1i+5/UdI73djeUEkndLYSAKAwKLwBoLw8KOnL0e8HS7ojs8DMhpnZvWb2gplNNbMto8fPN7MbzWyymc0ys5Ojp1wkaT0zm2Fml0SPDTSzu83sNTP7v2gWOABAAVB4A0B5mSTpIDPrK2lLSc9kLfuxpOfcfUtJZ0u6JWvZxpL2krSdpB+ZWS9JZ0pqdPet3f370XrbSPqupE0lrStp5yK+FwCoKhTeAFBG3P0FSWMUWrsfbLN4F0m3Rus9Jmm4mQ2Olv3F3Ve6+yJJCyXVtfMSz7r72+7eImlG9FoAgALomXQAAIDY7pf0S0njJQ3P8zkrs35vVvv7/3zXAwDERIs3AJSfGyX92N1fbPP4k5IOlcIIJZIWufvHHWxniaRBxQgQAPBZtGQAQJlx97cl/TrHovMl3WhmL0haLunITrbzvpk9bWYvSXpI0l8KHSsAoJW5e9IxAAAAABWPriYAAABACVB4AwAAACVA4Q0AAACUAIU3AAAAUAIU3gAAAEAJUHgDAAAAJUDhDQAAAJQAhTcAAABQAv8fScNud1HVX/AAAAAASUVORK5CYII=\n",
       "datasetInfos": [],
       "metadata": {},
       "removedWidgets": [],
       "type": "image"
      }
     },
     "output_type": "display_data"
    }
   ],
   "source": [
    "# Run SQL Query\n",
    "monthly_sales_df = spark.sql(\"\"\"\n",
    "    SELECT \n",
    "        DATE_FORMAT(transaction_date, 'yyyy-MM') AS sales_month, \n",
    "        SUM(total_price) AS total_revenue\n",
    "    FROM amazon_transactions\n",
    "    GROUP BY sales_month\n",
    "    ORDER BY sales_month\n",
    "\"\"\").toPandas()\n",
    "\n",
    "# Convert sales_month to datetime format\n",
    "monthly_sales_df[\"sales_month\"] = pd.to_datetime(monthly_sales_df[\"sales_month\"])\n",
    "\n",
    "# Visualization\n",
    "plt.figure(figsize=(12, 6))\n",
    "sns.lineplot(data=monthly_sales_df, x=\"sales_month\", y=\"total_revenue\", marker=\"o\", color=\"b\")\n",
    "plt.xlabel(\"Month\")\n",
    "plt.ylabel(\"Total Revenue ($)\")\n",
    "plt.title(\"Monthly Sales Trend\")\n",
    "plt.xticks(rotation=45)\n",
    "plt.grid()\n",
    "plt.show()\n"
   ]
  }
 ],
 "metadata": {
  "application/vnd.databricks.v1+notebook": {
   "computePreferences": null,
   "dashboards": [],
   "environmentMetadata": {
    "base_environment": "",
    "client": "1"
   },
   "language": "python",
   "notebookMetadata": {
    "mostRecentlyExecutedCommandWithImplicitDF": {
     "commandId": -1,
     "dataframes": [
      "_sqldf"
     ]
    },
    "pythonIndentUnit": 4
   },
   "notebookName": "Untitled Notebook 2025-03-13 19:22:58",
   "widgets": {}
  }
 },
 "nbformat": 4,
 "nbformat_minor": 0
}
